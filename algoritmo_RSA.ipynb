{
  "nbformat": 4,
  "nbformat_minor": 0,
  "metadata": {
    "colab": {
      "name": "Untitled2.ipynb",
      "provenance": [],
      "authorship_tag": "ABX9TyPmSpLX5MSyedq8pluChhGj",
      "include_colab_link": true
    },
    "kernelspec": {
      "name": "python3",
      "display_name": "Python 3"
    },
    "language_info": {
      "name": "python"
    }
  },
  "cells": [
    {
      "cell_type": "markdown",
      "metadata": {
        "id": "view-in-github",
        "colab_type": "text"
      },
      "source": [
        "<a href=\"https://colab.research.google.com/github/sherna90/matematicas_discretas/blob/master/algoritmo_RSA.ipynb\" target=\"_parent\"><img src=\"https://colab.research.google.com/assets/colab-badge.svg\" alt=\"Open In Colab\"/></a>"
      ]
    },
    {
      "cell_type": "code",
      "metadata": {
        "colab": {
          "base_uri": "https://localhost:8080/"
        },
        "id": "FXhkan7CBT_6",
        "outputId": "7889c483-e9f1-4da4-c5ee-54de28bd0915"
      },
      "source": [
        "!pip install cryptography"
      ],
      "execution_count": 52,
      "outputs": [
        {
          "output_type": "stream",
          "text": [
            "Requirement already satisfied: cryptography in /usr/local/lib/python3.7/dist-packages (3.4.7)\n",
            "Requirement already satisfied: cffi>=1.12 in /usr/local/lib/python3.7/dist-packages (from cryptography) (1.14.5)\n",
            "Requirement already satisfied: pycparser in /usr/local/lib/python3.7/dist-packages (from cffi>=1.12->cryptography) (2.20)\n"
          ],
          "name": "stdout"
        }
      ]
    },
    {
      "cell_type": "code",
      "metadata": {
        "id": "DE3FVAl3Bti3"
      },
      "source": [
        "from cryptography.hazmat.backends import default_backend\n",
        "from cryptography.hazmat.primitives.asymmetric import rsa\n",
        "from cryptography.hazmat.primitives import serialization\n",
        "\n",
        "private_key = rsa.generate_private_key(public_exponent=65537,key_size=1024,backend=default_backend())\n",
        "# Extract the public key from the private key.\n",
        "public_key = private_key.public_key()\n",
        "\n",
        "private_key_bytes = private_key.private_bytes(encoding=serialization.Encoding.PEM,\n",
        "                                              format=serialization.PrivateFormat.TraditionalOpenSSL,encryption_algorithm=serialization.NoEncryption())\n",
        "\n",
        "# Convert the public key into bytes.\n",
        "public_key_bytes = public_key.public_bytes(encoding=serialization.Encoding.PEM,format=serialization.PublicFormat.SubjectPublicKeyInfo)\n",
        "\n",
        "# Convert the private key bytes back to a key.\n",
        "# Because there is no encryption of the key, there is no password.\n",
        "private_key = serialization.load_pem_private_key(private_key_bytes,backend=default_backend(),password=None)\n",
        "\n",
        "\n",
        "public_key = serialization.load_pem_public_key(public_key_bytes,backend=default_backend())"
      ],
      "execution_count": 53,
      "outputs": []
    },
    {
      "cell_type": "code",
      "metadata": {
        "colab": {
          "base_uri": "https://localhost:8080/"
        },
        "id": "20Ag-mC9CLuQ",
        "outputId": "380d617c-3289-4bdd-9e6c-1c507929218c"
      },
      "source": [
        "public_key.public_numbers()"
      ],
      "execution_count": 54,
      "outputs": [
        {
          "output_type": "execute_result",
          "data": {
            "text/plain": [
              "<RSAPublicNumbers(e=65537, n=140326996033992949762289809743712776673528562712955861685876993400349635911875941410571039356193528526896014600010091341313501095688467918420320916980766049688382382042094565782376857910531526611706925789100696323029217933422783353513667348328786142158348047150713863167589948117247549679874301179094844351681)>"
            ]
          },
          "metadata": {
            "tags": []
          },
          "execution_count": 54
        }
      ]
    },
    {
      "cell_type": "code",
      "metadata": {
        "id": "Vu-ZBLAuENC-"
      },
      "source": [
        "e=public_key.public_numbers().e"
      ],
      "execution_count": 55,
      "outputs": []
    },
    {
      "cell_type": "code",
      "metadata": {
        "id": "UzlGhuDRIEwh"
      },
      "source": [
        "n=private_key.private_numbers().public_numbers.n"
      ],
      "execution_count": 66,
      "outputs": []
    },
    {
      "cell_type": "code",
      "metadata": {
        "colab": {
          "base_uri": "https://localhost:8080/"
        },
        "id": "qsQ9YaqtW0_2",
        "outputId": "75576c81-aa6a-4aff-d71a-f0291dd537c0"
      },
      "source": [
        "n"
      ],
      "execution_count": 67,
      "outputs": [
        {
          "output_type": "execute_result",
          "data": {
            "text/plain": [
              "140326996033992949762289809743712776673528562712955861685876993400349635911875941410571039356193528526896014600010091341313501095688467918420320916980766049688382382042094565782376857910531526611706925789100696323029217933422783353513667348328786142158348047150713863167589948117247549679874301179094844351681"
            ]
          },
          "metadata": {
            "tags": []
          },
          "execution_count": 67
        }
      ]
    },
    {
      "cell_type": "code",
      "metadata": {
        "colab": {
          "base_uri": "https://localhost:8080/"
        },
        "id": "gTrTdS2HW3AC",
        "outputId": "c0c29cca-559d-4221-e37c-5656ca305b82"
      },
      "source": [
        "public_key.public_numbers().n"
      ],
      "execution_count": 68,
      "outputs": [
        {
          "output_type": "execute_result",
          "data": {
            "text/plain": [
              "140326996033992949762289809743712776673528562712955861685876993400349635911875941410571039356193528526896014600010091341313501095688467918420320916980766049688382382042094565782376857910531526611706925789100696323029217933422783353513667348328786142158348047150713863167589948117247549679874301179094844351681"
            ]
          },
          "metadata": {
            "tags": []
          },
          "execution_count": 68
        }
      ]
    },
    {
      "cell_type": "code",
      "metadata": {
        "colab": {
          "base_uri": "https://localhost:8080/"
        },
        "id": "a4KRyfGAJSjY",
        "outputId": "4ff9131c-5c63-4c49-d3ba-40dce69e0dd0"
      },
      "source": [
        "def gcdExtended(a, b):\n",
        " \n",
        "    # Base Case\n",
        "    if a == 0 : \n",
        "        return b, 0, 1\n",
        "            \n",
        "    gcd, x1, y1 = gcdExtended(b%a, a)\n",
        "    \n",
        "    # Update x and y using results of recursive\n",
        "    # call\n",
        "    x = y1 - (b//a) * x1\n",
        "    y = x1\n",
        "    \n",
        "    return gcd, x, y\n",
        "\n",
        "gcdExtended(e,d)"
      ],
      "execution_count": 61,
      "outputs": [
        {
          "output_type": "execute_result",
          "data": {
            "text/plain": [
              "(1,\n",
              " -12948643599354606882655366782942176201502558342710557113790406738949892011417192961606302961427480517546163035450506696902026378269644485726320769743825943512557538812650931280891091675554808320878675813510378611154575963212895212327120803580255612842519388507055109569813687807736178382297933758411429757558,\n",
              " 19319)"
            ]
          },
          "metadata": {
            "tags": []
          },
          "execution_count": 61
        }
      ]
    },
    {
      "cell_type": "code",
      "metadata": {
        "id": "_DKrQC0nCevp"
      },
      "source": [
        "def powmod(a: int, e: int, n: int) -> int:\n",
        "    accum: int = 1\n",
        "    apow2: int = a\n",
        "    while e > 0:\n",
        "        if e & 1:\n",
        "            accum = (accum * apow2) % n\n",
        "        apow2 = (apow2 * apow2) % n\n",
        "        e = e >> 1\n",
        "    return accum"
      ],
      "execution_count": 69,
      "outputs": []
    },
    {
      "cell_type": "code",
      "metadata": {
        "id": "7SHNDSEiDtCk"
      },
      "source": [
        "def simple_rsa_encrypt(m, publickey):\n",
        "  numbers = publickey.public_numbers()\n",
        "  return powmod(m, numbers.e, numbers.n)\n",
        "\n",
        "def simple_rsa_decrypt(c, privatekey):\n",
        "  numbers = privatekey.private_numbers()\n",
        "  return powmod(c, numbers.d, numbers.public_numbers.n)\n",
        "\n",
        "def int_to_bytes(i):\n",
        "  i = int(i)\n",
        "  return i.to_bytes((i.bit_length()+7)//8, byteorder='big')\n",
        "\n",
        "def bytes_to_int(b):\n",
        "  return int.from_bytes(b, byteorder='big')"
      ],
      "execution_count": 70,
      "outputs": []
    },
    {
      "cell_type": "code",
      "metadata": {
        "id": "WPKp9UMqGyNe"
      },
      "source": [
        ""
      ],
      "execution_count": 44,
      "outputs": []
    },
    {
      "cell_type": "code",
      "metadata": {
        "id": "jz8oPzXuEsij"
      },
      "source": [
        "CAP=3116"
      ],
      "execution_count": 38,
      "outputs": []
    },
    {
      "cell_type": "code",
      "metadata": {
        "colab": {
          "base_uri": "https://localhost:8080/"
        },
        "id": "F2DbB6w2Eh1J",
        "outputId": "d8adad2e-9ab9-4d7b-9f32-2f9a11cfc335"
      },
      "source": [
        "int_to_bytes(CAP)"
      ],
      "execution_count": 72,
      "outputs": [
        {
          "output_type": "execute_result",
          "data": {
            "text/plain": [
              "b'\\x0c,'"
            ]
          },
          "metadata": {
            "tags": []
          },
          "execution_count": 72
        }
      ]
    },
    {
      "cell_type": "code",
      "metadata": {
        "colab": {
          "base_uri": "https://localhost:8080/"
        },
        "id": "2weJWpiKExn5",
        "outputId": "22c04ce5-413a-45b0-e7c4-cb6cfc01c555"
      },
      "source": [
        "bytes_to_int(b'\\x0c,')"
      ],
      "execution_count": 73,
      "outputs": [
        {
          "output_type": "execute_result",
          "data": {
            "text/plain": [
              "3116"
            ]
          },
          "metadata": {
            "tags": []
          },
          "execution_count": 73
        }
      ]
    },
    {
      "cell_type": "code",
      "metadata": {
        "id": "VrAUuawwFCAE"
      },
      "source": [
        "arr = str.encode('CAP','ascii')"
      ],
      "execution_count": 74,
      "outputs": []
    },
    {
      "cell_type": "code",
      "metadata": {
        "colab": {
          "base_uri": "https://localhost:8080/"
        },
        "id": "O7ILLXr7FFlS",
        "outputId": "2cc4d720-9b5d-4d96-c2b3-77cfc6452afd"
      },
      "source": [
        "bytes_to_int(arr)"
      ],
      "execution_count": 75,
      "outputs": [
        {
          "output_type": "execute_result",
          "data": {
            "text/plain": [
              "4407632"
            ]
          },
          "metadata": {
            "tags": []
          },
          "execution_count": 75
        }
      ]
    },
    {
      "cell_type": "code",
      "metadata": {
        "id": "NhkLVOkAXlUf"
      },
      "source": [
        "C=simple_rsa_encrypt(bytes_to_int(arr),public_key)"
      ],
      "execution_count": 78,
      "outputs": []
    },
    {
      "cell_type": "code",
      "metadata": {
        "colab": {
          "base_uri": "https://localhost:8080/"
        },
        "id": "M7GqzjYjX2JK",
        "outputId": "9fef6bda-4116-442b-c777-740d52187af8"
      },
      "source": [
        "C"
      ],
      "execution_count": 79,
      "outputs": [
        {
          "output_type": "execute_result",
          "data": {
            "text/plain": [
              "93530776273134146960409741983940802848275208766161080587466151784010787585093914525967124407875692002393052265018694537463329335795216250105843463546607479150481916071175279312653991290219586668785665555355575452920028311128805495848932607165521656751314737341177404141711615355833606445706309086821252880806"
            ]
          },
          "metadata": {
            "tags": []
          },
          "execution_count": 79
        }
      ]
    },
    {
      "cell_type": "code",
      "metadata": {
        "id": "0EelI1PZFcJc"
      },
      "source": [
        "M=simple_rsa_decrypt(C, private_key)"
      ],
      "execution_count": 82,
      "outputs": []
    },
    {
      "cell_type": "code",
      "metadata": {
        "colab": {
          "base_uri": "https://localhost:8080/"
        },
        "id": "HL8ycCAbYBpz",
        "outputId": "0349bbde-150a-4380-a61e-fa1a0392caf3"
      },
      "source": [
        "M"
      ],
      "execution_count": 83,
      "outputs": [
        {
          "output_type": "execute_result",
          "data": {
            "text/plain": [
              "4407632"
            ]
          },
          "metadata": {
            "tags": []
          },
          "execution_count": 83
        }
      ]
    },
    {
      "cell_type": "code",
      "metadata": {
        "colab": {
          "base_uri": "https://localhost:8080/"
        },
        "id": "2A6qA513YKco",
        "outputId": "f5a1e1e7-758a-46e6-ee7b-8ffe2104b051"
      },
      "source": [
        "int_to_bytes(M)"
      ],
      "execution_count": 84,
      "outputs": [
        {
          "output_type": "execute_result",
          "data": {
            "text/plain": [
              "b'CAP'"
            ]
          },
          "metadata": {
            "tags": []
          },
          "execution_count": 84
        }
      ]
    }
  ]
}