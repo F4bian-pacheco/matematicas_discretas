{
 "cells": [
  {
   "cell_type": "markdown",
   "metadata": {},
   "source": [
    "# Isomorfismo de Grafos\n",
    "\n",
    "Dos grafos $G=(V,E)$ y $G'=(V',E')$ son \\textbf{isomorfos} si existen dos biyecciones $f_v:V\\mapsto V'$ y $f_e:E\\mapsto E'$, entre sus v\\'ertices como y sus aristas respectivamente, tal que para cualquier elemento $v$ y $w$ pertenecientes a $V$ tenemos:\n",
    "\n",
    "$\\{v,w\\} \\in E \\iff \\{f_v(v),f_v(w)\\} \\in E'$"
   ]
  },
  {
   "cell_type": "code",
   "execution_count": 1,
   "metadata": {},
   "outputs": [
    {
     "data": {
      "text/plain": [
       "<matplotlib.figure.Figure at 0x7f6df7cab590>"
      ]
     },
     "metadata": {},
     "output_type": "display_data"
    },
    {
     "data": {
      "text/plain": [
       "<matplotlib.figure.Figure at 0x7f6df9abfb10>"
      ]
     },
     "metadata": {},
     "output_type": "display_data"
    },
    {
     "name": "stdout",
     "output_type": "stream",
     "text": [
      "[[0 0 1 1 0]\n",
      " [0 0 1 1 1]\n",
      " [1 1 0 0 1]\n",
      " [1 1 0 0 0]\n",
      " [0 1 1 0 0]]\n"
     ]
    },
    {
     "data": {
      "text/plain": [
       "<matplotlib.figure.Figure at 0x7f6df5a51a50>"
      ]
     },
     "metadata": {},
     "output_type": "display_data"
    },
    {
     "data": {
      "text/plain": [
       "<matplotlib.figure.Figure at 0x7f6df5a38110>"
      ]
     },
     "metadata": {},
     "output_type": "display_data"
    },
    {
     "name": "stdout",
     "output_type": "stream",
     "text": [
      "[[0 0 1 1 0]\n",
      " [0 0 1 1 1]\n",
      " [1 1 0 0 1]\n",
      " [1 1 0 0 0]\n",
      " [0 1 1 0 0]]\n"
     ]
    }
   ],
   "source": [
    "import networkx as nx\n",
    "import numpy as np\n",
    "import matplotlib.pyplot as plt\n",
    "\n",
    "G1=nx.Graph()\n",
    "G1.add_edges_from([(1,3),(1,4),(2,3),(2,4),(3,1),(4,1),(4,2),(5,2),(5,3)])\n",
    "nx.draw(G1)\n",
    "plt.figure()\n",
    "plt.show()\n",
    "M1=nx.adjacency_matrix(G1).todense()\n",
    "print M1\n",
    "\n",
    "G2=nx.Graph()\n",
    "G2.add_edges_from([(1,3),(1,4),(2,3),(2,4),(3,1),(4,1),(4,2),(5,2),(5,3)])\n",
    "nx.draw(G2)\n",
    "plt.figure()\n",
    "plt.show()\n",
    "M2=nx.adjacency_matrix(G2).todense()\n",
    "print M2"
   ]
  },
  {
   "cell_type": "markdown",
   "metadata": {},
   "source": [
    "Dos grafos $G=(V,E)$ y $G'=(V',E')$ son isomorfos si y solo si existe una matriz de permutación $P$ y alg\\'un orden de sus vértices, tal que sus matrices de adyacencia $A(G)$ y $A(G')$ son iguales.\n",
    "\n",
    "$A(G)=P \\times A(G')\\times P^T$"
   ]
  },
  {
   "cell_type": "code",
   "execution_count": 2,
   "metadata": {},
   "outputs": [
    {
     "name": "stdout",
     "output_type": "stream",
     "text": [
      "[[ 1.  0.  0.  0.  0.]\n",
      " [ 0.  1.  0.  0.  0.]\n",
      " [ 0.  0.  1.  0.  0.]\n",
      " [ 0.  0.  0.  1.  0.]\n",
      " [ 0.  0.  0.  0.  1.]]\n"
     ]
    }
   ],
   "source": [
    "P=np.identity(5)\n",
    "print P"
   ]
  },
  {
   "cell_type": "code",
   "execution_count": 3,
   "metadata": {},
   "outputs": [
    {
     "name": "stdout",
     "output_type": "stream",
     "text": [
      "[[ True  True  True  True  True]\n",
      " [ True  True  True  True  True]\n",
      " [ True  True  True  True  True]\n",
      " [ True  True  True  True  True]\n",
      " [ True  True  True  True  True]]\n"
     ]
    }
   ],
   "source": [
    "print np.equal(M1,(P.dot(M2)).dot(P.T))"
   ]
  },
  {
   "cell_type": "code",
   "execution_count": 4,
   "metadata": {},
   "outputs": [
    {
     "data": {
      "text/plain": [
       "True"
      ]
     },
     "execution_count": 4,
     "metadata": {},
     "output_type": "execute_result"
    }
   ],
   "source": [
    "nx.is_isomorphic(G1,G2)"
   ]
  },
  {
   "cell_type": "code",
   "execution_count": 5,
   "metadata": {},
   "outputs": [
    {
     "name": "stdout",
     "output_type": "stream",
     "text": [
      "[[ 1.  0.  0.  0.  0.]\n",
      " [ 0.  1.  0.  0.  0.]\n",
      " [ 0.  0.  0.  1.  0.]\n",
      " [ 0.  0.  1.  0.  0.]\n",
      " [ 0.  0.  0.  0.  1.]]\n"
     ]
    }
   ],
   "source": [
    "P2=np.random.permutation(P)\n",
    "print P2"
   ]
  },
  {
   "cell_type": "code",
   "execution_count": 6,
   "metadata": {},
   "outputs": [
    {
     "name": "stdout",
     "output_type": "stream",
     "text": [
      "[[ 0.  0.  1.  1.  0.]\n",
      " [ 0.  0.  1.  1.  1.]\n",
      " [ 1.  1.  0.  0.  0.]\n",
      " [ 1.  1.  0.  0.  1.]\n",
      " [ 0.  1.  0.  1.  0.]]\n",
      "[[0 0 1 1 0]\n",
      " [0 0 1 1 1]\n",
      " [1 1 0 0 1]\n",
      " [1 1 0 0 0]\n",
      " [0 1 1 0 0]]\n"
     ]
    }
   ],
   "source": [
    "M3=(P2.dot(M2)).dot(P2.T)\n",
    "print M3\n",
    "print M2"
   ]
  },
  {
   "cell_type": "code",
   "execution_count": 7,
   "metadata": {},
   "outputs": [
    {
     "data": {
      "image/png": "[encoded data removed]",
      "text/plain": [
       "<matplotlib.figure.Figure at 0x7f6e28251890>"
      ]
     },
     "metadata": {},
     "output_type": "display_data"
    }
   ],
   "source": [
    "G3=nx.from_numpy_matrix(M3)\n",
    "nx.draw(G3)\n",
    "plt.show()"
   ]
  },
  {
   "cell_type": "code",
   "execution_count": 8,
   "metadata": {},
   "outputs": [
    {
     "data": {
      "text/plain": [
       "True"
      ]
     },
     "execution_count": 8,
     "metadata": {},
     "output_type": "execute_result"
    }
   ],
   "source": [
    "nx.is_isomorphic(G1,G3)"
   ]
  },
  {
   "cell_type": "code",
   "execution_count": 38,
   "metadata": {},
   "outputs": [
    {
     "name": "stdout",
     "output_type": "stream",
     "text": [
      "[  2.48119430e+00  -2.00000000e+00  -1.17008649e+00  -1.49718303e-17\n",
      "   6.88892183e-01] [  2.48119430e+00  -2.00000000e+00   6.88892183e-01   1.52051393e-16\n",
      "  -1.17008649e+00]\n"
     ]
    }
   ],
   "source": [
    "import numpy.linalg\n",
    "\n",
    "l1,v1=numpy.linalg.eig(M1)\n",
    "l3,v3=numpy.linalg.eig(M3)\n",
    "\n",
    "print l3,l1"
   ]
  },
  {
   "cell_type": "code",
   "execution_count": null,
   "metadata": {},
   "outputs": [],
   "source": []
  }
 ],
 "metadata": {
  "kernelspec": {
   "display_name": "Python 2",
   "language": "python",
   "name": "python2"
  },
  "language_info": {
   "codemirror_mode": {
    "name": "ipython",
    "version": 2
   },
   "file_extension": ".py",
   "mimetype": "text/x-python",
   "name": "python",
   "nbconvert_exporter": "python",
   "pygments_lexer": "ipython2",
   "version": "2.7.12"
  }
 },
 "nbformat": 4,
 "nbformat_minor": 2
}
