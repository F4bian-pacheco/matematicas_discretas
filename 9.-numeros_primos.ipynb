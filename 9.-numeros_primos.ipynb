{
 "cells": [
  {
   "cell_type": "markdown",
   "metadata": {},
   "source": [
    "# Numeros Primos\n",
    "\n",
    "Un entero positivo $p > 1$ es un número primo si sus unicos divisores son\n",
    "$\\pm 1$ y $\\pm p$. Un entero positivo n que no es primo es llamado compuesto.\n",
    "\n",
    "Si bien existe una infinidad de números primos, la cantidad de numeros primos menor que $n$ es finita. El teorema del numero primo nos entrega una cota asintótica para la función de conteo de primos $\\pi(n)$.\n",
    "\n",
    "\\begin{align}\n",
    "\\pi(n) \\approx \\frac{n}{\\operatorname{ln} (n)-B}\n",
    "\\end{align}\n",
    "\n",
    "Donde $B$ es la constante de Legendre (https://mathworld.wolfram.com/PrimeNumberTheorem). \n",
    "\n",
    "La aproximación depende del tamaño de $x$ y se puede ver en la siguiente tabla:\n",
    "\n"
   ]
  },
  {
   "cell_type": "code",
   "execution_count": 70,
   "metadata": {},
   "outputs": [
    {
     "name": "stdout",
     "output_type": "stream",
     "text": [
      "|         n          |       Phi(n)       |      Prob(n)       |\n",
      "----------------------------------------------------------------\n",
      "|      1.00e+03      |       144.79       |        0.14        |\n",
      "|      1.00e+04      |      1085.75       |        0.11        |\n",
      "|      1.00e+05      |      8685.90       |        0.09        |\n",
      "|      1.00e+06      |      72382.42      |        0.07        |\n",
      "|      1.00e+07      |     620420.69      |        0.06        |\n",
      "|      1.00e+08      |     5428681.03     |        0.05        |\n",
      "|      1.00e+09      |    48254942.44     |        0.05        |\n",
      "|      1.00e+10      |    434294481.91    |        0.04        |\n"
     ]
    }
   ],
   "source": [
    "import math \n",
    "\n",
    "phi= lambda n : x/math.log(n-1.08366)\n",
    "prob= lambda n : 1./math.log(n)\n",
    "\n",
    "print('|{:^20}|{:^20}|{:^20}|'.format('n','Phi(n)','Prob(n)'))\n",
    "print('----------------------------------------------------------------')\n",
    "for i in range(3,11):\n",
    "    x=10**i\n",
    "    print('|{0:^20.2e}|{1:^20.2f}|{2:^20.2f}|'.format(x,phi(x),prob(x)))"
   ]
  },
  {
   "cell_type": "markdown",
   "metadata": {},
   "source": [
    "Esto implica que podemos generar una gran cantidad de numeros primos, sin embargo comprobar que son primos es generalmente dificil."
   ]
  },
  {
   "cell_type": "code",
   "execution_count": 50,
   "metadata": {},
   "outputs": [],
   "source": [
    "import random\n",
    "\n",
    "def gen_number(size=128):\n",
    "    return random.getrandbits(size)\n",
    "\n",
    "def isPrime(n):\n",
    "    if n<2:\n",
    "        return False\n",
    "    for i in range(2,int(math.sqrt(n)+1)):\n",
    "        if n % i == 0:\n",
    "            return False\n",
    "    return True"
   ]
  },
  {
   "cell_type": "code",
   "execution_count": 54,
   "metadata": {},
   "outputs": [
    {
     "name": "stdout",
     "output_type": "stream",
     "text": [
      "El numero 159989779285057732888097104528874156632107637414425554581794728854476905985277105833246356812137788937324958792050100303264464218366622559096669059416122561702753153801517090287063465895535879850419342424812899602683203465079926407002799644548889914202589981309338506737707057558737219928410511718348527809719 es primo ? : False\n"
     ]
    }
   ],
   "source": [
    "n=gen_number(1024)\n",
    "print('El numero {0} es primo ? : {1}'.format(n,isPrime(n)))"
   ]
  },
  {
   "cell_type": "code",
   "execution_count": 67,
   "metadata": {},
   "outputs": [
    {
     "name": "stdout",
     "output_type": "stream",
     "text": [
      "Probabilidad empirica=0.10, media=95.00 \n",
      "Probabilidad aproximada 0.36, media=360.67\n"
     ]
    },
    {
     "data": {
      "image/png": "[encoded data removed]",
      "text/plain": [
       "<Figure size 576x432 with 2 Axes>"
      ]
     },
     "metadata": {},
     "output_type": "display_data"
    }
   ],
   "source": [
    "from scipy.stats import binom\n",
    "import matplotlib.pyplot as plt\n",
    "plt.style.use('fivethirtyeight')\n",
    "import numpy as np\n",
    "\n",
    "def trial_division(size,num_samples):\n",
    "    num_primes=0\n",
    "    num_samples=1000\n",
    "    for i in range(num_samples):\n",
    "        n=gen_number(2**4)\n",
    "        if isPrime(n):\n",
    "            num_primes+=1\n",
    "    return num_primes/num_samples\n",
    "\n",
    "num_samples=1000\n",
    "ps=trial_division(2**4,num_samples)\n",
    "print('Probabilidad empirica={0:0.2f}, media={1:0.2f} '.format(p_s,num_samples*p_s))\n",
    "\n",
    "p_n=prob(2**4)\n",
    "print('Probabilidad aproximada {0:0.2f}, media={1:0.2f}'.format(p_n,num_samples*p_n))\n",
    "\n",
    "x = np.arange(binom.ppf(0.01,num_samples, p_s),\n",
    "              binom.ppf(0.99, num_samples, p_s))\n",
    "\n",
    "fig = plt.figure(figsize=(8, 6))\n",
    "fig.subplots_adjust(hspace=0.4, wspace=0.4)\n",
    "ax = fig.add_subplot(1, 2, 1)\n",
    "ax.plot(x, binom.pmf(x, num_samples, p_s), 'bo', ms=2,alpha=0.5, label='distribucion empirica')\n",
    "ax.vlines(x, 0, binom.pmf(x, num_samples, p_s), colors='b', lw=5, alpha=0.5)\n",
    "\n",
    "x2 = np.arange(binom.ppf(0.01,num_samples, p_n),\n",
    "              binom.ppf(0.99, num_samples, p_n))\n",
    "ax = fig.add_subplot(1, 2, 2)\n",
    "ax.plot(x2, binom.pmf(x2, num_samples, p_n), 'ro', ms=2,alpha=0.5, label='distribucion teorica')\n",
    "ax.vlines(x2, 0,  binom.pmf(x2, num_samples, p_n),  colors='r', lw=5, alpha=0.5)\n",
    "ax.legend(loc='best', frameon=False)\n",
    "\n",
    "plt.show()\n"
   ]
  },
  {
   "cell_type": "markdown",
   "metadata": {},
   "source": [
    "El tiempo para realizar la prueba de primalidad mediante fuerza bruta crece exponencialmente con respecto al numero. Una alternativa es utilizar el terorema de Fermat. Si $n$ es primo y $a$ un entero positivo no divisible por $p$, entonces:\n",
    "\n",
    "\\begin{align}\n",
    "a^{n-1} \\equiv 1 ( \\operatorname{mod} n)\n",
    "\\end{align}"
   ]
  },
  {
   "cell_type": "code",
   "execution_count": 68,
   "metadata": {},
   "outputs": [],
   "source": [
    "from random import randint\n",
    " \n",
    "def isProbablyPrime(n, k = 5):\n",
    "    if (n < 2 ):\n",
    "        return False\n",
    "    output = True\n",
    "    for i in range(0, k):\n",
    "        a = randint(1, n-1)\n",
    "        # pow(x, y, z=None)=x**y % z\n",
    "        if (pow(a, n-1, n) != 1):\n",
    "            return False \n",
    "    return output"
   ]
  },
  {
   "cell_type": "code",
   "execution_count": 71,
   "metadata": {},
   "outputs": [
    {
     "name": "stdout",
     "output_type": "stream",
     "text": [
      "El numero 113120143732576475604428073635771144682355939963156535579510789104635977103732818748059732422105563020817048442027486542573457028386337799185459155552805309568233656043377612941548356627534109533761054724167297337546344949789195336961935723836828002141279717949730477612767768490933947390869286966105963570686 es primo ? : False\n"
     ]
    }
   ],
   "source": [
    "n=gen_number(1024)\n",
    "print('El numero {0} es primo ? : {1}'.format(n,isProbablyPrime(n)))"
   ]
  },
  {
   "cell_type": "markdown",
   "metadata": {},
   "source": [
    "# Algoritmo Rabin-Miller\n",
    "\n",
    "```\n",
    "Input: n > 3, an odd integer to be tested for primality;\n",
    "Input: k, a parameter that determines the accuracy of the test\n",
    "Output: composite if n is composite, otherwise probably prime\n",
    "write n − 1 as 2s·d with d odd by factoring powers of 2 from n − 1\n",
    "LOOP: repeat k times:\n",
    "   pick a randomly in the range [2, n − 2]\n",
    "   x ← ad mod n\n",
    "   if x = 1 or x = n − 1 then do next LOOP\n",
    "   for r = 1 .. s − 1\n",
    "      x ← x2 mod n\n",
    "      if x = 1 then return composite\n",
    "      if x = n − 1 then do next LOOP\n",
    "   return composite\n",
    "return probably prime\n",
    "```\n",
    "\n",
    "http://inventwithpython.com/cracking/chapter22.html"
   ]
  },
  {
   "cell_type": "code",
   "execution_count": 95,
   "metadata": {},
   "outputs": [],
   "source": [
    "def rabinMiller(num):\n",
    "    s = num - 1\n",
    "    t = 0\n",
    "    while s % 2 == 0:\n",
    "        s = s // 2\n",
    "        t += 1\n",
    "    for trials in range(1): \n",
    "        a = random.randrange(2, num - 1)\n",
    "        v = pow(a, s, num)\n",
    "        if v != 1: # this test does not apply if v is 1.\n",
    "            i = 0\n",
    "            while v != (num - 1):\n",
    "                if i == t - 1:\n",
    "                    return False\n",
    "                else:\n",
    "                    i = i + 1\n",
    "                    v = (v ** 2) % num\n",
    "    return True\n",
    "\n",
    "\n",
    "def isPrimeLarge(num):\n",
    "    if (num < 2):\n",
    "        return False # 0, 1, and negative numbers are not prime\n",
    "    if num<100:\n",
    "        return isPrime(num)\n",
    "    else:\n",
    "        return rabinMiller(num)"
   ]
  },
  {
   "cell_type": "code",
   "execution_count": 110,
   "metadata": {},
   "outputs": [
    {
     "name": "stdout",
     "output_type": "stream",
     "text": [
      "Numero : 143749857387053963762683583541356021033421144635710038883149960683789091344404227781131519438832986733444679691921152080065317938601720479897868671288826954968829562259213786527994394270499459357336541726720119015124127986776410235068181056472909391644544201355289249582993475702609330733778024210206521596614\n",
      "Fuerza bruta=False : T=0.00[s]\n",
      "Fermat=False : T=0.00[s]\n"
     ]
    },
    {
     "ename": "KeyboardInterrupt",
     "evalue": "",
     "output_type": "error",
     "traceback": [
      "\u001b[0;31m---------------------------------------------------------------------------\u001b[0m",
      "\u001b[0;31mKeyboardInterrupt\u001b[0m                         Traceback (most recent call last)",
      "\u001b[0;32m<ipython-input-110-9d0deed3659b>\u001b[0m in \u001b[0;36m<module>\u001b[0;34m()\u001b[0m\n\u001b[1;32m     12\u001b[0m \u001b[0mprint\u001b[0m\u001b[0;34m(\u001b[0m\u001b[0;34m'Fermat={0} : T={1:0.2f}[s]'\u001b[0m\u001b[0;34m.\u001b[0m\u001b[0mformat\u001b[0m\u001b[0;34m(\u001b[0m\u001b[0mr\u001b[0m\u001b[0;34m,\u001b[0m\u001b[0mt2\u001b[0m\u001b[0;34m-\u001b[0m\u001b[0mt1\u001b[0m\u001b[0;34m)\u001b[0m\u001b[0;34m)\u001b[0m\u001b[0;34m\u001b[0m\u001b[0;34m\u001b[0m\u001b[0m\n\u001b[1;32m     13\u001b[0m \u001b[0mt1\u001b[0m\u001b[0;34m=\u001b[0m\u001b[0mtime\u001b[0m\u001b[0;34m.\u001b[0m\u001b[0mclock\u001b[0m\u001b[0;34m(\u001b[0m\u001b[0;34m)\u001b[0m\u001b[0;34m\u001b[0m\u001b[0;34m\u001b[0m\u001b[0m\n\u001b[0;32m---> 14\u001b[0;31m \u001b[0mr\u001b[0m\u001b[0;34m=\u001b[0m\u001b[0mrabinMiller\u001b[0m\u001b[0;34m(\u001b[0m\u001b[0mn\u001b[0m\u001b[0;34m)\u001b[0m\u001b[0;34m\u001b[0m\u001b[0;34m\u001b[0m\u001b[0m\n\u001b[0m\u001b[1;32m     15\u001b[0m \u001b[0mt2\u001b[0m\u001b[0;34m=\u001b[0m\u001b[0mtime\u001b[0m\u001b[0;34m.\u001b[0m\u001b[0mclock\u001b[0m\u001b[0;34m(\u001b[0m\u001b[0;34m)\u001b[0m\u001b[0;34m\u001b[0m\u001b[0;34m\u001b[0m\u001b[0m\n\u001b[1;32m     16\u001b[0m \u001b[0mprint\u001b[0m\u001b[0;34m(\u001b[0m\u001b[0;34m'Rabin-Miller={0} : T={1:0.2f}[s]'\u001b[0m\u001b[0;34m.\u001b[0m\u001b[0mformat\u001b[0m\u001b[0;34m(\u001b[0m\u001b[0mr\u001b[0m\u001b[0;34m,\u001b[0m\u001b[0mt2\u001b[0m\u001b[0;34m-\u001b[0m\u001b[0mt1\u001b[0m\u001b[0;34m)\u001b[0m\u001b[0;34m)\u001b[0m\u001b[0;34m\u001b[0m\u001b[0;34m\u001b[0m\u001b[0m\n",
      "\u001b[0;32m<ipython-input-95-de9ec8848445>\u001b[0m in \u001b[0;36mrabinMiller\u001b[0;34m(num)\u001b[0m\n\u001b[1;32m     15\u001b[0m                 \u001b[0;32melse\u001b[0m\u001b[0;34m:\u001b[0m\u001b[0;34m\u001b[0m\u001b[0;34m\u001b[0m\u001b[0m\n\u001b[1;32m     16\u001b[0m                     \u001b[0mi\u001b[0m \u001b[0;34m=\u001b[0m \u001b[0mi\u001b[0m \u001b[0;34m+\u001b[0m \u001b[0;36m1\u001b[0m\u001b[0;34m\u001b[0m\u001b[0;34m\u001b[0m\u001b[0m\n\u001b[0;32m---> 17\u001b[0;31m                     \u001b[0mv\u001b[0m \u001b[0;34m=\u001b[0m \u001b[0;34m(\u001b[0m\u001b[0mv\u001b[0m \u001b[0;34m**\u001b[0m \u001b[0;36m2\u001b[0m\u001b[0;34m)\u001b[0m \u001b[0;34m%\u001b[0m \u001b[0mnum\u001b[0m\u001b[0;34m\u001b[0m\u001b[0;34m\u001b[0m\u001b[0m\n\u001b[0m\u001b[1;32m     18\u001b[0m     \u001b[0;32mreturn\u001b[0m \u001b[0;32mTrue\u001b[0m\u001b[0;34m\u001b[0m\u001b[0;34m\u001b[0m\u001b[0m\n\u001b[1;32m     19\u001b[0m \u001b[0;34m\u001b[0m\u001b[0m\n",
      "\u001b[0;31mKeyboardInterrupt\u001b[0m: "
     ]
    }
   ],
   "source": [
    "import time\n",
    "\n",
    "n=gen_number(2**10)\n",
    "print('Numero : {0}'.format(n))\n",
    "t1=time.clock()\n",
    "r=isPrime(n)\n",
    "t2=time.clock()\n",
    "print('Fuerza bruta={0} : T={1:0.2f}[s]'.format(r,t2-t1))\n",
    "t1=time.clock()\n",
    "r=isProbablyPrime(n)\n",
    "t2=time.clock()\n",
    "print('Fermat={0} : T={1:0.2f}[s]'.format(r,t2-t1))\n",
    "t1=time.clock()\n",
    "r=rabinMiller(n)\n",
    "t2=time.clock()\n",
    "print('Rabin-Miller={0} : T={1:0.2f}[s]'.format(r,t2-t1))\n"
   ]
  },
  {
   "cell_type": "markdown",
   "metadata": {},
   "source": [
    "# Tarea\n",
    "\n",
    " 1. Encontrar la probabilidad $p_n$ de generar numeros aleatorios de $n=1024$ bits.\n",
    " 2. Graficar la distribucion de numeros aleatorios para $n=1024$ bits."
   ]
  },
  {
   "cell_type": "code",
   "execution_count": null,
   "metadata": {},
   "outputs": [],
   "source": []
  }
 ],
 "metadata": {
  "kernelspec": {
   "display_name": "Python 3",
   "language": "python",
   "name": "python3"
  },
  "language_info": {
   "codemirror_mode": {
    "name": "ipython",
    "version": 3
   },
   "file_extension": ".py",
   "mimetype": "text/x-python",
   "name": "python",
   "nbconvert_exporter": "python",
   "pygments_lexer": "ipython3",
   "version": "3.6.9"
  }
 },
 "nbformat": 4,
 "nbformat_minor": 2
}
