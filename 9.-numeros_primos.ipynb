{
 "cells": [
  {
   "cell_type": "markdown",
   "metadata": {},
   "source": [
    "# Numeros Primos\n",
    "\n",
    "Un entero positivo $p > 1$ es un número primo si sus unicos divisores son\n",
    "$\\pm 1$ y $\\pm p$. Un entero positivo n que no es primo es llamado compuesto.\n",
    "\n",
    "Si bien existe una infinidad de números primos, la cantidad de numeros primos menor que $n$ es finita. El teorema del numero primo nos entrega una cota asintótica para la función de conteo de primos $\\pi(n)$.\n",
    "\n",
    "\\begin{align}\n",
    "\\pi(n) \\approx \\frac{n}{\\operatorname{ln} (n)-B}\n",
    "\\end{align}\n",
    "\n",
    "Donde $B$ es la constante de Legendre (https://mathworld.wolfram.com/PrimeNumberTheorem). \n",
    "\n",
    "La aproximación depende del tamaño de $x$ y se puede ver en la siguiente tabla:\n",
    "\n"
   ]
  },
  {
   "cell_type": "code",
   "execution_count": 2,
   "metadata": {},
   "outputs": [
    {
     "name": "stdout",
     "output_type": "stream",
     "text": [
      "|         n          |       Phi(n)       |      Prob(n)       |\n",
      "----------------------------------------------------------------\n",
      "|      1.00e+03      |       144.79       |        0.14        |\n",
      "|      1.00e+04      |      1085.75       |        0.11        |\n",
      "|      1.00e+05      |      8685.90       |        0.09        |\n",
      "|      1.00e+06      |      72382.42      |        0.07        |\n",
      "|      1.00e+07      |     620420.69      |        0.06        |\n",
      "|      1.00e+08      |     5428681.03     |        0.05        |\n",
      "|      1.00e+09      |    48254942.44     |        0.05        |\n",
      "|      1.00e+10      |    434294481.91    |        0.04        |\n",
      "|      1.00e+11      |   3948131653.67    |        0.04        |\n",
      "|      1.00e+12      |   36191206825.27   |        0.04        |\n",
      "|      1.00e+13      |  334072678387.12   |        0.03        |\n",
      "|      1.00e+14      |  3102103442166.09  |        0.03        |\n",
      "|      1.00e+15      | 28952965460216.79  |        0.03        |\n",
      "|      1.00e+16      | 271434051189532.41 |        0.03        |\n"
     ]
    }
   ],
   "source": [
    "import math \n",
    "\n",
    "phi= lambda n : x/math.log(n-1.08366)\n",
    "prob= lambda n : 1./math.log(n)\n",
    "\n",
    "print('|{:^20}|{:^20}|{:^20}|'.format('n','Phi(n)','Prob(n)'))\n",
    "print('----------------------------------------------------------------')\n",
    "for i in range(3,17):\n",
    "    x=10**i\n",
    "    print('|{0:^20.2e}|{1:^20.2f}|{2:^20.2f}|'.format(x,phi(x),prob(x)))"
   ]
  },
  {
   "cell_type": "markdown",
   "metadata": {},
   "source": [
    "Esto implica que podemos generar una gran cantidad de numeros primos, sin embargo comprobar que son primos es generalmente dificil."
   ]
  },
  {
   "cell_type": "code",
   "execution_count": 3,
   "metadata": {},
   "outputs": [],
   "source": [
    "import random\n",
    "\n",
    "def gen_number(size=128):\n",
    "    return random.getrandbits(size)\n",
    "\n",
    "def isPrime(n):\n",
    "    if n<2:\n",
    "        return False\n",
    "    for i in range(2,int(math.sqrt(n)+1)):\n",
    "        if n % i == 0:\n",
    "            return False\n",
    "    return True"
   ]
  },
  {
   "cell_type": "code",
   "execution_count": 4,
   "metadata": {},
   "outputs": [
    {
     "name": "stdout",
     "output_type": "stream",
     "text": [
      "El numero 125499165824775594751101233603167888706477436475236620780043117859322715682155898785844595895053519929554765180262395017153941687919693525378863989583831900017081146797984102383252269455890890456792014274916534836154570934832130578525105518461889303851299296115935960202892367085590968383053571419977004948944 es primo ? : False\n"
     ]
    }
   ],
   "source": [
    "n=gen_number(1024)\n",
    "print('El numero {0} es primo ? : {1}'.format(n,isPrime(n)))"
   ]
  },
  {
   "cell_type": "code",
   "execution_count": 43,
   "metadata": {},
   "outputs": [
    {
     "name": "stdout",
     "output_type": "stream",
     "text": [
      "Probabilidad empirica=0.11, media=110.00 \n",
      "Probabilidad aproximada 0.36, media=360.67\n"
     ]
    },
    {
     "data": {
      "image/png": "[encoded data removed]",
      "text/plain": [
       "<Figure size 576x432 with 2 Axes>"
      ]
     },
     "metadata": {},
     "output_type": "display_data"
    }
   ],
   "source": [
    "from scipy.stats import binom\n",
    "import matplotlib.pyplot as plt\n",
    "plt.style.use('fivethirtyeight')\n",
    "import numpy as np\n",
    "\n",
    "def trial_division(size,num_samples):\n",
    "    num_primes=0\n",
    "    for i in range(num_samples):\n",
    "        n=gen_number(size)\n",
    "        if isPrime(n):\n",
    "            num_primes+=1\n",
    "    return num_primes/num_samples\n",
    "\n",
    "num_samples=1000\n",
    "p_s=trial_division(2**4,num_samples)\n",
    "print('Probabilidad empirica={0:0.2f}, media={1:0.2f} '.format(p_s,num_samples*p_s))\n",
    "\n",
    "p_n=prob(2**4)\n",
    "print('Probabilidad aproximada {0:0.2f}, media={1:0.2f}'.format(p_n,num_samples*p_n))\n",
    "\n",
    "x = np.arange(binom.ppf(0.01,num_samples, p_s),\n",
    "              binom.ppf(0.99, num_samples, p_s))\n",
    "\n",
    "fig = plt.figure(figsize=(8, 6))\n",
    "fig.subplots_adjust(hspace=0.4, wspace=0.4)\n",
    "ax = fig.add_subplot(1, 2, 1)\n",
    "ax.plot(x, binom.pmf(x, num_samples, p_s), 'bo', ms=2,alpha=0.5, label='distribucion empirica')\n",
    "ax.vlines(x, 0, binom.pmf(x, num_samples, p_s), colors='b', lw=5, alpha=0.5)\n",
    "\n",
    "x2 = np.arange(binom.ppf(0.01,num_samples, p_n),\n",
    "              binom.ppf(0.99, num_samples, p_n))\n",
    "ax = fig.add_subplot(1, 2, 2)\n",
    "ax.plot(x2, binom.pmf(x2, num_samples, p_n), 'ro', ms=2,alpha=0.5, label='distribucion teorica')\n",
    "ax.vlines(x2, 0,  binom.pmf(x2, num_samples, p_n),  colors='r', lw=5, alpha=0.5)\n",
    "ax.legend(loc='best', frameon=False)\n",
    "\n",
    "plt.show()\n"
   ]
  },
  {
   "cell_type": "markdown",
   "metadata": {},
   "source": [
    "El tiempo para realizar la prueba de primalidad mediante fuerza bruta crece exponencialmente con respecto al numero. Una alternativa es utilizar el terorema de Fermat. Si $n$ es primo y $a$ un entero positivo no divisible por $p$, entonces:\n",
    "\n",
    "\\begin{align}\n",
    "a^{n-1} \\equiv 1 ( \\operatorname{mod} n)\n",
    "\\end{align}"
   ]
  },
  {
   "cell_type": "code",
   "execution_count": 7,
   "metadata": {},
   "outputs": [],
   "source": [
    "from random import randint\n",
    " \n",
    "def isProbablyPrime(n, k = 5):\n",
    "    if (n < 2 ):\n",
    "        return False\n",
    "    output = True\n",
    "    for i in range(0, k):\n",
    "        a = randint(1, n-1)\n",
    "        # pow(x, y, z=None)=x**y % z\n",
    "        if (pow(a, n-1, n) != 1):\n",
    "            return False \n",
    "    return output"
   ]
  },
  {
   "cell_type": "code",
   "execution_count": 44,
   "metadata": {},
   "outputs": [
    {
     "name": "stdout",
     "output_type": "stream",
     "text": [
      "El numero 108966844302064395242432836241603646373432656858278781967902409895089349941245529050270301353455752770475749361222226891228478271808430078473198786712457215751662455965662049678538984912279479168845936281979875317538811786064333404873708031211181338604246229576514194943614982314928585960448233167755167201743 es primo ? : False\n"
     ]
    }
   ],
   "source": [
    "n=gen_number(1024)\n",
    "print('El numero {0} es primo ? : {1}'.format(n,isProbablyPrime(n)))"
   ]
  },
  {
   "cell_type": "markdown",
   "metadata": {},
   "source": [
    "# Algoritmo Rabin-Miller\n",
    "\n",
    "```\n",
    "Input: n > 3, an odd integer to be tested for primality;\n",
    "Input: k, a parameter that determines the accuracy of the test\n",
    "Output: composite if n is composite, otherwise probably prime\n",
    "write n − 1 as 2s·d with d odd by factoring powers of 2 from n − 1\n",
    "LOOP: repeat k times:\n",
    "   pick a randomly in the range [2, n − 2]\n",
    "   x ← ad mod n\n",
    "   if x = 1 or x = n − 1 then do next LOOP\n",
    "   for r = 1 .. s − 1\n",
    "      x ← x2 mod n\n",
    "      if x = 1 then return composite\n",
    "      if x = n − 1 then do next LOOP\n",
    "   return composite\n",
    "return probably prime\n",
    "```\n",
    "\n",
    "http://inventwithpython.com/cracking/chapter22.html\n",
    "\n",
    "[1] Rabin, Michael (1980). \"Probabilistic algorithm for testing primality\". Journal of Number Theory 12 (1): 128-138. doi:10.1016/0022-314X(80)90084-0."
   ]
  },
  {
   "cell_type": "code",
   "execution_count": 38,
   "metadata": {},
   "outputs": [],
   "source": [
    "def rabinMiller(num,k=5):\n",
    "    if num % 2 == 0 or num < 2:\n",
    "        return False # Rabin-Miller doesn't work on even integers.\n",
    "    if num == 3:\n",
    "        return True\n",
    "    s = num - 1\n",
    "    t = 0\n",
    "    while s % 2 == 0:\n",
    "        s = s // 2\n",
    "        t += 1\n",
    "    for trials in range(k): \n",
    "        a = random.randrange(2, num - 1)\n",
    "        v = pow(a, s, num)\n",
    "        if v != 1: # this test does not apply if v is 1.\n",
    "            i = 0\n",
    "            while v != (num - 1):\n",
    "                if i == t - 1:\n",
    "                    return False\n",
    "                else:\n",
    "                    i = i + 1\n",
    "                    v = (v ** 2) % num\n",
    "    return True\n",
    "\n"
   ]
  },
  {
   "cell_type": "code",
   "execution_count": 61,
   "metadata": {},
   "outputs": [
    {
     "name": "stdout",
     "output_type": "stream",
     "text": [
      "Numero : 146720009993470692584721237647535947874111681800743720399785823389344619404401704122989862982333943421416396139550204449403185494582016113587529637149871261979377345873942002781947767163452421325561003806620641088652095258634452827202168477672180124940689744026522006321080400936788498898807439155572124039221\n",
      "Fermat Test=True 0.02146000[s]\n",
      "Rabin-Miller Test=True 0.02143400[s]\n"
     ]
    }
   ],
   "source": [
    "import time\n",
    "\n",
    "while True:\n",
    "    n=gen_number(2**10)\n",
    "    r=rabinMiller(n)\n",
    "    if r:\n",
    "        break\n",
    "\n",
    "print('Numero : {0}'.format(n))\n",
    "t1=time.clock()\n",
    "r=isProbablyPrime(n)\n",
    "t2=time.clock()\n",
    "print('Fermat Test={0} {1:0.8f}[s]'.format(r,t2-t1))\n",
    "t1=time.clock()\n",
    "r=rabinMiller(n)\n",
    "t2=time.clock()\n",
    "print('Rabin-Miller Test={0} {1:0.8f}[s]'.format(r,t2-t1))\n"
   ]
  },
  {
   "cell_type": "markdown",
   "metadata": {},
   "source": [
    "# Tarea\n",
    "\n",
    " 1. Encontrar la probabilidad de generar numeros aleatorios de $n=1024$ bits.\n",
    " 2. Completar la tabla anterior con las probabilidades calculadas de manera empirica."
   ]
  },
  {
   "cell_type": "code",
   "execution_count": null,
   "metadata": {},
   "outputs": [],
   "source": []
  }
 ],
 "metadata": {
  "kernelspec": {
   "display_name": "Python 3",
   "language": "python",
   "name": "python3"
  },
  "language_info": {
   "codemirror_mode": {
    "name": "ipython",
    "version": 3
   },
   "file_extension": ".py",
   "mimetype": "text/x-python",
   "name": "python",
   "nbconvert_exporter": "python",
   "pygments_lexer": "ipython3",
   "version": "3.6.9"
  }
 },
 "nbformat": 4,
 "nbformat_minor": 2
}
