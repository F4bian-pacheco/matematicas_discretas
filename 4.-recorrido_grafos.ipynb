{
 "cells": [
  {
   "cell_type": "markdown",
   "metadata": {},
   "source": [
    "<h1>Recorrido de Grafos</h1>\n",
    "\n",
    "Dado un grafo ponderado $(G , w )$ donde $G = (V , E )$ y $w : E  \\mapsto \\mathbb R$, un\n",
    "arbol de expansión mı́nima es un arbol de expansión en el que la suma\n",
    "de los pesos w de las aristas es mı́nima.\n",
    "\n",
    "<h2>Algoritmo Prim</h2>\n",
    "\n",
    "El algoritmo de Prim construye un arbol visitando vértices de\n",
    "manera iterativa hasta que se obtiene un árbol de expansión mı́nima.Se comienza desde un vértice cualquiera y en cada iteración se agrega la arista que tenga el mı́nimo peso y no complete un ciclo.\n",
    "La complejidad computacional del algoritmo de Prim es $O(V \\operatorname{log} V)$.\n",
    "El siguiente pseudo-código implementa el algoritmo mediante una cola de prioridad:\n",
    "\n",
    "\n",
    "<img src=\"images/algoritmo_prim.png\" />\n",
    "\n",
    "<h2>Algoritmo Kruskal</h2>\n",
    "\n",
    "El algoritmo de Kruskal construye un arbol visitando aristas de\n",
    "manera iterativa hasta que se obtiene un árbol de expansión mı́nima.\n",
    "Se comienza desde un vértice cualquiera y en cada iteración se\n",
    "agrega la arista que tenga el mı́nimo peso y no complete un ciclo.\n",
    "La complejidad computacional del algoritmo de Kruskal es $O(E \\operatorname{log} E)$.\n",
    "\n",
    "\n",
    "<img src=\"images/algoritmo_kruskal.png\" />"
   ]
  },
  {
   "cell_type": "code",
   "execution_count": 53,
   "metadata": {},
   "outputs": [],
   "source": [
    "import numpy as np\n",
    "from heapq import heappush,heappop\n",
    "\n",
    "class abstract_graph:\n",
    "    \n",
    "    def __init__(self,_edges):\n",
    "        self.edges=_edges\n",
    "        self.nodes={u for u,v in self.edges} | {v for u,v in self.edges}\n",
    "        \n",
    "    def adjacency_matrix(self):\n",
    "        pass\n",
    "    \n",
    "    def adjacency_list(self):\n",
    "        pass\n",
    "\n",
    "    \n",
    "class simple_graph(abstract_graph):\n",
    "    \n",
    "    def adjacency_list(self):\n",
    "        adjacent=lambda n : {v for u,v in self.edges if u==n } | {u for u,v in self.edges if v==n}\n",
    "        return {v:adjacent(v) for v in self.nodes}\n",
    "    \n",
    "\n",
    "    \n",
    "class weighted_graph(abstract_graph):\n",
    "    \n",
    "    def __init__(self,_edges):\n",
    "        self.edges=_edges\n",
    "        self.nodes={u for u,v in self.edges.keys()} | {v for u,v in self.edges.keys()}\n",
    "        \n",
    "    def adjacency_matrix(self):\n",
    "        n=len(self.nodes)\n",
    "        mat=np.zeros((n,n))\n",
    "        adjacent=lambda x : [1 if x==v else 0 for (u,v) in enumerate(sorted(list(G.nodes))) ]\n",
    "        L=self.adjacency_list()\n",
    "        i=0\n",
    "        for v in sorted(list(G.nodes)):\n",
    "            for l in L[v]:\n",
    "                mat[i,]+=adjacent(l)\n",
    "            i=i+1\n",
    "        return mat\n",
    "    \n",
    "    def adjacency_list(self):\n",
    "        adjacent=lambda n : {v for u,v in self.edges.keys() if u==n } | {u for u,v in self.edges if v==n}\n",
    "        return {v:adjacent(v) for v in self.nodes}\n",
    "\n",
    "class weighted_digraph(abstract_graph):\n",
    "    \n",
    "    def __init__(self,_edges):\n",
    "        self.edges=_edges\n",
    "        self.nodes={u for u,v in self.edges.keys()} | {v for u,v in self.edges.keys()}\n",
    "        \n",
    "    \n",
    "    def adjacency_list(self):\n",
    "        adjacent=lambda n : {v for u,v in self.edges.keys() if u==n } \n",
    "        return {v:adjacent(v) for v in self.nodes}    \n",
    "    \n"
   ]
  },
  {
   "cell_type": "code",
   "execution_count": 2,
   "metadata": {},
   "outputs": [],
   "source": [
    "def depth_first_search(graph,start):\n",
    "    stack, path = [start], []\n",
    "    adjacency=graph.adjacency_list()\n",
    "    while stack:\n",
    "        vertex = stack.pop()\n",
    "        if vertex in path:\n",
    "            continue\n",
    "        path.append(vertex)\n",
    "        for neighbor in adjacency[vertex]:\n",
    "            stack.append(neighbor)\n",
    "    return path"
   ]
  },
  {
   "cell_type": "code",
   "execution_count": 3,
   "metadata": {},
   "outputs": [
    {
     "name": "stdout",
     "output_type": "stream",
     "text": [
      "Tarea : write spec, Prioridad 1\n",
      "Tarea : create tests, Prioridad 3\n",
      "Tarea : write code, Prioridad 5\n",
      "Tarea : release product, Prioridad 7\n"
     ]
    }
   ],
   "source": [
    "import heapq\n",
    "\n",
    "h = []\n",
    "heappush(h, (5, 'write code'))\n",
    "heappush(h, (7, 'release product'))\n",
    "heappush(h, (1, 'write spec'))\n",
    "heappush(h, (3, 'create tests'))\n",
    "while h:\n",
    "    i,v=heappop(h)\n",
    "    print('Tarea : {0}, Prioridad {1}'.format(v,i))"
   ]
  },
  {
   "cell_type": "code",
   "execution_count": 4,
   "metadata": {},
   "outputs": [],
   "source": [
    "def prim_mst(graph,start):\n",
    "    pq, path = [], []\n",
    "    tree=[]\n",
    "    heappush(pq, (0, start))\n",
    "    adjacency=graph.adjacency_list()\n",
    "    while pq:\n",
    "        i,vertex=heappop(pq)\n",
    "        if vertex in path:\n",
    "            continue\n",
    "        print('Vertice : {0}, Prioridad {1}'.format(vertex,i))\n",
    "        path.append(vertex)\n",
    "        for neighbor in adjacency[vertex]:\n",
    "            if neighbor not in path:\n",
    "                if (vertex,neighbor) in graph.edges:\n",
    "                    heappush(pq, (graph.edges[(vertex,neighbor)], neighbor))\n",
    "                    tree.append((vertex,neighbor))\n",
    "                else:\n",
    "                    heappush(pq, (graph.edges[(neighbor,vertex)], neighbor))\n",
    "                    tree.append((neighbor,vertex))\n",
    "    return tree"
   ]
  },
  {
   "cell_type": "code",
   "execution_count": 5,
   "metadata": {},
   "outputs": [
    {
     "name": "stdout",
     "output_type": "stream",
     "text": [
      "aristas :  {(1, 2): 1, (3, 4): 2, (2, 4): 1}\n",
      "Vertice : 1, Prioridad 0\n",
      "Vertice : 2, Prioridad 1\n",
      "Vertice : 4, Prioridad 1\n",
      "Vertice : 3, Prioridad 2\n",
      "Prim MST [(1, 2), (2, 4), (3, 4)], valor : 4\n"
     ]
    }
   ],
   "source": [
    "import numpy as np\n",
    "\n",
    "E4={(1,2):1,(3,4):2,(2,4):1}\n",
    "E4.keys()\n",
    "G4=weighted_graph(E4)\n",
    "print('aristas : ',G4.edges)\n",
    "T=prim_mst(G4,1)\n",
    "v=np.sum([G4.edges[t] for t in T])\n",
    "print('Prim MST {0}, valor : {1}'.format(T,v))\n"
   ]
  },
  {
   "cell_type": "markdown",
   "metadata": {},
   "source": [
    "<h2>Ejercicio</h2>\n",
    "\n",
    "Se desea construir un acueducto que una las ciudades de la region del Maule. El costo en distancia se encuentra en mm en un archivo csv."
   ]
  },
  {
   "cell_type": "code",
   "execution_count": 66,
   "metadata": {},
   "outputs": [
    {
     "data": {
      "text/html": [
       "<div>\n",
       "<style scoped>\n",
       "    .dataframe tbody tr th:only-of-type {\n",
       "        vertical-align: middle;\n",
       "    }\n",
       "\n",
       "    .dataframe tbody tr th {\n",
       "        vertical-align: top;\n",
       "    }\n",
       "\n",
       "    .dataframe thead th {\n",
       "        text-align: right;\n",
       "    }\n",
       "</style>\n",
       "<table border=\"1\" class=\"dataframe\">\n",
       "  <thead>\n",
       "    <tr style=\"text-align: right;\">\n",
       "      <th></th>\n",
       "      <th>WKT</th>\n",
       "      <th>InputID</th>\n",
       "      <th>TargetID</th>\n",
       "      <th>Distance</th>\n",
       "    </tr>\n",
       "  </thead>\n",
       "  <tbody>\n",
       "    <tr>\n",
       "      <th>0</th>\n",
       "      <td>MULTIPOINT ((-71.661999 -35.432349),(-71.59687...</td>\n",
       "      <td>TALCA</td>\n",
       "      <td>PANGUILEMO</td>\n",
       "      <td>9402.992976</td>\n",
       "    </tr>\n",
       "    <tr>\n",
       "      <th>1</th>\n",
       "      <td>MULTIPOINT ((-71.661999 -35.432349),(-71.56431...</td>\n",
       "      <td>TALCA</td>\n",
       "      <td>HUILQUILEMU</td>\n",
       "      <td>9026.792210</td>\n",
       "    </tr>\n",
       "    <tr>\n",
       "      <th>2</th>\n",
       "      <td>MULTIPOINT ((-72.412391 -35.335426),(-71.66199...</td>\n",
       "      <td>TALCA</td>\n",
       "      <td>CONSTITUCION</td>\n",
       "      <td>69023.063640</td>\n",
       "    </tr>\n",
       "    <tr>\n",
       "      <th>3</th>\n",
       "      <td>MULTIPOINT ((-72.333641 -35.427048),(-71.66199...</td>\n",
       "      <td>TALCA</td>\n",
       "      <td>SANTA OLGA</td>\n",
       "      <td>60993.437978</td>\n",
       "    </tr>\n",
       "    <tr>\n",
       "      <th>4</th>\n",
       "      <td>MULTIPOINT ((-72.494926 -35.469452),(-71.66199...</td>\n",
       "      <td>TALCA</td>\n",
       "      <td>LOS PELLINES</td>\n",
       "      <td>75728.660537</td>\n",
       "    </tr>\n",
       "  </tbody>\n",
       "</table>\n",
       "</div>"
      ],
      "text/plain": [
       "                                                 WKT InputID      TargetID  \\\n",
       "0  MULTIPOINT ((-71.661999 -35.432349),(-71.59687...   TALCA    PANGUILEMO   \n",
       "1  MULTIPOINT ((-71.661999 -35.432349),(-71.56431...   TALCA   HUILQUILEMU   \n",
       "2  MULTIPOINT ((-72.412391 -35.335426),(-71.66199...   TALCA  CONSTITUCION   \n",
       "3  MULTIPOINT ((-72.333641 -35.427048),(-71.66199...   TALCA    SANTA OLGA   \n",
       "4  MULTIPOINT ((-72.494926 -35.469452),(-71.66199...   TALCA  LOS PELLINES   \n",
       "\n",
       "       Distance  \n",
       "0   9402.992976  \n",
       "1   9026.792210  \n",
       "2  69023.063640  \n",
       "3  60993.437978  \n",
       "4  75728.660537  "
      ]
     },
     "execution_count": 66,
     "metadata": {},
     "output_type": "execute_result"
    }
   ],
   "source": [
    "import pandas as pd\n",
    "\n",
    "df=pd.read_csv('https://raw.githubusercontent.com/sherna90/matematicas_discretas/master/data/distancias_maule.csv', encoding = 'utf-8',dtype={'WKT':str,'InputID':str,'TargetID':str,'Distance':float}) \n",
    "\n",
    "df.loc[df['InputID']=='TALCA'].head()"
   ]
  },
  {
   "cell_type": "code",
   "execution_count": 67,
   "metadata": {},
   "outputs": [
    {
     "data": {
      "text/plain": [
       "array(['TALCA', 'PANGUILEMO', 'HUILQUILEMU', 'CONSTITUCION', 'SANTA OLGA',\n",
       "       'LOS PELLINES', 'CUREPTO', 'EMPEDRADO', 'MAULE', 'CULENAR',\n",
       "       'VILLA FRANCIA', 'CHACARILLAS', 'PELARCO', 'PENCAHUE', 'CUMPEO',\n",
       "       'SAN CLEMENTE', 'SAN RAFAEL', 'CAUQUENES', 'CHANCO', 'PELLUHUE',\n",
       "       'QUILICURA', 'CURICO', 'SARMIENTO', 'VILLA LOS NICHES',\n",
       "       'SAN ALBERTO', 'HUALAE', 'LICANTEN', 'ILOCA', 'MOLINA',\n",
       "       'ITAHUE UNO', 'RAUCO', 'ROMERAL', 'SAGRADA  FAMILIA', 'VILLA PRAT',\n",
       "       'TENO', 'LLICO', 'LAGO VICHUQUEN', 'LINARES', 'VARA GRUESA',\n",
       "       'LAS OBRAS', 'COLBUN', 'PANIMAVIDA', 'LONGAVI', 'PARRAL', 'RETIRO',\n",
       "       'COPIHUE', 'SAN JAVIER', 'BOBADILLA', 'VILLA ALEGRE',\n",
       "       'YERBAS BUENAS'], dtype=object)"
      ]
     },
     "execution_count": 67,
     "metadata": {},
     "output_type": "execute_result"
    }
   ],
   "source": [
    "df['WKT'] = df['WKT'].apply(lambda x: x.encode('ascii', 'ignore').decode('ascii'))\n",
    "df['InputID'] = df['InputID'].apply(lambda x: x.encode('ascii', 'ignore').decode('ascii'))\n",
    "df['TargetID'] = df['TargetID'].apply(lambda x: x.encode('ascii', 'ignore').decode('ascii'))\n",
    "df['InputID'].unique()"
   ]
  },
  {
   "cell_type": "code",
   "execution_count": 68,
   "metadata": {},
   "outputs": [],
   "source": [
    "E={}\n",
    "for index, row in df.iterrows():\n",
    "    E.update({(str(row['InputID']), str(row['TargetID'])):row['Distance']/1000})"
   ]
  },
  {
   "cell_type": "code",
   "execution_count": 9,
   "metadata": {},
   "outputs": [],
   "source": [
    "#from matplotlib import pyplot\n",
    "#from shapely.geometry import MultiPoint\n",
    "#from shapely import wkt\n",
    "\n",
    "#points=[]\n",
    "#for index, row in df.iterrows():\n",
    "#    points.append(wkt.loads(str(row['WKT'])))"
   ]
  },
  {
   "cell_type": "code",
   "execution_count": 73,
   "metadata": {},
   "outputs": [],
   "source": [
    "G=weighted_graph(E)"
   ]
  },
  {
   "cell_type": "code",
   "execution_count": 70,
   "metadata": {},
   "outputs": [
    {
     "name": "stdout",
     "output_type": "stream",
     "text": [
      "{'BOBADILLA', 'ILOCA', 'MAULE', 'PANGUILEMO', 'SAN RAFAEL', 'SAN ALBERTO', 'SANTA OLGA', 'PELLUHUE', 'YERBAS BUENAS', 'LINARES', 'LOS PELLINES', 'CHACARILLAS', 'COPIHUE', 'PANIMAVIDA', 'SAGRADA  FAMILIA', 'TENO', 'VILLA FRANCIA', 'EMPEDRADO', 'CONSTITUCION', 'LAS OBRAS', 'CUMPEO', 'VARA GRUESA', 'CAUQUENES', 'ROMERAL', 'HUALAE', 'CUREPTO', 'ITAHUE UNO', 'CULENAR', 'CURICO', 'VILLA PRAT', 'SAN CLEMENTE', 'QUILICURA', 'RETIRO', 'SAN JAVIER', 'RAUCO', 'LLICO', 'MOLINA', 'LICANTEN', 'CHANCO', 'PENCAHUE', 'TALCA', 'HUILQUILEMU', 'VILLA ALEGRE', 'VILLA LOS NICHES', 'LAGO VICHUQUEN', 'SARMIENTO', 'PARRAL', 'COLBUN', 'LONGAVI', 'PELARCO'}\n"
     ]
    }
   ],
   "source": [
    "print(G.nodes)"
   ]
  },
  {
   "cell_type": "code",
   "execution_count": 71,
   "metadata": {},
   "outputs": [
    {
     "name": "stdout",
     "output_type": "stream",
     "text": [
      "Vertice : TALCA, Prioridad 0\n",
      "Vertice : CULENAR, Prioridad 3.9649338381316803\n",
      "Vertice : VILLA FRANCIA, Prioridad 1.33428335842812\n",
      "Vertice : CHACARILLAS, Prioridad 4.46585695446726\n",
      "Vertice : MAULE, Prioridad 2.5950385329768\n",
      "Vertice : BOBADILLA, Prioridad 4.465889689069121\n",
      "Vertice : SAN JAVIER, Prioridad 4.59017254506704\n",
      "Vertice : HUILQUILEMU, Prioridad 9.026792209591079\n",
      "Vertice : VILLA ALEGRE, Prioridad 9.18977588004314\n",
      "Vertice : PANGUILEMO, Prioridad 9.40299297647628\n",
      "Vertice : SAN RAFAEL, Prioridad 9.18076991683921\n",
      "Vertice : PELARCO, Prioridad 10.7754701402999\n",
      "Vertice : PENCAHUE, Prioridad 11.4378358826853\n",
      "Vertice : SAN CLEMENTE, Prioridad 11.8953735732226\n",
      "Vertice : YERBAS BUENAS, Prioridad 16.4468074244873\n",
      "Vertice : LINARES, Prioridad 10.7962798998361\n",
      "Vertice : VARA GRUESA, Prioridad 8.408269680843619\n",
      "Vertice : LAS OBRAS, Prioridad 8.48362388917583\n",
      "Vertice : PANIMAVIDA, Prioridad 10.7193269370867\n",
      "Vertice : COLBUN, Prioridad 7.22485864136085\n",
      "Vertice : LONGAVI, Prioridad 13.1910016478016\n",
      "Vertice : RETIRO, Prioridad 11.7334951072981\n",
      "Vertice : COPIHUE, Prioridad 5.8227381088118\n",
      "Vertice : PARRAL, Prioridad 6.35181130986633\n",
      "Vertice : CUMPEO, Prioridad 20.6689717512939\n",
      "Vertice : ITAHUE UNO, Prioridad 18.4424693258925\n",
      "Vertice : MOLINA, Prioridad 7.25398445461394\n",
      "Vertice : SAGRADA  FAMILIA, Prioridad 13.1396608840502\n",
      "Vertice : VILLA LOS NICHES, Prioridad 7.56171644224313\n",
      "Vertice : RAUCO, Prioridad 1.78598419130831\n",
      "Vertice : CURICO, Prioridad 8.90446125363686\n",
      "Vertice : SARMIENTO, Prioridad 5.821907697423909\n",
      "Vertice : ROMERAL, Prioridad 6.26793791693322\n",
      "Vertice : SAN ALBERTO, Prioridad 3.04757217274264\n",
      "Vertice : TENO, Prioridad 8.13009963945093\n",
      "Vertice : VILLA PRAT, Prioridad 23.2324663656151\n",
      "Vertice : HUALAE, Prioridad 22.1383891313975\n",
      "Vertice : LICANTEN, Prioridad 16.566601177923598\n",
      "Vertice : LAGO VICHUQUEN, Prioridad 11.4546535002247\n",
      "Vertice : CUREPTO, Prioridad 12.7686662995542\n",
      "Vertice : LLICO, Prioridad 15.4798261540034\n",
      "Vertice : ILOCA, Prioridad 18.9543395814527\n",
      "Vertice : CONSTITUCION, Prioridad 44.4978754010726\n",
      "Vertice : SANTA OLGA, Prioridad 12.4311053826251\n",
      "Vertice : LOS PELLINES, Prioridad 15.3799105241416\n",
      "Vertice : EMPEDRADO, Prioridad 18.9179973431884\n",
      "Vertice : CHANCO, Prioridad 28.010189548645098\n",
      "Vertice : PELLUHUE, Prioridad 9.4650186739867\n",
      "Vertice : QUILICURA, Prioridad 18.014800503668297\n",
      "Vertice : CAUQUENES, Prioridad 28.6266913090228\n"
     ]
    }
   ],
   "source": [
    "T=prim_mst(G,'TALCA')"
   ]
  },
  {
   "cell_type": "code",
   "execution_count": 72,
   "metadata": {},
   "outputs": [
    {
     "name": "stdout",
     "output_type": "stream",
     "text": [
      "Prim MST [('TALCA', 'BOBADILLA'), ('TALCA', 'ILOCA'), ('TALCA', 'MAULE'), ('TALCA', 'PANGUILEMO'), ('TALCA', 'SAN RAFAEL'), ('TALCA', 'SAN ALBERTO'), ('TALCA', 'SANTA OLGA'), ('TALCA', 'PELLUHUE'), ('TALCA', 'YERBAS BUENAS'), ('TALCA', 'LINARES'), ('TALCA', 'LOS PELLINES'), ('TALCA', 'CHACARILLAS'), ('TALCA', 'COPIHUE'), ('TALCA', 'PANIMAVIDA'), ('TALCA', 'SAGRADA  FAMILIA'), ('TALCA', 'TENO'), ('TALCA', 'VILLA FRANCIA'), ('TALCA', 'EMPEDRADO'), ('TALCA', 'CONSTITUCION'), ('TALCA', 'LAS OBRAS'), ('TALCA', 'CUMPEO'), ('TALCA', 'VARA GRUESA'), ('TALCA', 'CAUQUENES'), ('TALCA', 'ROMERAL'), ('TALCA', 'HUALAE'), ('TALCA', 'CUREPTO'), ('TALCA', 'ITAHUE UNO'), ('TALCA', 'CULENAR'), ('TALCA', 'CURICO'), ('TALCA', 'VILLA PRAT'), ('TALCA', 'SAN CLEMENTE'), ('TALCA', 'QUILICURA'), ('TALCA', 'RETIRO'), ('TALCA', 'SAN JAVIER'), ('TALCA', 'RAUCO'), ('TALCA', 'LLICO'), ('TALCA', 'MOLINA'), ('TALCA', 'LICANTEN'), ('TALCA', 'CHANCO'), ('TALCA', 'PENCAHUE'), ('TALCA', 'HUILQUILEMU'), ('TALCA', 'VILLA ALEGRE'), ('TALCA', 'VILLA LOS NICHES'), ('TALCA', 'LAGO VICHUQUEN'), ('TALCA', 'SARMIENTO'), ('TALCA', 'PARRAL'), ('TALCA', 'COLBUN'), ('TALCA', 'LONGAVI'), ('TALCA', 'PELARCO'), ('CULENAR', 'BOBADILLA'), ('CULENAR', 'ILOCA'), ('CULENAR', 'MAULE'), ('CULENAR', 'PANGUILEMO'), ('CULENAR', 'SAN RAFAEL'), ('CULENAR', 'SAN ALBERTO'), ('CULENAR', 'SANTA OLGA'), ('CULENAR', 'PELLUHUE'), ('CULENAR', 'YERBAS BUENAS'), ('CULENAR', 'LINARES'), ('CULENAR', 'LOS PELLINES'), ('CULENAR', 'CHACARILLAS'), ('CULENAR', 'COPIHUE'), ('CULENAR', 'PANIMAVIDA'), ('CULENAR', 'SAGRADA  FAMILIA'), ('CULENAR', 'TENO'), ('CULENAR', 'VILLA FRANCIA'), ('CULENAR', 'EMPEDRADO'), ('CULENAR', 'CONSTITUCION'), ('CULENAR', 'LAS OBRAS'), ('CULENAR', 'CUMPEO'), ('CULENAR', 'VARA GRUESA'), ('CULENAR', 'CAUQUENES'), ('CULENAR', 'ROMERAL'), ('CULENAR', 'HUALAE'), ('CULENAR', 'CUREPTO'), ('CULENAR', 'ITAHUE UNO'), ('CULENAR', 'CURICO'), ('CULENAR', 'VILLA PRAT'), ('CULENAR', 'SAN CLEMENTE'), ('CULENAR', 'QUILICURA'), ('CULENAR', 'RETIRO'), ('CULENAR', 'SAN JAVIER'), ('CULENAR', 'RAUCO'), ('CULENAR', 'LLICO'), ('CULENAR', 'MOLINA'), ('CULENAR', 'LICANTEN'), ('CULENAR', 'CHANCO'), ('CULENAR', 'PENCAHUE'), ('CULENAR', 'HUILQUILEMU'), ('CULENAR', 'VILLA ALEGRE'), ('CULENAR', 'VILLA LOS NICHES'), ('CULENAR', 'LAGO VICHUQUEN'), ('CULENAR', 'SARMIENTO'), ('CULENAR', 'PARRAL'), ('CULENAR', 'COLBUN'), ('CULENAR', 'LONGAVI'), ('CULENAR', 'PELARCO'), ('VILLA FRANCIA', 'BOBADILLA'), ('VILLA FRANCIA', 'ILOCA'), ('VILLA FRANCIA', 'MAULE'), ('VILLA FRANCIA', 'PANGUILEMO'), ('VILLA FRANCIA', 'SAN RAFAEL'), ('VILLA FRANCIA', 'SAN ALBERTO'), ('VILLA FRANCIA', 'SANTA OLGA'), ('VILLA FRANCIA', 'PELLUHUE'), ('VILLA FRANCIA', 'YERBAS BUENAS'), ('VILLA FRANCIA', 'LINARES'), ('VILLA FRANCIA', 'LOS PELLINES'), ('VILLA FRANCIA', 'CHACARILLAS'), ('VILLA FRANCIA', 'COPIHUE'), ('VILLA FRANCIA', 'PANIMAVIDA'), ('VILLA FRANCIA', 'SAGRADA  FAMILIA'), ('VILLA FRANCIA', 'TENO'), ('VILLA FRANCIA', 'EMPEDRADO'), ('VILLA FRANCIA', 'CONSTITUCION'), ('VILLA FRANCIA', 'LAS OBRAS'), ('VILLA FRANCIA', 'CUMPEO'), ('VILLA FRANCIA', 'VARA GRUESA'), ('VILLA FRANCIA', 'CAUQUENES'), ('VILLA FRANCIA', 'ROMERAL'), ('VILLA FRANCIA', 'HUALAE'), ('VILLA FRANCIA', 'CUREPTO'), ('VILLA FRANCIA', 'ITAHUE UNO'), ('VILLA FRANCIA', 'CURICO'), ('VILLA FRANCIA', 'VILLA PRAT'), ('VILLA FRANCIA', 'SAN CLEMENTE'), ('VILLA FRANCIA', 'QUILICURA'), ('VILLA FRANCIA', 'RETIRO'), ('VILLA FRANCIA', 'SAN JAVIER'), ('VILLA FRANCIA', 'RAUCO'), ('VILLA FRANCIA', 'LLICO'), ('VILLA FRANCIA', 'MOLINA'), ('VILLA FRANCIA', 'LICANTEN'), ('VILLA FRANCIA', 'CHANCO'), ('VILLA FRANCIA', 'PENCAHUE'), ('VILLA FRANCIA', 'HUILQUILEMU'), ('VILLA FRANCIA', 'VILLA ALEGRE'), ('VILLA FRANCIA', 'VILLA LOS NICHES'), ('VILLA FRANCIA', 'LAGO VICHUQUEN'), ('VILLA FRANCIA', 'SARMIENTO'), ('VILLA FRANCIA', 'PARRAL'), ('VILLA FRANCIA', 'COLBUN'), ('VILLA FRANCIA', 'LONGAVI'), ('VILLA FRANCIA', 'PELARCO'), ('CHACARILLAS', 'BOBADILLA'), ('CHACARILLAS', 'ILOCA'), ('CHACARILLAS', 'MAULE'), ('CHACARILLAS', 'PANGUILEMO'), ('CHACARILLAS', 'SAN RAFAEL'), ('CHACARILLAS', 'SAN ALBERTO'), ('CHACARILLAS', 'SANTA OLGA'), ('CHACARILLAS', 'PELLUHUE'), ('CHACARILLAS', 'YERBAS BUENAS'), ('CHACARILLAS', 'LINARES'), ('CHACARILLAS', 'LOS PELLINES'), ('CHACARILLAS', 'COPIHUE'), ('CHACARILLAS', 'PANIMAVIDA'), ('CHACARILLAS', 'SAGRADA  FAMILIA'), ('CHACARILLAS', 'TENO'), ('CHACARILLAS', 'EMPEDRADO'), ('CHACARILLAS', 'CONSTITUCION'), ('CHACARILLAS', 'LAS OBRAS'), ('CHACARILLAS', 'CUMPEO'), ('CHACARILLAS', 'VARA GRUESA'), ('CHACARILLAS', 'CAUQUENES'), ('CHACARILLAS', 'ROMERAL'), ('CHACARILLAS', 'HUALAE'), ('CHACARILLAS', 'CUREPTO'), ('CHACARILLAS', 'ITAHUE UNO'), ('CHACARILLAS', 'CURICO'), ('CHACARILLAS', 'VILLA PRAT'), ('CHACARILLAS', 'SAN CLEMENTE'), ('CHACARILLAS', 'QUILICURA'), ('CHACARILLAS', 'RETIRO'), ('CHACARILLAS', 'SAN JAVIER'), ('CHACARILLAS', 'RAUCO'), ('CHACARILLAS', 'LLICO'), ('CHACARILLAS', 'MOLINA'), ('CHACARILLAS', 'LICANTEN'), ('CHACARILLAS', 'CHANCO'), ('CHACARILLAS', 'PENCAHUE'), ('CHACARILLAS', 'HUILQUILEMU'), ('CHACARILLAS', 'VILLA ALEGRE'), ('CHACARILLAS', 'VILLA LOS NICHES'), ('CHACARILLAS', 'LAGO VICHUQUEN'), ('CHACARILLAS', 'SARMIENTO'), ('CHACARILLAS', 'PARRAL'), ('CHACARILLAS', 'COLBUN'), ('CHACARILLAS', 'LONGAVI'), ('CHACARILLAS', 'PELARCO'), ('MAULE', 'BOBADILLA'), ('MAULE', 'ILOCA'), ('MAULE', 'PANGUILEMO'), ('MAULE', 'SAN RAFAEL'), ('MAULE', 'SAN ALBERTO'), ('MAULE', 'SANTA OLGA'), ('MAULE', 'PELLUHUE'), ('MAULE', 'YERBAS BUENAS'), ('MAULE', 'LINARES'), ('MAULE', 'LOS PELLINES'), ('MAULE', 'COPIHUE'), ('MAULE', 'PANIMAVIDA'), ('MAULE', 'SAGRADA  FAMILIA'), ('MAULE', 'TENO'), ('MAULE', 'EMPEDRADO'), ('MAULE', 'CONSTITUCION'), ('MAULE', 'LAS OBRAS'), ('MAULE', 'CUMPEO'), ('MAULE', 'VARA GRUESA'), ('MAULE', 'CAUQUENES'), ('MAULE', 'ROMERAL'), ('MAULE', 'HUALAE'), ('MAULE', 'CUREPTO'), ('MAULE', 'ITAHUE UNO'), ('MAULE', 'CURICO'), ('MAULE', 'VILLA PRAT'), ('MAULE', 'SAN CLEMENTE'), ('MAULE', 'QUILICURA'), ('MAULE', 'RETIRO'), ('MAULE', 'SAN JAVIER'), ('MAULE', 'RAUCO'), ('MAULE', 'LLICO'), ('MAULE', 'MOLINA'), ('MAULE', 'LICANTEN'), ('MAULE', 'CHANCO'), ('MAULE', 'PENCAHUE'), ('MAULE', 'HUILQUILEMU'), ('MAULE', 'VILLA ALEGRE'), ('MAULE', 'VILLA LOS NICHES'), ('MAULE', 'LAGO VICHUQUEN'), ('MAULE', 'SARMIENTO'), ('MAULE', 'PARRAL'), ('MAULE', 'COLBUN'), ('MAULE', 'LONGAVI'), ('MAULE', 'PELARCO'), ('BOBADILLA', 'ILOCA'), ('BOBADILLA', 'PANGUILEMO'), ('BOBADILLA', 'SAN RAFAEL'), ('BOBADILLA', 'SAN ALBERTO'), ('BOBADILLA', 'SANTA OLGA'), ('BOBADILLA', 'PELLUHUE'), ('BOBADILLA', 'YERBAS BUENAS'), ('BOBADILLA', 'LINARES'), ('BOBADILLA', 'LOS PELLINES'), ('BOBADILLA', 'COPIHUE'), ('BOBADILLA', 'PANIMAVIDA'), ('BOBADILLA', 'SAGRADA  FAMILIA'), ('BOBADILLA', 'TENO'), ('BOBADILLA', 'EMPEDRADO'), ('BOBADILLA', 'CONSTITUCION'), ('BOBADILLA', 'LAS OBRAS'), ('BOBADILLA', 'CUMPEO'), ('BOBADILLA', 'VARA GRUESA'), ('BOBADILLA', 'CAUQUENES'), ('BOBADILLA', 'ROMERAL'), ('BOBADILLA', 'HUALAE'), ('BOBADILLA', 'CUREPTO'), ('BOBADILLA', 'ITAHUE UNO'), ('BOBADILLA', 'CURICO'), ('BOBADILLA', 'VILLA PRAT'), ('BOBADILLA', 'SAN CLEMENTE'), ('BOBADILLA', 'QUILICURA'), ('BOBADILLA', 'RETIRO'), ('BOBADILLA', 'SAN JAVIER'), ('BOBADILLA', 'RAUCO'), ('BOBADILLA', 'LLICO'), ('BOBADILLA', 'MOLINA'), ('BOBADILLA', 'LICANTEN'), ('BOBADILLA', 'CHANCO'), ('BOBADILLA', 'PENCAHUE'), ('BOBADILLA', 'HUILQUILEMU'), ('BOBADILLA', 'VILLA ALEGRE'), ('BOBADILLA', 'VILLA LOS NICHES'), ('BOBADILLA', 'LAGO VICHUQUEN'), ('BOBADILLA', 'SARMIENTO'), ('BOBADILLA', 'PARRAL'), ('BOBADILLA', 'COLBUN'), ('BOBADILLA', 'LONGAVI'), ('BOBADILLA', 'PELARCO'), ('SAN JAVIER', 'ILOCA'), ('SAN JAVIER', 'PANGUILEMO'), ('SAN JAVIER', 'SAN RAFAEL'), ('SAN JAVIER', 'SAN ALBERTO'), ('SAN JAVIER', 'SANTA OLGA'), ('SAN JAVIER', 'PELLUHUE'), ('SAN JAVIER', 'YERBAS BUENAS'), ('SAN JAVIER', 'LINARES'), ('SAN JAVIER', 'LOS PELLINES'), ('SAN JAVIER', 'COPIHUE'), ('SAN JAVIER', 'PANIMAVIDA'), ('SAN JAVIER', 'SAGRADA  FAMILIA'), ('SAN JAVIER', 'TENO'), ('SAN JAVIER', 'EMPEDRADO'), ('SAN JAVIER', 'CONSTITUCION'), ('SAN JAVIER', 'LAS OBRAS'), ('SAN JAVIER', 'CUMPEO'), ('SAN JAVIER', 'VARA GRUESA'), ('SAN JAVIER', 'CAUQUENES'), ('SAN JAVIER', 'ROMERAL'), ('SAN JAVIER', 'HUALAE'), ('SAN JAVIER', 'CUREPTO'), ('SAN JAVIER', 'ITAHUE UNO'), ('SAN JAVIER', 'CURICO'), ('SAN JAVIER', 'VILLA PRAT'), ('SAN JAVIER', 'SAN CLEMENTE'), ('SAN JAVIER', 'QUILICURA'), ('SAN JAVIER', 'RETIRO'), ('SAN JAVIER', 'RAUCO'), ('SAN JAVIER', 'LLICO'), ('SAN JAVIER', 'MOLINA'), ('SAN JAVIER', 'LICANTEN'), ('SAN JAVIER', 'CHANCO'), ('SAN JAVIER', 'PENCAHUE'), ('SAN JAVIER', 'HUILQUILEMU'), ('SAN JAVIER', 'VILLA ALEGRE'), ('SAN JAVIER', 'VILLA LOS NICHES'), ('SAN JAVIER', 'LAGO VICHUQUEN'), ('SAN JAVIER', 'SARMIENTO'), ('SAN JAVIER', 'PARRAL'), ('SAN JAVIER', 'COLBUN'), ('SAN JAVIER', 'LONGAVI'), ('SAN JAVIER', 'PELARCO'), ('HUILQUILEMU', 'ILOCA'), ('HUILQUILEMU', 'PANGUILEMO'), ('HUILQUILEMU', 'SAN RAFAEL'), ('HUILQUILEMU', 'SAN ALBERTO'), ('HUILQUILEMU', 'SANTA OLGA'), ('HUILQUILEMU', 'PELLUHUE'), ('HUILQUILEMU', 'YERBAS BUENAS'), ('HUILQUILEMU', 'LINARES'), ('HUILQUILEMU', 'LOS PELLINES'), ('HUILQUILEMU', 'COPIHUE'), ('HUILQUILEMU', 'PANIMAVIDA'), ('HUILQUILEMU', 'SAGRADA  FAMILIA'), ('HUILQUILEMU', 'TENO'), ('HUILQUILEMU', 'EMPEDRADO'), ('HUILQUILEMU', 'CONSTITUCION'), ('HUILQUILEMU', 'LAS OBRAS'), ('HUILQUILEMU', 'CUMPEO'), ('HUILQUILEMU', 'VARA GRUESA'), ('HUILQUILEMU', 'CAUQUENES'), ('HUILQUILEMU', 'ROMERAL'), ('HUILQUILEMU', 'HUALAE'), ('HUILQUILEMU', 'CUREPTO'), ('HUILQUILEMU', 'ITAHUE UNO'), ('HUILQUILEMU', 'CURICO'), ('HUILQUILEMU', 'VILLA PRAT'), ('HUILQUILEMU', 'SAN CLEMENTE'), ('HUILQUILEMU', 'QUILICURA'), ('HUILQUILEMU', 'RETIRO'), ('HUILQUILEMU', 'RAUCO'), ('HUILQUILEMU', 'LLICO'), ('HUILQUILEMU', 'MOLINA'), ('HUILQUILEMU', 'LICANTEN'), ('HUILQUILEMU', 'CHANCO'), ('HUILQUILEMU', 'PENCAHUE'), ('HUILQUILEMU', 'VILLA ALEGRE'), ('HUILQUILEMU', 'VILLA LOS NICHES'), ('HUILQUILEMU', 'LAGO VICHUQUEN'), ('HUILQUILEMU', 'SARMIENTO'), ('HUILQUILEMU', 'PARRAL'), ('HUILQUILEMU', 'COLBUN'), ('HUILQUILEMU', 'LONGAVI'), ('HUILQUILEMU', 'PELARCO'), ('VILLA ALEGRE', 'ILOCA'), ('VILLA ALEGRE', 'PANGUILEMO'), ('VILLA ALEGRE', 'SAN RAFAEL'), ('VILLA ALEGRE', 'SAN ALBERTO'), ('VILLA ALEGRE', 'SANTA OLGA'), ('VILLA ALEGRE', 'PELLUHUE'), ('VILLA ALEGRE', 'YERBAS BUENAS'), ('VILLA ALEGRE', 'LINARES'), ('VILLA ALEGRE', 'LOS PELLINES'), ('VILLA ALEGRE', 'COPIHUE'), ('VILLA ALEGRE', 'PANIMAVIDA'), ('VILLA ALEGRE', 'SAGRADA  FAMILIA'), ('VILLA ALEGRE', 'TENO'), ('VILLA ALEGRE', 'EMPEDRADO'), ('VILLA ALEGRE', 'CONSTITUCION'), ('VILLA ALEGRE', 'LAS OBRAS'), ('VILLA ALEGRE', 'CUMPEO'), ('VILLA ALEGRE', 'VARA GRUESA'), ('VILLA ALEGRE', 'CAUQUENES'), ('VILLA ALEGRE', 'ROMERAL'), ('VILLA ALEGRE', 'HUALAE'), ('VILLA ALEGRE', 'CUREPTO'), ('VILLA ALEGRE', 'ITAHUE UNO'), ('VILLA ALEGRE', 'CURICO'), ('VILLA ALEGRE', 'VILLA PRAT'), ('VILLA ALEGRE', 'SAN CLEMENTE'), ('VILLA ALEGRE', 'QUILICURA'), ('VILLA ALEGRE', 'RETIRO'), ('VILLA ALEGRE', 'RAUCO'), ('VILLA ALEGRE', 'LLICO'), ('VILLA ALEGRE', 'MOLINA'), ('VILLA ALEGRE', 'LICANTEN'), ('VILLA ALEGRE', 'CHANCO'), ('VILLA ALEGRE', 'PENCAHUE'), ('VILLA ALEGRE', 'VILLA LOS NICHES'), ('VILLA ALEGRE', 'LAGO VICHUQUEN'), ('VILLA ALEGRE', 'SARMIENTO'), ('VILLA ALEGRE', 'PARRAL'), ('VILLA ALEGRE', 'COLBUN'), ('VILLA ALEGRE', 'LONGAVI'), ('VILLA ALEGRE', 'PELARCO'), ('PANGUILEMO', 'ILOCA'), ('PANGUILEMO', 'SAN RAFAEL'), ('PANGUILEMO', 'SAN ALBERTO'), ('PANGUILEMO', 'SANTA OLGA'), ('PANGUILEMO', 'PELLUHUE'), ('PANGUILEMO', 'YERBAS BUENAS'), ('PANGUILEMO', 'LINARES'), ('PANGUILEMO', 'LOS PELLINES'), ('PANGUILEMO', 'COPIHUE'), ('PANGUILEMO', 'PANIMAVIDA'), ('PANGUILEMO', 'SAGRADA  FAMILIA'), ('PANGUILEMO', 'TENO'), ('PANGUILEMO', 'EMPEDRADO'), ('PANGUILEMO', 'CONSTITUCION'), ('PANGUILEMO', 'LAS OBRAS'), ('PANGUILEMO', 'CUMPEO'), ('PANGUILEMO', 'VARA GRUESA'), ('PANGUILEMO', 'CAUQUENES'), ('PANGUILEMO', 'ROMERAL'), ('PANGUILEMO', 'HUALAE'), ('PANGUILEMO', 'CUREPTO'), ('PANGUILEMO', 'ITAHUE UNO'), ('PANGUILEMO', 'CURICO'), ('PANGUILEMO', 'VILLA PRAT'), ('PANGUILEMO', 'SAN CLEMENTE'), ('PANGUILEMO', 'QUILICURA'), ('PANGUILEMO', 'RETIRO'), ('PANGUILEMO', 'RAUCO'), ('PANGUILEMO', 'LLICO'), ('PANGUILEMO', 'MOLINA'), ('PANGUILEMO', 'LICANTEN'), ('PANGUILEMO', 'CHANCO'), ('PANGUILEMO', 'PENCAHUE'), ('PANGUILEMO', 'VILLA LOS NICHES'), ('PANGUILEMO', 'LAGO VICHUQUEN'), ('PANGUILEMO', 'SARMIENTO'), ('PANGUILEMO', 'PARRAL'), ('PANGUILEMO', 'COLBUN'), ('PANGUILEMO', 'LONGAVI'), ('PANGUILEMO', 'PELARCO'), ('SAN RAFAEL', 'ILOCA'), ('SAN RAFAEL', 'SAN ALBERTO'), ('SAN RAFAEL', 'SANTA OLGA'), ('SAN RAFAEL', 'PELLUHUE'), ('SAN RAFAEL', 'YERBAS BUENAS'), ('SAN RAFAEL', 'LINARES'), ('SAN RAFAEL', 'LOS PELLINES'), ('SAN RAFAEL', 'COPIHUE'), ('SAN RAFAEL', 'PANIMAVIDA'), ('SAN RAFAEL', 'SAGRADA  FAMILIA'), ('SAN RAFAEL', 'TENO'), ('SAN RAFAEL', 'EMPEDRADO'), ('SAN RAFAEL', 'CONSTITUCION'), ('SAN RAFAEL', 'LAS OBRAS'), ('SAN RAFAEL', 'CUMPEO'), ('SAN RAFAEL', 'VARA GRUESA'), ('SAN RAFAEL', 'CAUQUENES'), ('SAN RAFAEL', 'ROMERAL'), ('SAN RAFAEL', 'HUALAE'), ('SAN RAFAEL', 'CUREPTO'), ('SAN RAFAEL', 'ITAHUE UNO'), ('SAN RAFAEL', 'CURICO'), ('SAN RAFAEL', 'VILLA PRAT'), ('SAN RAFAEL', 'SAN CLEMENTE'), ('SAN RAFAEL', 'QUILICURA'), ('SAN RAFAEL', 'RETIRO'), ('SAN RAFAEL', 'RAUCO'), ('SAN RAFAEL', 'LLICO'), ('SAN RAFAEL', 'MOLINA'), ('SAN RAFAEL', 'LICANTEN'), ('SAN RAFAEL', 'CHANCO'), ('SAN RAFAEL', 'PENCAHUE'), ('SAN RAFAEL', 'VILLA LOS NICHES'), ('SAN RAFAEL', 'LAGO VICHUQUEN'), ('SAN RAFAEL', 'SARMIENTO'), ('SAN RAFAEL', 'PARRAL'), ('SAN RAFAEL', 'COLBUN'), ('SAN RAFAEL', 'LONGAVI'), ('SAN RAFAEL', 'PELARCO'), ('PELARCO', 'ILOCA'), ('PELARCO', 'SAN ALBERTO'), ('PELARCO', 'SANTA OLGA'), ('PELARCO', 'PELLUHUE'), ('PELARCO', 'YERBAS BUENAS'), ('PELARCO', 'LINARES'), ('PELARCO', 'LOS PELLINES'), ('PELARCO', 'COPIHUE'), ('PELARCO', 'PANIMAVIDA'), ('PELARCO', 'SAGRADA  FAMILIA'), ('PELARCO', 'TENO'), ('PELARCO', 'EMPEDRADO'), ('PELARCO', 'CONSTITUCION'), ('PELARCO', 'LAS OBRAS'), ('PELARCO', 'CUMPEO'), ('PELARCO', 'VARA GRUESA'), ('PELARCO', 'CAUQUENES'), ('PELARCO', 'ROMERAL'), ('PELARCO', 'HUALAE'), ('PELARCO', 'CUREPTO'), ('PELARCO', 'ITAHUE UNO'), ('PELARCO', 'CURICO'), ('PELARCO', 'VILLA PRAT'), ('PELARCO', 'SAN CLEMENTE'), ('PELARCO', 'QUILICURA'), ('PELARCO', 'RETIRO'), ('PELARCO', 'RAUCO'), ('PELARCO', 'LLICO'), ('PELARCO', 'MOLINA'), ('PELARCO', 'LICANTEN'), ('PELARCO', 'CHANCO'), ('PELARCO', 'PENCAHUE'), ('PELARCO', 'VILLA LOS NICHES'), ('PELARCO', 'LAGO VICHUQUEN'), ('PELARCO', 'SARMIENTO'), ('PELARCO', 'PARRAL'), ('PELARCO', 'COLBUN'), ('PELARCO', 'LONGAVI'), ('PENCAHUE', 'ILOCA'), ('PENCAHUE', 'SAN ALBERTO'), ('PENCAHUE', 'SANTA OLGA'), ('PENCAHUE', 'PELLUHUE'), ('PENCAHUE', 'YERBAS BUENAS'), ('PENCAHUE', 'LINARES'), ('PENCAHUE', 'LOS PELLINES'), ('PENCAHUE', 'COPIHUE'), ('PENCAHUE', 'PANIMAVIDA'), ('PENCAHUE', 'SAGRADA  FAMILIA'), ('PENCAHUE', 'TENO'), ('PENCAHUE', 'EMPEDRADO'), ('PENCAHUE', 'CONSTITUCION'), ('PENCAHUE', 'LAS OBRAS'), ('PENCAHUE', 'CUMPEO'), ('PENCAHUE', 'VARA GRUESA'), ('PENCAHUE', 'CAUQUENES'), ('PENCAHUE', 'ROMERAL'), ('PENCAHUE', 'HUALAE'), ('PENCAHUE', 'CUREPTO'), ('PENCAHUE', 'ITAHUE UNO'), ('PENCAHUE', 'CURICO'), ('PENCAHUE', 'VILLA PRAT'), ('PENCAHUE', 'SAN CLEMENTE'), ('PENCAHUE', 'QUILICURA'), ('PENCAHUE', 'RETIRO'), ('PENCAHUE', 'RAUCO'), ('PENCAHUE', 'LLICO'), ('PENCAHUE', 'MOLINA'), ('PENCAHUE', 'LICANTEN'), ('PENCAHUE', 'CHANCO'), ('PENCAHUE', 'VILLA LOS NICHES'), ('PENCAHUE', 'LAGO VICHUQUEN'), ('PENCAHUE', 'SARMIENTO'), ('PENCAHUE', 'PARRAL'), ('PENCAHUE', 'COLBUN'), ('PENCAHUE', 'LONGAVI'), ('SAN CLEMENTE', 'ILOCA'), ('SAN CLEMENTE', 'SAN ALBERTO'), ('SAN CLEMENTE', 'SANTA OLGA'), ('SAN CLEMENTE', 'PELLUHUE'), ('SAN CLEMENTE', 'YERBAS BUENAS'), ('SAN CLEMENTE', 'LINARES'), ('SAN CLEMENTE', 'LOS PELLINES'), ('SAN CLEMENTE', 'COPIHUE'), ('SAN CLEMENTE', 'PANIMAVIDA'), ('SAN CLEMENTE', 'SAGRADA  FAMILIA'), ('SAN CLEMENTE', 'TENO'), ('SAN CLEMENTE', 'EMPEDRADO'), ('SAN CLEMENTE', 'CONSTITUCION'), ('SAN CLEMENTE', 'LAS OBRAS'), ('SAN CLEMENTE', 'CUMPEO'), ('SAN CLEMENTE', 'VARA GRUESA'), ('SAN CLEMENTE', 'CAUQUENES'), ('SAN CLEMENTE', 'ROMERAL'), ('SAN CLEMENTE', 'HUALAE'), ('SAN CLEMENTE', 'CUREPTO'), ('SAN CLEMENTE', 'ITAHUE UNO'), ('SAN CLEMENTE', 'CURICO'), ('SAN CLEMENTE', 'VILLA PRAT'), ('SAN CLEMENTE', 'QUILICURA'), ('SAN CLEMENTE', 'RETIRO'), ('SAN CLEMENTE', 'RAUCO'), ('SAN CLEMENTE', 'LLICO'), ('SAN CLEMENTE', 'MOLINA'), ('SAN CLEMENTE', 'LICANTEN'), ('SAN CLEMENTE', 'CHANCO'), ('SAN CLEMENTE', 'VILLA LOS NICHES'), ('SAN CLEMENTE', 'LAGO VICHUQUEN'), ('SAN CLEMENTE', 'SARMIENTO'), ('SAN CLEMENTE', 'PARRAL'), ('SAN CLEMENTE', 'COLBUN'), ('SAN CLEMENTE', 'LONGAVI'), ('YERBAS BUENAS', 'ILOCA'), ('YERBAS BUENAS', 'SAN ALBERTO'), ('YERBAS BUENAS', 'SANTA OLGA'), ('YERBAS BUENAS', 'PELLUHUE'), ('YERBAS BUENAS', 'LINARES'), ('YERBAS BUENAS', 'LOS PELLINES'), ('YERBAS BUENAS', 'COPIHUE'), ('YERBAS BUENAS', 'PANIMAVIDA'), ('YERBAS BUENAS', 'SAGRADA  FAMILIA'), ('YERBAS BUENAS', 'TENO'), ('YERBAS BUENAS', 'EMPEDRADO'), ('YERBAS BUENAS', 'CONSTITUCION'), ('YERBAS BUENAS', 'LAS OBRAS'), ('YERBAS BUENAS', 'CUMPEO'), ('YERBAS BUENAS', 'VARA GRUESA'), ('YERBAS BUENAS', 'CAUQUENES'), ('YERBAS BUENAS', 'ROMERAL'), ('YERBAS BUENAS', 'HUALAE'), ('YERBAS BUENAS', 'CUREPTO'), ('YERBAS BUENAS', 'ITAHUE UNO'), ('YERBAS BUENAS', 'CURICO'), ('YERBAS BUENAS', 'VILLA PRAT'), ('YERBAS BUENAS', 'QUILICURA'), ('YERBAS BUENAS', 'RETIRO'), ('YERBAS BUENAS', 'RAUCO'), ('YERBAS BUENAS', 'LLICO'), ('YERBAS BUENAS', 'MOLINA'), ('YERBAS BUENAS', 'LICANTEN'), ('YERBAS BUENAS', 'CHANCO'), ('YERBAS BUENAS', 'VILLA LOS NICHES'), ('YERBAS BUENAS', 'LAGO VICHUQUEN'), ('YERBAS BUENAS', 'SARMIENTO'), ('YERBAS BUENAS', 'PARRAL'), ('YERBAS BUENAS', 'COLBUN'), ('YERBAS BUENAS', 'LONGAVI'), ('LINARES', 'ILOCA'), ('LINARES', 'SAN ALBERTO'), ('LINARES', 'SANTA OLGA'), ('LINARES', 'PELLUHUE'), ('LINARES', 'LOS PELLINES'), ('LINARES', 'COPIHUE'), ('LINARES', 'PANIMAVIDA'), ('LINARES', 'SAGRADA  FAMILIA'), ('LINARES', 'TENO'), ('LINARES', 'EMPEDRADO'), ('LINARES', 'CONSTITUCION'), ('LINARES', 'LAS OBRAS'), ('LINARES', 'CUMPEO'), ('LINARES', 'VARA GRUESA'), ('LINARES', 'CAUQUENES'), ('LINARES', 'ROMERAL'), ('LINARES', 'HUALAE'), ('LINARES', 'CUREPTO'), ('LINARES', 'ITAHUE UNO'), ('LINARES', 'CURICO'), ('LINARES', 'VILLA PRAT'), ('LINARES', 'QUILICURA'), ('LINARES', 'RETIRO'), ('LINARES', 'RAUCO'), ('LINARES', 'LLICO'), ('LINARES', 'MOLINA'), ('LINARES', 'LICANTEN'), ('LINARES', 'CHANCO'), ('LINARES', 'VILLA LOS NICHES'), ('LINARES', 'LAGO VICHUQUEN'), ('LINARES', 'SARMIENTO'), ('LINARES', 'PARRAL'), ('LINARES', 'COLBUN'), ('LINARES', 'LONGAVI'), ('VARA GRUESA', 'ILOCA'), ('VARA GRUESA', 'SAN ALBERTO'), ('VARA GRUESA', 'SANTA OLGA'), ('VARA GRUESA', 'PELLUHUE'), ('VARA GRUESA', 'LOS PELLINES'), ('VARA GRUESA', 'COPIHUE'), ('VARA GRUESA', 'PANIMAVIDA'), ('VARA GRUESA', 'SAGRADA  FAMILIA'), ('VARA GRUESA', 'TENO'), ('VARA GRUESA', 'EMPEDRADO'), ('VARA GRUESA', 'CONSTITUCION'), ('VARA GRUESA', 'LAS OBRAS'), ('VARA GRUESA', 'CUMPEO'), ('VARA GRUESA', 'CAUQUENES'), ('VARA GRUESA', 'ROMERAL'), ('VARA GRUESA', 'HUALAE'), ('VARA GRUESA', 'CUREPTO'), ('VARA GRUESA', 'ITAHUE UNO'), ('VARA GRUESA', 'CURICO'), ('VARA GRUESA', 'VILLA PRAT'), ('VARA GRUESA', 'QUILICURA'), ('VARA GRUESA', 'RETIRO'), ('VARA GRUESA', 'RAUCO'), ('VARA GRUESA', 'LLICO'), ('VARA GRUESA', 'MOLINA'), ('VARA GRUESA', 'LICANTEN'), ('VARA GRUESA', 'CHANCO'), ('VARA GRUESA', 'VILLA LOS NICHES'), ('VARA GRUESA', 'LAGO VICHUQUEN'), ('VARA GRUESA', 'SARMIENTO'), ('VARA GRUESA', 'PARRAL'), ('VARA GRUESA', 'COLBUN'), ('VARA GRUESA', 'LONGAVI'), ('LAS OBRAS', 'ILOCA'), ('LAS OBRAS', 'SAN ALBERTO'), ('LAS OBRAS', 'SANTA OLGA'), ('LAS OBRAS', 'PELLUHUE'), ('LAS OBRAS', 'LOS PELLINES'), ('LAS OBRAS', 'COPIHUE'), ('LAS OBRAS', 'PANIMAVIDA'), ('LAS OBRAS', 'SAGRADA  FAMILIA'), ('LAS OBRAS', 'TENO'), ('LAS OBRAS', 'EMPEDRADO'), ('LAS OBRAS', 'CONSTITUCION'), ('LAS OBRAS', 'CUMPEO'), ('LAS OBRAS', 'CAUQUENES'), ('LAS OBRAS', 'ROMERAL'), ('LAS OBRAS', 'HUALAE'), ('LAS OBRAS', 'CUREPTO'), ('LAS OBRAS', 'ITAHUE UNO'), ('LAS OBRAS', 'CURICO'), ('LAS OBRAS', 'VILLA PRAT'), ('LAS OBRAS', 'QUILICURA'), ('LAS OBRAS', 'RETIRO'), ('LAS OBRAS', 'RAUCO'), ('LAS OBRAS', 'LLICO'), ('LAS OBRAS', 'MOLINA'), ('LAS OBRAS', 'LICANTEN'), ('LAS OBRAS', 'CHANCO'), ('LAS OBRAS', 'VILLA LOS NICHES'), ('LAS OBRAS', 'LAGO VICHUQUEN'), ('LAS OBRAS', 'SARMIENTO'), ('LAS OBRAS', 'PARRAL'), ('LAS OBRAS', 'COLBUN'), ('LAS OBRAS', 'LONGAVI'), ('PANIMAVIDA', 'ILOCA'), ('PANIMAVIDA', 'SAN ALBERTO'), ('PANIMAVIDA', 'SANTA OLGA'), ('PANIMAVIDA', 'PELLUHUE'), ('PANIMAVIDA', 'LOS PELLINES'), ('PANIMAVIDA', 'COPIHUE'), ('PANIMAVIDA', 'SAGRADA  FAMILIA'), ('PANIMAVIDA', 'TENO'), ('PANIMAVIDA', 'EMPEDRADO'), ('PANIMAVIDA', 'CONSTITUCION'), ('PANIMAVIDA', 'CUMPEO'), ('PANIMAVIDA', 'CAUQUENES'), ('PANIMAVIDA', 'ROMERAL'), ('PANIMAVIDA', 'HUALAE'), ('PANIMAVIDA', 'CUREPTO'), ('PANIMAVIDA', 'ITAHUE UNO'), ('PANIMAVIDA', 'CURICO'), ('PANIMAVIDA', 'VILLA PRAT'), ('PANIMAVIDA', 'QUILICURA'), ('PANIMAVIDA', 'RETIRO'), ('PANIMAVIDA', 'RAUCO'), ('PANIMAVIDA', 'LLICO'), ('PANIMAVIDA', 'MOLINA'), ('PANIMAVIDA', 'LICANTEN'), ('PANIMAVIDA', 'CHANCO'), ('PANIMAVIDA', 'VILLA LOS NICHES'), ('PANIMAVIDA', 'LAGO VICHUQUEN'), ('PANIMAVIDA', 'SARMIENTO'), ('PANIMAVIDA', 'PARRAL'), ('PANIMAVIDA', 'COLBUN'), ('PANIMAVIDA', 'LONGAVI'), ('COLBUN', 'ILOCA'), ('COLBUN', 'SAN ALBERTO'), ('COLBUN', 'SANTA OLGA'), ('COLBUN', 'PELLUHUE'), ('COLBUN', 'LOS PELLINES'), ('COLBUN', 'COPIHUE'), ('COLBUN', 'SAGRADA  FAMILIA'), ('COLBUN', 'TENO'), ('COLBUN', 'EMPEDRADO'), ('COLBUN', 'CONSTITUCION'), ('COLBUN', 'CUMPEO'), ('COLBUN', 'CAUQUENES'), ('COLBUN', 'ROMERAL'), ('COLBUN', 'HUALAE'), ('COLBUN', 'CUREPTO'), ('COLBUN', 'ITAHUE UNO'), ('COLBUN', 'CURICO'), ('COLBUN', 'VILLA PRAT'), ('COLBUN', 'QUILICURA'), ('COLBUN', 'RETIRO'), ('COLBUN', 'RAUCO'), ('COLBUN', 'LLICO'), ('COLBUN', 'MOLINA'), ('COLBUN', 'LICANTEN'), ('COLBUN', 'CHANCO'), ('COLBUN', 'VILLA LOS NICHES'), ('COLBUN', 'LAGO VICHUQUEN'), ('COLBUN', 'SARMIENTO'), ('COLBUN', 'PARRAL'), ('COLBUN', 'LONGAVI'), ('LONGAVI', 'ILOCA'), ('LONGAVI', 'SAN ALBERTO'), ('LONGAVI', 'SANTA OLGA'), ('LONGAVI', 'PELLUHUE'), ('LONGAVI', 'LOS PELLINES'), ('LONGAVI', 'COPIHUE'), ('LONGAVI', 'SAGRADA  FAMILIA'), ('LONGAVI', 'TENO'), ('LONGAVI', 'EMPEDRADO'), ('LONGAVI', 'CONSTITUCION'), ('LONGAVI', 'CUMPEO'), ('LONGAVI', 'CAUQUENES'), ('LONGAVI', 'ROMERAL'), ('LONGAVI', 'HUALAE'), ('LONGAVI', 'CUREPTO'), ('LONGAVI', 'ITAHUE UNO'), ('LONGAVI', 'CURICO'), ('LONGAVI', 'VILLA PRAT'), ('LONGAVI', 'QUILICURA'), ('LONGAVI', 'RETIRO'), ('LONGAVI', 'LLICO'), ('LONGAVI', 'MOLINA'), ('LONGAVI', 'LICANTEN'), ('LONGAVI', 'CHANCO'), ('LONGAVI', 'VILLA LOS NICHES'), ('LONGAVI', 'LAGO VICHUQUEN'), ('LONGAVI', 'SARMIENTO'), ('LONGAVI', 'PARRAL'), ('LONGAVI', 'RAUCO'), ('RETIRO', 'ILOCA'), ('RETIRO', 'SAN ALBERTO'), ('RETIRO', 'SANTA OLGA'), ('RETIRO', 'PELLUHUE'), ('RETIRO', 'LOS PELLINES'), ('RETIRO', 'COPIHUE'), ('RETIRO', 'SAGRADA  FAMILIA'), ('RETIRO', 'TENO'), ('RETIRO', 'EMPEDRADO'), ('RETIRO', 'CONSTITUCION'), ('RETIRO', 'CUMPEO'), ('RETIRO', 'CAUQUENES'), ('RETIRO', 'ROMERAL'), ('RETIRO', 'HUALAE'), ('RETIRO', 'CUREPTO'), ('RETIRO', 'ITAHUE UNO'), ('RETIRO', 'CURICO'), ('RETIRO', 'VILLA PRAT'), ('RETIRO', 'QUILICURA'), ('RETIRO', 'RAUCO'), ('RETIRO', 'LLICO'), ('RETIRO', 'MOLINA'), ('RETIRO', 'LICANTEN'), ('RETIRO', 'CHANCO'), ('RETIRO', 'VILLA LOS NICHES'), ('RETIRO', 'LAGO VICHUQUEN'), ('RETIRO', 'SARMIENTO'), ('RETIRO', 'PARRAL'), ('COPIHUE', 'ILOCA'), ('COPIHUE', 'SAN ALBERTO'), ('COPIHUE', 'SANTA OLGA'), ('COPIHUE', 'PELLUHUE'), ('COPIHUE', 'LOS PELLINES'), ('COPIHUE', 'SAGRADA  FAMILIA'), ('COPIHUE', 'TENO'), ('COPIHUE', 'EMPEDRADO'), ('COPIHUE', 'CONSTITUCION'), ('COPIHUE', 'CUMPEO'), ('COPIHUE', 'CAUQUENES'), ('COPIHUE', 'ROMERAL'), ('COPIHUE', 'HUALAE'), ('COPIHUE', 'CUREPTO'), ('COPIHUE', 'ITAHUE UNO'), ('COPIHUE', 'CURICO'), ('COPIHUE', 'VILLA PRAT'), ('COPIHUE', 'QUILICURA'), ('COPIHUE', 'RAUCO'), ('COPIHUE', 'LLICO'), ('COPIHUE', 'MOLINA'), ('COPIHUE', 'LICANTEN'), ('COPIHUE', 'CHANCO'), ('COPIHUE', 'VILLA LOS NICHES'), ('COPIHUE', 'LAGO VICHUQUEN'), ('COPIHUE', 'SARMIENTO'), ('COPIHUE', 'PARRAL'), ('PARRAL', 'ILOCA'), ('PARRAL', 'SAN ALBERTO'), ('PARRAL', 'SANTA OLGA'), ('PARRAL', 'PELLUHUE'), ('PARRAL', 'LOS PELLINES'), ('PARRAL', 'SAGRADA  FAMILIA'), ('PARRAL', 'TENO'), ('PARRAL', 'EMPEDRADO'), ('PARRAL', 'CONSTITUCION'), ('PARRAL', 'CUMPEO'), ('PARRAL', 'CAUQUENES'), ('PARRAL', 'ROMERAL'), ('PARRAL', 'HUALAE'), ('PARRAL', 'CUREPTO'), ('PARRAL', 'ITAHUE UNO'), ('PARRAL', 'CURICO'), ('PARRAL', 'VILLA PRAT'), ('PARRAL', 'QUILICURA'), ('PARRAL', 'RAUCO'), ('PARRAL', 'LLICO'), ('PARRAL', 'MOLINA'), ('PARRAL', 'LICANTEN'), ('PARRAL', 'CHANCO'), ('PARRAL', 'VILLA LOS NICHES'), ('PARRAL', 'LAGO VICHUQUEN'), ('PARRAL', 'SARMIENTO'), ('CUMPEO', 'ILOCA'), ('CUMPEO', 'SAN ALBERTO'), ('CUMPEO', 'SANTA OLGA'), ('CUMPEO', 'PELLUHUE'), ('CUMPEO', 'LOS PELLINES'), ('CUMPEO', 'SAGRADA  FAMILIA'), ('CUMPEO', 'TENO'), ('CUMPEO', 'EMPEDRADO'), ('CUMPEO', 'CONSTITUCION'), ('CUMPEO', 'CAUQUENES'), ('CUMPEO', 'ROMERAL'), ('CUMPEO', 'HUALAE'), ('CUMPEO', 'CUREPTO'), ('CUMPEO', 'ITAHUE UNO'), ('CUMPEO', 'CURICO'), ('CUMPEO', 'VILLA PRAT'), ('CUMPEO', 'QUILICURA'), ('CUMPEO', 'RAUCO'), ('CUMPEO', 'LLICO'), ('CUMPEO', 'MOLINA'), ('CUMPEO', 'LICANTEN'), ('CUMPEO', 'CHANCO'), ('CUMPEO', 'VILLA LOS NICHES'), ('CUMPEO', 'LAGO VICHUQUEN'), ('CUMPEO', 'SARMIENTO'), ('ITAHUE UNO', 'ILOCA'), ('ITAHUE UNO', 'SAN ALBERTO'), ('ITAHUE UNO', 'SANTA OLGA'), ('ITAHUE UNO', 'PELLUHUE'), ('ITAHUE UNO', 'LOS PELLINES'), ('ITAHUE UNO', 'SAGRADA  FAMILIA'), ('ITAHUE UNO', 'TENO'), ('ITAHUE UNO', 'EMPEDRADO'), ('ITAHUE UNO', 'CONSTITUCION'), ('ITAHUE UNO', 'CAUQUENES'), ('ITAHUE UNO', 'ROMERAL'), ('ITAHUE UNO', 'HUALAE'), ('ITAHUE UNO', 'CUREPTO'), ('ITAHUE UNO', 'CURICO'), ('ITAHUE UNO', 'VILLA PRAT'), ('ITAHUE UNO', 'QUILICURA'), ('ITAHUE UNO', 'RAUCO'), ('ITAHUE UNO', 'LLICO'), ('ITAHUE UNO', 'MOLINA'), ('ITAHUE UNO', 'LICANTEN'), ('ITAHUE UNO', 'CHANCO'), ('ITAHUE UNO', 'VILLA LOS NICHES'), ('ITAHUE UNO', 'LAGO VICHUQUEN'), ('ITAHUE UNO', 'SARMIENTO'), ('MOLINA', 'ILOCA'), ('MOLINA', 'SAN ALBERTO'), ('MOLINA', 'SANTA OLGA'), ('MOLINA', 'PELLUHUE'), ('MOLINA', 'LOS PELLINES'), ('MOLINA', 'SAGRADA  FAMILIA'), ('MOLINA', 'TENO'), ('MOLINA', 'EMPEDRADO'), ('MOLINA', 'CONSTITUCION'), ('MOLINA', 'CAUQUENES'), ('MOLINA', 'ROMERAL'), ('MOLINA', 'HUALAE'), ('MOLINA', 'CUREPTO'), ('MOLINA', 'CURICO'), ('MOLINA', 'VILLA PRAT'), ('MOLINA', 'QUILICURA'), ('MOLINA', 'RAUCO'), ('MOLINA', 'LLICO'), ('MOLINA', 'LICANTEN'), ('MOLINA', 'CHANCO'), ('MOLINA', 'VILLA LOS NICHES'), ('MOLINA', 'LAGO VICHUQUEN'), ('MOLINA', 'SARMIENTO'), ('SAGRADA  FAMILIA', 'ILOCA'), ('SAGRADA  FAMILIA', 'SAN ALBERTO'), ('SAGRADA  FAMILIA', 'SANTA OLGA'), ('SAGRADA  FAMILIA', 'PELLUHUE'), ('SAGRADA  FAMILIA', 'LOS PELLINES'), ('SAGRADA  FAMILIA', 'TENO'), ('SAGRADA  FAMILIA', 'EMPEDRADO'), ('SAGRADA  FAMILIA', 'CONSTITUCION'), ('SAGRADA  FAMILIA', 'CAUQUENES'), ('SAGRADA  FAMILIA', 'ROMERAL'), ('SAGRADA  FAMILIA', 'HUALAE'), ('SAGRADA  FAMILIA', 'CUREPTO'), ('SAGRADA  FAMILIA', 'CURICO'), ('SAGRADA  FAMILIA', 'VILLA PRAT'), ('SAGRADA  FAMILIA', 'QUILICURA'), ('SAGRADA  FAMILIA', 'RAUCO'), ('SAGRADA  FAMILIA', 'LLICO'), ('SAGRADA  FAMILIA', 'LICANTEN'), ('SAGRADA  FAMILIA', 'CHANCO'), ('SAGRADA  FAMILIA', 'VILLA LOS NICHES'), ('SAGRADA  FAMILIA', 'LAGO VICHUQUEN'), ('SAGRADA  FAMILIA', 'SARMIENTO'), ('VILLA LOS NICHES', 'ILOCA'), ('VILLA LOS NICHES', 'SAN ALBERTO'), ('VILLA LOS NICHES', 'SANTA OLGA'), ('VILLA LOS NICHES', 'PELLUHUE'), ('VILLA LOS NICHES', 'LOS PELLINES'), ('VILLA LOS NICHES', 'TENO'), ('VILLA LOS NICHES', 'EMPEDRADO'), ('VILLA LOS NICHES', 'CONSTITUCION'), ('VILLA LOS NICHES', 'CAUQUENES'), ('VILLA LOS NICHES', 'ROMERAL'), ('VILLA LOS NICHES', 'HUALAE'), ('VILLA LOS NICHES', 'CUREPTO'), ('VILLA LOS NICHES', 'CURICO'), ('VILLA LOS NICHES', 'VILLA PRAT'), ('VILLA LOS NICHES', 'QUILICURA'), ('VILLA LOS NICHES', 'RAUCO'), ('VILLA LOS NICHES', 'LLICO'), ('VILLA LOS NICHES', 'LICANTEN'), ('VILLA LOS NICHES', 'CHANCO'), ('VILLA LOS NICHES', 'LAGO VICHUQUEN'), ('VILLA LOS NICHES', 'SARMIENTO'), ('RAUCO', 'ILOCA'), ('RAUCO', 'SAN ALBERTO'), ('RAUCO', 'SANTA OLGA'), ('RAUCO', 'PELLUHUE'), ('RAUCO', 'LOS PELLINES'), ('RAUCO', 'TENO'), ('RAUCO', 'EMPEDRADO'), ('RAUCO', 'CONSTITUCION'), ('RAUCO', 'CAUQUENES'), ('RAUCO', 'ROMERAL'), ('RAUCO', 'HUALAE'), ('RAUCO', 'CUREPTO'), ('RAUCO', 'CURICO'), ('RAUCO', 'VILLA PRAT'), ('RAUCO', 'QUILICURA'), ('RAUCO', 'LLICO'), ('RAUCO', 'LICANTEN'), ('RAUCO', 'CHANCO'), ('RAUCO', 'LAGO VICHUQUEN'), ('RAUCO', 'SARMIENTO'), ('CURICO', 'ILOCA'), ('CURICO', 'SAN ALBERTO'), ('CURICO', 'SANTA OLGA'), ('CURICO', 'PELLUHUE'), ('CURICO', 'LOS PELLINES'), ('CURICO', 'TENO'), ('CURICO', 'EMPEDRADO'), ('CURICO', 'CONSTITUCION'), ('CURICO', 'CAUQUENES'), ('CURICO', 'ROMERAL'), ('CURICO', 'HUALAE'), ('CURICO', 'CUREPTO'), ('CURICO', 'VILLA PRAT'), ('CURICO', 'QUILICURA'), ('CURICO', 'LLICO'), ('CURICO', 'LICANTEN'), ('CURICO', 'CHANCO'), ('CURICO', 'LAGO VICHUQUEN'), ('CURICO', 'SARMIENTO'), ('SARMIENTO', 'ILOCA'), ('SARMIENTO', 'SAN ALBERTO'), ('SARMIENTO', 'SANTA OLGA'), ('SARMIENTO', 'PELLUHUE'), ('SARMIENTO', 'LOS PELLINES'), ('SARMIENTO', 'TENO'), ('SARMIENTO', 'EMPEDRADO'), ('SARMIENTO', 'CONSTITUCION'), ('SARMIENTO', 'CAUQUENES'), ('SARMIENTO', 'ROMERAL'), ('SARMIENTO', 'HUALAE'), ('SARMIENTO', 'CUREPTO'), ('SARMIENTO', 'VILLA PRAT'), ('SARMIENTO', 'QUILICURA'), ('SARMIENTO', 'LLICO'), ('SARMIENTO', 'LICANTEN'), ('SARMIENTO', 'CHANCO'), ('SARMIENTO', 'LAGO VICHUQUEN'), ('ROMERAL', 'ILOCA'), ('ROMERAL', 'SAN ALBERTO'), ('ROMERAL', 'SANTA OLGA'), ('ROMERAL', 'PELLUHUE'), ('ROMERAL', 'LOS PELLINES'), ('ROMERAL', 'TENO'), ('ROMERAL', 'EMPEDRADO'), ('ROMERAL', 'CONSTITUCION'), ('ROMERAL', 'CAUQUENES'), ('ROMERAL', 'HUALAE'), ('ROMERAL', 'CUREPTO'), ('ROMERAL', 'VILLA PRAT'), ('ROMERAL', 'QUILICURA'), ('ROMERAL', 'LLICO'), ('ROMERAL', 'LICANTEN'), ('ROMERAL', 'CHANCO'), ('ROMERAL', 'LAGO VICHUQUEN'), ('SAN ALBERTO', 'ILOCA'), ('SAN ALBERTO', 'SANTA OLGA'), ('SAN ALBERTO', 'PELLUHUE'), ('SAN ALBERTO', 'LOS PELLINES'), ('SAN ALBERTO', 'TENO'), ('SAN ALBERTO', 'EMPEDRADO'), ('SAN ALBERTO', 'CONSTITUCION'), ('SAN ALBERTO', 'CAUQUENES'), ('SAN ALBERTO', 'HUALAE'), ('SAN ALBERTO', 'CUREPTO'), ('SAN ALBERTO', 'VILLA PRAT'), ('SAN ALBERTO', 'QUILICURA'), ('SAN ALBERTO', 'LLICO'), ('SAN ALBERTO', 'LICANTEN'), ('SAN ALBERTO', 'CHANCO'), ('SAN ALBERTO', 'LAGO VICHUQUEN'), ('TENO', 'ILOCA'), ('TENO', 'SANTA OLGA'), ('TENO', 'PELLUHUE'), ('TENO', 'LOS PELLINES'), ('TENO', 'EMPEDRADO'), ('TENO', 'CONSTITUCION'), ('TENO', 'CAUQUENES'), ('TENO', 'HUALAE'), ('TENO', 'CUREPTO'), ('TENO', 'VILLA PRAT'), ('TENO', 'QUILICURA'), ('TENO', 'LLICO'), ('TENO', 'LICANTEN'), ('TENO', 'CHANCO'), ('TENO', 'LAGO VICHUQUEN'), ('VILLA PRAT', 'ILOCA'), ('VILLA PRAT', 'SANTA OLGA'), ('VILLA PRAT', 'PELLUHUE'), ('VILLA PRAT', 'LOS PELLINES'), ('VILLA PRAT', 'EMPEDRADO'), ('VILLA PRAT', 'CONSTITUCION'), ('VILLA PRAT', 'CAUQUENES'), ('VILLA PRAT', 'HUALAE'), ('VILLA PRAT', 'CUREPTO'), ('VILLA PRAT', 'QUILICURA'), ('VILLA PRAT', 'LLICO'), ('VILLA PRAT', 'LICANTEN'), ('VILLA PRAT', 'CHANCO'), ('VILLA PRAT', 'LAGO VICHUQUEN'), ('HUALAE', 'ILOCA'), ('HUALAE', 'SANTA OLGA'), ('HUALAE', 'PELLUHUE'), ('HUALAE', 'LOS PELLINES'), ('HUALAE', 'EMPEDRADO'), ('HUALAE', 'CONSTITUCION'), ('HUALAE', 'CAUQUENES'), ('HUALAE', 'CUREPTO'), ('HUALAE', 'QUILICURA'), ('HUALAE', 'LLICO'), ('HUALAE', 'LICANTEN'), ('HUALAE', 'CHANCO'), ('HUALAE', 'LAGO VICHUQUEN'), ('LICANTEN', 'ILOCA'), ('LICANTEN', 'SANTA OLGA'), ('LICANTEN', 'PELLUHUE'), ('LICANTEN', 'LOS PELLINES'), ('LICANTEN', 'EMPEDRADO'), ('LICANTEN', 'CONSTITUCION'), ('LICANTEN', 'CAUQUENES'), ('LICANTEN', 'CUREPTO'), ('LICANTEN', 'QUILICURA'), ('LICANTEN', 'LLICO'), ('LICANTEN', 'CHANCO'), ('LICANTEN', 'LAGO VICHUQUEN'), ('LAGO VICHUQUEN', 'ILOCA'), ('LAGO VICHUQUEN', 'SANTA OLGA'), ('LAGO VICHUQUEN', 'PELLUHUE'), ('LAGO VICHUQUEN', 'LOS PELLINES'), ('LAGO VICHUQUEN', 'EMPEDRADO'), ('LAGO VICHUQUEN', 'CONSTITUCION'), ('LAGO VICHUQUEN', 'CAUQUENES'), ('LAGO VICHUQUEN', 'CUREPTO'), ('LAGO VICHUQUEN', 'QUILICURA'), ('LAGO VICHUQUEN', 'LLICO'), ('LAGO VICHUQUEN', 'CHANCO'), ('CUREPTO', 'ILOCA'), ('CUREPTO', 'SANTA OLGA'), ('CUREPTO', 'PELLUHUE'), ('CUREPTO', 'LOS PELLINES'), ('CUREPTO', 'EMPEDRADO'), ('CUREPTO', 'CONSTITUCION'), ('CUREPTO', 'CAUQUENES'), ('CUREPTO', 'QUILICURA'), ('CUREPTO', 'LLICO'), ('CUREPTO', 'CHANCO'), ('LLICO', 'ILOCA'), ('LLICO', 'SANTA OLGA'), ('LLICO', 'PELLUHUE'), ('LLICO', 'LOS PELLINES'), ('LLICO', 'EMPEDRADO'), ('LLICO', 'CONSTITUCION'), ('LLICO', 'CAUQUENES'), ('LLICO', 'QUILICURA'), ('LLICO', 'CHANCO'), ('ILOCA', 'SANTA OLGA'), ('ILOCA', 'PELLUHUE'), ('ILOCA', 'LOS PELLINES'), ('ILOCA', 'EMPEDRADO'), ('ILOCA', 'CONSTITUCION'), ('ILOCA', 'CAUQUENES'), ('ILOCA', 'QUILICURA'), ('ILOCA', 'CHANCO'), ('CONSTITUCION', 'SANTA OLGA'), ('CONSTITUCION', 'PELLUHUE'), ('CONSTITUCION', 'LOS PELLINES'), ('CONSTITUCION', 'EMPEDRADO'), ('CONSTITUCION', 'CAUQUENES'), ('CONSTITUCION', 'QUILICURA'), ('CONSTITUCION', 'CHANCO'), ('SANTA OLGA', 'PELLUHUE'), ('SANTA OLGA', 'LOS PELLINES'), ('SANTA OLGA', 'EMPEDRADO'), ('SANTA OLGA', 'CAUQUENES'), ('SANTA OLGA', 'QUILICURA'), ('SANTA OLGA', 'CHANCO'), ('LOS PELLINES', 'PELLUHUE'), ('LOS PELLINES', 'EMPEDRADO'), ('LOS PELLINES', 'CAUQUENES'), ('LOS PELLINES', 'QUILICURA'), ('LOS PELLINES', 'CHANCO'), ('EMPEDRADO', 'PELLUHUE'), ('EMPEDRADO', 'CAUQUENES'), ('EMPEDRADO', 'QUILICURA'), ('EMPEDRADO', 'CHANCO'), ('CHANCO', 'PELLUHUE'), ('CHANCO', 'CAUQUENES'), ('CHANCO', 'QUILICURA'), ('PELLUHUE', 'CAUQUENES'), ('PELLUHUE', 'QUILICURA'), ('QUILICURA', 'CAUQUENES')], valor : 86.22539231120953\n"
     ]
    }
   ],
   "source": [
    "v=np.sum([G.edges[t]/1000 for t in T])\n",
    "print('Prim MST {0}, valor : {1}'.format(T,v))"
   ]
  },
  {
   "cell_type": "code",
   "execution_count": 71,
   "metadata": {},
   "outputs": [],
   "source": [
    "from heapq import heappush,heappop\n",
    "import numpy as np\n",
    "\n",
    "def dijkstra(G,start):\n",
    "    if start not in G.nodes:\n",
    "        return None\n",
    "    neighbors=G.adjacency_list()\n",
    "    path={}    \n",
    "    path.update({start:None})\n",
    "    distance={v:float('inf') for v in G.nodes}\n",
    "    distance.update({start:0})\n",
    "    frontier=[]\n",
    "    heappush(frontier,(0,start))\n",
    "    while frontier:\n",
    "        dist_u,u=heappop(frontier)\n",
    "        for v in neighbors[u]:\n",
    "            if (u,v) in G.edges:\n",
    "                dist_v=dist_u+G.edges[(u,v)]\n",
    "            else:\n",
    "                dist_v=dist_u+G.edges[(v,u)]\n",
    "            if dist_v<distance[v]:\n",
    "                path.update({v:u})\n",
    "                distance.update({v:dist_v})\n",
    "                heappush(frontier,(dist_v,v))\n",
    "    return path,distance\n",
    "\n",
    "def bellman_ford(G,start):\n",
    "    if start not in G.nodes:\n",
    "        return None\n",
    "    neighbors=G.adjacency_list()\n",
    "    path={}    \n",
    "    path.update({start:None})\n",
    "    distance={v:float('inf') for v in G.nodes}\n",
    "    distance.update({start:0})\n",
    "    for i in range(len(G.nodes)-1):\n",
    "        for (u,v) in G.edges.keys():\n",
    "            dist_v=distance[u]+G.edges[(u,v)]\n",
    "            if dist_v<distance[v]:\n",
    "                path.update({v:u})\n",
    "                distance.update({v:dist_v})\n",
    "    return path,distance\n",
    "\n",
    "def shortest_path(parent,end):\n",
    "    path=[end]\n",
    "    k=end\n",
    "    while k is not None:\n",
    "        path.append(parent[k])\n",
    "        k=parent[k]\n",
    "    return path[:-1][::-1]"
   ]
  },
  {
   "cell_type": "code",
   "execution_count": 76,
   "metadata": {},
   "outputs": [
    {
     "data": {
      "text/plain": [
       "{'BOBADILLA': 14.6733987287901,\n",
       " 'ILOCA': 72.0612665943251,\n",
       " 'MAULE': 10.2838732323179,\n",
       " 'PANGUILEMO': 9.40299297647628,\n",
       " 'SAN RAFAEL': 18.541658282592202,\n",
       " 'SAN ALBERTO': 73.0123646653764,\n",
       " 'SANTA OLGA': 60.9934379784309,\n",
       " 'PELLUHUE': 93.1308350629383,\n",
       " 'YERBAS BUENAS': 36.089277958508205,\n",
       " 'LINARES': 46.7383775762546,\n",
       " 'LOS PELLINES': 75.7286605369402,\n",
       " 'CHACARILLAS': 7.69467688645236,\n",
       " 'COPIHUE': 74.348724599669,\n",
       " 'PANIMAVIDA': 42.597775181348396,\n",
       " 'SAGRADA  FAMILIA': 56.1445083241888,\n",
       " 'TENO': 76.88345896944081,\n",
       " 'VILLA FRANCIA': 4.18524256034076,\n",
       " 'EMPEDRADO': 58.9185435336307,\n",
       " 'CONSTITUCION': 69.0230636402759,\n",
       " 'LAS OBRAS': 46.1694203108794,\n",
       " 'CUMPEO': 40.437676391059405,\n",
       " 'VARA GRUESA': 46.282716706855496,\n",
       " 'CAUQUENES': 84.0516544854612,\n",
       " 'ROMERAL': 71.04284047187781,\n",
       " 'HUALAE': 52.4348735670428,\n",
       " 'CUREPTO': 49.5316731597292,\n",
       " 'ITAHUE UNO': 42.7895007702316,\n",
       " 'CULENAR': 3.9649338381316803,\n",
       " 'CURICO': 63.301992296322,\n",
       " 'VILLA PRAT': 38.220389442237604,\n",
       " 'SAN CLEMENTE': 19.4528449628067,\n",
       " 'QUILICURA': 110.059632933847,\n",
       " 'RETIRO': 69.3822021567519,\n",
       " 'SAN JAVIER': 18.8703825366896,\n",
       " 'RAUCO': 64.4827625352275,\n",
       " 'LLICO': 83.5645695186394,\n",
       " 'MOLINA': 49.1900504371811,\n",
       " 'LICANTEN': 57.6861609486983,\n",
       " 'CHANCO': 86.0042096433158,\n",
       " 'PENCAHUE': 13.9353158235621,\n",
       " 'TALCA': 0,\n",
       " 'HUILQUILEMU': 9.026792209591079,\n",
       " 'VILLA ALEGRE': 27.915361775498898,\n",
       " 'VILLA LOS NICHES': 62.738458346503,\n",
       " 'LAGO VICHUQUEN': 68.1400771809724,\n",
       " 'SARMIENTO': 69.1002349425961,\n",
       " 'PARRAL': 80.60750600920339,\n",
       " 'COLBUN': 37.367303521863,\n",
       " 'LONGAVI': 59.3476620098004,\n",
       " 'PELARCO': 20.2598583574822}"
      ]
     },
     "execution_count": 76,
     "metadata": {},
     "output_type": "execute_result"
    }
   ],
   "source": [
    "distance"
   ]
  },
  {
   "cell_type": "code",
   "execution_count": 112,
   "metadata": {},
   "outputs": [],
   "source": [
    "import networkx as nx\n",
    "\n",
    "G=nx.read_graphml('data/talca_ciclovias.graphml')"
   ]
  },
  {
   "cell_type": "code",
   "execution_count": 113,
   "metadata": {},
   "outputs": [],
   "source": [
    "p=nx.shortest_path_length(G,source='688160768',weight='d16')"
   ]
  },
  {
   "cell_type": "code",
   "execution_count": 90,
   "metadata": {},
   "outputs": [],
   "source": [
    "import numpy as np\n",
    "from math import radians, cos, sin, asin, sqrt\n",
    "\n",
    "def haversine(lon1, lat1, lon2, lat2):\n",
    "    lon1, lat1, lon2, lat2 = map(radians, [lon1, lat1, lon2, lat2])\n",
    "    dlon = lon2 - lon1 \n",
    "    dlat = lat2 - lat1 \n",
    "    a = sin(dlat/2)**2 + cos(lat1) * cos(lat2) * sin(dlon/2)**2\n",
    "    c = 2 * asin(sqrt(a)) \n",
    "    r = 6371 # Radius of earth in kilometers. Use 3956 for miles\n",
    "    return c * r *1000\n",
    "\n",
    "def calcula_distancias(G,e):\n",
    "    p1=(float(G.nodes[e[0]]['x']),float(G.nodes[e[0]]['y']))\n",
    "    p2=(float(G.nodes[e[1]]['x']),float(G.nodes[e[1]]['y']))\n",
    "    return haversine(p1[0],p1[1],p2[0],p2[1])"
   ]
  },
  {
   "cell_type": "code",
   "execution_count": 92,
   "metadata": {},
   "outputs": [],
   "source": [
    "E=dict()\n",
    "for e in G.edges:\n",
    "    E.update({(e[0],e[1]):calcula_distancias(G,e)})"
   ]
  },
  {
   "cell_type": "code",
   "execution_count": 114,
   "metadata": {},
   "outputs": [
    {
     "data": {
      "text/plain": [
       "56.14489963097315"
      ]
     },
     "execution_count": 114,
     "metadata": {},
     "output_type": "execute_result"
    }
   ],
   "source": [
    "E[('1172866666','1172866665')]"
   ]
  },
  {
   "cell_type": "markdown",
   "metadata": {},
   "source": [
    "<code>\n",
    "\n",
    "<edge id=\"0\" source=\"1172866666\" target=\"1172866665\">\n",
    "  <data key=\"d16\">56.145</data>\n",
    "  <data key=\"d10\">2</data>\n",
    "  <data key=\"d22\">101575480</data>\n",
    "  <data key=\"d17\">False</data>\n",
    "  <data key=\"d21\">residential</data>\n",
    "  <data key=\"d11\">Calle 31½ Oriente A</data>\n",
    "</edge>\n",
    "</code>\n"
   ]
  },
  {
   "cell_type": "code",
   "execution_count": 97,
   "metadata": {},
   "outputs": [],
   "source": [
    "G_new=weighted_graph(E)"
   ]
  },
  {
   "cell_type": "code",
   "execution_count": 98,
   "metadata": {},
   "outputs": [
    {
     "data": {
      "text/plain": [
       "20046"
      ]
     },
     "execution_count": 98,
     "metadata": {},
     "output_type": "execute_result"
    }
   ],
   "source": [
    "len(G_new.edges)"
   ]
  },
  {
   "cell_type": "code",
   "execution_count": 107,
   "metadata": {},
   "outputs": [],
   "source": [
    "path,distance=dijkstra(G_new,'1172866666')"
   ]
  },
  {
   "cell_type": "code",
   "execution_count": 109,
   "metadata": {},
   "outputs": [
    {
     "data": {
      "text/plain": [
       "56.14489963097315"
      ]
     },
     "execution_count": 109,
     "metadata": {},
     "output_type": "execute_result"
    }
   ],
   "source": [
    "distance['1172866665']"
   ]
  },
  {
   "cell_type": "code",
   "execution_count": 111,
   "metadata": {},
   "outputs": [
    {
     "data": {
      "text/plain": [
       "61"
      ]
     },
     "execution_count": 111,
     "metadata": {},
     "output_type": "execute_result"
    }
   ],
   "source": [
    "p['1172866665']"
   ]
  },
  {
   "cell_type": "code",
   "execution_count": null,
   "metadata": {},
   "outputs": [],
   "source": []
  }
 ],
 "metadata": {
  "kernelspec": {
   "display_name": "Python 3",
   "language": "python",
   "name": "python3"
  },
  "language_info": {
   "codemirror_mode": {
    "name": "ipython",
    "version": 3
   },
   "file_extension": ".py",
   "mimetype": "text/x-python",
   "name": "python",
   "nbconvert_exporter": "python",
   "pygments_lexer": "ipython3",
   "version": "3.9.2"
  }
 },
 "nbformat": 4,
 "nbformat_minor": 2
}
