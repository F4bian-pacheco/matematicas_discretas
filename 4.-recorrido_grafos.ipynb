{
 "cells": [
  {
   "cell_type": "markdown",
   "metadata": {},
   "source": [
    "<h1>Recorrido de Grafos</h1>\n",
    "\n",
    "Dado un grafo ponderado $(G , w )$ donde $G = (V , E )$ y $w : E  \\mapsto \\mathbb R$, un\n",
    "arbol de expansión mı́nima es un arbol de expansión en el que la suma\n",
    "de los pesos w de las aristas es mı́nima.\n",
    "\n",
    "<h2>Algoritmo Prim</h2>\n",
    "\n",
    "El algoritmo de Prim construye un arbol visitando vértices de\n",
    "manera iterativa hasta que se obtiene un árbol de expansión mı́nima.Se comienza desde un vértice cualquiera y en cada iteración se agrega la arista que tenga el mı́nimo peso y no complete un ciclo.\n",
    "La complejidad computacional del algoritmo de Prim es $O(V \\operatorname{log} V)$.\n",
    "El siguiente pseudo-código implementa el algoritmo mediante una cola de prioridad:\n",
    "\n",
    "\n",
    "<img src=\"images/algoritmo_prim.png\" />\n",
    "\n",
    "<h2>Algoritmo Kruskal</h2>\n",
    "\n",
    "El algoritmo de Kruskal construye un arbol visitando aristas de\n",
    "manera iterativa hasta que se obtiene un árbol de expansión mı́nima.\n",
    "Se comienza desde un vértice cualquiera y en cada iteración se\n",
    "agrega la arista que tenga el mı́nimo peso y no complete un ciclo.\n",
    "La complejidad computacional del algoritmo de Kruskal es $O(E \\operatorname{log} E)$.\n",
    "\n",
    "\n",
    "<img src=\"images/algoritmo_kruskal.png\" />"
   ]
  },
  {
   "cell_type": "code",
   "execution_count": 6,
   "metadata": {},
   "outputs": [],
   "source": [
    "import numpy as np\n",
    "from heapq import heappush,heappop\n",
    "\n",
    "class abstract_graph:\n",
    "    \n",
    "    def __init__(self,_edges):\n",
    "        self.edges=_edges\n",
    "        self.nodes={u for u,v in self.edges} | {v for u,v in self.edges}\n",
    "        \n",
    "    def adjacency_matrix(self):\n",
    "        pass\n",
    "    \n",
    "    def adjacency_list(self):\n",
    "        pass\n",
    "\n",
    "    \n",
    "class simple_graph(abstract_graph):\n",
    "    \n",
    "    def adjacency_list(self):\n",
    "        adjacent=lambda n : {v for u,v in self.edges if u==n } | {u for u,v in self.edges if v==n}\n",
    "        return {v:adjacent(v) for v in self.nodes}\n",
    "    \n",
    "\n",
    "    \n",
    "class weighted_graph(abstract_graph):\n",
    "    \n",
    "    def __init__(self,_edges):\n",
    "        self.edges=_edges\n",
    "        self.nodes={u for u,v in self.edges.keys()} | {v for u,v in self.edges.keys()}\n",
    "        \n",
    "    def adjacency_matrix(self):\n",
    "        n=len(self.nodes)\n",
    "        mat=np.zeros((n,n))\n",
    "        adjacent=lambda x : [1 if x==v else 0 for (u,v) in enumerate(sorted(list(G.nodes))) ]\n",
    "        L=self.adjacency_list()\n",
    "        i=0\n",
    "        for v in sorted(list(G.nodes)):\n",
    "            for l in L[v]:\n",
    "                mat[i,]+=adjacent(l)\n",
    "            i=i+1\n",
    "        return mat\n",
    "    \n",
    "    def adjacency_list(self):\n",
    "        adjacent=lambda n : {v for u,v in self.edges.keys() if u==n } | {u for u,v in self.edges if v==n}\n",
    "        return {v:adjacent(v) for v in self.nodes}\n",
    "    \n",
    "    \n",
    "    \n",
    ""
   ]
  },
  {
   "cell_type": "code",
   "execution_count": 8,
   "metadata": {},
   "outputs": [],
   "source": [
    "def depth_first_search(graph,start):\n",
    "    stack, path = [start], []\n",
    "    adjacency=graph.adjacency_list()\n",
    "    while stack:\n",
    "        vertex = stack.pop()\n",
    "        if vertex in path:\n",
    "            continue\n",
    "        path.append(vertex)\n",
    "        for neighbor in adjacency[vertex]:\n",
    "            stack.append(neighbor)\n",
    "    return path"
   ]
  },
  {
   "cell_type": "code",
   "execution_count": 10,
   "metadata": {},
   "outputs": [
    {
     "output_type": "stream",
     "name": "stdout",
     "text": "nodos :  {'f', 'h', 'a', 'e', 'i', 'b', 'c', 'd', 'g'}\nmatriz adyacencia :  [[0. 1. 0. 0. 0. 0. 0. 1. 0.]\n [1. 0. 1. 0. 0. 0. 0. 1. 0.]\n [0. 1. 0. 1. 0. 1. 0. 0. 1.]\n [0. 0. 1. 0. 1. 1. 0. 0. 0.]\n [0. 0. 0. 1. 0. 1. 0. 0. 0.]\n [0. 0. 1. 1. 1. 0. 1. 0. 0.]\n [0. 0. 0. 0. 0. 1. 0. 1. 0.]\n [1. 1. 0. 0. 0. 0. 1. 0. 1.]\n [0. 0. 1. 0. 0. 0. 0. 1. 0.]]\nlista adyacencia :  {'f': {'g', 'd', 'c', 'e'}, 'h': {'i', 'g', 'b', 'a'}, 'a': {'b', 'h'}, 'e': {'f', 'd'}, 'i': {'h', 'c'}, 'b': {'c', 'h', 'a'}, 'c': {'f', 'd', 'i', 'b'}, 'd': {'f', 'c', 'e'}, 'g': {'f', 'h'}}\n"
    }
   ],
   "source": [
    "E={('a','b'):4,('a','h'):8,('b','h'):11,('b','c'):8,('c','d'):7,\n",
    "   ('h','i'):7,('i','c'):2,('h','g'):1,('g','f'):2,('c','f'):4,\n",
    "   ('d','e'):9,('d','f'):14,('f','e'):10}\n",
    "G=weighted_graph(E)\n",
    "print('nodos : ',G.nodes)\n",
    "print('matriz adyacencia : ',G.adjacency_matrix())\n",
    "print('lista adyacencia : ',G.adjacency_list())\n",
    ""
   ]
  },
  {
   "cell_type": "code",
   "execution_count": 12,
   "metadata": {},
   "outputs": [
    {
     "output_type": "stream",
     "name": "stdout",
     "text": "nodos :  {1, 2, 3, 4, 5, 6, 7}\n{1: {2, 3}, 2: {1, 4, 5}, 3: {1, 5}, 4: {2, 6}, 5: {2, 3, 6}, 6: {4, 5, 7}, 7: {6}}\n[1, 3, 5, 6, 7, 4, 2]\n"
    }
   ],
   "source": [
    "E={(1,2),(1,3),(2,4),(3,5),(2,5),(4,6),(5,6),(6,7)}\n",
    "G=simple_graph(E)\n",
    "print('nodos : ',G.nodes)\n",
    "print(G.adjacency_list())\n",
    "\n",
    "dfs_path=depth_first_search(G,1)\n",
    "print(dfs_path)"
   ]
  },
  {
   "cell_type": "markdown",
   "metadata": {},
   "source": [
    "<h2>Ejercicio</h2>\n",
    "\n",
    "Se desea construir un acueducto que una las ciudades de la region del Maule. El costo en distancia se encuentra en mm en un archivo csv."
   ]
  },
  {
   "cell_type": "code",
   "execution_count": 13,
   "metadata": {},
   "outputs": [
    {
     "output_type": "execute_result",
     "data": {
      "text/plain": "                                                 WKT InputID      TargetID  \\\n0  MULTIPOINT ((-71.661999 -35.432349),(-71.59687...   TALCA    PANGUILEMO   \n1  MULTIPOINT ((-71.661999 -35.432349),(-71.56431...   TALCA   HUILQUILEMU   \n2  MULTIPOINT ((-72.412391 -35.335426),(-71.66199...   TALCA  CONSTITUCION   \n3  MULTIPOINT ((-72.333641 -35.427048),(-71.66199...   TALCA    SANTA OLGA   \n4  MULTIPOINT ((-72.494926 -35.469452),(-71.66199...   TALCA  LOS PELLINES   \n\n       Distance  \n0   9402.992976  \n1   9026.792210  \n2  69023.063640  \n3  60993.437978  \n4  75728.660537  ",
      "text/html": "<div>\n<style scoped>\n    .dataframe tbody tr th:only-of-type {\n        vertical-align: middle;\n    }\n\n    .dataframe tbody tr th {\n        vertical-align: top;\n    }\n\n    .dataframe thead th {\n        text-align: right;\n    }\n</style>\n<table border=\"1\" class=\"dataframe\">\n  <thead>\n    <tr style=\"text-align: right;\">\n      <th></th>\n      <th>WKT</th>\n      <th>InputID</th>\n      <th>TargetID</th>\n      <th>Distance</th>\n    </tr>\n  </thead>\n  <tbody>\n    <tr>\n      <th>0</th>\n      <td>MULTIPOINT ((-71.661999 -35.432349),(-71.59687...</td>\n      <td>TALCA</td>\n      <td>PANGUILEMO</td>\n      <td>9402.992976</td>\n    </tr>\n    <tr>\n      <th>1</th>\n      <td>MULTIPOINT ((-71.661999 -35.432349),(-71.56431...</td>\n      <td>TALCA</td>\n      <td>HUILQUILEMU</td>\n      <td>9026.792210</td>\n    </tr>\n    <tr>\n      <th>2</th>\n      <td>MULTIPOINT ((-72.412391 -35.335426),(-71.66199...</td>\n      <td>TALCA</td>\n      <td>CONSTITUCION</td>\n      <td>69023.063640</td>\n    </tr>\n    <tr>\n      <th>3</th>\n      <td>MULTIPOINT ((-72.333641 -35.427048),(-71.66199...</td>\n      <td>TALCA</td>\n      <td>SANTA OLGA</td>\n      <td>60993.437978</td>\n    </tr>\n    <tr>\n      <th>4</th>\n      <td>MULTIPOINT ((-72.494926 -35.469452),(-71.66199...</td>\n      <td>TALCA</td>\n      <td>LOS PELLINES</td>\n      <td>75728.660537</td>\n    </tr>\n  </tbody>\n</table>\n</div>"
     },
     "metadata": {},
     "execution_count": 13
    }
   ],
   "source": [
    "import pandas as pd\n",
    "\n",
    "df=pd.read_csv('data/distancias_maule.csv', encoding = 'utf-8',dtype={'WKT':str,'InputID':str,'TargetID':str,'Distance':float}) \n",
    "\n",
    "df.loc[df['InputID']=='TALCA'].head()"
   ]
  },
  {
   "cell_type": "code",
   "execution_count": 14,
   "metadata": {},
   "outputs": [
    {
     "output_type": "execute_result",
     "data": {
      "text/plain": "array(['TALCA', 'PANGUILEMO', 'HUILQUILEMU', 'CONSTITUCION', 'SANTA OLGA',\n       'LOS PELLINES', 'CUREPTO', 'EMPEDRADO', 'MAULE', 'CULENAR',\n       'VILLA FRANCIA', 'CHACARILLAS', 'PELARCO', 'PENCAHUE', 'CUMPEO',\n       'SAN CLEMENTE', 'SAN RAFAEL', 'CAUQUENES', 'CHANCO', 'PELLUHUE',\n       'QUILICURA', 'CURICO', 'SARMIENTO', 'VILLA LOS NICHES',\n       'SAN ALBERTO', 'HUALAE', 'LICANTEN', 'ILOCA', 'MOLINA',\n       'ITAHUE UNO', 'RAUCO', 'ROMERAL', 'SAGRADA  FAMILIA', 'VILLA PRAT',\n       'TENO', 'LLICO', 'LAGO VICHUQUEN', 'LINARES', 'VARA GRUESA',\n       'LAS OBRAS', 'COLBUN', 'PANIMAVIDA', 'LONGAVI', 'PARRAL', 'RETIRO',\n       'COPIHUE', 'SAN JAVIER', 'BOBADILLA', 'VILLA ALEGRE',\n       'YERBAS BUENAS'], dtype=object)"
     },
     "metadata": {},
     "execution_count": 14
    }
   ],
   "source": [
    "df['WKT'] = df['WKT'].apply(lambda x: x.encode('ascii', 'ignore').decode('ascii'))\n",
    "df['InputID'] = df['InputID'].apply(lambda x: x.encode('ascii', 'ignore').decode('ascii'))\n",
    "df['TargetID'] = df['TargetID'].apply(lambda x: x.encode('ascii', 'ignore').decode('ascii'))\n",
    "df['InputID'].unique()"
   ]
  },
  {
   "cell_type": "code",
   "execution_count": 15,
   "metadata": {},
   "outputs": [],
   "source": [
    "E={}\n",
    "for index, row in df.iterrows():\n",
    "    E.update({(str(row['InputID']), str(row['TargetID'])):row['Distance']/1000})"
   ]
  },
  {
   "cell_type": "code",
   "execution_count": 16,
   "metadata": {},
   "outputs": [],
   "source": [
    "from matplotlib import pyplot\n",
    "from shapely.geometry import MultiPoint\n",
    "from shapely import wkt\n",
    "\n",
    "points=[]\n",
    "for index, row in df.iterrows():\n",
    "    points.append(wkt.loads(str(row['WKT'])))"
   ]
  }
 ],
 "metadata": {
  "kernelspec": {
   "display_name": "Python 3.7.7 64-bit ('venv': venv)",
   "language": "python",
   "name": "python37764bitvenvvenvc241e362255b4631a3caa756dfb14c87"
  },
  "language_info": {
   "codemirror_mode": {
    "name": "ipython",
    "version": 2
   },
   "file_extension": ".py",
   "mimetype": "text/x-python",
   "name": "python",
   "nbconvert_exporter": "python",
   "pygments_lexer": "ipython2",
   "version": "3.7.7-final"
  }
 },
 "nbformat": 4,
 "nbformat_minor": 2
}