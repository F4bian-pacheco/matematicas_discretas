{
 "cells": [
  {
   "cell_type": "markdown",
   "metadata": {},
   "source": [
    "<h1>Recorrido de Grafos</h1>\n",
    "\n",
    "Dado un grafo ponderado $(G , w )$ donde $G = (V , E )$ y $w : E  \\mapsto \\mathbb R$, un\n",
    "arbol de expansión mı́nima es un arbol de expansión en el que la suma\n",
    "de los pesos w de las aristas es mı́nima.\n",
    "\n",
    "<h2>Algoritmo Prim</h2>\n",
    "\n",
    "El algoritmo de Prim construye un arbol visitando vértices de\n",
    "manera iterativa hasta que se obtiene un árbol de expansión mı́nima.Se comienza desde un vértice cualquiera y en cada iteración se agrega la arista que tenga el mı́nimo peso y no complete un ciclo.\n",
    "La complejidad computacional del algoritmo de Prim es $O(V \\operatorname{log} V)$.\n",
    "El siguiente pseudo-código implementa el algoritmo mediante una cola de prioridad:\n",
    "\n",
    "\n",
    "<img src=\"images/algoritmo_prim.png\" />\n",
    "\n",
    "<h2>Algoritmo Kruskal</h2>\n",
    "\n",
    "El algoritmo de Kruskal construye un arbol visitando aristas de\n",
    "manera iterativa hasta que se obtiene un árbol de expansión mı́nima.\n",
    "Se comienza desde un vértice cualquiera y en cada iteración se\n",
    "agrega la arista que tenga el mı́nimo peso y no complete un ciclo.\n",
    "La complejidad computacional del algoritmo de Kruskal es $O(E \\operatorname{log} E)$.\n",
    "\n",
    "\n",
    "<img src=\"images/algoritmo_kruskal.png\" />"
   ]
  },
  {
   "cell_type": "code",
   "execution_count": 1,
   "metadata": {},
   "outputs": [],
   "source": [
    "import numpy as np\n",
    "from heapq import heappush,heappop\n",
    "\n",
    "class abstract_graph:\n",
    "    \n",
    "    def __init__(self,_edges):\n",
    "        self.edges=_edges\n",
    "        self.nodes={u for u,v in self.edges} | {v for u,v in self.edges}\n",
    "        \n",
    "    def adjacency_matrix(self):\n",
    "        pass\n",
    "    \n",
    "    def adjacency_list(self):\n",
    "        pass\n",
    "\n",
    "    \n",
    "class simple_graph(abstract_graph):\n",
    "    \n",
    "    def adjacency_list(self):\n",
    "        adjacent=lambda n : {v for u,v in self.edges if u==n } | {u for u,v in self.edges if v==n}\n",
    "        return {v:adjacent(v) for v in self.nodes}\n",
    "    \n",
    "\n",
    "    \n",
    "class weighted_graph(abstract_graph):\n",
    "    \n",
    "    def __init__(self,_edges):\n",
    "        self.edges=_edges\n",
    "        self.nodes={u for u,v in self.edges.keys()} | {v for u,v in self.edges.keys()}\n",
    "        \n",
    "    def adjacency_matrix(self):\n",
    "        n=len(self.nodes)\n",
    "        mat=np.zeros((n,n))\n",
    "        adjacent=lambda x : [1 if x==v else 0 for (u,v) in enumerate(sorted(list(G.nodes))) ]\n",
    "        L=self.adjacency_list()\n",
    "        i=0\n",
    "        for v in sorted(list(G.nodes)):\n",
    "            for l in L[v]:\n",
    "                mat[i,]+=adjacent(l)\n",
    "            i=i+1\n",
    "        return mat\n",
    "    \n",
    "    def adjacency_list(self):\n",
    "        adjacent=lambda n : {v for u,v in self.edges.keys() if u==n } | {u for u,v in self.edges.keys) if v==n}\n",
    "        return {v:adjacent(v) for v in self.nodes}\n",
    "    \n",
    "    \n",
    "    \n"
   ]
  },
  {
   "cell_type": "code",
   "execution_count": 2,
   "metadata": {},
   "outputs": [],
   "source": [
    "def depth_first_search(graph,start):\n",
    "    stack, path = [start], []\n",
    "    adjacency=graph.adjacency_list()\n",
    "    while stack:\n",
    "        vertex = stack.pop()\n",
    "        if vertex in path:\n",
    "            continue\n",
    "        path.append(vertex)\n",
    "        for neighbor in adjacency[vertex]:\n",
    "            stack.append(neighbor)\n",
    "    return path"
   ]
  },
  {
   "cell_type": "code",
   "execution_count": 3,
   "metadata": {},
   "outputs": [
    {
     "output_type": "stream",
     "name": "stdout",
     "text": [
      "Tarea : write spec, Prioridad 1\nTarea : create tests, Prioridad 3\nTarea : write code, Prioridad 5\nTarea : release product, Prioridad 7\n"
     ]
    }
   ],
   "source": [
    "import heapq\n",
    "\n",
    "h = []\n",
    "heappush(h, (5, 'write code'))\n",
    "heappush(h, (7, 'release product'))\n",
    "heappush(h, (1, 'write spec'))\n",
    "heappush(h, (3, 'create tests'))\n",
    "while h:\n",
    "    i,v=heappop(h)\n",
    "    print('Tarea : {0}, Prioridad {1}'.format(v,i))"
   ]
  },
  {
   "cell_type": "code",
   "execution_count": 4,
   "metadata": {},
   "outputs": [],
   "source": [
    "def prim_mst(graph,start):\n",
    "    pq, path = [], []\n",
    "    tree=[]\n",
    "    heappush(pq, (0, start))\n",
    "    adjacency=graph.adjacency_list()\n",
    "    while pq:\n",
    "        i,vertex=heappop(pq)\n",
    "        if vertex in path:\n",
    "            continue\n",
    "        print('Vertice : {0}, Prioridad {1}'.format(vertex,i))\n",
    "        path.append(vertex)\n",
    "        for neighbor in adjacency[vertex]:\n",
    "            if neighbor not in path:\n",
    "                if (vertex,neighbor) in graph.edges:\n",
    "                    heappush(pq, (graph.edges[(vertex,neighbor)], neighbor))\n",
    "                    tree.append((vertex,neighbor))\n",
    "                else:\n",
    "                    heappush(pq, (graph.edges[(neighbor,vertex)], neighbor))\n",
    "                    tree.append((neighbor,vertex))\n",
    "    return tree"
   ]
  },
  {
   "cell_type": "code",
   "execution_count": 20,
   "metadata": {
    "tags": []
   },
   "outputs": [
    {
     "output_type": "stream",
     "name": "stdout",
     "text": [
      "aristas :  {(1, 2): 1, (3, 4): 2, (2, 4): 1}\nVertice : 1, Prioridad 0\nVertice : 2, Prioridad 1\nVertice : 4, Prioridad 1\nVertice : 3, Prioridad 2\nPrim MST [(1, 2), (2, 4), (3, 4)], valor : 4\n"
     ]
    }
   ],
   "source": [
    "import numpy as np\n",
    "\n",
    "E4={(1,2):1,(3,4):2,(2,4):1}\n",
    "E4.keys()\n",
    "G4=weighted_graph(E4)\n",
    "print('aristas : ',G4.edges)\n",
    "T=prim_mst(G4,1)\n",
    "v=np.sum([G4.edges[t] for t in T])\n",
    "print('Prim MST {0}, valor : {1}'.format(T,v))\n"
   ]
  },
  {
   "cell_type": "markdown",
   "metadata": {},
   "source": [
    "<h2>Ejercicio</h2>\n",
    "\n",
    "Se desea construir un acueducto que una las ciudades de la region del Maule. El costo en distancia se encuentra en mm en un archivo csv."
   ]
  },
  {
   "cell_type": "code",
   "execution_count": 6,
   "metadata": {},
   "outputs": [
    {
     "output_type": "execute_result",
     "data": {
      "text/plain": [
       "                                                 WKT InputID      TargetID  \\\n",
       "0  MULTIPOINT ((-71.661999 -35.432349),(-71.59687...   TALCA    PANGUILEMO   \n",
       "1  MULTIPOINT ((-71.661999 -35.432349),(-71.56431...   TALCA   HUILQUILEMU   \n",
       "2  MULTIPOINT ((-72.412391 -35.335426),(-71.66199...   TALCA  CONSTITUCION   \n",
       "3  MULTIPOINT ((-72.333641 -35.427048),(-71.66199...   TALCA    SANTA OLGA   \n",
       "4  MULTIPOINT ((-72.494926 -35.469452),(-71.66199...   TALCA  LOS PELLINES   \n",
       "\n",
       "       Distance  \n",
       "0   9402.992976  \n",
       "1   9026.792210  \n",
       "2  69023.063640  \n",
       "3  60993.437978  \n",
       "4  75728.660537  "
      ],
      "text/html": "<div>\n<style scoped>\n    .dataframe tbody tr th:only-of-type {\n        vertical-align: middle;\n    }\n\n    .dataframe tbody tr th {\n        vertical-align: top;\n    }\n\n    .dataframe thead th {\n        text-align: right;\n    }\n</style>\n<table border=\"1\" class=\"dataframe\">\n  <thead>\n    <tr style=\"text-align: right;\">\n      <th></th>\n      <th>WKT</th>\n      <th>InputID</th>\n      <th>TargetID</th>\n      <th>Distance</th>\n    </tr>\n  </thead>\n  <tbody>\n    <tr>\n      <th>0</th>\n      <td>MULTIPOINT ((-71.661999 -35.432349),(-71.59687...</td>\n      <td>TALCA</td>\n      <td>PANGUILEMO</td>\n      <td>9402.992976</td>\n    </tr>\n    <tr>\n      <th>1</th>\n      <td>MULTIPOINT ((-71.661999 -35.432349),(-71.56431...</td>\n      <td>TALCA</td>\n      <td>HUILQUILEMU</td>\n      <td>9026.792210</td>\n    </tr>\n    <tr>\n      <th>2</th>\n      <td>MULTIPOINT ((-72.412391 -35.335426),(-71.66199...</td>\n      <td>TALCA</td>\n      <td>CONSTITUCION</td>\n      <td>69023.063640</td>\n    </tr>\n    <tr>\n      <th>3</th>\n      <td>MULTIPOINT ((-72.333641 -35.427048),(-71.66199...</td>\n      <td>TALCA</td>\n      <td>SANTA OLGA</td>\n      <td>60993.437978</td>\n    </tr>\n    <tr>\n      <th>4</th>\n      <td>MULTIPOINT ((-72.494926 -35.469452),(-71.66199...</td>\n      <td>TALCA</td>\n      <td>LOS PELLINES</td>\n      <td>75728.660537</td>\n    </tr>\n  </tbody>\n</table>\n</div>"
     },
     "metadata": {},
     "execution_count": 6
    }
   ],
   "source": [
    "import pandas as pd\n",
    "\n",
    "df=pd.read_csv('https://raw.githubusercontent.com/sherna90/matematicas_discretas/master/data/distancias_maule.csv', encoding = 'utf-8',dtype={'WKT':str,'InputID':str,'TargetID':str,'Distance':float}) \n",
    "\n",
    "df.loc[df['InputID']=='TALCA'].head()"
   ]
  },
  {
   "cell_type": "code",
   "execution_count": 7,
   "metadata": {},
   "outputs": [
    {
     "output_type": "execute_result",
     "data": {
      "text/plain": [
       "array(['TALCA', 'PANGUILEMO', 'HUILQUILEMU', 'CONSTITUCION', 'SANTA OLGA',\n",
       "       'LOS PELLINES', 'CUREPTO', 'EMPEDRADO', 'MAULE', 'CULENAR',\n",
       "       'VILLA FRANCIA', 'CHACARILLAS', 'PELARCO', 'PENCAHUE', 'CUMPEO',\n",
       "       'SAN CLEMENTE', 'SAN RAFAEL', 'CAUQUENES', 'CHANCO', 'PELLUHUE',\n",
       "       'QUILICURA', 'CURICO', 'SARMIENTO', 'VILLA LOS NICHES',\n",
       "       'SAN ALBERTO', 'HUALAE', 'LICANTEN', 'ILOCA', 'MOLINA',\n",
       "       'ITAHUE UNO', 'RAUCO', 'ROMERAL', 'SAGRADA  FAMILIA', 'VILLA PRAT',\n",
       "       'TENO', 'LLICO', 'LAGO VICHUQUEN', 'LINARES', 'VARA GRUESA',\n",
       "       'LAS OBRAS', 'COLBUN', 'PANIMAVIDA', 'LONGAVI', 'PARRAL', 'RETIRO',\n",
       "       'COPIHUE', 'SAN JAVIER', 'BOBADILLA', 'VILLA ALEGRE',\n",
       "       'YERBAS BUENAS'], dtype=object)"
      ]
     },
     "metadata": {},
     "execution_count": 7
    }
   ],
   "source": [
    "df['WKT'] = df['WKT'].apply(lambda x: x.encode('ascii', 'ignore').decode('ascii'))\n",
    "df['InputID'] = df['InputID'].apply(lambda x: x.encode('ascii', 'ignore').decode('ascii'))\n",
    "df['TargetID'] = df['TargetID'].apply(lambda x: x.encode('ascii', 'ignore').decode('ascii'))\n",
    "df['InputID'].unique()"
   ]
  },
  {
   "source": [
    "E={}\n",
    "for index, row in df.iterrows():\n",
    "    E.update({(str(row['InputID']), str(row['TargetID'])):row['Distance']/1000})"
   ],
   "cell_type": "code",
   "metadata": {},
   "execution_count": 8,
   "outputs": []
  },
  {
   "source": [
    "[(i,v,E[(i,v)]) for i,v in E.keys() if v == \"SAN CLEMENTE\"]"
   ],
   "cell_type": "code",
   "metadata": {
    "tags": []
   },
   "execution_count": 9,
   "outputs": [
    {
     "output_type": "execute_result",
     "data": {
      "text/plain": [
       "[('TALCA', 'SAN CLEMENTE', 19.4528449628067),\n",
       " ('PANGUILEMO', 'SAN CLEMENTE', 21.1146797476007),\n",
       " ('HUILQUILEMU', 'SAN CLEMENTE', 11.8953735732226),\n",
       " ('CONSTITUCION', 'SAN CLEMENTE', 86.8098658034372),\n",
       " ('SANTA OLGA', 'SAN CLEMENTE', 77.6784430231756),\n",
       " ('LOS PELLINES', 'SAN CLEMENTE', 91.65473697859939),\n",
       " ('CUREPTO', 'SAN CLEMENTE', 68.62354274281729),\n",
       " ('EMPEDRADO', 'SAN CLEMENTE', 72.2245847492922),\n",
       " ('MAULE', 'SAN CLEMENTE', 18.8781757482592),\n",
       " ('CULENAR', 'SAN CLEMENTE', 20.398649700976502),\n",
       " ('VILLA FRANCIA', 'SAN CLEMENTE', 21.6631724780706),\n",
       " ('CHACARILLAS', 'SAN CLEMENTE', 18.643405966825),\n",
       " ('PELARCO', 'SAN CLEMENTE', 17.125440117773),\n",
       " ('PENCAHUE', 'SAN CLEMENTE', 33.026326470266),\n",
       " ('CUMPEO', 'SAN CLEMENTE', 35.0342994980098),\n",
       " ('SAN RAFAEL', 'SAN CLEMENTE', 25.1597316840797),\n",
       " ('CAUQUENES', 'SAN CLEMENTE', 89.2547298938037),\n",
       " ('CHANCO', 'SAN CLEMENTE', 97.4213286434537),\n",
       " ('PELLUHUE', 'SAN CLEMENTE', 103.386857402107),\n",
       " ('QUILICURA', 'SAN CLEMENTE', 119.122912945131),\n",
       " ('CURICO', 'SAN CLEMENTE', 65.6502297391074),\n",
       " ('SARMIENTO', 'SAN CLEMENTE', 71.0592938069044),\n",
       " ('VILLA LOS NICHES', 'SAN CLEMENTE', 67.88284696070501),\n",
       " ('SAN ALBERTO', 'SAN CLEMENTE', 72.5800240529541),\n",
       " ('HUALAE', 'SAN CLEMENTE', 68.4861643593346),\n",
       " ('LICANTEN', 'SAN CLEMENTE', 75.9141912714176),\n",
       " ('ILOCA', 'SAN CLEMENTE', 91.14513096190271),\n",
       " ('MOLINA', 'SAN CLEMENTE', 50.0384066755082),\n",
       " ('ITAHUE UNO', 'SAN CLEMENTE', 45.5678685779153),\n",
       " ('RAUCO', 'SAN CLEMENTE', 69.4487501011255),\n",
       " ('ROMERAL', 'SAN CLEMENTE', 71.3051796182167),\n",
       " ('SAGRADA  FAMILIA', 'SAN CLEMENTE', 60.478419818251105),\n",
       " ('VILLA PRAT', 'SAN CLEMENTE', 50.402615395019204),\n",
       " ('TENO', 'SAN CLEMENTE', 79.1855117281454),\n",
       " ('LLICO', 'SAN CLEMENTE', 101.29924682090099),\n",
       " ('LAGO VICHUQUEN', 'SAN CLEMENTE', 85.8204384452134),\n",
       " ('LINARES', 'SAN CLEMENTE', 36.1716480093076),\n",
       " ('VARA GRUESA', 'SAN CLEMENTE', 32.6209221160976),\n",
       " ('LAS OBRAS', 'SAN CLEMENTE', 39.0810536989597),\n",
       " ('COLBUN', 'SAN CLEMENTE', 19.3944045147567),\n",
       " ('PANIMAVIDA', 'SAN CLEMENTE', 25.835595476857097),\n",
       " ('LONGAVI', 'SAN CLEMENTE', 51.147065009597796),\n",
       " ('PARRAL', 'SAN CLEMENTE', 74.4546560541739),\n",
       " ('RETIRO', 'SAN CLEMENTE', 62.5272874294373),\n",
       " ('COPIHUE', 'SAN CLEMENTE', 68.12198909846941),\n",
       " ('SAN JAVIER', 'SAN CLEMENTE', 23.0525782226379),\n",
       " ('BOBADILLA', 'SAN CLEMENTE', 19.3805682172325),\n",
       " ('VILLA ALEGRE', 'SAN CLEMENTE', 28.0029167403498),\n",
       " ('YERBAS BUENAS', 'SAN CLEMENTE', 25.867516708095202)]"
      ]
     },
     "metadata": {},
     "execution_count": 9
    }
   ]
  },
  {
   "cell_type": "code",
   "execution_count": 10,
   "metadata": {
    "tags": []
   },
   "outputs": [],
   "source": [
    "# from matplotlib import pyplot\n",
    "# from shapely.geometry import MultiPoint\n",
    "# from shapely import wkt\n",
    "\n",
    "# points=[]\n",
    "# for index, row in df.iterrows():\n",
    "#    points.append(wkt.loads(str(row['WKT'])))"
   ]
  },
  {
   "cell_type": "code",
   "execution_count": 11,
   "metadata": {},
   "outputs": [],
   "source": [
    "G=weighted_graph(E)"
   ]
  },
  {
   "cell_type": "code",
   "execution_count": 12,
   "metadata": {},
   "outputs": [
    {
     "output_type": "stream",
     "name": "stdout",
     "text": [
      "{'PARRAL', 'PANIMAVIDA', 'CULENAR', 'LOS PELLINES', 'COLBUN', 'LAS OBRAS', 'RETIRO', 'SAN RAFAEL', 'CAUQUENES', 'LONGAVI', 'LLICO', 'VILLA LOS NICHES', 'SAGRADA  FAMILIA', 'LINARES', 'CURICO', 'PELARCO', 'SARMIENTO', 'SAN ALBERTO', 'CUMPEO', 'ILOCA', 'CUREPTO', 'RAUCO', 'SAN JAVIER', 'PELLUHUE', 'CHANCO', 'SANTA OLGA', 'MAULE', 'ROMERAL', 'PANGUILEMO', 'EMPEDRADO', 'CHACARILLAS', 'CONSTITUCION', 'VILLA PRAT', 'BOBADILLA', 'SAN CLEMENTE', 'COPIHUE', 'LICANTEN', 'VILLA ALEGRE', 'VILLA FRANCIA', 'LAGO VICHUQUEN', 'MOLINA', 'TENO', 'QUILICURA', 'TALCA', 'HUILQUILEMU', 'VARA GRUESA', 'ITAHUE UNO', 'HUALAE', 'YERBAS BUENAS', 'PENCAHUE'}\n"
     ]
    }
   ],
   "source": [
    "print(G.nodes)"
   ]
  },
  {
   "cell_type": "code",
   "execution_count": 13,
   "metadata": {},
   "outputs": [
    {
     "output_type": "stream",
     "name": "stdout",
     "text": [
      "Vertice : TALCA, Prioridad 0\nVertice : CULENAR, Prioridad 3.9649338381316803\nVertice : VILLA FRANCIA, Prioridad 1.33428335842812\nVertice : CHACARILLAS, Prioridad 4.46585695446726\nVertice : MAULE, Prioridad 2.5950385329768\nVertice : BOBADILLA, Prioridad 4.465889689069121\nVertice : SAN JAVIER, Prioridad 4.59017254506704\nVertice : HUILQUILEMU, Prioridad 9.026792209591079\nVertice : VILLA ALEGRE, Prioridad 9.18977588004314\nVertice : PANGUILEMO, Prioridad 9.40299297647628\nVertice : SAN RAFAEL, Prioridad 9.18076991683921\nVertice : PELARCO, Prioridad 10.7754701402999\nVertice : PENCAHUE, Prioridad 11.4378358826853\nVertice : SAN CLEMENTE, Prioridad 11.8953735732226\nVertice : YERBAS BUENAS, Prioridad 16.4468074244873\nVertice : LINARES, Prioridad 10.7962798998361\nVertice : VARA GRUESA, Prioridad 8.408269680843619\nVertice : LAS OBRAS, Prioridad 8.48362388917583\nVertice : PANIMAVIDA, Prioridad 10.7193269370867\nVertice : COLBUN, Prioridad 7.22485864136085\nVertice : LONGAVI, Prioridad 13.1910016478016\nVertice : RETIRO, Prioridad 11.7334951072981\nVertice : COPIHUE, Prioridad 5.8227381088118\nVertice : PARRAL, Prioridad 6.35181130986633\nVertice : CUMPEO, Prioridad 20.6689717512939\nVertice : ITAHUE UNO, Prioridad 18.4424693258925\nVertice : MOLINA, Prioridad 7.25398445461394\nVertice : SAGRADA  FAMILIA, Prioridad 13.1396608840502\nVertice : VILLA LOS NICHES, Prioridad 7.56171644224313\nVertice : RAUCO, Prioridad 1.78598419130831\nVertice : CURICO, Prioridad 8.90446125363686\nVertice : SARMIENTO, Prioridad 5.821907697423909\nVertice : ROMERAL, Prioridad 6.26793791693322\nVertice : SAN ALBERTO, Prioridad 3.04757217274264\nVertice : TENO, Prioridad 8.13009963945093\nVertice : VILLA PRAT, Prioridad 23.2324663656151\nVertice : HUALAE, Prioridad 22.1383891313975\nVertice : LICANTEN, Prioridad 16.566601177923598\nVertice : LAGO VICHUQUEN, Prioridad 11.4546535002247\nVertice : CUREPTO, Prioridad 12.7686662995542\nVertice : LLICO, Prioridad 15.4798261540034\nVertice : ILOCA, Prioridad 18.9543395814527\nVertice : CONSTITUCION, Prioridad 44.4978754010726\nVertice : SANTA OLGA, Prioridad 12.4311053826251\nVertice : LOS PELLINES, Prioridad 15.3799105241416\nVertice : EMPEDRADO, Prioridad 18.9179973431884\nVertice : CHANCO, Prioridad 28.010189548645098\nVertice : PELLUHUE, Prioridad 9.4650186739867\nVertice : QUILICURA, Prioridad 18.014800503668297\nVertice : CAUQUENES, Prioridad 28.6266913090228\n"
     ]
    }
   ],
   "source": [
    "T=prim_mst(G,'TALCA')"
   ]
  },
  {
   "cell_type": "code",
   "execution_count": 14,
   "metadata": {
    "tags": [
     "outputPrepend"
    ]
   },
   "outputs": [
    {
     "output_type": "stream",
     "name": "stdout",
     "text": [
      "QUENES'), ('PELARCO', 'LONGAVI'), ('PELARCO', 'LLICO'), ('PELARCO', 'VILLA LOS NICHES'), ('PELARCO', 'SAGRADA  FAMILIA'), ('PELARCO', 'LINARES'), ('PELARCO', 'CURICO'), ('PELARCO', 'SARMIENTO'), ('PELARCO', 'SAN ALBERTO'), ('PELARCO', 'CUMPEO'), ('PELARCO', 'ILOCA'), ('PELARCO', 'CUREPTO'), ('PELARCO', 'RAUCO'), ('PELARCO', 'PELLUHUE'), ('PELARCO', 'CHANCO'), ('PELARCO', 'SANTA OLGA'), ('PELARCO', 'ROMERAL'), ('PELARCO', 'EMPEDRADO'), ('PELARCO', 'CONSTITUCION'), ('PELARCO', 'VILLA PRAT'), ('PELARCO', 'SAN CLEMENTE'), ('PELARCO', 'COPIHUE'), ('PELARCO', 'LICANTEN'), ('PELARCO', 'LAGO VICHUQUEN'), ('PELARCO', 'MOLINA'), ('PELARCO', 'TENO'), ('PELARCO', 'QUILICURA'), ('PELARCO', 'VARA GRUESA'), ('PELARCO', 'ITAHUE UNO'), ('PELARCO', 'HUALAE'), ('PELARCO', 'YERBAS BUENAS'), ('PELARCO', 'PENCAHUE'), ('PENCAHUE', 'PARRAL'), ('PENCAHUE', 'PANIMAVIDA'), ('PENCAHUE', 'LOS PELLINES'), ('PENCAHUE', 'COLBUN'), ('PENCAHUE', 'LAS OBRAS'), ('PENCAHUE', 'RETIRO'), ('PENCAHUE', 'CAUQUENES'), ('PENCAHUE', 'LONGAVI'), ('PENCAHUE', 'LLICO'), ('PENCAHUE', 'VILLA LOS NICHES'), ('PENCAHUE', 'SAGRADA  FAMILIA'), ('PENCAHUE', 'LINARES'), ('PENCAHUE', 'CURICO'), ('PENCAHUE', 'SARMIENTO'), ('PENCAHUE', 'SAN ALBERTO'), ('PENCAHUE', 'CUMPEO'), ('PENCAHUE', 'ILOCA'), ('PENCAHUE', 'CUREPTO'), ('PENCAHUE', 'RAUCO'), ('PENCAHUE', 'PELLUHUE'), ('PENCAHUE', 'CHANCO'), ('PENCAHUE', 'SANTA OLGA'), ('PENCAHUE', 'ROMERAL'), ('PENCAHUE', 'EMPEDRADO'), ('PENCAHUE', 'CONSTITUCION'), ('PENCAHUE', 'VILLA PRAT'), ('PENCAHUE', 'SAN CLEMENTE'), ('PENCAHUE', 'COPIHUE'), ('PENCAHUE', 'LICANTEN'), ('PENCAHUE', 'LAGO VICHUQUEN'), ('PENCAHUE', 'MOLINA'), ('PENCAHUE', 'TENO'), ('PENCAHUE', 'QUILICURA'), ('PENCAHUE', 'VARA GRUESA'), ('PENCAHUE', 'ITAHUE UNO'), ('PENCAHUE', 'HUALAE'), ('PENCAHUE', 'YERBAS BUENAS'), ('SAN CLEMENTE', 'PARRAL'), ('SAN CLEMENTE', 'PANIMAVIDA'), ('SAN CLEMENTE', 'LOS PELLINES'), ('SAN CLEMENTE', 'COLBUN'), ('SAN CLEMENTE', 'LAS OBRAS'), ('SAN CLEMENTE', 'RETIRO'), ('SAN CLEMENTE', 'CAUQUENES'), ('SAN CLEMENTE', 'LONGAVI'), ('SAN CLEMENTE', 'LLICO'), ('SAN CLEMENTE', 'VILLA LOS NICHES'), ('SAN CLEMENTE', 'SAGRADA  FAMILIA'), ('SAN CLEMENTE', 'LINARES'), ('SAN CLEMENTE', 'CURICO'), ('SAN CLEMENTE', 'SARMIENTO'), ('SAN CLEMENTE', 'SAN ALBERTO'), ('SAN CLEMENTE', 'CUMPEO'), ('SAN CLEMENTE', 'ILOCA'), ('SAN CLEMENTE', 'CUREPTO'), ('SAN CLEMENTE', 'RAUCO'), ('SAN CLEMENTE', 'PELLUHUE'), ('SAN CLEMENTE', 'CHANCO'), ('SAN CLEMENTE', 'SANTA OLGA'), ('SAN CLEMENTE', 'ROMERAL'), ('SAN CLEMENTE', 'EMPEDRADO'), ('SAN CLEMENTE', 'CONSTITUCION'), ('SAN CLEMENTE', 'VILLA PRAT'), ('SAN CLEMENTE', 'COPIHUE'), ('SAN CLEMENTE', 'LICANTEN'), ('SAN CLEMENTE', 'LAGO VICHUQUEN'), ('SAN CLEMENTE', 'MOLINA'), ('SAN CLEMENTE', 'TENO'), ('SAN CLEMENTE', 'QUILICURA'), ('SAN CLEMENTE', 'VARA GRUESA'), ('SAN CLEMENTE', 'ITAHUE UNO'), ('SAN CLEMENTE', 'HUALAE'), ('SAN CLEMENTE', 'YERBAS BUENAS'), ('YERBAS BUENAS', 'PARRAL'), ('YERBAS BUENAS', 'PANIMAVIDA'), ('YERBAS BUENAS', 'LOS PELLINES'), ('YERBAS BUENAS', 'COLBUN'), ('YERBAS BUENAS', 'LAS OBRAS'), ('YERBAS BUENAS', 'RETIRO'), ('YERBAS BUENAS', 'CAUQUENES'), ('YERBAS BUENAS', 'LONGAVI'), ('YERBAS BUENAS', 'LLICO'), ('YERBAS BUENAS', 'VILLA LOS NICHES'), ('YERBAS BUENAS', 'SAGRADA  FAMILIA'), ('YERBAS BUENAS', 'LINARES'), ('YERBAS BUENAS', 'CURICO'), ('YERBAS BUENAS', 'SARMIENTO'), ('YERBAS BUENAS', 'SAN ALBERTO'), ('YERBAS BUENAS', 'CUMPEO'), ('YERBAS BUENAS', 'ILOCA'), ('YERBAS BUENAS', 'CUREPTO'), ('YERBAS BUENAS', 'RAUCO'), ('YERBAS BUENAS', 'PELLUHUE'), ('YERBAS BUENAS', 'CHANCO'), ('YERBAS BUENAS', 'SANTA OLGA'), ('YERBAS BUENAS', 'ROMERAL'), ('YERBAS BUENAS', 'EMPEDRADO'), ('YERBAS BUENAS', 'CONSTITUCION'), ('YERBAS BUENAS', 'VILLA PRAT'), ('YERBAS BUENAS', 'COPIHUE'), ('YERBAS BUENAS', 'LICANTEN'), ('YERBAS BUENAS', 'LAGO VICHUQUEN'), ('YERBAS BUENAS', 'MOLINA'), ('YERBAS BUENAS', 'TENO'), ('YERBAS BUENAS', 'QUILICURA'), ('YERBAS BUENAS', 'VARA GRUESA'), ('YERBAS BUENAS', 'ITAHUE UNO'), ('YERBAS BUENAS', 'HUALAE'), ('LINARES', 'PARRAL'), ('LINARES', 'PANIMAVIDA'), ('LINARES', 'LOS PELLINES'), ('LINARES', 'COLBUN'), ('LINARES', 'LAS OBRAS'), ('LINARES', 'RETIRO'), ('LINARES', 'CAUQUENES'), ('LINARES', 'LONGAVI'), ('LINARES', 'LLICO'), ('LINARES', 'VILLA LOS NICHES'), ('LINARES', 'SAGRADA  FAMILIA'), ('LINARES', 'CURICO'), ('LINARES', 'SARMIENTO'), ('LINARES', 'SAN ALBERTO'), ('LINARES', 'CUMPEO'), ('LINARES', 'ILOCA'), ('LINARES', 'CUREPTO'), ('LINARES', 'RAUCO'), ('LINARES', 'PELLUHUE'), ('LINARES', 'CHANCO'), ('LINARES', 'SANTA OLGA'), ('LINARES', 'ROMERAL'), ('LINARES', 'EMPEDRADO'), ('LINARES', 'CONSTITUCION'), ('LINARES', 'VILLA PRAT'), ('LINARES', 'COPIHUE'), ('LINARES', 'LICANTEN'), ('LINARES', 'LAGO VICHUQUEN'), ('LINARES', 'MOLINA'), ('LINARES', 'TENO'), ('LINARES', 'QUILICURA'), ('LINARES', 'VARA GRUESA'), ('LINARES', 'ITAHUE UNO'), ('LINARES', 'HUALAE'), ('VARA GRUESA', 'PARRAL'), ('VARA GRUESA', 'PANIMAVIDA'), ('VARA GRUESA', 'LOS PELLINES'), ('VARA GRUESA', 'COLBUN'), ('VARA GRUESA', 'LAS OBRAS'), ('VARA GRUESA', 'RETIRO'), ('VARA GRUESA', 'CAUQUENES'), ('VARA GRUESA', 'LONGAVI'), ('VARA GRUESA', 'LLICO'), ('VARA GRUESA', 'VILLA LOS NICHES'), ('VARA GRUESA', 'SAGRADA  FAMILIA'), ('VARA GRUESA', 'CURICO'), ('VARA GRUESA', 'SARMIENTO'), ('VARA GRUESA', 'SAN ALBERTO'), ('VARA GRUESA', 'CUMPEO'), ('VARA GRUESA', 'ILOCA'), ('VARA GRUESA', 'CUREPTO'), ('VARA GRUESA', 'RAUCO'), ('VARA GRUESA', 'PELLUHUE'), ('VARA GRUESA', 'CHANCO'), ('VARA GRUESA', 'SANTA OLGA'), ('VARA GRUESA', 'ROMERAL'), ('VARA GRUESA', 'EMPEDRADO'), ('VARA GRUESA', 'CONSTITUCION'), ('VARA GRUESA', 'VILLA PRAT'), ('VARA GRUESA', 'COPIHUE'), ('VARA GRUESA', 'LICANTEN'), ('VARA GRUESA', 'LAGO VICHUQUEN'), ('VARA GRUESA', 'MOLINA'), ('VARA GRUESA', 'TENO'), ('VARA GRUESA', 'QUILICURA'), ('VARA GRUESA', 'ITAHUE UNO'), ('VARA GRUESA', 'HUALAE'), ('LAS OBRAS', 'PARRAL'), ('LAS OBRAS', 'PANIMAVIDA'), ('LAS OBRAS', 'LOS PELLINES'), ('LAS OBRAS', 'COLBUN'), ('LAS OBRAS', 'RETIRO'), ('LAS OBRAS', 'CAUQUENES'), ('LAS OBRAS', 'LONGAVI'), ('LAS OBRAS', 'LLICO'), ('LAS OBRAS', 'VILLA LOS NICHES'), ('LAS OBRAS', 'SAGRADA  FAMILIA'), ('LAS OBRAS', 'CURICO'), ('LAS OBRAS', 'SARMIENTO'), ('LAS OBRAS', 'SAN ALBERTO'), ('LAS OBRAS', 'CUMPEO'), ('LAS OBRAS', 'ILOCA'), ('LAS OBRAS', 'CUREPTO'), ('LAS OBRAS', 'RAUCO'), ('LAS OBRAS', 'PELLUHUE'), ('LAS OBRAS', 'CHANCO'), ('LAS OBRAS', 'SANTA OLGA'), ('LAS OBRAS', 'ROMERAL'), ('LAS OBRAS', 'EMPEDRADO'), ('LAS OBRAS', 'CONSTITUCION'), ('LAS OBRAS', 'VILLA PRAT'), ('LAS OBRAS', 'COPIHUE'), ('LAS OBRAS', 'LICANTEN'), ('LAS OBRAS', 'LAGO VICHUQUEN'), ('LAS OBRAS', 'MOLINA'), ('LAS OBRAS', 'TENO'), ('LAS OBRAS', 'QUILICURA'), ('LAS OBRAS', 'ITAHUE UNO'), ('LAS OBRAS', 'HUALAE'), ('PANIMAVIDA', 'PARRAL'), ('PANIMAVIDA', 'LOS PELLINES'), ('PANIMAVIDA', 'COLBUN'), ('PANIMAVIDA', 'RETIRO'), ('PANIMAVIDA', 'CAUQUENES'), ('PANIMAVIDA', 'LONGAVI'), ('PANIMAVIDA', 'LLICO'), ('PANIMAVIDA', 'VILLA LOS NICHES'), ('PANIMAVIDA', 'SAGRADA  FAMILIA'), ('PANIMAVIDA', 'CURICO'), ('PANIMAVIDA', 'SARMIENTO'), ('PANIMAVIDA', 'SAN ALBERTO'), ('PANIMAVIDA', 'CUMPEO'), ('PANIMAVIDA', 'ILOCA'), ('PANIMAVIDA', 'CUREPTO'), ('PANIMAVIDA', 'RAUCO'), ('PANIMAVIDA', 'PELLUHUE'), ('PANIMAVIDA', 'CHANCO'), ('PANIMAVIDA', 'SANTA OLGA'), ('PANIMAVIDA', 'ROMERAL'), ('PANIMAVIDA', 'EMPEDRADO'), ('PANIMAVIDA', 'CONSTITUCION'), ('PANIMAVIDA', 'VILLA PRAT'), ('PANIMAVIDA', 'COPIHUE'), ('PANIMAVIDA', 'LICANTEN'), ('PANIMAVIDA', 'LAGO VICHUQUEN'), ('PANIMAVIDA', 'MOLINA'), ('PANIMAVIDA', 'TENO'), ('PANIMAVIDA', 'QUILICURA'), ('PANIMAVIDA', 'ITAHUE UNO'), ('PANIMAVIDA', 'HUALAE'), ('COLBUN', 'PARRAL'), ('COLBUN', 'LOS PELLINES'), ('COLBUN', 'RETIRO'), ('COLBUN', 'CAUQUENES'), ('COLBUN', 'LONGAVI'), ('COLBUN', 'LLICO'), ('COLBUN', 'VILLA LOS NICHES'), ('COLBUN', 'SAGRADA  FAMILIA'), ('COLBUN', 'CURICO'), ('COLBUN', 'SARMIENTO'), ('COLBUN', 'SAN ALBERTO'), ('COLBUN', 'CUMPEO'), ('COLBUN', 'ILOCA'), ('COLBUN', 'CUREPTO'), ('COLBUN', 'RAUCO'), ('COLBUN', 'PELLUHUE'), ('COLBUN', 'CHANCO'), ('COLBUN', 'SANTA OLGA'), ('COLBUN', 'ROMERAL'), ('COLBUN', 'EMPEDRADO'), ('COLBUN', 'CONSTITUCION'), ('COLBUN', 'VILLA PRAT'), ('COLBUN', 'COPIHUE'), ('COLBUN', 'LICANTEN'), ('COLBUN', 'LAGO VICHUQUEN'), ('COLBUN', 'MOLINA'), ('COLBUN', 'TENO'), ('COLBUN', 'QUILICURA'), ('COLBUN', 'ITAHUE UNO'), ('COLBUN', 'HUALAE'), ('LONGAVI', 'PARRAL'), ('LONGAVI', 'LOS PELLINES'), ('LONGAVI', 'RETIRO'), ('LONGAVI', 'CAUQUENES'), ('LONGAVI', 'LLICO'), ('LONGAVI', 'VILLA LOS NICHES'), ('LONGAVI', 'SAGRADA  FAMILIA'), ('LONGAVI', 'CURICO'), ('LONGAVI', 'SARMIENTO'), ('LONGAVI', 'SAN ALBERTO'), ('LONGAVI', 'CUMPEO'), ('LONGAVI', 'ILOCA'), ('LONGAVI', 'CUREPTO'), ('LONGAVI', 'RAUCO'), ('LONGAVI', 'PELLUHUE'), ('LONGAVI', 'CHANCO'), ('LONGAVI', 'SANTA OLGA'), ('LONGAVI', 'ROMERAL'), ('LONGAVI', 'EMPEDRADO'), ('LONGAVI', 'CONSTITUCION'), ('LONGAVI', 'VILLA PRAT'), ('LONGAVI', 'COPIHUE'), ('LONGAVI', 'LICANTEN'), ('LONGAVI', 'LAGO VICHUQUEN'), ('LONGAVI', 'MOLINA'), ('LONGAVI', 'TENO'), ('LONGAVI', 'QUILICURA'), ('LONGAVI', 'ITAHUE UNO'), ('LONGAVI', 'HUALAE'), ('RETIRO', 'PARRAL'), ('RETIRO', 'LOS PELLINES'), ('RETIRO', 'CAUQUENES'), ('RETIRO', 'LLICO'), ('RETIRO', 'VILLA LOS NICHES'), ('RETIRO', 'SAGRADA  FAMILIA'), ('RETIRO', 'CURICO'), ('RETIRO', 'SARMIENTO'), ('RETIRO', 'SAN ALBERTO'), ('RETIRO', 'CUMPEO'), ('RETIRO', 'ILOCA'), ('RETIRO', 'CUREPTO'), ('RETIRO', 'RAUCO'), ('RETIRO', 'PELLUHUE'), ('RETIRO', 'CHANCO'), ('RETIRO', 'SANTA OLGA'), ('RETIRO', 'ROMERAL'), ('RETIRO', 'EMPEDRADO'), ('RETIRO', 'CONSTITUCION'), ('RETIRO', 'VILLA PRAT'), ('RETIRO', 'COPIHUE'), ('RETIRO', 'LICANTEN'), ('RETIRO', 'LAGO VICHUQUEN'), ('RETIRO', 'MOLINA'), ('RETIRO', 'TENO'), ('RETIRO', 'QUILICURA'), ('RETIRO', 'ITAHUE UNO'), ('RETIRO', 'HUALAE'), ('COPIHUE', 'PARRAL'), ('COPIHUE', 'LOS PELLINES'), ('COPIHUE', 'CAUQUENES'), ('COPIHUE', 'LLICO'), ('COPIHUE', 'VILLA LOS NICHES'), ('COPIHUE', 'SAGRADA  FAMILIA'), ('COPIHUE', 'CURICO'), ('COPIHUE', 'SARMIENTO'), ('COPIHUE', 'SAN ALBERTO'), ('COPIHUE', 'CUMPEO'), ('COPIHUE', 'ILOCA'), ('COPIHUE', 'CUREPTO'), ('COPIHUE', 'RAUCO'), ('COPIHUE', 'PELLUHUE'), ('COPIHUE', 'CHANCO'), ('COPIHUE', 'SANTA OLGA'), ('COPIHUE', 'ROMERAL'), ('COPIHUE', 'EMPEDRADO'), ('COPIHUE', 'CONSTITUCION'), ('COPIHUE', 'VILLA PRAT'), ('COPIHUE', 'LICANTEN'), ('COPIHUE', 'LAGO VICHUQUEN'), ('COPIHUE', 'MOLINA'), ('COPIHUE', 'TENO'), ('COPIHUE', 'QUILICURA'), ('COPIHUE', 'ITAHUE UNO'), ('COPIHUE', 'HUALAE'), ('PARRAL', 'LOS PELLINES'), ('PARRAL', 'CAUQUENES'), ('PARRAL', 'LLICO'), ('PARRAL', 'VILLA LOS NICHES'), ('PARRAL', 'SAGRADA  FAMILIA'), ('PARRAL', 'CURICO'), ('PARRAL', 'SARMIENTO'), ('PARRAL', 'SAN ALBERTO'), ('PARRAL', 'CUMPEO'), ('PARRAL', 'ILOCA'), ('PARRAL', 'CUREPTO'), ('PARRAL', 'RAUCO'), ('PARRAL', 'PELLUHUE'), ('PARRAL', 'CHANCO'), ('PARRAL', 'SANTA OLGA'), ('PARRAL', 'ROMERAL'), ('PARRAL', 'EMPEDRADO'), ('PARRAL', 'CONSTITUCION'), ('PARRAL', 'VILLA PRAT'), ('PARRAL', 'LICANTEN'), ('PARRAL', 'LAGO VICHUQUEN'), ('PARRAL', 'MOLINA'), ('PARRAL', 'TENO'), ('PARRAL', 'QUILICURA'), ('PARRAL', 'ITAHUE UNO'), ('PARRAL', 'HUALAE'), ('CUMPEO', 'LOS PELLINES'), ('CUMPEO', 'CAUQUENES'), ('CUMPEO', 'LLICO'), ('CUMPEO', 'VILLA LOS NICHES'), ('CUMPEO', 'SAGRADA  FAMILIA'), ('CUMPEO', 'CURICO'), ('CUMPEO', 'SARMIENTO'), ('CUMPEO', 'SAN ALBERTO'), ('CUMPEO', 'ILOCA'), ('CUMPEO', 'CUREPTO'), ('CUMPEO', 'RAUCO'), ('CUMPEO', 'PELLUHUE'), ('CUMPEO', 'CHANCO'), ('CUMPEO', 'SANTA OLGA'), ('CUMPEO', 'ROMERAL'), ('CUMPEO', 'EMPEDRADO'), ('CUMPEO', 'CONSTITUCION'), ('CUMPEO', 'VILLA PRAT'), ('CUMPEO', 'LICANTEN'), ('CUMPEO', 'LAGO VICHUQUEN'), ('CUMPEO', 'MOLINA'), ('CUMPEO', 'TENO'), ('CUMPEO', 'QUILICURA'), ('CUMPEO', 'ITAHUE UNO'), ('CUMPEO', 'HUALAE'), ('ITAHUE UNO', 'LOS PELLINES'), ('ITAHUE UNO', 'CAUQUENES'), ('ITAHUE UNO', 'LLICO'), ('ITAHUE UNO', 'VILLA LOS NICHES'), ('ITAHUE UNO', 'SAGRADA  FAMILIA'), ('ITAHUE UNO', 'CURICO'), ('ITAHUE UNO', 'SARMIENTO'), ('ITAHUE UNO', 'SAN ALBERTO'), ('ITAHUE UNO', 'ILOCA'), ('ITAHUE UNO', 'CUREPTO'), ('ITAHUE UNO', 'RAUCO'), ('ITAHUE UNO', 'PELLUHUE'), ('ITAHUE UNO', 'CHANCO'), ('ITAHUE UNO', 'SANTA OLGA'), ('ITAHUE UNO', 'ROMERAL'), ('ITAHUE UNO', 'EMPEDRADO'), ('ITAHUE UNO', 'CONSTITUCION'), ('ITAHUE UNO', 'VILLA PRAT'), ('ITAHUE UNO', 'LICANTEN'), ('ITAHUE UNO', 'LAGO VICHUQUEN'), ('ITAHUE UNO', 'MOLINA'), ('ITAHUE UNO', 'TENO'), ('ITAHUE UNO', 'QUILICURA'), ('ITAHUE UNO', 'HUALAE'), ('MOLINA', 'LOS PELLINES'), ('MOLINA', 'CAUQUENES'), ('MOLINA', 'LLICO'), ('MOLINA', 'VILLA LOS NICHES'), ('MOLINA', 'SAGRADA  FAMILIA'), ('MOLINA', 'CURICO'), ('MOLINA', 'SARMIENTO'), ('MOLINA', 'SAN ALBERTO'), ('MOLINA', 'ILOCA'), ('MOLINA', 'CUREPTO'), ('MOLINA', 'RAUCO'), ('MOLINA', 'PELLUHUE'), ('MOLINA', 'CHANCO'), ('MOLINA', 'SANTA OLGA'), ('MOLINA', 'ROMERAL'), ('MOLINA', 'EMPEDRADO'), ('MOLINA', 'CONSTITUCION'), ('MOLINA', 'VILLA PRAT'), ('MOLINA', 'LICANTEN'), ('MOLINA', 'LAGO VICHUQUEN'), ('MOLINA', 'TENO'), ('MOLINA', 'QUILICURA'), ('MOLINA', 'HUALAE'), ('SAGRADA  FAMILIA', 'LOS PELLINES'), ('SAGRADA  FAMILIA', 'CAUQUENES'), ('SAGRADA  FAMILIA', 'LLICO'), ('SAGRADA  FAMILIA', 'VILLA LOS NICHES'), ('SAGRADA  FAMILIA', 'CURICO'), ('SAGRADA  FAMILIA', 'SARMIENTO'), ('SAGRADA  FAMILIA', 'SAN ALBERTO'), ('SAGRADA  FAMILIA', 'ILOCA'), ('SAGRADA  FAMILIA', 'CUREPTO'), ('SAGRADA  FAMILIA', 'RAUCO'), ('SAGRADA  FAMILIA', 'PELLUHUE'), ('SAGRADA  FAMILIA', 'CHANCO'), ('SAGRADA  FAMILIA', 'SANTA OLGA'), ('SAGRADA  FAMILIA', 'ROMERAL'), ('SAGRADA  FAMILIA', 'EMPEDRADO'), ('SAGRADA  FAMILIA', 'CONSTITUCION'), ('SAGRADA  FAMILIA', 'VILLA PRAT'), ('SAGRADA  FAMILIA', 'LICANTEN'), ('SAGRADA  FAMILIA', 'LAGO VICHUQUEN'), ('SAGRADA  FAMILIA', 'TENO'), ('SAGRADA  FAMILIA', 'QUILICURA'), ('SAGRADA  FAMILIA', 'HUALAE'), ('VILLA LOS NICHES', 'LOS PELLINES'), ('VILLA LOS NICHES', 'CAUQUENES'), ('VILLA LOS NICHES', 'LLICO'), ('VILLA LOS NICHES', 'CURICO'), ('VILLA LOS NICHES', 'SARMIENTO'), ('VILLA LOS NICHES', 'SAN ALBERTO'), ('VILLA LOS NICHES', 'ILOCA'), ('VILLA LOS NICHES', 'CUREPTO'), ('VILLA LOS NICHES', 'RAUCO'), ('VILLA LOS NICHES', 'PELLUHUE'), ('VILLA LOS NICHES', 'CHANCO'), ('VILLA LOS NICHES', 'SANTA OLGA'), ('VILLA LOS NICHES', 'ROMERAL'), ('VILLA LOS NICHES', 'EMPEDRADO'), ('VILLA LOS NICHES', 'CONSTITUCION'), ('VILLA LOS NICHES', 'VILLA PRAT'), ('VILLA LOS NICHES', 'LICANTEN'), ('VILLA LOS NICHES', 'LAGO VICHUQUEN'), ('VILLA LOS NICHES', 'TENO'), ('VILLA LOS NICHES', 'QUILICURA'), ('VILLA LOS NICHES', 'HUALAE'), ('RAUCO', 'LOS PELLINES'), ('RAUCO', 'CAUQUENES'), ('RAUCO', 'LLICO'), ('RAUCO', 'CURICO'), ('RAUCO', 'SARMIENTO'), ('RAUCO', 'SAN ALBERTO'), ('RAUCO', 'ILOCA'), ('RAUCO', 'CUREPTO'), ('RAUCO', 'PELLUHUE'), ('RAUCO', 'CHANCO'), ('RAUCO', 'SANTA OLGA'), ('RAUCO', 'ROMERAL'), ('RAUCO', 'EMPEDRADO'), ('RAUCO', 'CONSTITUCION'), ('RAUCO', 'VILLA PRAT'), ('RAUCO', 'LICANTEN'), ('RAUCO', 'LAGO VICHUQUEN'), ('RAUCO', 'TENO'), ('RAUCO', 'QUILICURA'), ('RAUCO', 'HUALAE'), ('CURICO', 'LOS PELLINES'), ('CURICO', 'CAUQUENES'), ('CURICO', 'LLICO'), ('CURICO', 'SARMIENTO'), ('CURICO', 'SAN ALBERTO'), ('CURICO', 'ILOCA'), ('CURICO', 'CUREPTO'), ('CURICO', 'PELLUHUE'), ('CURICO', 'CHANCO'), ('CURICO', 'SANTA OLGA'), ('CURICO', 'ROMERAL'), ('CURICO', 'EMPEDRADO'), ('CURICO', 'CONSTITUCION'), ('CURICO', 'VILLA PRAT'), ('CURICO', 'LICANTEN'), ('CURICO', 'LAGO VICHUQUEN'), ('CURICO', 'TENO'), ('CURICO', 'QUILICURA'), ('CURICO', 'HUALAE'), ('SARMIENTO', 'LOS PELLINES'), ('SARMIENTO', 'CAUQUENES'), ('SARMIENTO', 'LLICO'), ('SARMIENTO', 'SAN ALBERTO'), ('SARMIENTO', 'ILOCA'), ('SARMIENTO', 'CUREPTO'), ('SARMIENTO', 'PELLUHUE'), ('SARMIENTO', 'CHANCO'), ('SARMIENTO', 'SANTA OLGA'), ('SARMIENTO', 'ROMERAL'), ('SARMIENTO', 'EMPEDRADO'), ('SARMIENTO', 'CONSTITUCION'), ('SARMIENTO', 'VILLA PRAT'), ('SARMIENTO', 'LICANTEN'), ('SARMIENTO', 'LAGO VICHUQUEN'), ('SARMIENTO', 'TENO'), ('SARMIENTO', 'QUILICURA'), ('SARMIENTO', 'HUALAE'), ('ROMERAL', 'LOS PELLINES'), ('ROMERAL', 'CAUQUENES'), ('ROMERAL', 'LLICO'), ('ROMERAL', 'SAN ALBERTO'), ('ROMERAL', 'ILOCA'), ('ROMERAL', 'CUREPTO'), ('ROMERAL', 'PELLUHUE'), ('ROMERAL', 'CHANCO'), ('ROMERAL', 'SANTA OLGA'), ('ROMERAL', 'EMPEDRADO'), ('ROMERAL', 'CONSTITUCION'), ('ROMERAL', 'VILLA PRAT'), ('ROMERAL', 'LICANTEN'), ('ROMERAL', 'LAGO VICHUQUEN'), ('ROMERAL', 'TENO'), ('ROMERAL', 'QUILICURA'), ('ROMERAL', 'HUALAE'), ('SAN ALBERTO', 'LOS PELLINES'), ('SAN ALBERTO', 'CAUQUENES'), ('SAN ALBERTO', 'LLICO'), ('SAN ALBERTO', 'ILOCA'), ('SAN ALBERTO', 'CUREPTO'), ('SAN ALBERTO', 'PELLUHUE'), ('SAN ALBERTO', 'CHANCO'), ('SAN ALBERTO', 'SANTA OLGA'), ('SAN ALBERTO', 'EMPEDRADO'), ('SAN ALBERTO', 'CONSTITUCION'), ('SAN ALBERTO', 'VILLA PRAT'), ('SAN ALBERTO', 'LICANTEN'), ('SAN ALBERTO', 'LAGO VICHUQUEN'), ('SAN ALBERTO', 'TENO'), ('SAN ALBERTO', 'QUILICURA'), ('SAN ALBERTO', 'HUALAE'), ('TENO', 'LOS PELLINES'), ('TENO', 'CAUQUENES'), ('TENO', 'LLICO'), ('TENO', 'ILOCA'), ('TENO', 'CUREPTO'), ('TENO', 'PELLUHUE'), ('TENO', 'CHANCO'), ('TENO', 'SANTA OLGA'), ('TENO', 'EMPEDRADO'), ('TENO', 'CONSTITUCION'), ('TENO', 'VILLA PRAT'), ('TENO', 'LICANTEN'), ('TENO', 'LAGO VICHUQUEN'), ('TENO', 'QUILICURA'), ('TENO', 'HUALAE'), ('VILLA PRAT', 'LOS PELLINES'), ('VILLA PRAT', 'CAUQUENES'), ('VILLA PRAT', 'LLICO'), ('VILLA PRAT', 'ILOCA'), ('VILLA PRAT', 'CUREPTO'), ('VILLA PRAT', 'PELLUHUE'), ('VILLA PRAT', 'CHANCO'), ('VILLA PRAT', 'SANTA OLGA'), ('VILLA PRAT', 'EMPEDRADO'), ('VILLA PRAT', 'CONSTITUCION'), ('VILLA PRAT', 'LICANTEN'), ('VILLA PRAT', 'LAGO VICHUQUEN'), ('VILLA PRAT', 'QUILICURA'), ('VILLA PRAT', 'HUALAE'), ('HUALAE', 'LOS PELLINES'), ('HUALAE', 'CAUQUENES'), ('HUALAE', 'LLICO'), ('HUALAE', 'ILOCA'), ('HUALAE', 'CUREPTO'), ('HUALAE', 'PELLUHUE'), ('HUALAE', 'CHANCO'), ('HUALAE', 'SANTA OLGA'), ('HUALAE', 'EMPEDRADO'), ('HUALAE', 'CONSTITUCION'), ('HUALAE', 'LICANTEN'), ('HUALAE', 'LAGO VICHUQUEN'), ('HUALAE', 'QUILICURA'), ('LICANTEN', 'LOS PELLINES'), ('LICANTEN', 'CAUQUENES'), ('LICANTEN', 'LLICO'), ('LICANTEN', 'ILOCA'), ('LICANTEN', 'CUREPTO'), ('LICANTEN', 'PELLUHUE'), ('LICANTEN', 'CHANCO'), ('LICANTEN', 'SANTA OLGA'), ('LICANTEN', 'EMPEDRADO'), ('LICANTEN', 'CONSTITUCION'), ('LICANTEN', 'LAGO VICHUQUEN'), ('LICANTEN', 'QUILICURA'), ('LAGO VICHUQUEN', 'LOS PELLINES'), ('LAGO VICHUQUEN', 'CAUQUENES'), ('LAGO VICHUQUEN', 'LLICO'), ('LAGO VICHUQUEN', 'ILOCA'), ('LAGO VICHUQUEN', 'CUREPTO'), ('LAGO VICHUQUEN', 'PELLUHUE'), ('LAGO VICHUQUEN', 'CHANCO'), ('LAGO VICHUQUEN', 'SANTA OLGA'), ('LAGO VICHUQUEN', 'EMPEDRADO'), ('LAGO VICHUQUEN', 'CONSTITUCION'), ('LAGO VICHUQUEN', 'QUILICURA'), ('CUREPTO', 'LOS PELLINES'), ('CUREPTO', 'CAUQUENES'), ('CUREPTO', 'LLICO'), ('CUREPTO', 'ILOCA'), ('CUREPTO', 'PELLUHUE'), ('CUREPTO', 'CHANCO'), ('CUREPTO', 'SANTA OLGA'), ('CUREPTO', 'EMPEDRADO'), ('CUREPTO', 'CONSTITUCION'), ('CUREPTO', 'QUILICURA'), ('LLICO', 'LOS PELLINES'), ('LLICO', 'CAUQUENES'), ('LLICO', 'ILOCA'), ('LLICO', 'PELLUHUE'), ('LLICO', 'CHANCO'), ('LLICO', 'SANTA OLGA'), ('LLICO', 'EMPEDRADO'), ('LLICO', 'CONSTITUCION'), ('LLICO', 'QUILICURA'), ('ILOCA', 'LOS PELLINES'), ('ILOCA', 'CAUQUENES'), ('ILOCA', 'PELLUHUE'), ('ILOCA', 'CHANCO'), ('ILOCA', 'SANTA OLGA'), ('ILOCA', 'EMPEDRADO'), ('ILOCA', 'CONSTITUCION'), ('ILOCA', 'QUILICURA'), ('CONSTITUCION', 'LOS PELLINES'), ('CONSTITUCION', 'CAUQUENES'), ('CONSTITUCION', 'PELLUHUE'), ('CONSTITUCION', 'CHANCO'), ('CONSTITUCION', 'SANTA OLGA'), ('CONSTITUCION', 'EMPEDRADO'), ('CONSTITUCION', 'QUILICURA'), ('SANTA OLGA', 'LOS PELLINES'), ('SANTA OLGA', 'CAUQUENES'), ('SANTA OLGA', 'PELLUHUE'), ('SANTA OLGA', 'CHANCO'), ('SANTA OLGA', 'EMPEDRADO'), ('SANTA OLGA', 'QUILICURA'), ('LOS PELLINES', 'CAUQUENES'), ('LOS PELLINES', 'PELLUHUE'), ('LOS PELLINES', 'CHANCO'), ('LOS PELLINES', 'EMPEDRADO'), ('LOS PELLINES', 'QUILICURA'), ('EMPEDRADO', 'CAUQUENES'), ('EMPEDRADO', 'PELLUHUE'), ('EMPEDRADO', 'CHANCO'), ('EMPEDRADO', 'QUILICURA'), ('CHANCO', 'CAUQUENES'), ('CHANCO', 'PELLUHUE'), ('CHANCO', 'QUILICURA'), ('PELLUHUE', 'CAUQUENES'), ('PELLUHUE', 'QUILICURA'), ('QUILICURA', 'CAUQUENES')], valor : 86.22539231120953\n"
     ]
    }
   ],
   "source": [
    "v=np.sum([G.edges[t]/1000 for t in T])\n",
    "print('Prim MST {0}, valor : {1}'.format(T,v))"
   ]
  },
  {
   "cell_type": "code",
   "execution_count": null,
   "metadata": {},
   "outputs": [],
   "source": []
  }
 ],
 "metadata": {
  "kernelspec": {
   "name": "python391jvsc74a57bd00e8d0ac39b1413ea33709178b964b2087a06d965eda941592b6cf0c40c84602b",
   "display_name": "Python 3.9.1 64-bit"
  },
  "language_info": {
   "codemirror_mode": {
    "name": "ipython",
    "version": 3
   },
   "file_extension": ".py",
   "mimetype": "text/x-python",
   "name": "python",
   "nbconvert_exporter": "python",
   "pygments_lexer": "ipython3",
   "version": "3.9.1"
  },
  "metadata": {
   "interpreter": {
    "hash": "0e8d0ac39b1413ea33709178b964b2087a06d965eda941592b6cf0c40c84602b"
   }
  }
 },
 "nbformat": 4,
 "nbformat_minor": 2
}