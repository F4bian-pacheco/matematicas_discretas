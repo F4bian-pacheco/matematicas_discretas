{
 "cells": [
  {
   "cell_type": "markdown",
   "metadata": {},
   "source": [
    "<h1>Recorrido de Grafos</h1>\n",
    "\n",
    "Dado un grafo ponderado $(G , w )$ donde $G = (V , E )$ y $w : E  \\mapsto \\mathbb R$, un\n",
    "arbol de expansión mı́nima es un arbol de expansión en el que la suma\n",
    "de los pesos w de las aristas es mı́nima.\n",
    "\n",
    "<h2>Algoritmo Prim</h2>\n",
    "\n",
    "El algoritmo de Prim construye un arbol visitando vértices de\n",
    "manera iterativa hasta que se obtiene un árbol de expansión mı́nima.Se comienza desde un vértice cualquiera y en cada iteración se agrega la arista que tenga el mı́nimo peso y no complete un ciclo.\n",
    "La complejidad computacional del algoritmo de Prim es $O(V \\operatorname{log} V)$.\n",
    "El siguiente pseudo-código implementa el algoritmo mediante una cola de prioridad:\n",
    "\n",
    "\n",
    "<img src=\"images/algoritmo_prim.png\" />\n",
    "\n",
    "<h2>Algoritmo Kruskal</h2>\n",
    "\n",
    "El algoritmo de Kruskal construye un arbol visitando aristas de\n",
    "manera iterativa hasta que se obtiene un árbol de expansión mı́nima.\n",
    "Se comienza desde un vértice cualquiera y en cada iteración se\n",
    "agrega la arista que tenga el mı́nimo peso y no complete un ciclo.\n",
    "La complejidad computacional del algoritmo de Kruskal es $O(E \\operatorname{log} E)$.\n",
    "\n",
    "\n",
    "<img src=\"images/algoritmo_kruskal.png\" />"
   ]
  },
  {
   "cell_type": "code",
   "execution_count": 3,
   "metadata": {},
   "outputs": [],
   "source": [
    "import numpy as np\n",
    "from heapq import heappush,heappop\n",
    "\n",
    "class abstract_graph:\n",
    "    \n",
    "    def __init__(self,_edges):\n",
    "        self.edges=_edges\n",
    "        self.nodes={u for u,v in self.edges} | {v for u,v in self.edges}\n",
    "        \n",
    "    def adjacency_matrix(self):\n",
    "        pass\n",
    "    \n",
    "    def adjacency_list(self):\n",
    "        pass\n",
    "\n",
    "    \n",
    "class simple_graph(abstract_graph):\n",
    "    \n",
    "    def adjacency_list(self):\n",
    "        adjacent=lambda n : {v for u,v in self.edges if u==n } | {u for u,v in self.edges if v==n}\n",
    "        return {v:adjacent(v) for v in self.nodes}\n",
    "    \n",
    "\n",
    "    \n",
    "class weighted_graph(abstract_graph):\n",
    "    \n",
    "    def __init__(self,_edges):\n",
    "        self.edges=_edges\n",
    "        self.nodes={u for u,v in self.edges.keys()} | {v for u,v in self.edges.keys()}\n",
    "        \n",
    "    def adjacency_matrix(self):\n",
    "        n=len(self.nodes)\n",
    "        mat=np.zeros((n,n))\n",
    "        adjacent=lambda x : [1 if x==v else 0 for (u,v) in enumerate(sorted(list(G.nodes))) ]\n",
    "        L=self.adjacency_list()\n",
    "        i=0\n",
    "        for v in sorted(list(G.nodes)):\n",
    "            for l in L[v]:\n",
    "                mat[i,]+=adjacent(l)\n",
    "            i=i+1\n",
    "        return mat\n",
    "    \n",
    "    def adjacency_list(self):\n",
    "        adjacent=lambda n : {v for u,v in self.edges.keys() if u==n } | {u for u,v in self.edges if v==n}\n",
    "        return {v:adjacent(v) for v in self.nodes}\n",
    "    \n",
    "    \n",
    "    \n"
   ]
  },
  {
   "cell_type": "code",
   "execution_count": 4,
   "metadata": {},
   "outputs": [],
   "source": [
    "def depth_first_search(graph,start):\n",
    "    stack, path = [start], []\n",
    "    adjacency=graph.adjacency_list()\n",
    "    while stack:\n",
    "        vertex = stack.pop()\n",
    "        if vertex in path:\n",
    "            continue\n",
    "        path.append(vertex)\n",
    "        for neighbor in adjacency[vertex]:\n",
    "            stack.append(neighbor)\n",
    "    return path"
   ]
  },
  {
   "cell_type": "code",
   "execution_count": 5,
   "metadata": {},
   "outputs": [
    {
     "name": "stdout",
     "output_type": "stream",
     "text": [
      "Tarea : write spec, Prioridad 1\n",
      "Tarea : create tests, Prioridad 3\n",
      "Tarea : write code, Prioridad 5\n",
      "Tarea : release product, Prioridad 7\n"
     ]
    }
   ],
   "source": [
    "import heapq\n",
    "\n",
    "h = []\n",
    "heappush(h, (5, 'write code'))\n",
    "heappush(h, (7, 'release product'))\n",
    "heappush(h, (1, 'write spec'))\n",
    "heappush(h, (3, 'create tests'))\n",
    "while h:\n",
    "    i,v=heappop(h)\n",
    "    print('Tarea : {0}, Prioridad {1}'.format(v,i))"
   ]
  },
  {
   "cell_type": "code",
   "execution_count": 6,
   "metadata": {},
   "outputs": [],
   "source": [
    "def prim_mst(graph,start):\n",
    "    pq, path = [], []\n",
    "    tree=[]\n",
    "    heappush(pq, (0, start))\n",
    "    adjacency=graph.adjacency_list()\n",
    "    while pq:\n",
    "        i,vertex=heappop(pq)\n",
    "        if vertex in path:\n",
    "            continue\n",
    "        print('Vertice : {0}, Prioridad {1}'.format(vertex,i))\n",
    "        path.append(vertex)\n",
    "        for neighbor in adjacency[vertex]:\n",
    "            if neighbor not in path:\n",
    "                if (vertex,neighbor) in graph.edges:\n",
    "                    heappush(pq, (graph.edges[(vertex,neighbor)], neighbor))\n",
    "                    tree.append((vertex,neighbor))\n",
    "                else:\n",
    "                    heappush(pq, (graph.edges[(neighbor,vertex)], neighbor))\n",
    "                    tree.append((neighbor,vertex))\n",
    "    return tree"
   ]
  },
  {
   "cell_type": "code",
   "execution_count": 7,
   "metadata": {},
   "outputs": [
    {
     "name": "stdout",
     "output_type": "stream",
     "text": [
      "aristas :  {(1, 2): 1, (3, 4): 2, (2, 4): 1}\n",
      "Vertice : 1, Prioridad 0\n",
      "Vertice : 2, Prioridad 1\n",
      "Vertice : 4, Prioridad 1\n",
      "Vertice : 3, Prioridad 2\n",
      "Prim MST [(1, 2), (2, 4), (3, 4)], valor : 4\n"
     ]
    }
   ],
   "source": [
    "import numpy as np\n",
    "\n",
    "E4={(1,2):1,(3,4):2,(2,4):1}\n",
    "E4.keys()\n",
    "G4=weighted_graph(E4)\n",
    "print('aristas : ',G4.edges)\n",
    "T=prim_mst(G4,1)\n",
    "v=np.sum([G4.edges[t] for t in T])\n",
    "print('Prim MST {0}, valor : {1}'.format(T,v))\n"
   ]
  },
  {
   "cell_type": "markdown",
   "metadata": {},
   "source": [
    "<h2>Ejercicio</h2>\n",
    "\n",
    "Se desea construir un acueducto que una las ciudades de la region del Maule. El costo en distancia se encuentra en mm en un archivo csv."
   ]
  },
  {
   "cell_type": "code",
   "execution_count": 8,
   "metadata": {},
   "outputs": [
    {
     "data": {
      "text/html": [
       "<div>\n",
       "<style scoped>\n",
       "    .dataframe tbody tr th:only-of-type {\n",
       "        vertical-align: middle;\n",
       "    }\n",
       "\n",
       "    .dataframe tbody tr th {\n",
       "        vertical-align: top;\n",
       "    }\n",
       "\n",
       "    .dataframe thead th {\n",
       "        text-align: right;\n",
       "    }\n",
       "</style>\n",
       "<table border=\"1\" class=\"dataframe\">\n",
       "  <thead>\n",
       "    <tr style=\"text-align: right;\">\n",
       "      <th></th>\n",
       "      <th>WKT</th>\n",
       "      <th>InputID</th>\n",
       "      <th>TargetID</th>\n",
       "      <th>Distance</th>\n",
       "    </tr>\n",
       "  </thead>\n",
       "  <tbody>\n",
       "    <tr>\n",
       "      <th>0</th>\n",
       "      <td>MULTIPOINT ((-71.661999 -35.432349),(-71.59687...</td>\n",
       "      <td>TALCA</td>\n",
       "      <td>PANGUILEMO</td>\n",
       "      <td>9402.992976</td>\n",
       "    </tr>\n",
       "    <tr>\n",
       "      <th>1</th>\n",
       "      <td>MULTIPOINT ((-71.661999 -35.432349),(-71.56431...</td>\n",
       "      <td>TALCA</td>\n",
       "      <td>HUILQUILEMU</td>\n",
       "      <td>9026.792210</td>\n",
       "    </tr>\n",
       "    <tr>\n",
       "      <th>2</th>\n",
       "      <td>MULTIPOINT ((-72.412391 -35.335426),(-71.66199...</td>\n",
       "      <td>TALCA</td>\n",
       "      <td>CONSTITUCION</td>\n",
       "      <td>69023.063640</td>\n",
       "    </tr>\n",
       "    <tr>\n",
       "      <th>3</th>\n",
       "      <td>MULTIPOINT ((-72.333641 -35.427048),(-71.66199...</td>\n",
       "      <td>TALCA</td>\n",
       "      <td>SANTA OLGA</td>\n",
       "      <td>60993.437978</td>\n",
       "    </tr>\n",
       "    <tr>\n",
       "      <th>4</th>\n",
       "      <td>MULTIPOINT ((-72.494926 -35.469452),(-71.66199...</td>\n",
       "      <td>TALCA</td>\n",
       "      <td>LOS PELLINES</td>\n",
       "      <td>75728.660537</td>\n",
       "    </tr>\n",
       "  </tbody>\n",
       "</table>\n",
       "</div>"
      ],
      "text/plain": [
       "                                                 WKT InputID      TargetID  \\\n",
       "0  MULTIPOINT ((-71.661999 -35.432349),(-71.59687...   TALCA    PANGUILEMO   \n",
       "1  MULTIPOINT ((-71.661999 -35.432349),(-71.56431...   TALCA   HUILQUILEMU   \n",
       "2  MULTIPOINT ((-72.412391 -35.335426),(-71.66199...   TALCA  CONSTITUCION   \n",
       "3  MULTIPOINT ((-72.333641 -35.427048),(-71.66199...   TALCA    SANTA OLGA   \n",
       "4  MULTIPOINT ((-72.494926 -35.469452),(-71.66199...   TALCA  LOS PELLINES   \n",
       "\n",
       "       Distance  \n",
       "0   9402.992976  \n",
       "1   9026.792210  \n",
       "2  69023.063640  \n",
       "3  60993.437978  \n",
       "4  75728.660537  "
      ]
     },
     "execution_count": 8,
     "metadata": {},
     "output_type": "execute_result"
    }
   ],
   "source": [
    "import pandas as pd\n",
    "\n",
    "df=pd.read_csv('https://raw.githubusercontent.com/sherna90/matematicas_discretas/master/data/distancias_maule.csv', encoding = 'utf-8',dtype={'WKT':str,'InputID':str,'TargetID':str,'Distance':float}) \n",
    "\n",
    "df.loc[df['InputID']=='TALCA'].head()"
   ]
  },
  {
   "cell_type": "code",
   "execution_count": 10,
   "metadata": {},
   "outputs": [
    {
     "data": {
      "text/plain": [
       "array(['TALCA', 'PANGUILEMO', 'HUILQUILEMU', 'CONSTITUCION', 'SANTA OLGA',\n",
       "       'LOS PELLINES', 'CUREPTO', 'EMPEDRADO', 'MAULE', 'CULENAR',\n",
       "       'VILLA FRANCIA', 'CHACARILLAS', 'PELARCO', 'PENCAHUE', 'CUMPEO',\n",
       "       'SAN CLEMENTE', 'SAN RAFAEL', 'CAUQUENES', 'CHANCO', 'PELLUHUE',\n",
       "       'QUILICURA', 'CURICO', 'SARMIENTO', 'VILLA LOS NICHES',\n",
       "       'SAN ALBERTO', 'HUALAE', 'LICANTEN', 'ILOCA', 'MOLINA',\n",
       "       'ITAHUE UNO', 'RAUCO', 'ROMERAL', 'SAGRADA  FAMILIA', 'VILLA PRAT',\n",
       "       'TENO', 'LLICO', 'LAGO VICHUQUEN', 'LINARES', 'VARA GRUESA',\n",
       "       'LAS OBRAS', 'COLBUN', 'PANIMAVIDA', 'LONGAVI', 'PARRAL', 'RETIRO',\n",
       "       'COPIHUE', 'SAN JAVIER', 'BOBADILLA', 'VILLA ALEGRE',\n",
       "       'YERBAS BUENAS'], dtype=object)"
      ]
     },
     "execution_count": 10,
     "metadata": {},
     "output_type": "execute_result"
    }
   ],
   "source": [
    "df['WKT'] = df['WKT'].apply(lambda x: x.encode('ascii', 'ignore').decode('ascii'))\n",
    "df['InputID'] = df['InputID'].apply(lambda x: x.encode('ascii', 'ignore').decode('ascii'))\n",
    "df['TargetID'] = df['TargetID'].apply(lambda x: x.encode('ascii', 'ignore').decode('ascii'))\n",
    "df['InputID'].unique()"
   ]
  },
  {
   "cell_type": "code",
   "execution_count": 11,
   "metadata": {},
   "outputs": [],
   "source": [
    "E={}\n",
    "for index, row in df.iterrows():\n",
    "    E.update({(str(row['InputID']), str(row['TargetID'])):row['Distance']/1000})"
   ]
  },
  {
   "cell_type": "code",
   "execution_count": 28,
   "metadata": {},
   "outputs": [],
   "source": [
    "#from matplotlib import pyplot\n",
    "#from shapely.geometry import MultiPoint\n",
    "#from shapely import wkt\n",
    "\n",
    "#points=[]\n",
    "#for index, row in df.iterrows():\n",
    "#    points.append(wkt.loads(str(row['WKT'])))"
   ]
  },
  {
   "cell_type": "code",
   "execution_count": 12,
   "metadata": {},
   "outputs": [],
   "source": [
    "G=weighted_graph(E)"
   ]
  },
  {
   "cell_type": "code",
   "execution_count": 13,
   "metadata": {},
   "outputs": [
    {
     "name": "stdout",
     "output_type": "stream",
     "text": [
      "{'LONGAVI', 'ILOCA', 'COPIHUE', 'SAN JAVIER', 'TALCA', 'PENCAHUE', 'VILLA FRANCIA', 'BOBADILLA', 'MOLINA', 'PELARCO', 'VILLA LOS NICHES', 'RETIRO', 'LOS PELLINES', 'SAN CLEMENTE', 'QUILICURA', 'RAUCO', 'COLBUN', 'MAULE', 'VARA GRUESA', 'SAN RAFAEL', 'SARMIENTO', 'CULENAR', 'VILLA ALEGRE', 'YERBAS BUENAS', 'HUILQUILEMU', 'CURICO', 'PANGUILEMO', 'CUREPTO', 'HUALAE', 'PELLUHUE', 'VILLA PRAT', 'CHANCO', 'SAN ALBERTO', 'ROMERAL', 'CONSTITUCION', 'PANIMAVIDA', 'TENO', 'PARRAL', 'SANTA OLGA', 'LINARES', 'EMPEDRADO', 'LAGO VICHUQUEN', 'CHACARILLAS', 'CAUQUENES', 'CUMPEO', 'ITAHUE UNO', 'SAGRADA  FAMILIA', 'LICANTEN', 'LAS OBRAS', 'LLICO'}\n"
     ]
    }
   ],
   "source": [
    "print(G.nodes)"
   ]
  },
  {
   "cell_type": "code",
   "execution_count": 14,
   "metadata": {},
   "outputs": [
    {
     "name": "stdout",
     "output_type": "stream",
     "text": [
      "Vertice : TALCA, Prioridad 0\n",
      "Vertice : CULENAR, Prioridad 3.96493383813168\n",
      "Vertice : VILLA FRANCIA, Prioridad 1.33428335842812\n",
      "Vertice : CHACARILLAS, Prioridad 4.46585695446726\n",
      "Vertice : MAULE, Prioridad 2.5950385329768\n",
      "Vertice : BOBADILLA, Prioridad 4.465889689069121\n",
      "Vertice : SAN JAVIER, Prioridad 4.59017254506704\n",
      "Vertice : HUILQUILEMU, Prioridad 9.026792209591079\n",
      "Vertice : VILLA ALEGRE, Prioridad 9.18977588004314\n",
      "Vertice : PANGUILEMO, Prioridad 9.40299297647628\n",
      "Vertice : SAN RAFAEL, Prioridad 9.180769916839209\n",
      "Vertice : PELARCO, Prioridad 10.7754701402999\n",
      "Vertice : PENCAHUE, Prioridad 11.4378358826853\n",
      "Vertice : SAN CLEMENTE, Prioridad 11.8953735732226\n",
      "Vertice : YERBAS BUENAS, Prioridad 16.4468074244873\n",
      "Vertice : LINARES, Prioridad 10.7962798998361\n",
      "Vertice : VARA GRUESA, Prioridad 8.40826968084362\n",
      "Vertice : LAS OBRAS, Prioridad 8.48362388917583\n",
      "Vertice : PANIMAVIDA, Prioridad 10.7193269370867\n",
      "Vertice : COLBUN, Prioridad 7.22485864136085\n",
      "Vertice : LONGAVI, Prioridad 13.191001647801599\n",
      "Vertice : RETIRO, Prioridad 11.7334951072981\n",
      "Vertice : COPIHUE, Prioridad 5.822738108811801\n",
      "Vertice : PARRAL, Prioridad 6.35181130986633\n",
      "Vertice : CUMPEO, Prioridad 20.6689717512939\n",
      "Vertice : ITAHUE UNO, Prioridad 18.4424693258925\n",
      "Vertice : MOLINA, Prioridad 7.25398445461394\n",
      "Vertice : SAGRADA  FAMILIA, Prioridad 13.1396608840502\n",
      "Vertice : VILLA LOS NICHES, Prioridad 7.56171644224313\n",
      "Vertice : RAUCO, Prioridad 1.7859841913083103\n",
      "Vertice : CURICO, Prioridad 8.904461253636859\n",
      "Vertice : SARMIENTO, Prioridad 5.821907697423909\n",
      "Vertice : ROMERAL, Prioridad 6.267937916933221\n",
      "Vertice : SAN ALBERTO, Prioridad 3.04757217274264\n",
      "Vertice : TENO, Prioridad 8.13009963945093\n",
      "Vertice : VILLA PRAT, Prioridad 23.2324663656151\n",
      "Vertice : HUALAE, Prioridad 22.1383891313975\n",
      "Vertice : LICANTEN, Prioridad 16.566601177923598\n",
      "Vertice : LAGO VICHUQUEN, Prioridad 11.4546535002247\n",
      "Vertice : CUREPTO, Prioridad 12.7686662995542\n",
      "Vertice : LLICO, Prioridad 15.4798261540034\n",
      "Vertice : ILOCA, Prioridad 18.9543395814527\n",
      "Vertice : CONSTITUCION, Prioridad 44.4978754010726\n",
      "Vertice : SANTA OLGA, Prioridad 12.4311053826251\n",
      "Vertice : LOS PELLINES, Prioridad 15.379910524141598\n",
      "Vertice : EMPEDRADO, Prioridad 18.9179973431884\n",
      "Vertice : CHANCO, Prioridad 28.010189548645098\n",
      "Vertice : PELLUHUE, Prioridad 9.4650186739867\n",
      "Vertice : QUILICURA, Prioridad 18.0148005036683\n",
      "Vertice : CAUQUENES, Prioridad 28.626691309022796\n"
     ]
    }
   ],
   "source": [
    "T=prim_mst(G,'TALCA')"
   ]
  },
  {
   "cell_type": "code",
   "execution_count": 15,
   "metadata": {},
   "outputs": [
    {
     "name": "stdout",
     "output_type": "stream",
     "text": [
      "Prim MST [('TALCA', 'LONGAVI'), ('TALCA', 'ILOCA'), ('TALCA', 'COPIHUE'), ('TALCA', 'SAN JAVIER'), ('TALCA', 'PENCAHUE'), ('TALCA', 'VILLA FRANCIA'), ('TALCA', 'BOBADILLA'), ('TALCA', 'MOLINA'), ('TALCA', 'PELARCO'), ('TALCA', 'VILLA LOS NICHES'), ('TALCA', 'RETIRO'), ('TALCA', 'LOS PELLINES'), ('TALCA', 'SAN CLEMENTE'), ('TALCA', 'QUILICURA'), ('TALCA', 'RAUCO'), ('TALCA', 'COLBUN'), ('TALCA', 'MAULE'), ('TALCA', 'VARA GRUESA'), ('TALCA', 'SAN RAFAEL'), ('TALCA', 'SARMIENTO'), ('TALCA', 'CULENAR'), ('TALCA', 'VILLA ALEGRE'), ('TALCA', 'YERBAS BUENAS'), ('TALCA', 'HUILQUILEMU'), ('TALCA', 'CURICO'), ('TALCA', 'PANGUILEMO'), ('TALCA', 'CUREPTO'), ('TALCA', 'HUALAE'), ('TALCA', 'PELLUHUE'), ('TALCA', 'VILLA PRAT'), ('TALCA', 'CHANCO'), ('TALCA', 'SAN ALBERTO'), ('TALCA', 'ROMERAL'), ('TALCA', 'CONSTITUCION'), ('TALCA', 'PANIMAVIDA'), ('TALCA', 'TENO'), ('TALCA', 'PARRAL'), ('TALCA', 'SANTA OLGA'), ('TALCA', 'LINARES'), ('TALCA', 'EMPEDRADO'), ('TALCA', 'LAGO VICHUQUEN'), ('TALCA', 'CHACARILLAS'), ('TALCA', 'CAUQUENES'), ('TALCA', 'CUMPEO'), ('TALCA', 'ITAHUE UNO'), ('TALCA', 'SAGRADA  FAMILIA'), ('TALCA', 'LICANTEN'), ('TALCA', 'LAS OBRAS'), ('TALCA', 'LLICO'), ('CULENAR', 'LONGAVI'), ('CULENAR', 'ILOCA'), ('CULENAR', 'COPIHUE'), ('CULENAR', 'SAN JAVIER'), ('CULENAR', 'PENCAHUE'), ('CULENAR', 'VILLA FRANCIA'), ('CULENAR', 'BOBADILLA'), ('CULENAR', 'MOLINA'), ('CULENAR', 'PELARCO'), ('CULENAR', 'VILLA LOS NICHES'), ('CULENAR', 'RETIRO'), ('CULENAR', 'LOS PELLINES'), ('CULENAR', 'SAN CLEMENTE'), ('CULENAR', 'QUILICURA'), ('CULENAR', 'RAUCO'), ('CULENAR', 'COLBUN'), ('CULENAR', 'MAULE'), ('CULENAR', 'VARA GRUESA'), ('CULENAR', 'SAN RAFAEL'), ('CULENAR', 'SARMIENTO'), ('CULENAR', 'VILLA ALEGRE'), ('CULENAR', 'YERBAS BUENAS'), ('CULENAR', 'HUILQUILEMU'), ('CULENAR', 'CURICO'), ('CULENAR', 'PANGUILEMO'), ('CULENAR', 'CUREPTO'), ('CULENAR', 'HUALAE'), ('CULENAR', 'PELLUHUE'), ('CULENAR', 'VILLA PRAT'), ('CULENAR', 'CHANCO'), ('CULENAR', 'SAN ALBERTO'), ('CULENAR', 'ROMERAL'), ('CULENAR', 'CONSTITUCION'), ('CULENAR', 'PANIMAVIDA'), ('CULENAR', 'TENO'), ('CULENAR', 'PARRAL'), ('CULENAR', 'SANTA OLGA'), ('CULENAR', 'LINARES'), ('CULENAR', 'EMPEDRADO'), ('CULENAR', 'LAGO VICHUQUEN'), ('CULENAR', 'CHACARILLAS'), ('CULENAR', 'CAUQUENES'), ('CULENAR', 'CUMPEO'), ('CULENAR', 'ITAHUE UNO'), ('CULENAR', 'SAGRADA  FAMILIA'), ('CULENAR', 'LICANTEN'), ('CULENAR', 'LAS OBRAS'), ('CULENAR', 'LLICO'), ('VILLA FRANCIA', 'LONGAVI'), ('VILLA FRANCIA', 'ILOCA'), ('VILLA FRANCIA', 'COPIHUE'), ('VILLA FRANCIA', 'SAN JAVIER'), ('VILLA FRANCIA', 'PENCAHUE'), ('VILLA FRANCIA', 'BOBADILLA'), ('VILLA FRANCIA', 'MOLINA'), ('VILLA FRANCIA', 'PELARCO'), ('VILLA FRANCIA', 'VILLA LOS NICHES'), ('VILLA FRANCIA', 'RETIRO'), ('VILLA FRANCIA', 'LOS PELLINES'), ('VILLA FRANCIA', 'SAN CLEMENTE'), ('VILLA FRANCIA', 'QUILICURA'), ('VILLA FRANCIA', 'RAUCO'), ('VILLA FRANCIA', 'COLBUN'), ('VILLA FRANCIA', 'MAULE'), ('VILLA FRANCIA', 'VARA GRUESA'), ('VILLA FRANCIA', 'SAN RAFAEL'), ('VILLA FRANCIA', 'SARMIENTO'), ('VILLA FRANCIA', 'VILLA ALEGRE'), ('VILLA FRANCIA', 'YERBAS BUENAS'), ('VILLA FRANCIA', 'HUILQUILEMU'), ('VILLA FRANCIA', 'CURICO'), ('VILLA FRANCIA', 'PANGUILEMO'), ('VILLA FRANCIA', 'CUREPTO'), ('VILLA FRANCIA', 'HUALAE'), ('VILLA FRANCIA', 'PELLUHUE'), ('VILLA FRANCIA', 'VILLA PRAT'), ('VILLA FRANCIA', 'CHANCO'), ('VILLA FRANCIA', 'SAN ALBERTO'), ('VILLA FRANCIA', 'ROMERAL'), ('VILLA FRANCIA', 'CONSTITUCION'), ('VILLA FRANCIA', 'PANIMAVIDA'), ('VILLA FRANCIA', 'TENO'), ('VILLA FRANCIA', 'PARRAL'), ('VILLA FRANCIA', 'SANTA OLGA'), ('VILLA FRANCIA', 'LINARES'), ('VILLA FRANCIA', 'EMPEDRADO'), ('VILLA FRANCIA', 'LAGO VICHUQUEN'), ('VILLA FRANCIA', 'CHACARILLAS'), ('VILLA FRANCIA', 'CAUQUENES'), ('VILLA FRANCIA', 'CUMPEO'), ('VILLA FRANCIA', 'ITAHUE UNO'), ('VILLA FRANCIA', 'SAGRADA  FAMILIA'), ('VILLA FRANCIA', 'LICANTEN'), ('VILLA FRANCIA', 'LAS OBRAS'), ('VILLA FRANCIA', 'LLICO'), ('CHACARILLAS', 'LONGAVI'), ('CHACARILLAS', 'ILOCA'), ('CHACARILLAS', 'COPIHUE'), ('CHACARILLAS', 'SAN JAVIER'), ('CHACARILLAS', 'PENCAHUE'), ('CHACARILLAS', 'BOBADILLA'), ('CHACARILLAS', 'MOLINA'), ('CHACARILLAS', 'PELARCO'), ('CHACARILLAS', 'VILLA LOS NICHES'), ('CHACARILLAS', 'RETIRO'), ('CHACARILLAS', 'LOS PELLINES'), ('CHACARILLAS', 'SAN CLEMENTE'), ('CHACARILLAS', 'QUILICURA'), ('CHACARILLAS', 'RAUCO'), ('CHACARILLAS', 'COLBUN'), ('CHACARILLAS', 'MAULE'), ('CHACARILLAS', 'VARA GRUESA'), ('CHACARILLAS', 'SAN RAFAEL'), ('CHACARILLAS', 'SARMIENTO'), ('CHACARILLAS', 'VILLA ALEGRE'), ('CHACARILLAS', 'YERBAS BUENAS'), ('CHACARILLAS', 'HUILQUILEMU'), ('CHACARILLAS', 'CURICO'), ('CHACARILLAS', 'PANGUILEMO'), ('CHACARILLAS', 'CUREPTO'), ('CHACARILLAS', 'HUALAE'), ('CHACARILLAS', 'PELLUHUE'), ('CHACARILLAS', 'VILLA PRAT'), ('CHACARILLAS', 'CHANCO'), ('CHACARILLAS', 'SAN ALBERTO'), ('CHACARILLAS', 'ROMERAL'), ('CHACARILLAS', 'CONSTITUCION'), ('CHACARILLAS', 'PANIMAVIDA'), ('CHACARILLAS', 'TENO'), ('CHACARILLAS', 'PARRAL'), ('CHACARILLAS', 'SANTA OLGA'), ('CHACARILLAS', 'LINARES'), ('CHACARILLAS', 'EMPEDRADO'), ('CHACARILLAS', 'LAGO VICHUQUEN'), ('CHACARILLAS', 'CAUQUENES'), ('CHACARILLAS', 'CUMPEO'), ('CHACARILLAS', 'ITAHUE UNO'), ('CHACARILLAS', 'SAGRADA  FAMILIA'), ('CHACARILLAS', 'LICANTEN'), ('CHACARILLAS', 'LAS OBRAS'), ('CHACARILLAS', 'LLICO'), ('MAULE', 'LONGAVI'), ('MAULE', 'ILOCA'), ('MAULE', 'COPIHUE'), ('MAULE', 'SAN JAVIER'), ('MAULE', 'PENCAHUE'), ('MAULE', 'BOBADILLA'), ('MAULE', 'MOLINA'), ('MAULE', 'PELARCO'), ('MAULE', 'VILLA LOS NICHES'), ('MAULE', 'RETIRO'), ('MAULE', 'LOS PELLINES'), ('MAULE', 'SAN CLEMENTE'), ('MAULE', 'QUILICURA'), ('MAULE', 'RAUCO'), ('MAULE', 'COLBUN'), ('MAULE', 'VARA GRUESA'), ('MAULE', 'SAN RAFAEL'), ('MAULE', 'SARMIENTO'), ('MAULE', 'VILLA ALEGRE'), ('MAULE', 'YERBAS BUENAS'), ('MAULE', 'HUILQUILEMU'), ('MAULE', 'CURICO'), ('MAULE', 'PANGUILEMO'), ('MAULE', 'CUREPTO'), ('MAULE', 'HUALAE'), ('MAULE', 'PELLUHUE'), ('MAULE', 'VILLA PRAT'), ('MAULE', 'CHANCO'), ('MAULE', 'SAN ALBERTO'), ('MAULE', 'ROMERAL'), ('MAULE', 'CONSTITUCION'), ('MAULE', 'PANIMAVIDA'), ('MAULE', 'TENO'), ('MAULE', 'PARRAL'), ('MAULE', 'SANTA OLGA'), ('MAULE', 'LINARES'), ('MAULE', 'EMPEDRADO'), ('MAULE', 'LAGO VICHUQUEN'), ('MAULE', 'CAUQUENES'), ('MAULE', 'CUMPEO'), ('MAULE', 'ITAHUE UNO'), ('MAULE', 'SAGRADA  FAMILIA'), ('MAULE', 'LICANTEN'), ('MAULE', 'LAS OBRAS'), ('MAULE', 'LLICO'), ('BOBADILLA', 'LONGAVI'), ('BOBADILLA', 'ILOCA'), ('BOBADILLA', 'COPIHUE'), ('BOBADILLA', 'SAN JAVIER'), ('BOBADILLA', 'PENCAHUE'), ('BOBADILLA', 'MOLINA'), ('BOBADILLA', 'PELARCO'), ('BOBADILLA', 'VILLA LOS NICHES'), ('BOBADILLA', 'RETIRO'), ('BOBADILLA', 'LOS PELLINES'), ('BOBADILLA', 'SAN CLEMENTE'), ('BOBADILLA', 'QUILICURA'), ('BOBADILLA', 'RAUCO'), ('BOBADILLA', 'COLBUN'), ('BOBADILLA', 'VARA GRUESA'), ('BOBADILLA', 'SAN RAFAEL'), ('BOBADILLA', 'SARMIENTO'), ('BOBADILLA', 'VILLA ALEGRE'), ('BOBADILLA', 'YERBAS BUENAS'), ('BOBADILLA', 'HUILQUILEMU'), ('BOBADILLA', 'CURICO'), ('BOBADILLA', 'PANGUILEMO'), ('BOBADILLA', 'CUREPTO'), ('BOBADILLA', 'HUALAE'), ('BOBADILLA', 'PELLUHUE'), ('BOBADILLA', 'VILLA PRAT'), ('BOBADILLA', 'CHANCO'), ('BOBADILLA', 'SAN ALBERTO'), ('BOBADILLA', 'ROMERAL'), ('BOBADILLA', 'CONSTITUCION'), ('BOBADILLA', 'PANIMAVIDA'), ('BOBADILLA', 'TENO'), ('BOBADILLA', 'PARRAL'), ('BOBADILLA', 'SANTA OLGA'), ('BOBADILLA', 'LINARES'), ('BOBADILLA', 'EMPEDRADO'), ('BOBADILLA', 'LAGO VICHUQUEN'), ('BOBADILLA', 'CAUQUENES'), ('BOBADILLA', 'CUMPEO'), ('BOBADILLA', 'ITAHUE UNO'), ('BOBADILLA', 'SAGRADA  FAMILIA'), ('BOBADILLA', 'LICANTEN'), ('BOBADILLA', 'LAS OBRAS'), ('BOBADILLA', 'LLICO'), ('SAN JAVIER', 'LONGAVI'), ('SAN JAVIER', 'ILOCA'), ('SAN JAVIER', 'COPIHUE'), ('SAN JAVIER', 'PENCAHUE'), ('SAN JAVIER', 'MOLINA'), ('SAN JAVIER', 'PELARCO'), ('SAN JAVIER', 'VILLA LOS NICHES'), ('SAN JAVIER', 'RETIRO'), ('SAN JAVIER', 'LOS PELLINES'), ('SAN JAVIER', 'SAN CLEMENTE'), ('SAN JAVIER', 'QUILICURA'), ('SAN JAVIER', 'RAUCO'), ('SAN JAVIER', 'COLBUN'), ('SAN JAVIER', 'VARA GRUESA'), ('SAN JAVIER', 'SAN RAFAEL'), ('SAN JAVIER', 'SARMIENTO'), ('SAN JAVIER', 'VILLA ALEGRE'), ('SAN JAVIER', 'YERBAS BUENAS'), ('SAN JAVIER', 'HUILQUILEMU'), ('SAN JAVIER', 'CURICO'), ('SAN JAVIER', 'PANGUILEMO'), ('SAN JAVIER', 'CUREPTO'), ('SAN JAVIER', 'HUALAE'), ('SAN JAVIER', 'PELLUHUE'), ('SAN JAVIER', 'VILLA PRAT'), ('SAN JAVIER', 'CHANCO'), ('SAN JAVIER', 'SAN ALBERTO'), ('SAN JAVIER', 'ROMERAL'), ('SAN JAVIER', 'CONSTITUCION'), ('SAN JAVIER', 'PANIMAVIDA'), ('SAN JAVIER', 'TENO'), ('SAN JAVIER', 'PARRAL'), ('SAN JAVIER', 'SANTA OLGA'), ('SAN JAVIER', 'LINARES'), ('SAN JAVIER', 'EMPEDRADO'), ('SAN JAVIER', 'LAGO VICHUQUEN'), ('SAN JAVIER', 'CAUQUENES'), ('SAN JAVIER', 'CUMPEO'), ('SAN JAVIER', 'ITAHUE UNO'), ('SAN JAVIER', 'SAGRADA  FAMILIA'), ('SAN JAVIER', 'LICANTEN'), ('SAN JAVIER', 'LAS OBRAS'), ('SAN JAVIER', 'LLICO'), ('HUILQUILEMU', 'LONGAVI'), ('HUILQUILEMU', 'ILOCA'), ('HUILQUILEMU', 'COPIHUE'), ('HUILQUILEMU', 'PENCAHUE'), ('HUILQUILEMU', 'MOLINA'), ('HUILQUILEMU', 'PELARCO'), ('HUILQUILEMU', 'VILLA LOS NICHES'), ('HUILQUILEMU', 'RETIRO'), ('HUILQUILEMU', 'LOS PELLINES'), ('HUILQUILEMU', 'SAN CLEMENTE'), ('HUILQUILEMU', 'QUILICURA'), ('HUILQUILEMU', 'RAUCO'), ('HUILQUILEMU', 'COLBUN'), ('HUILQUILEMU', 'VARA GRUESA'), ('HUILQUILEMU', 'SAN RAFAEL'), ('HUILQUILEMU', 'SARMIENTO'), ('HUILQUILEMU', 'VILLA ALEGRE'), ('HUILQUILEMU', 'YERBAS BUENAS'), ('HUILQUILEMU', 'CURICO'), ('HUILQUILEMU', 'PANGUILEMO'), ('HUILQUILEMU', 'CUREPTO'), ('HUILQUILEMU', 'HUALAE'), ('HUILQUILEMU', 'PELLUHUE'), ('HUILQUILEMU', 'VILLA PRAT'), ('HUILQUILEMU', 'CHANCO'), ('HUILQUILEMU', 'SAN ALBERTO'), ('HUILQUILEMU', 'ROMERAL'), ('HUILQUILEMU', 'CONSTITUCION'), ('HUILQUILEMU', 'PANIMAVIDA'), ('HUILQUILEMU', 'TENO'), ('HUILQUILEMU', 'PARRAL'), ('HUILQUILEMU', 'SANTA OLGA'), ('HUILQUILEMU', 'LINARES'), ('HUILQUILEMU', 'EMPEDRADO'), ('HUILQUILEMU', 'LAGO VICHUQUEN'), ('HUILQUILEMU', 'CAUQUENES'), ('HUILQUILEMU', 'CUMPEO'), ('HUILQUILEMU', 'ITAHUE UNO'), ('HUILQUILEMU', 'SAGRADA  FAMILIA'), ('HUILQUILEMU', 'LICANTEN'), ('HUILQUILEMU', 'LAS OBRAS'), ('HUILQUILEMU', 'LLICO'), ('VILLA ALEGRE', 'LONGAVI'), ('VILLA ALEGRE', 'ILOCA'), ('VILLA ALEGRE', 'COPIHUE'), ('VILLA ALEGRE', 'PENCAHUE'), ('VILLA ALEGRE', 'MOLINA'), ('VILLA ALEGRE', 'PELARCO'), ('VILLA ALEGRE', 'VILLA LOS NICHES'), ('VILLA ALEGRE', 'RETIRO'), ('VILLA ALEGRE', 'LOS PELLINES'), ('VILLA ALEGRE', 'SAN CLEMENTE'), ('VILLA ALEGRE', 'QUILICURA'), ('VILLA ALEGRE', 'RAUCO'), ('VILLA ALEGRE', 'COLBUN'), ('VILLA ALEGRE', 'VARA GRUESA'), ('VILLA ALEGRE', 'SAN RAFAEL'), ('VILLA ALEGRE', 'SARMIENTO'), ('VILLA ALEGRE', 'YERBAS BUENAS'), ('VILLA ALEGRE', 'CURICO'), ('VILLA ALEGRE', 'PANGUILEMO'), ('VILLA ALEGRE', 'CUREPTO'), ('VILLA ALEGRE', 'HUALAE'), ('VILLA ALEGRE', 'PELLUHUE'), ('VILLA ALEGRE', 'VILLA PRAT'), ('VILLA ALEGRE', 'CHANCO'), ('VILLA ALEGRE', 'SAN ALBERTO'), ('VILLA ALEGRE', 'ROMERAL'), ('VILLA ALEGRE', 'CONSTITUCION'), ('VILLA ALEGRE', 'PANIMAVIDA'), ('VILLA ALEGRE', 'TENO'), ('VILLA ALEGRE', 'PARRAL'), ('VILLA ALEGRE', 'SANTA OLGA'), ('VILLA ALEGRE', 'LINARES'), ('VILLA ALEGRE', 'EMPEDRADO'), ('VILLA ALEGRE', 'LAGO VICHUQUEN'), ('VILLA ALEGRE', 'CAUQUENES'), ('VILLA ALEGRE', 'CUMPEO'), ('VILLA ALEGRE', 'ITAHUE UNO'), ('VILLA ALEGRE', 'SAGRADA  FAMILIA'), ('VILLA ALEGRE', 'LICANTEN'), ('VILLA ALEGRE', 'LAS OBRAS'), ('VILLA ALEGRE', 'LLICO'), ('PANGUILEMO', 'LONGAVI'), ('PANGUILEMO', 'ILOCA'), ('PANGUILEMO', 'COPIHUE'), ('PANGUILEMO', 'PENCAHUE'), ('PANGUILEMO', 'MOLINA'), ('PANGUILEMO', 'PELARCO'), ('PANGUILEMO', 'VILLA LOS NICHES'), ('PANGUILEMO', 'RETIRO'), ('PANGUILEMO', 'LOS PELLINES'), ('PANGUILEMO', 'SAN CLEMENTE'), ('PANGUILEMO', 'QUILICURA'), ('PANGUILEMO', 'RAUCO'), ('PANGUILEMO', 'COLBUN'), ('PANGUILEMO', 'VARA GRUESA'), ('PANGUILEMO', 'SAN RAFAEL'), ('PANGUILEMO', 'SARMIENTO'), ('PANGUILEMO', 'YERBAS BUENAS'), ('PANGUILEMO', 'CURICO'), ('PANGUILEMO', 'CUREPTO'), ('PANGUILEMO', 'HUALAE'), ('PANGUILEMO', 'PELLUHUE'), ('PANGUILEMO', 'VILLA PRAT'), ('PANGUILEMO', 'CHANCO'), ('PANGUILEMO', 'SAN ALBERTO'), ('PANGUILEMO', 'ROMERAL'), ('PANGUILEMO', 'CONSTITUCION'), ('PANGUILEMO', 'PANIMAVIDA'), ('PANGUILEMO', 'TENO'), ('PANGUILEMO', 'PARRAL'), ('PANGUILEMO', 'SANTA OLGA'), ('PANGUILEMO', 'LINARES'), ('PANGUILEMO', 'EMPEDRADO'), ('PANGUILEMO', 'LAGO VICHUQUEN'), ('PANGUILEMO', 'CAUQUENES'), ('PANGUILEMO', 'CUMPEO'), ('PANGUILEMO', 'ITAHUE UNO'), ('PANGUILEMO', 'SAGRADA  FAMILIA'), ('PANGUILEMO', 'LICANTEN'), ('PANGUILEMO', 'LAS OBRAS'), ('PANGUILEMO', 'LLICO'), ('SAN RAFAEL', 'LONGAVI'), ('SAN RAFAEL', 'ILOCA'), ('SAN RAFAEL', 'COPIHUE'), ('SAN RAFAEL', 'PENCAHUE'), ('SAN RAFAEL', 'MOLINA'), ('SAN RAFAEL', 'PELARCO'), ('SAN RAFAEL', 'VILLA LOS NICHES'), ('SAN RAFAEL', 'RETIRO'), ('SAN RAFAEL', 'LOS PELLINES'), ('SAN RAFAEL', 'SAN CLEMENTE'), ('SAN RAFAEL', 'QUILICURA'), ('SAN RAFAEL', 'RAUCO'), ('SAN RAFAEL', 'COLBUN'), ('SAN RAFAEL', 'VARA GRUESA'), ('SAN RAFAEL', 'SARMIENTO'), ('SAN RAFAEL', 'YERBAS BUENAS'), ('SAN RAFAEL', 'CURICO'), ('SAN RAFAEL', 'CUREPTO'), ('SAN RAFAEL', 'HUALAE'), ('SAN RAFAEL', 'PELLUHUE'), ('SAN RAFAEL', 'VILLA PRAT'), ('SAN RAFAEL', 'CHANCO'), ('SAN RAFAEL', 'SAN ALBERTO'), ('SAN RAFAEL', 'ROMERAL'), ('SAN RAFAEL', 'CONSTITUCION'), ('SAN RAFAEL', 'PANIMAVIDA'), ('SAN RAFAEL', 'TENO'), ('SAN RAFAEL', 'PARRAL'), ('SAN RAFAEL', 'SANTA OLGA'), ('SAN RAFAEL', 'LINARES'), ('SAN RAFAEL', 'EMPEDRADO'), ('SAN RAFAEL', 'LAGO VICHUQUEN'), ('SAN RAFAEL', 'CAUQUENES'), ('SAN RAFAEL', 'CUMPEO'), ('SAN RAFAEL', 'ITAHUE UNO'), ('SAN RAFAEL', 'SAGRADA  FAMILIA'), ('SAN RAFAEL', 'LICANTEN'), ('SAN RAFAEL', 'LAS OBRAS'), ('SAN RAFAEL', 'LLICO'), ('PELARCO', 'LONGAVI'), ('PELARCO', 'ILOCA'), ('PELARCO', 'COPIHUE'), ('PELARCO', 'PENCAHUE'), ('PELARCO', 'MOLINA'), ('PELARCO', 'VILLA LOS NICHES'), ('PELARCO', 'RETIRO'), ('PELARCO', 'LOS PELLINES'), ('PELARCO', 'SAN CLEMENTE'), ('PELARCO', 'QUILICURA'), ('PELARCO', 'RAUCO'), ('PELARCO', 'COLBUN'), ('PELARCO', 'VARA GRUESA'), ('PELARCO', 'SARMIENTO'), ('PELARCO', 'YERBAS BUENAS'), ('PELARCO', 'CURICO'), ('PELARCO', 'CUREPTO'), ('PELARCO', 'HUALAE'), ('PELARCO', 'PELLUHUE'), ('PELARCO', 'VILLA PRAT'), ('PELARCO', 'CHANCO'), ('PELARCO', 'SAN ALBERTO'), ('PELARCO', 'ROMERAL'), ('PELARCO', 'CONSTITUCION'), ('PELARCO', 'PANIMAVIDA'), ('PELARCO', 'TENO'), ('PELARCO', 'PARRAL'), ('PELARCO', 'SANTA OLGA'), ('PELARCO', 'LINARES'), ('PELARCO', 'EMPEDRADO'), ('PELARCO', 'LAGO VICHUQUEN'), ('PELARCO', 'CAUQUENES'), ('PELARCO', 'CUMPEO'), ('PELARCO', 'ITAHUE UNO'), ('PELARCO', 'SAGRADA  FAMILIA'), ('PELARCO', 'LICANTEN'), ('PELARCO', 'LAS OBRAS'), ('PELARCO', 'LLICO'), ('PENCAHUE', 'LONGAVI'), ('PENCAHUE', 'ILOCA'), ('PENCAHUE', 'COPIHUE'), ('PENCAHUE', 'MOLINA'), ('PENCAHUE', 'VILLA LOS NICHES'), ('PENCAHUE', 'RETIRO'), ('PENCAHUE', 'LOS PELLINES'), ('PENCAHUE', 'SAN CLEMENTE'), ('PENCAHUE', 'QUILICURA'), ('PENCAHUE', 'RAUCO'), ('PENCAHUE', 'COLBUN'), ('PENCAHUE', 'VARA GRUESA'), ('PENCAHUE', 'SARMIENTO'), ('PENCAHUE', 'YERBAS BUENAS'), ('PENCAHUE', 'CURICO'), ('PENCAHUE', 'CUREPTO'), ('PENCAHUE', 'HUALAE'), ('PENCAHUE', 'PELLUHUE'), ('PENCAHUE', 'VILLA PRAT'), ('PENCAHUE', 'CHANCO'), ('PENCAHUE', 'SAN ALBERTO'), ('PENCAHUE', 'ROMERAL'), ('PENCAHUE', 'CONSTITUCION'), ('PENCAHUE', 'PANIMAVIDA'), ('PENCAHUE', 'TENO'), ('PENCAHUE', 'PARRAL'), ('PENCAHUE', 'SANTA OLGA'), ('PENCAHUE', 'LINARES'), ('PENCAHUE', 'EMPEDRADO'), ('PENCAHUE', 'LAGO VICHUQUEN'), ('PENCAHUE', 'CAUQUENES'), ('PENCAHUE', 'CUMPEO'), ('PENCAHUE', 'ITAHUE UNO'), ('PENCAHUE', 'SAGRADA  FAMILIA'), ('PENCAHUE', 'LICANTEN'), ('PENCAHUE', 'LAS OBRAS'), ('PENCAHUE', 'LLICO'), ('SAN CLEMENTE', 'LONGAVI'), ('SAN CLEMENTE', 'ILOCA'), ('SAN CLEMENTE', 'COPIHUE'), ('SAN CLEMENTE', 'MOLINA'), ('SAN CLEMENTE', 'VILLA LOS NICHES'), ('SAN CLEMENTE', 'RETIRO'), ('SAN CLEMENTE', 'LOS PELLINES'), ('SAN CLEMENTE', 'QUILICURA'), ('SAN CLEMENTE', 'RAUCO'), ('SAN CLEMENTE', 'COLBUN'), ('SAN CLEMENTE', 'VARA GRUESA'), ('SAN CLEMENTE', 'SARMIENTO'), ('SAN CLEMENTE', 'YERBAS BUENAS'), ('SAN CLEMENTE', 'CURICO'), ('SAN CLEMENTE', 'CUREPTO'), ('SAN CLEMENTE', 'HUALAE'), ('SAN CLEMENTE', 'PELLUHUE'), ('SAN CLEMENTE', 'VILLA PRAT'), ('SAN CLEMENTE', 'CHANCO'), ('SAN CLEMENTE', 'SAN ALBERTO'), ('SAN CLEMENTE', 'ROMERAL'), ('SAN CLEMENTE', 'CONSTITUCION'), ('SAN CLEMENTE', 'PANIMAVIDA'), ('SAN CLEMENTE', 'TENO'), ('SAN CLEMENTE', 'PARRAL'), ('SAN CLEMENTE', 'SANTA OLGA'), ('SAN CLEMENTE', 'LINARES'), ('SAN CLEMENTE', 'EMPEDRADO'), ('SAN CLEMENTE', 'LAGO VICHUQUEN'), ('SAN CLEMENTE', 'CAUQUENES'), ('SAN CLEMENTE', 'CUMPEO'), ('SAN CLEMENTE', 'ITAHUE UNO'), ('SAN CLEMENTE', 'SAGRADA  FAMILIA'), ('SAN CLEMENTE', 'LICANTEN'), ('SAN CLEMENTE', 'LAS OBRAS'), ('SAN CLEMENTE', 'LLICO'), ('YERBAS BUENAS', 'LONGAVI'), ('YERBAS BUENAS', 'ILOCA'), ('YERBAS BUENAS', 'COPIHUE'), ('YERBAS BUENAS', 'MOLINA'), ('YERBAS BUENAS', 'VILLA LOS NICHES'), ('YERBAS BUENAS', 'RETIRO'), ('YERBAS BUENAS', 'LOS PELLINES'), ('YERBAS BUENAS', 'QUILICURA'), ('YERBAS BUENAS', 'RAUCO'), ('YERBAS BUENAS', 'COLBUN'), ('YERBAS BUENAS', 'VARA GRUESA'), ('YERBAS BUENAS', 'SARMIENTO'), ('YERBAS BUENAS', 'CURICO'), ('YERBAS BUENAS', 'CUREPTO'), ('YERBAS BUENAS', 'HUALAE'), ('YERBAS BUENAS', 'PELLUHUE'), ('YERBAS BUENAS', 'VILLA PRAT'), ('YERBAS BUENAS', 'CHANCO'), ('YERBAS BUENAS', 'SAN ALBERTO'), ('YERBAS BUENAS', 'ROMERAL'), ('YERBAS BUENAS', 'CONSTITUCION'), ('YERBAS BUENAS', 'PANIMAVIDA'), ('YERBAS BUENAS', 'TENO'), ('YERBAS BUENAS', 'PARRAL'), ('YERBAS BUENAS', 'SANTA OLGA'), ('YERBAS BUENAS', 'LINARES'), ('YERBAS BUENAS', 'EMPEDRADO'), ('YERBAS BUENAS', 'LAGO VICHUQUEN'), ('YERBAS BUENAS', 'CAUQUENES'), ('YERBAS BUENAS', 'CUMPEO'), ('YERBAS BUENAS', 'ITAHUE UNO'), ('YERBAS BUENAS', 'SAGRADA  FAMILIA'), ('YERBAS BUENAS', 'LICANTEN'), ('YERBAS BUENAS', 'LAS OBRAS'), ('YERBAS BUENAS', 'LLICO'), ('LINARES', 'LONGAVI'), ('LINARES', 'ILOCA'), ('LINARES', 'COPIHUE'), ('LINARES', 'MOLINA'), ('LINARES', 'VILLA LOS NICHES'), ('LINARES', 'RETIRO'), ('LINARES', 'LOS PELLINES'), ('LINARES', 'QUILICURA'), ('LINARES', 'RAUCO'), ('LINARES', 'COLBUN'), ('LINARES', 'VARA GRUESA'), ('LINARES', 'SARMIENTO'), ('LINARES', 'CURICO'), ('LINARES', 'CUREPTO'), ('LINARES', 'HUALAE'), ('LINARES', 'PELLUHUE'), ('LINARES', 'VILLA PRAT'), ('LINARES', 'CHANCO'), ('LINARES', 'SAN ALBERTO'), ('LINARES', 'ROMERAL'), ('LINARES', 'CONSTITUCION'), ('LINARES', 'PANIMAVIDA'), ('LINARES', 'TENO'), ('LINARES', 'PARRAL'), ('LINARES', 'SANTA OLGA'), ('LINARES', 'EMPEDRADO'), ('LINARES', 'LAGO VICHUQUEN'), ('LINARES', 'CAUQUENES'), ('LINARES', 'CUMPEO'), ('LINARES', 'ITAHUE UNO'), ('LINARES', 'SAGRADA  FAMILIA'), ('LINARES', 'LICANTEN'), ('LINARES', 'LAS OBRAS'), ('LINARES', 'LLICO'), ('VARA GRUESA', 'LONGAVI'), ('VARA GRUESA', 'ILOCA'), ('VARA GRUESA', 'COPIHUE'), ('VARA GRUESA', 'MOLINA'), ('VARA GRUESA', 'VILLA LOS NICHES'), ('VARA GRUESA', 'RETIRO'), ('VARA GRUESA', 'LOS PELLINES'), ('VARA GRUESA', 'QUILICURA'), ('VARA GRUESA', 'RAUCO'), ('VARA GRUESA', 'COLBUN'), ('VARA GRUESA', 'SARMIENTO'), ('VARA GRUESA', 'CURICO'), ('VARA GRUESA', 'CUREPTO'), ('VARA GRUESA', 'HUALAE'), ('VARA GRUESA', 'PELLUHUE'), ('VARA GRUESA', 'VILLA PRAT'), ('VARA GRUESA', 'CHANCO'), ('VARA GRUESA', 'SAN ALBERTO'), ('VARA GRUESA', 'ROMERAL'), ('VARA GRUESA', 'CONSTITUCION'), ('VARA GRUESA', 'PANIMAVIDA'), ('VARA GRUESA', 'TENO'), ('VARA GRUESA', 'PARRAL'), ('VARA GRUESA', 'SANTA OLGA'), ('VARA GRUESA', 'EMPEDRADO'), ('VARA GRUESA', 'LAGO VICHUQUEN'), ('VARA GRUESA', 'CAUQUENES'), ('VARA GRUESA', 'CUMPEO'), ('VARA GRUESA', 'ITAHUE UNO'), ('VARA GRUESA', 'SAGRADA  FAMILIA'), ('VARA GRUESA', 'LICANTEN'), ('VARA GRUESA', 'LAS OBRAS'), ('VARA GRUESA', 'LLICO'), ('LAS OBRAS', 'LONGAVI'), ('LAS OBRAS', 'ILOCA'), ('LAS OBRAS', 'COPIHUE'), ('LAS OBRAS', 'MOLINA'), ('LAS OBRAS', 'VILLA LOS NICHES'), ('LAS OBRAS', 'RETIRO'), ('LAS OBRAS', 'LOS PELLINES'), ('LAS OBRAS', 'QUILICURA'), ('LAS OBRAS', 'RAUCO'), ('LAS OBRAS', 'COLBUN'), ('LAS OBRAS', 'SARMIENTO'), ('LAS OBRAS', 'CURICO'), ('LAS OBRAS', 'CUREPTO'), ('LAS OBRAS', 'HUALAE'), ('LAS OBRAS', 'PELLUHUE'), ('LAS OBRAS', 'VILLA PRAT'), ('LAS OBRAS', 'CHANCO'), ('LAS OBRAS', 'SAN ALBERTO'), ('LAS OBRAS', 'ROMERAL'), ('LAS OBRAS', 'CONSTITUCION'), ('LAS OBRAS', 'PANIMAVIDA'), ('LAS OBRAS', 'TENO'), ('LAS OBRAS', 'PARRAL'), ('LAS OBRAS', 'SANTA OLGA'), ('LAS OBRAS', 'EMPEDRADO'), ('LAS OBRAS', 'LAGO VICHUQUEN'), ('LAS OBRAS', 'CAUQUENES'), ('LAS OBRAS', 'CUMPEO'), ('LAS OBRAS', 'ITAHUE UNO'), ('LAS OBRAS', 'SAGRADA  FAMILIA'), ('LAS OBRAS', 'LICANTEN'), ('LAS OBRAS', 'LLICO'), ('PANIMAVIDA', 'LONGAVI'), ('PANIMAVIDA', 'ILOCA'), ('PANIMAVIDA', 'COPIHUE'), ('PANIMAVIDA', 'MOLINA'), ('PANIMAVIDA', 'VILLA LOS NICHES'), ('PANIMAVIDA', 'RETIRO'), ('PANIMAVIDA', 'LOS PELLINES'), ('PANIMAVIDA', 'QUILICURA'), ('PANIMAVIDA', 'RAUCO'), ('PANIMAVIDA', 'COLBUN'), ('PANIMAVIDA', 'SARMIENTO'), ('PANIMAVIDA', 'CURICO'), ('PANIMAVIDA', 'CUREPTO'), ('PANIMAVIDA', 'HUALAE'), ('PANIMAVIDA', 'PELLUHUE'), ('PANIMAVIDA', 'VILLA PRAT'), ('PANIMAVIDA', 'CHANCO'), ('PANIMAVIDA', 'SAN ALBERTO'), ('PANIMAVIDA', 'ROMERAL'), ('PANIMAVIDA', 'CONSTITUCION'), ('PANIMAVIDA', 'TENO'), ('PANIMAVIDA', 'PARRAL'), ('PANIMAVIDA', 'SANTA OLGA'), ('PANIMAVIDA', 'EMPEDRADO'), ('PANIMAVIDA', 'LAGO VICHUQUEN'), ('PANIMAVIDA', 'CAUQUENES'), ('PANIMAVIDA', 'CUMPEO'), ('PANIMAVIDA', 'ITAHUE UNO'), ('PANIMAVIDA', 'SAGRADA  FAMILIA'), ('PANIMAVIDA', 'LICANTEN'), ('PANIMAVIDA', 'LLICO'), ('COLBUN', 'LONGAVI'), ('COLBUN', 'ILOCA'), ('COLBUN', 'COPIHUE'), ('COLBUN', 'MOLINA'), ('COLBUN', 'VILLA LOS NICHES'), ('COLBUN', 'RETIRO'), ('COLBUN', 'LOS PELLINES'), ('COLBUN', 'QUILICURA'), ('COLBUN', 'RAUCO'), ('COLBUN', 'SARMIENTO'), ('COLBUN', 'CURICO'), ('COLBUN', 'CUREPTO'), ('COLBUN', 'HUALAE'), ('COLBUN', 'PELLUHUE'), ('COLBUN', 'VILLA PRAT'), ('COLBUN', 'CHANCO'), ('COLBUN', 'SAN ALBERTO'), ('COLBUN', 'ROMERAL'), ('COLBUN', 'CONSTITUCION'), ('COLBUN', 'TENO'), ('COLBUN', 'PARRAL'), ('COLBUN', 'SANTA OLGA'), ('COLBUN', 'EMPEDRADO'), ('COLBUN', 'LAGO VICHUQUEN'), ('COLBUN', 'CAUQUENES'), ('COLBUN', 'CUMPEO'), ('COLBUN', 'ITAHUE UNO'), ('COLBUN', 'SAGRADA  FAMILIA'), ('COLBUN', 'LICANTEN'), ('COLBUN', 'LLICO'), ('LONGAVI', 'ILOCA'), ('LONGAVI', 'COPIHUE'), ('LONGAVI', 'MOLINA'), ('LONGAVI', 'VILLA LOS NICHES'), ('LONGAVI', 'RETIRO'), ('LONGAVI', 'LOS PELLINES'), ('LONGAVI', 'QUILICURA'), ('LONGAVI', 'RAUCO'), ('LONGAVI', 'SARMIENTO'), ('LONGAVI', 'CURICO'), ('LONGAVI', 'CUREPTO'), ('LONGAVI', 'HUALAE'), ('LONGAVI', 'PELLUHUE'), ('LONGAVI', 'VILLA PRAT'), ('LONGAVI', 'CHANCO'), ('LONGAVI', 'SAN ALBERTO'), ('LONGAVI', 'ROMERAL'), ('LONGAVI', 'CONSTITUCION'), ('LONGAVI', 'TENO'), ('LONGAVI', 'PARRAL'), ('LONGAVI', 'SANTA OLGA'), ('LONGAVI', 'EMPEDRADO'), ('LONGAVI', 'LAGO VICHUQUEN'), ('LONGAVI', 'CAUQUENES'), ('LONGAVI', 'CUMPEO'), ('LONGAVI', 'ITAHUE UNO'), ('LONGAVI', 'SAGRADA  FAMILIA'), ('LONGAVI', 'LICANTEN'), ('LONGAVI', 'LLICO'), ('RETIRO', 'ILOCA'), ('RETIRO', 'COPIHUE'), ('RETIRO', 'MOLINA'), ('RETIRO', 'VILLA LOS NICHES'), ('RETIRO', 'LOS PELLINES'), ('RETIRO', 'QUILICURA'), ('RETIRO', 'RAUCO'), ('RETIRO', 'SARMIENTO'), ('RETIRO', 'CURICO'), ('RETIRO', 'CUREPTO'), ('RETIRO', 'HUALAE'), ('RETIRO', 'PELLUHUE'), ('RETIRO', 'VILLA PRAT'), ('RETIRO', 'CHANCO'), ('RETIRO', 'SAN ALBERTO'), ('RETIRO', 'ROMERAL'), ('RETIRO', 'CONSTITUCION'), ('RETIRO', 'TENO'), ('RETIRO', 'PARRAL'), ('RETIRO', 'SANTA OLGA'), ('RETIRO', 'EMPEDRADO'), ('RETIRO', 'LAGO VICHUQUEN'), ('RETIRO', 'CAUQUENES'), ('RETIRO', 'CUMPEO'), ('RETIRO', 'ITAHUE UNO'), ('RETIRO', 'SAGRADA  FAMILIA'), ('RETIRO', 'LICANTEN'), ('RETIRO', 'LLICO'), ('COPIHUE', 'ILOCA'), ('COPIHUE', 'MOLINA'), ('COPIHUE', 'VILLA LOS NICHES'), ('COPIHUE', 'LOS PELLINES'), ('COPIHUE', 'QUILICURA'), ('COPIHUE', 'RAUCO'), ('COPIHUE', 'SARMIENTO'), ('COPIHUE', 'CURICO'), ('COPIHUE', 'CUREPTO'), ('COPIHUE', 'HUALAE'), ('COPIHUE', 'PELLUHUE'), ('COPIHUE', 'VILLA PRAT'), ('COPIHUE', 'CHANCO'), ('COPIHUE', 'SAN ALBERTO'), ('COPIHUE', 'ROMERAL'), ('COPIHUE', 'CONSTITUCION'), ('COPIHUE', 'TENO'), ('COPIHUE', 'PARRAL'), ('COPIHUE', 'SANTA OLGA'), ('COPIHUE', 'EMPEDRADO'), ('COPIHUE', 'LAGO VICHUQUEN'), ('COPIHUE', 'CAUQUENES'), ('COPIHUE', 'CUMPEO'), ('COPIHUE', 'ITAHUE UNO'), ('COPIHUE', 'SAGRADA  FAMILIA'), ('COPIHUE', 'LICANTEN'), ('COPIHUE', 'LLICO'), ('PARRAL', 'ILOCA'), ('PARRAL', 'MOLINA'), ('PARRAL', 'VILLA LOS NICHES'), ('PARRAL', 'LOS PELLINES'), ('PARRAL', 'QUILICURA'), ('PARRAL', 'RAUCO'), ('PARRAL', 'SARMIENTO'), ('PARRAL', 'CURICO'), ('PARRAL', 'CUREPTO'), ('PARRAL', 'HUALAE'), ('PARRAL', 'PELLUHUE'), ('PARRAL', 'VILLA PRAT'), ('PARRAL', 'CHANCO'), ('PARRAL', 'SAN ALBERTO'), ('PARRAL', 'ROMERAL'), ('PARRAL', 'CONSTITUCION'), ('PARRAL', 'TENO'), ('PARRAL', 'SANTA OLGA'), ('PARRAL', 'EMPEDRADO'), ('PARRAL', 'LAGO VICHUQUEN'), ('PARRAL', 'CAUQUENES'), ('PARRAL', 'CUMPEO'), ('PARRAL', 'ITAHUE UNO'), ('PARRAL', 'SAGRADA  FAMILIA'), ('PARRAL', 'LICANTEN'), ('PARRAL', 'LLICO'), ('CUMPEO', 'ILOCA'), ('CUMPEO', 'MOLINA'), ('CUMPEO', 'VILLA LOS NICHES'), ('CUMPEO', 'LOS PELLINES'), ('CUMPEO', 'QUILICURA'), ('CUMPEO', 'RAUCO'), ('CUMPEO', 'SARMIENTO'), ('CUMPEO', 'CURICO'), ('CUMPEO', 'CUREPTO'), ('CUMPEO', 'HUALAE'), ('CUMPEO', 'PELLUHUE'), ('CUMPEO', 'VILLA PRAT'), ('CUMPEO', 'CHANCO'), ('CUMPEO', 'SAN ALBERTO'), ('CUMPEO', 'ROMERAL'), ('CUMPEO', 'CONSTITUCION'), ('CUMPEO', 'TENO'), ('CUMPEO', 'SANTA OLGA'), ('CUMPEO', 'EMPEDRADO'), ('CUMPEO', 'LAGO VICHUQUEN'), ('CUMPEO', 'CAUQUENES'), ('CUMPEO', 'ITAHUE UNO'), ('CUMPEO', 'SAGRADA  FAMILIA'), ('CUMPEO', 'LICANTEN'), ('CUMPEO', 'LLICO'), ('ITAHUE UNO', 'ILOCA'), ('ITAHUE UNO', 'MOLINA'), ('ITAHUE UNO', 'VILLA LOS NICHES'), ('ITAHUE UNO', 'LOS PELLINES'), ('ITAHUE UNO', 'QUILICURA'), ('ITAHUE UNO', 'RAUCO'), ('ITAHUE UNO', 'SARMIENTO'), ('ITAHUE UNO', 'CURICO'), ('ITAHUE UNO', 'CUREPTO'), ('ITAHUE UNO', 'HUALAE'), ('ITAHUE UNO', 'PELLUHUE'), ('ITAHUE UNO', 'VILLA PRAT'), ('ITAHUE UNO', 'CHANCO'), ('ITAHUE UNO', 'SAN ALBERTO'), ('ITAHUE UNO', 'ROMERAL'), ('ITAHUE UNO', 'CONSTITUCION'), ('ITAHUE UNO', 'TENO'), ('ITAHUE UNO', 'SANTA OLGA'), ('ITAHUE UNO', 'EMPEDRADO'), ('ITAHUE UNO', 'LAGO VICHUQUEN'), ('ITAHUE UNO', 'CAUQUENES'), ('ITAHUE UNO', 'SAGRADA  FAMILIA'), ('ITAHUE UNO', 'LICANTEN'), ('ITAHUE UNO', 'LLICO'), ('MOLINA', 'ILOCA'), ('MOLINA', 'VILLA LOS NICHES'), ('MOLINA', 'LOS PELLINES'), ('MOLINA', 'QUILICURA'), ('MOLINA', 'RAUCO'), ('MOLINA', 'SARMIENTO'), ('MOLINA', 'CURICO'), ('MOLINA', 'CUREPTO'), ('MOLINA', 'HUALAE'), ('MOLINA', 'PELLUHUE'), ('MOLINA', 'VILLA PRAT'), ('MOLINA', 'CHANCO'), ('MOLINA', 'SAN ALBERTO'), ('MOLINA', 'ROMERAL'), ('MOLINA', 'CONSTITUCION'), ('MOLINA', 'TENO'), ('MOLINA', 'SANTA OLGA'), ('MOLINA', 'EMPEDRADO'), ('MOLINA', 'LAGO VICHUQUEN'), ('MOLINA', 'CAUQUENES'), ('MOLINA', 'SAGRADA  FAMILIA'), ('MOLINA', 'LICANTEN'), ('MOLINA', 'LLICO'), ('SAGRADA  FAMILIA', 'ILOCA'), ('SAGRADA  FAMILIA', 'VILLA LOS NICHES'), ('SAGRADA  FAMILIA', 'LOS PELLINES'), ('SAGRADA  FAMILIA', 'QUILICURA'), ('SAGRADA  FAMILIA', 'RAUCO'), ('SAGRADA  FAMILIA', 'SARMIENTO'), ('SAGRADA  FAMILIA', 'CURICO'), ('SAGRADA  FAMILIA', 'CUREPTO'), ('SAGRADA  FAMILIA', 'HUALAE'), ('SAGRADA  FAMILIA', 'PELLUHUE'), ('SAGRADA  FAMILIA', 'VILLA PRAT'), ('SAGRADA  FAMILIA', 'CHANCO'), ('SAGRADA  FAMILIA', 'SAN ALBERTO'), ('SAGRADA  FAMILIA', 'ROMERAL'), ('SAGRADA  FAMILIA', 'CONSTITUCION'), ('SAGRADA  FAMILIA', 'TENO'), ('SAGRADA  FAMILIA', 'SANTA OLGA'), ('SAGRADA  FAMILIA', 'EMPEDRADO'), ('SAGRADA  FAMILIA', 'LAGO VICHUQUEN'), ('SAGRADA  FAMILIA', 'CAUQUENES'), ('SAGRADA  FAMILIA', 'LICANTEN'), ('SAGRADA  FAMILIA', 'LLICO'), ('VILLA LOS NICHES', 'ILOCA'), ('VILLA LOS NICHES', 'LOS PELLINES'), ('VILLA LOS NICHES', 'QUILICURA'), ('VILLA LOS NICHES', 'RAUCO'), ('VILLA LOS NICHES', 'SARMIENTO'), ('VILLA LOS NICHES', 'CURICO'), ('VILLA LOS NICHES', 'CUREPTO'), ('VILLA LOS NICHES', 'HUALAE'), ('VILLA LOS NICHES', 'PELLUHUE'), ('VILLA LOS NICHES', 'VILLA PRAT'), ('VILLA LOS NICHES', 'CHANCO'), ('VILLA LOS NICHES', 'SAN ALBERTO'), ('VILLA LOS NICHES', 'ROMERAL'), ('VILLA LOS NICHES', 'CONSTITUCION'), ('VILLA LOS NICHES', 'TENO'), ('VILLA LOS NICHES', 'SANTA OLGA'), ('VILLA LOS NICHES', 'EMPEDRADO'), ('VILLA LOS NICHES', 'LAGO VICHUQUEN'), ('VILLA LOS NICHES', 'CAUQUENES'), ('VILLA LOS NICHES', 'LICANTEN'), ('VILLA LOS NICHES', 'LLICO'), ('RAUCO', 'ILOCA'), ('RAUCO', 'LOS PELLINES'), ('RAUCO', 'QUILICURA'), ('RAUCO', 'SARMIENTO'), ('RAUCO', 'CURICO'), ('RAUCO', 'CUREPTO'), ('RAUCO', 'HUALAE'), ('RAUCO', 'PELLUHUE'), ('RAUCO', 'VILLA PRAT'), ('RAUCO', 'CHANCO'), ('RAUCO', 'SAN ALBERTO'), ('RAUCO', 'ROMERAL'), ('RAUCO', 'CONSTITUCION'), ('RAUCO', 'TENO'), ('RAUCO', 'SANTA OLGA'), ('RAUCO', 'EMPEDRADO'), ('RAUCO', 'LAGO VICHUQUEN'), ('RAUCO', 'CAUQUENES'), ('RAUCO', 'LICANTEN'), ('RAUCO', 'LLICO'), ('CURICO', 'ILOCA'), ('CURICO', 'LOS PELLINES'), ('CURICO', 'QUILICURA'), ('CURICO', 'SARMIENTO'), ('CURICO', 'CUREPTO'), ('CURICO', 'HUALAE'), ('CURICO', 'PELLUHUE'), ('CURICO', 'VILLA PRAT'), ('CURICO', 'CHANCO'), ('CURICO', 'SAN ALBERTO'), ('CURICO', 'ROMERAL'), ('CURICO', 'CONSTITUCION'), ('CURICO', 'TENO'), ('CURICO', 'SANTA OLGA'), ('CURICO', 'EMPEDRADO'), ('CURICO', 'LAGO VICHUQUEN'), ('CURICO', 'CAUQUENES'), ('CURICO', 'LICANTEN'), ('CURICO', 'LLICO'), ('SARMIENTO', 'ILOCA'), ('SARMIENTO', 'LOS PELLINES'), ('SARMIENTO', 'QUILICURA'), ('SARMIENTO', 'CUREPTO'), ('SARMIENTO', 'HUALAE'), ('SARMIENTO', 'PELLUHUE'), ('SARMIENTO', 'VILLA PRAT'), ('SARMIENTO', 'CHANCO'), ('SARMIENTO', 'SAN ALBERTO'), ('SARMIENTO', 'ROMERAL'), ('SARMIENTO', 'CONSTITUCION'), ('SARMIENTO', 'TENO'), ('SARMIENTO', 'SANTA OLGA'), ('SARMIENTO', 'EMPEDRADO'), ('SARMIENTO', 'LAGO VICHUQUEN'), ('SARMIENTO', 'CAUQUENES'), ('SARMIENTO', 'LICANTEN'), ('SARMIENTO', 'LLICO'), ('ROMERAL', 'ILOCA'), ('ROMERAL', 'LOS PELLINES'), ('ROMERAL', 'QUILICURA'), ('ROMERAL', 'CUREPTO'), ('ROMERAL', 'HUALAE'), ('ROMERAL', 'PELLUHUE'), ('ROMERAL', 'VILLA PRAT'), ('ROMERAL', 'CHANCO'), ('ROMERAL', 'SAN ALBERTO'), ('ROMERAL', 'CONSTITUCION'), ('ROMERAL', 'TENO'), ('ROMERAL', 'SANTA OLGA'), ('ROMERAL', 'EMPEDRADO'), ('ROMERAL', 'LAGO VICHUQUEN'), ('ROMERAL', 'CAUQUENES'), ('ROMERAL', 'LICANTEN'), ('ROMERAL', 'LLICO'), ('SAN ALBERTO', 'ILOCA'), ('SAN ALBERTO', 'LOS PELLINES'), ('SAN ALBERTO', 'QUILICURA'), ('SAN ALBERTO', 'CUREPTO'), ('SAN ALBERTO', 'HUALAE'), ('SAN ALBERTO', 'PELLUHUE'), ('SAN ALBERTO', 'VILLA PRAT'), ('SAN ALBERTO', 'CHANCO'), ('SAN ALBERTO', 'CONSTITUCION'), ('SAN ALBERTO', 'TENO'), ('SAN ALBERTO', 'SANTA OLGA'), ('SAN ALBERTO', 'EMPEDRADO'), ('SAN ALBERTO', 'LAGO VICHUQUEN'), ('SAN ALBERTO', 'CAUQUENES'), ('SAN ALBERTO', 'LICANTEN'), ('SAN ALBERTO', 'LLICO'), ('TENO', 'ILOCA'), ('TENO', 'LOS PELLINES'), ('TENO', 'QUILICURA'), ('TENO', 'CUREPTO'), ('TENO', 'HUALAE'), ('TENO', 'PELLUHUE'), ('TENO', 'VILLA PRAT'), ('TENO', 'CHANCO'), ('TENO', 'CONSTITUCION'), ('TENO', 'SANTA OLGA'), ('TENO', 'EMPEDRADO'), ('TENO', 'LAGO VICHUQUEN'), ('TENO', 'CAUQUENES'), ('TENO', 'LICANTEN'), ('TENO', 'LLICO'), ('VILLA PRAT', 'ILOCA'), ('VILLA PRAT', 'LOS PELLINES'), ('VILLA PRAT', 'QUILICURA'), ('VILLA PRAT', 'CUREPTO'), ('VILLA PRAT', 'HUALAE'), ('VILLA PRAT', 'PELLUHUE'), ('VILLA PRAT', 'CHANCO'), ('VILLA PRAT', 'CONSTITUCION'), ('VILLA PRAT', 'SANTA OLGA'), ('VILLA PRAT', 'EMPEDRADO'), ('VILLA PRAT', 'LAGO VICHUQUEN'), ('VILLA PRAT', 'CAUQUENES'), ('VILLA PRAT', 'LICANTEN'), ('VILLA PRAT', 'LLICO'), ('HUALAE', 'ILOCA'), ('HUALAE', 'LOS PELLINES'), ('HUALAE', 'QUILICURA'), ('HUALAE', 'CUREPTO'), ('HUALAE', 'PELLUHUE'), ('HUALAE', 'CHANCO'), ('HUALAE', 'CONSTITUCION'), ('HUALAE', 'SANTA OLGA'), ('HUALAE', 'EMPEDRADO'), ('HUALAE', 'LAGO VICHUQUEN'), ('HUALAE', 'CAUQUENES'), ('HUALAE', 'LICANTEN'), ('HUALAE', 'LLICO'), ('LICANTEN', 'ILOCA'), ('LICANTEN', 'LOS PELLINES'), ('LICANTEN', 'QUILICURA'), ('LICANTEN', 'CUREPTO'), ('LICANTEN', 'PELLUHUE'), ('LICANTEN', 'CHANCO'), ('LICANTEN', 'CONSTITUCION'), ('LICANTEN', 'SANTA OLGA'), ('LICANTEN', 'EMPEDRADO'), ('LICANTEN', 'LAGO VICHUQUEN'), ('LICANTEN', 'CAUQUENES'), ('LICANTEN', 'LLICO'), ('LAGO VICHUQUEN', 'ILOCA'), ('LAGO VICHUQUEN', 'LOS PELLINES'), ('LAGO VICHUQUEN', 'QUILICURA'), ('LAGO VICHUQUEN', 'CUREPTO'), ('LAGO VICHUQUEN', 'PELLUHUE'), ('LAGO VICHUQUEN', 'CHANCO'), ('LAGO VICHUQUEN', 'CONSTITUCION'), ('LAGO VICHUQUEN', 'SANTA OLGA'), ('LAGO VICHUQUEN', 'EMPEDRADO'), ('LAGO VICHUQUEN', 'CAUQUENES'), ('LAGO VICHUQUEN', 'LLICO'), ('CUREPTO', 'ILOCA'), ('CUREPTO', 'LOS PELLINES'), ('CUREPTO', 'QUILICURA'), ('CUREPTO', 'PELLUHUE'), ('CUREPTO', 'CHANCO'), ('CUREPTO', 'CONSTITUCION'), ('CUREPTO', 'SANTA OLGA'), ('CUREPTO', 'EMPEDRADO'), ('CUREPTO', 'CAUQUENES'), ('CUREPTO', 'LLICO'), ('LLICO', 'ILOCA'), ('LLICO', 'LOS PELLINES'), ('LLICO', 'QUILICURA'), ('LLICO', 'PELLUHUE'), ('LLICO', 'CHANCO'), ('LLICO', 'CONSTITUCION'), ('LLICO', 'SANTA OLGA'), ('LLICO', 'EMPEDRADO'), ('LLICO', 'CAUQUENES'), ('ILOCA', 'LOS PELLINES'), ('ILOCA', 'QUILICURA'), ('ILOCA', 'PELLUHUE'), ('ILOCA', 'CHANCO'), ('ILOCA', 'CONSTITUCION'), ('ILOCA', 'SANTA OLGA'), ('ILOCA', 'EMPEDRADO'), ('ILOCA', 'CAUQUENES'), ('CONSTITUCION', 'LOS PELLINES'), ('CONSTITUCION', 'QUILICURA'), ('CONSTITUCION', 'PELLUHUE'), ('CONSTITUCION', 'CHANCO'), ('CONSTITUCION', 'SANTA OLGA'), ('CONSTITUCION', 'EMPEDRADO'), ('CONSTITUCION', 'CAUQUENES'), ('SANTA OLGA', 'LOS PELLINES'), ('SANTA OLGA', 'QUILICURA'), ('SANTA OLGA', 'PELLUHUE'), ('SANTA OLGA', 'CHANCO'), ('SANTA OLGA', 'EMPEDRADO'), ('SANTA OLGA', 'CAUQUENES'), ('LOS PELLINES', 'QUILICURA'), ('LOS PELLINES', 'PELLUHUE'), ('LOS PELLINES', 'CHANCO'), ('LOS PELLINES', 'EMPEDRADO'), ('LOS PELLINES', 'CAUQUENES'), ('EMPEDRADO', 'QUILICURA'), ('EMPEDRADO', 'PELLUHUE'), ('EMPEDRADO', 'CHANCO'), ('EMPEDRADO', 'CAUQUENES'), ('CHANCO', 'QUILICURA'), ('CHANCO', 'PELLUHUE'), ('CHANCO', 'CAUQUENES'), ('PELLUHUE', 'QUILICURA'), ('PELLUHUE', 'CAUQUENES'), ('QUILICURA', 'CAUQUENES')], valor : 86.22539231120953\n"
     ]
    }
   ],
   "source": [
    "v=np.sum([G.edges[t]/1000 for t in T])\n",
    "print('Prim MST {0}, valor : {1}'.format(T,v))"
   ]
  },
  {
   "cell_type": "code",
   "execution_count": null,
   "metadata": {},
   "outputs": [],
   "source": []
  }
 ],
 "metadata": {
  "kernelspec": {
   "display_name": "Python 3",
   "language": "python",
   "name": "python3"
  },
  "language_info": {
   "codemirror_mode": {
    "name": "ipython",
    "version": 3
   },
   "file_extension": ".py",
   "mimetype": "text/x-python",
   "name": "python",
   "nbconvert_exporter": "python",
   "pygments_lexer": "ipython3",
   "version": "3.6.9"
  }
 },
 "nbformat": 4,
 "nbformat_minor": 2
}
