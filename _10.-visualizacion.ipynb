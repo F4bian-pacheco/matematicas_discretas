{
 "cells": [
  {
   "cell_type": "markdown",
   "metadata": {},
   "source": [
    "# Visualizacion Web\n",
    "\n",
    "https://www.grotto-networking.com/NetworkGraphVisualization.html"
   ]
  },
  {
   "cell_type": "code",
   "execution_count": 1,
   "metadata": {},
   "outputs": [
    {
     "output_type": "stream",
     "name": "stdout",
     "text": "Wrote node-link JSON data to force/force.json\n\nGo to http://localhost:8000/force.html to see the example\n\n * Serving Flask app \"__main__\" (lazy loading)\n * Environment: production\n\u001b[31m   WARNING: This is a development server. Do not use it in a production deployment.\u001b[0m\n\u001b[2m   Use a production WSGI server instead.\u001b[0m\n * Debug mode: off\n * Running on http://127.0.0.1:8000/ (Press CTRL+C to quit)\n127.0.0.1 - - [14/Apr/2020 00:10:56] \"\u001b[33mGET / HTTP/1.1\u001b[0m\" 404 -\n127.0.0.1 - - [14/Apr/2020 00:10:56] \"\u001b[33mGET /favicon.ico HTTP/1.1\u001b[0m\" 404 -\n127.0.0.1 - - [14/Apr/2020 00:11:07] \"\u001b[37mGET /force.html HTTP/1.1\u001b[0m\" 200 -\n127.0.0.1 - - [14/Apr/2020 00:11:07] \"\u001b[37mGET /force.css HTTP/1.1\u001b[0m\" 200 -\n127.0.0.1 - - [14/Apr/2020 00:11:07] \"\u001b[37mGET /force.js HTTP/1.1\u001b[0m\" 200 -\n127.0.0.1 - - [14/Apr/2020 00:11:07] \"\u001b[37mGET /force.json HTTP/1.1\u001b[0m\" 200 -\n127.0.0.1 - - [14/Apr/2020 00:11:07] \"\u001b[33mGET /favicon.ico HTTP/1.1\u001b[0m\" 404 -\n"
    }
   ],
   "source": [
    "\"\"\"\n",
    "==========\n",
    "Javascript\n",
    "==========\n",
    "Example of writing JSON format graph data and using the D3 Javascript library to produce an HTML/Javascript drawing.\n",
    "\"\"\"\n",
    "# Author: Aric Hagberg <aric.hagberg@gmail.com>\n",
    "\n",
    "#    Copyright (C) 2011-2018 by\n",
    "#    Aric Hagberg <hagberg@lanl.gov>\n",
    "#    Dan Schult <dschult@colgate.edu>\n",
    "#    Pieter Swart <swart@lanl.gov>\n",
    "#    All rights reserved.\n",
    "#    BSD license.\n",
    "import json\n",
    "\n",
    "import flask\n",
    "import networkx as nx\n",
    "from networkx.readwrite import json_graph\n",
    "\n",
    "G = nx.barbell_graph(6, 3)\n",
    "# this d3 example uses the name attribute for the mouse-hover value,\n",
    "# so add a name to each node\n",
    "for n in G:\n",
    "    G.nodes[n]['name'] = n\n",
    "# write json formatted data\n",
    "d = json_graph.node_link_data(G)  # node-link format to serialize\n",
    "# write json\n",
    "json.dump(d, open('data/force.json', 'w'))\n",
    "print('Wrote node-link JSON data to force/force.json')\n",
    "\n",
    "# Serve the file over http to allow for cross origin requests\n",
    "app = flask.Flask(__name__, static_folder=\"data\")\n",
    "\n",
    "@app.route('/<path:path>')\n",
    "def static_proxy(path):\n",
    "    return app.send_static_file(path)\n",
    "\n",
    "print('\\nGo to http://localhost:8000/force.html to see the example\\n')\n",
    "app.run(port=8000)"
   ]
  },
  {
   "cell_type": "code",
   "execution_count": null,
   "metadata": {},
   "outputs": [],
   "source": []
  }
 ],
 "metadata": {
  "kernelspec": {
   "display_name": "Python 3.7.7 64-bit ('venv': venv)",
   "language": "python",
   "name": "python37764bitvenvvenvc241e362255b4631a3caa756dfb14c87"
  },
  "language_info": {
   "codemirror_mode": {
    "name": "ipython",
    "version": 2
   },
   "file_extension": ".py",
   "mimetype": "text/x-python",
   "name": "python",
   "nbconvert_exporter": "python",
   "pygments_lexer": "ipython2",
   "version": "3.7.7-final"
  }
 },
 "nbformat": 4,
 "nbformat_minor": 2
}