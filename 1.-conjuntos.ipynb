{
  "cells": [
    {
      "cell_type": "markdown",
      "metadata": {
        "id": "vdTft_0FC1S-"
      },
      "source": [
        "# Conjuntos"
      ]
    },
    {
      "cell_type": "code",
      "execution_count": null,
      "metadata": {
        "id": "0tMg4kHUC1TA"
      },
      "outputs": [],
      "source": [
        "import numpy as np\n",
        "\n",
        "def python_sum(X):\n",
        "    c = list()\n",
        "    for x in X:\n",
        "        a = x ** 2\n",
        "        b = x ** 3\n",
        "        c.append(a + b)\n",
        "    return c"
      ]
    },
    {
      "cell_type": "code",
      "execution_count": null,
      "metadata": {
        "id": "Q4-pthDCC1TB"
      },
      "outputs": [],
      "source": [
        "def numpy_sum(X):\n",
        "    a = np.asarray(X) ** 2\n",
        "    b = np.asarray(X) ** 3\n",
        "    c = a+b\n",
        "    return c"
      ]
    },
    {
      "cell_type": "code",
      "execution_count": null,
      "metadata": {
        "id": "v_j957LAC1TB"
      },
      "outputs": [],
      "source": [
        "X=np.arange(1e5)"
      ]
    },
    {
      "cell_type": "code",
      "execution_count": null,
      "metadata": {
        "id": "LzpT66r4C1TB"
      },
      "outputs": [],
      "source": [
        "%time s1=python_sum(X)"
      ]
    },
    {
      "cell_type": "code",
      "execution_count": null,
      "metadata": {
        "id": "NyRBEAu8C1TC"
      },
      "outputs": [],
      "source": [
        "%time s2=numpy_sum(X)"
      ]
    },
    {
      "cell_type": "code",
      "execution_count": null,
      "metadata": {
        "id": "Xd9IuiSnC1TC"
      },
      "outputs": [],
      "source": [
        "np.array_equal(s1,s2)"
      ]
    },
    {
      "cell_type": "code",
      "execution_count": null,
      "metadata": {
        "id": "PNuiX5TlC1TD"
      },
      "outputs": [],
      "source": [
        "import numpy as np\n",
        " \n",
        "arr = np.array([5,6,7])\n",
        " \n",
        "x = np.array(arr)\n",
        "y = np.asarray(arr)\n",
        "arr[1] = 0\n",
        " \n",
        "print(\"Array : \",x)\n",
        "print(\"Asarray : \",y)"
      ]
    },
    {
      "cell_type": "markdown",
      "metadata": {
        "id": "AlzvWqfvC1TD"
      },
      "source": [
        "# Indice Inverso"
      ]
    },
    {
      "cell_type": "code",
      "execution_count": null,
      "metadata": {
        "id": "Oba01VqfC1TD"
      },
      "outputs": [],
      "source": [
        "! wget https://datasets.imdbws.com/title.akas.tsv.gz "
      ]
    },
    {
      "cell_type": "code",
      "source": [
        "!gzip -dk title.akas.tsv.gz"
      ],
      "metadata": {
        "id": "qPBU6GNKDCsD"
      },
      "execution_count": null,
      "outputs": []
    },
    {
      "cell_type": "code",
      "source": [
        "!ls"
      ],
      "metadata": {
        "id": "ycCtN2IyDLYR"
      },
      "execution_count": null,
      "outputs": []
    },
    {
      "cell_type": "code",
      "execution_count": null,
      "metadata": {
        "id": "MrQIV0LKC1TE"
      },
      "outputs": [],
      "source": [
        "import pandas as pd\n",
        "\n",
        "reader=pd.read_csv('title.akas.tsv',header=0, sep='\\t', chunksize=1e3)"
      ]
    },
    {
      "cell_type": "code",
      "source": [
        "df=list()\n",
        "for chunk in reader:\n",
        "  titulos=chunk.loc[ (chunk.region=='ES') |  (chunk.language=='es')]\n",
        "  df.append(titulos)"
      ],
      "metadata": {
        "id": "0BrXJm-UEj62"
      },
      "execution_count": null,
      "outputs": []
    },
    {
      "cell_type": "code",
      "source": [
        ""
      ],
      "metadata": {
        "id": "RTIBB_viE67P"
      },
      "execution_count": null,
      "outputs": []
    },
    {
      "cell_type": "code",
      "source": [
        "titulos.shape"
      ],
      "metadata": {
        "id": "qYZfrz7-FlW1"
      },
      "execution_count": null,
      "outputs": []
    }
  ],
  "metadata": {
    "kernelspec": {
      "display_name": "Python 3",
      "language": "python",
      "name": "python3"
    },
    "language_info": {
      "codemirror_mode": {
        "name": "ipython",
        "version": 3
      },
      "file_extension": ".py",
      "mimetype": "text/x-python",
      "name": "python",
      "nbconvert_exporter": "python",
      "pygments_lexer": "ipython3",
      "version": "3.8.10"
    },
    "colab": {
      "name": "1.-conjuntos.ipynb",
      "provenance": []
    }
  },
  "nbformat": 4,
  "nbformat_minor": 0
}