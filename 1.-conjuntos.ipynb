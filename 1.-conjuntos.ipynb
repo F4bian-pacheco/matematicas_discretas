{
 "cells": [
  {
   "cell_type": "markdown",
   "metadata": {},
   "source": [
    "# Conjuntos"
   ]
  },
  {
   "cell_type": "code",
   "execution_count": 28,
   "metadata": {},
   "outputs": [],
   "source": [
    "import numpy as np\n",
    "\n",
    "def python_sum(X):\n",
    "    c = list()\n",
    "    for x in X:\n",
    "        a = x ** 2\n",
    "        b = x ** 3\n",
    "        c.append(a + b)\n",
    "    return c"
   ]
  },
  {
   "cell_type": "code",
   "execution_count": 29,
   "metadata": {},
   "outputs": [],
   "source": [
    "def numpy_sum(X):\n",
    "    a = np.asarray(X) ** 2\n",
    "    b = np.asarray(X) ** 3\n",
    "    c = a+b\n",
    "    return c"
   ]
  },
  {
   "cell_type": "code",
   "execution_count": 36,
   "metadata": {},
   "outputs": [],
   "source": [
    "X=np.arange(1e5)"
   ]
  },
  {
   "cell_type": "code",
   "execution_count": 37,
   "metadata": {},
   "outputs": [
    {
     "name": "stdout",
     "output_type": "stream",
     "text": [
      "CPU times: user 77.5 ms, sys: 4.81 ms, total: 82.3 ms\n",
      "Wall time: 80.4 ms\n"
     ]
    }
   ],
   "source": [
    "%time s1=python_sum(X)"
   ]
  },
  {
   "cell_type": "code",
   "execution_count": 38,
   "metadata": {},
   "outputs": [
    {
     "name": "stdout",
     "output_type": "stream",
     "text": [
      "CPU times: user 6.07 ms, sys: 847 µs, total: 6.92 ms\n",
      "Wall time: 5.57 ms\n"
     ]
    }
   ],
   "source": [
    "%time s2=numpy_sum(X)"
   ]
  },
  {
   "cell_type": "code",
   "execution_count": 42,
   "metadata": {},
   "outputs": [
    {
     "data": {
      "text/plain": [
       "True"
      ]
     },
     "execution_count": 42,
     "metadata": {},
     "output_type": "execute_result"
    }
   ],
   "source": [
    "np.array_equal(s1,s2)"
   ]
  },
  {
   "cell_type": "code",
   "execution_count": 40,
   "metadata": {},
   "outputs": [
    {
     "name": "stdout",
     "output_type": "stream",
     "text": [
      "Array :  [5 6 7]\n",
      "Asarray :  [5 0 7]\n"
     ]
    }
   ],
   "source": [
    "import numpy as np\n",
    " \n",
    "arr = np.array([5,6,7])\n",
    " \n",
    "x = np.array(arr)\n",
    "y = np.asarray(arr)\n",
    "arr[1] = 0\n",
    " \n",
    "print(\"Array : \",x)\n",
    "print(\"Asarray : \",y)"
   ]
  },
  {
   "cell_type": "markdown",
   "metadata": {},
   "source": [
    "# Indice Inverso"
   ]
  },
  {
   "cell_type": "code",
   "execution_count": 20,
   "metadata": {},
   "outputs": [
    {
     "name": "stdout",
     "output_type": "stream",
     "text": [
      "--2022-03-14 15:38:24--  https://datasets.imdbws.com/title.akas.tsv.gz\n",
      "Resolviendo datasets.imdbws.com (datasets.imdbws.com)... 18.65.48.39, 18.65.48.15, 18.65.48.100, ...\n",
      "Conectando con datasets.imdbws.com (datasets.imdbws.com)[18.65.48.39]:443... conectado.\n",
      "Petición HTTP enviada, esperando respuesta... 200 OK\n",
      "Longitud: 265860281 (254M) [binary/octet-stream]\n",
      "Guardando como: “title.akas.tsv.gz”\n",
      "\n",
      "title.akas.tsv.gz   100%[===================>] 253,54M  56,7MB/s    en 4,7s    \n",
      "\n",
      "2022-03-14 15:38:29 (53,7 MB/s) - “title.akas.tsv.gz” guardado [265860281/265860281]\n",
      "\n"
     ]
    }
   ],
   "source": [
    "! wget https://datasets.imdbws.com/title.akas.tsv.gz "
   ]
  },
  {
   "cell_type": "code",
   "execution_count": null,
   "metadata": {},
   "outputs": [],
   "source": [
    "import pandas as pd\n",
    "\n",
    "data=pd.read_csv('title.akas.tsv.gz',compression='gzip',header=0, sep=' ', quotechar='\"', error_bad_lines=False)"
   ]
  },
  {
   "cell_type": "code",
   "execution_count": null,
   "metadata": {},
   "outputs": [],
   "source": []
  }
 ],
 "metadata": {
  "kernelspec": {
   "display_name": "Python 3",
   "language": "python",
   "name": "python3"
  },
  "language_info": {
   "codemirror_mode": {
    "name": "ipython",
    "version": 3
   },
   "file_extension": ".py",
   "mimetype": "text/x-python",
   "name": "python",
   "nbconvert_exporter": "python",
   "pygments_lexer": "ipython3",
   "version": "3.8.10"
  }
 },
 "nbformat": 4,
 "nbformat_minor": 4
}
