{
  "cells": [
    {
      "cell_type": "markdown",
      "metadata": {
        "id": "vdTft_0FC1S-"
      },
      "source": [
        "# Conjuntos"
      ]
    },
    {
      "cell_type": "code",
      "execution_count": 1,
      "metadata": {
        "id": "0tMg4kHUC1TA"
      },
      "outputs": [],
      "source": [
        "import numpy as np\n",
        "\n",
        "def python_sum(X):\n",
        "    c = list()\n",
        "    for x in X:\n",
        "        a = x ** 2\n",
        "        b = x ** 3\n",
        "        c.append(a + b)\n",
        "    return c"
      ]
    },
    {
      "cell_type": "code",
      "execution_count": 2,
      "metadata": {
        "id": "Q4-pthDCC1TB"
      },
      "outputs": [],
      "source": [
        "def numpy_sum(X):\n",
        "    a = np.asarray(X) ** 2\n",
        "    b = np.asarray(X) ** 3\n",
        "    c = a+b\n",
        "    return c"
      ]
    },
    {
      "cell_type": "code",
      "execution_count": 3,
      "metadata": {
        "id": "v_j957LAC1TB"
      },
      "outputs": [],
      "source": [
        "X=np.arange(1e5)"
      ]
    },
    {
      "cell_type": "code",
      "execution_count": 4,
      "metadata": {
        "id": "LzpT66r4C1TB",
        "colab": {
          "base_uri": "https://localhost:8080/",
          "height": 0
        },
        "outputId": "c5ddbb08-e2ac-4275-d1aa-854ccf266011"
      },
      "outputs": [
        {
          "output_type": "stream",
          "name": "stdout",
          "text": [
            "CPU times: user 150 ms, sys: 3.15 ms, total: 153 ms\n",
            "Wall time: 174 ms\n"
          ]
        }
      ],
      "source": [
        "%time s1=python_sum(X)"
      ]
    },
    {
      "cell_type": "code",
      "execution_count": 5,
      "metadata": {
        "id": "NyRBEAu8C1TC",
        "colab": {
          "base_uri": "https://localhost:8080/",
          "height": 0
        },
        "outputId": "4a6e9e5b-a241-497d-f730-800342d3f2d9"
      },
      "outputs": [
        {
          "output_type": "stream",
          "name": "stdout",
          "text": [
            "CPU times: user 10.9 ms, sys: 990 µs, total: 11.9 ms\n",
            "Wall time: 29.4 ms\n"
          ]
        }
      ],
      "source": [
        "%time s2=numpy_sum(X)"
      ]
    },
    {
      "cell_type": "code",
      "execution_count": 6,
      "metadata": {
        "id": "Xd9IuiSnC1TC",
        "colab": {
          "base_uri": "https://localhost:8080/",
          "height": 0
        },
        "outputId": "3c09a6ac-4f94-410c-8cf7-eaf70f66d428"
      },
      "outputs": [
        {
          "output_type": "execute_result",
          "data": {
            "text/plain": [
              "True"
            ]
          },
          "metadata": {},
          "execution_count": 6
        }
      ],
      "source": [
        "np.array_equal(s1,s2)"
      ]
    },
    {
      "cell_type": "code",
      "execution_count": 7,
      "metadata": {
        "id": "PNuiX5TlC1TD",
        "colab": {
          "base_uri": "https://localhost:8080/",
          "height": 0
        },
        "outputId": "ea66d3c3-a1a1-4343-9e50-809f202f65d9"
      },
      "outputs": [
        {
          "output_type": "stream",
          "name": "stdout",
          "text": [
            "Array :  [5 6 7]\n",
            "Asarray :  [5 0 7]\n"
          ]
        }
      ],
      "source": [
        "import numpy as np\n",
        " \n",
        "arr = np.array([5,6,7])\n",
        " \n",
        "x = np.array(arr)\n",
        "y = np.asarray(arr)\n",
        "arr[1] = 0\n",
        " \n",
        "print(\"Array : \",x)\n",
        "print(\"Asarray : \",y)"
      ]
    },
    {
      "cell_type": "markdown",
      "metadata": {
        "id": "AlzvWqfvC1TD"
      },
      "source": [
        "# Indice Inverso"
      ]
    },
    {
      "cell_type": "code",
      "execution_count": 8,
      "metadata": {
        "id": "Oba01VqfC1TD",
        "colab": {
          "base_uri": "https://localhost:8080/",
          "height": 0
        },
        "outputId": "bffb9c5b-2ae5-4c9b-ef4e-75458f3c1c39"
      },
      "outputs": [
        {
          "output_type": "stream",
          "name": "stdout",
          "text": [
            "--2022-03-14 21:34:46--  https://datasets.imdbws.com/title.akas.tsv.gz\n",
            "Resolving datasets.imdbws.com (datasets.imdbws.com)... 13.224.163.65, 13.224.163.17, 13.224.163.50, ...\n",
            "Connecting to datasets.imdbws.com (datasets.imdbws.com)|13.224.163.65|:443... connected.\n",
            "HTTP request sent, awaiting response... 200 OK\n",
            "Length: 265932238 (254M) [binary/octet-stream]\n",
            "Saving to: ‘title.akas.tsv.gz’\n",
            "\n",
            "title.akas.tsv.gz   100%[===================>] 253.61M  18.7MB/s    in 18s     \n",
            "\n",
            "2022-03-14 21:35:05 (14.4 MB/s) - ‘title.akas.tsv.gz’ saved [265932238/265932238]\n",
            "\n"
          ]
        }
      ],
      "source": [
        "! wget https://datasets.imdbws.com/title.akas.tsv.gz "
      ]
    },
    {
      "cell_type": "code",
      "source": [
        "!gzip -dk title.akas.tsv.gz"
      ],
      "metadata": {
        "id": "qPBU6GNKDCsD"
      },
      "execution_count": 9,
      "outputs": []
    },
    {
      "cell_type": "code",
      "source": [
        "!ls -lah"
      ],
      "metadata": {
        "id": "ycCtN2IyDLYR",
        "colab": {
          "base_uri": "https://localhost:8080/",
          "height": 0
        },
        "outputId": "09246d7b-791b-482b-8b35-a0e5319e5ac1"
      },
      "execution_count": 14,
      "outputs": [
        {
          "output_type": "stream",
          "name": "stdout",
          "text": [
            "total 1.8G\n",
            "drwxr-xr-x 1 root root 4.0K Mar 14 21:35 .\n",
            "drwxr-xr-x 1 root root 4.0K Mar 14 21:32 ..\n",
            "drwxr-xr-x 1 root root 4.0K Mar  9 14:47 .config\n",
            "drwxr-xr-x 1 root root 4.0K Mar  9 14:48 sample_data\n",
            "-rw-r--r-- 1 root root 1.5G Mar 14 13:24 title.akas.tsv\n",
            "-rw-r--r-- 1 root root 254M Mar 14 13:24 title.akas.tsv.gz\n"
          ]
        }
      ]
    },
    {
      "cell_type": "code",
      "execution_count": 13,
      "metadata": {
        "id": "MrQIV0LKC1TE"
      },
      "outputs": [],
      "source": [
        "import pandas as pd\n",
        "\n",
        "reader=pd.read_csv('title.akas.tsv',header=0, sep='\\t', chunksize=1e6)"
      ]
    },
    {
      "cell_type": "code",
      "source": [
        "df=list()\n",
        "for chunk in reader:\n",
        "  titulos=chunk.loc[ (chunk.region=='ES') |  (chunk.language=='es')]\n",
        "  df.append(titulos)"
      ],
      "metadata": {
        "id": "0BrXJm-UEj62",
        "colab": {
          "base_uri": "https://localhost:8080/",
          "height": 0
        },
        "outputId": "ed24ab9f-a27e-4790-81aa-dde6f22ccea0"
      },
      "execution_count": 15,
      "outputs": [
        {
          "output_type": "stream",
          "name": "stderr",
          "text": [
            "/usr/local/lib/python3.7/dist-packages/IPython/core/interactiveshell.py:2822: DtypeWarning: Columns (7) have mixed types.Specify dtype option on import or set low_memory=False.\n",
            "  if self.run_code(code, result):\n"
          ]
        }
      ]
    },
    {
      "cell_type": "code",
      "source": [
        "df_titulos=pd.concat(df)"
      ],
      "metadata": {
        "id": "RTIBB_viE67P"
      },
      "execution_count": 44,
      "outputs": []
    },
    {
      "cell_type": "code",
      "source": [
        "df_titulos['title']=df_titulos['title'].str.lower()"
      ],
      "metadata": {
        "id": "b58Q8y8ObhP2"
      },
      "execution_count": 45,
      "outputs": []
    },
    {
      "cell_type": "code",
      "source": [
        "def unique_words(df_titulos):\n",
        "  words=set()\n",
        "  articulos={'el','la','los','las','en','la','de'}\n",
        "  for titulo in df_titulos['title'].str.split():\n",
        "    new_words=set(titulo).difference(articulos)\n",
        "    words.update(new_words)\n",
        "  return words"
      ],
      "metadata": {
        "id": "qYZfrz7-FlW1"
      },
      "execution_count": 58,
      "outputs": []
    },
    {
      "cell_type": "code",
      "source": [
        "words=unique_words(df_titulos)"
      ],
      "metadata": {
        "id": "7XYjYlghbwLk"
      },
      "execution_count": 59,
      "outputs": []
    },
    {
      "cell_type": "code",
      "source": [
        "len(words)"
      ],
      "metadata": {
        "colab": {
          "base_uri": "https://localhost:8080/",
          "height": 0
        },
        "id": "P2QQQ9TacVav",
        "outputId": "54bb623f-0425-4fa2-bc22-efe204d2f9a7"
      },
      "execution_count": 61,
      "outputs": [
        {
          "output_type": "execute_result",
          "data": {
            "text/plain": [
              "104036"
            ]
          },
          "metadata": {},
          "execution_count": 61
        }
      ]
    },
    {
      "cell_type": "code",
      "source": [
        "titulo"
      ],
      "metadata": {
        "id": "xPKrWyTZe7uL",
        "outputId": "eb235815-8653-41f2-a0f9-8bfa2ef36986",
        "colab": {
          "base_uri": "https://localhost:8080/"
        }
      },
      "execution_count": 64,
      "outputs": [
        {
          "output_type": "execute_result",
          "data": {
            "text/plain": [
              "['episodio', '#3.20']"
            ]
          },
          "metadata": {},
          "execution_count": 64
        }
      ]
    },
    {
      "cell_type": "code",
      "source": [
        ""
      ],
      "metadata": {
        "id": "CRUhE0Grex64"
      },
      "execution_count": null,
      "outputs": []
    }
  ],
  "metadata": {
    "kernelspec": {
      "display_name": "Python 3",
      "language": "python",
      "name": "python3"
    },
    "language_info": {
      "codemirror_mode": {
        "name": "ipython",
        "version": 3
      },
      "file_extension": ".py",
      "mimetype": "text/x-python",
      "name": "python",
      "nbconvert_exporter": "python",
      "pygments_lexer": "ipython3",
      "version": "3.8.10"
    },
    "colab": {
      "name": "1.-conjuntos.ipynb",
      "provenance": []
    }
  },
  "nbformat": 4,
  "nbformat_minor": 0
}