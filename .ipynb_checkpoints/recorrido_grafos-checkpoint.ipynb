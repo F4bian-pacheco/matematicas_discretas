{
 "cells": [
  {
   "cell_type": "markdown",
   "metadata": {},
   "source": [
    "<h1>Recorrido de Grafos</h1>\n",
    "\n",
    "Dado un grafo ponderado $(G , w )$ donde $G = (V , E )$ y $w : E  \\mapsto \\mathbb R$, un\n",
    "arbol de expansión mı́nima es un arbol de expansión en el que la suma\n",
    "de los pesos w de las aristas es mı́nima."
   ]
  },
  {
   "cell_type": "code",
   "execution_count": 60,
   "metadata": {},
   "outputs": [],
   "source": [
    "import numpy as np\n",
    "from heapq import heappush,heappop\n",
    "\n",
    "class abstract_graph:\n",
    "    \n",
    "    def __init__(self,_edges):\n",
    "        self.edges=_edges\n",
    "        self.nodes={u for u,v in self.edges} | {u for u,v in self.edges}\n",
    "        \n",
    "    def adjacency_matrix(self):\n",
    "        pass\n",
    "    \n",
    "    def adjacency_list(self):\n",
    "        pass\n",
    "\n",
    "\n",
    "class weighted_graph(abstract_graph):\n",
    "    \n",
    "    def __init__(self,_edges):\n",
    "        self.edges=_edges\n",
    "        self.nodes={u for u,v in self.edges.keys()} | {v for u,v in self.edges.keys()}\n",
    "        \n",
    "    def adjacency_matrix(self):\n",
    "        n=len(self.nodes)\n",
    "        mat=np.zeros((n,n))\n",
    "        adjacent=lambda x : [1 if x==v else 0 for (u,v) in enumerate(sorted(list(G.nodes))) ]\n",
    "        L=self.adjacency_list()\n",
    "        i=0\n",
    "        for v in sorted(list(G.nodes)):\n",
    "            for l in L[v]:\n",
    "                mat[i,]+=adjacent(l)\n",
    "            i=i+1\n",
    "        return mat\n",
    "    \n",
    "    def adjacency_list(self):\n",
    "        adjacent=lambda n : {v for u,v in self.edges.keys() if u==n } \n",
    "        return {v:adjacent(v) for v in self.nodes}\n",
    "    \n",
    "    def prim_mst(self,start):\n",
    "        path=0\n",
    "        self.open=[]\n",
    "        self.closed=[start]\n",
    "        L=self.adjacency_list()\n",
    "        for v in L[start]:\n",
    "            priority=self.edges[(start,v)]\n",
    "            heappush(self.open, (priority, v))\n",
    "        p,v=heappop(self.open)\n",
    "        path=path+p\n",
    "        self.closed.append(v)\n",
    "        # completar\n",
    "        return self.closed,\n",
    "\n",
    "    def kruskal_mst(self):\n",
    "        #completar\n",
    "        pass"
   ]
  },
  {
   "cell_type": "code",
   "execution_count": 62,
   "metadata": {},
   "outputs": [
    {
     "name": "stdout",
     "output_type": "stream",
     "text": [
      "nodos :  set(['a', 'c', 'b', 'd'])\n",
      "matriz adyacencia :  [[ 0.  1.  0.  1.]\n",
      " [ 0.  0.  1.  0.]\n",
      " [ 0.  0.  0.  1.]\n",
      " [ 1.  0.  0.  0.]]\n",
      "lista adyacencia :  {'a': set(['b', 'd']), 'c': set(['d']), 'b': set(['c']), 'd': set(['a'])}\n",
      "['a', (1, 'b')]\n"
     ]
    }
   ],
   "source": [
    "E={('a','b'):1,('c','d'):2,('b','c'):1,('d','a'):2,('a','d'):2}\n",
    "G=weighted_graph(E)\n",
    "print 'nodos : ',G.nodes\n",
    "print 'matriz adyacencia : ',G.adjacency_matrix()\n",
    "print 'lista adyacencia : ',G.adjacency_list()\n",
    "print G.prim_mst('a')"
   ]
  },
  {
   "cell_type": "code",
   "execution_count": null,
   "metadata": {},
   "outputs": [],
   "source": []
  },
  {
   "cell_type": "code",
   "execution_count": null,
   "metadata": {},
   "outputs": [],
   "source": []
  }
 ],
 "metadata": {
  "kernelspec": {
   "display_name": "Python 2",
   "language": "python",
   "name": "python2"
  },
  "language_info": {
   "codemirror_mode": {
    "name": "ipython",
    "version": 2
   },
   "file_extension": ".py",
   "mimetype": "text/x-python",
   "name": "python",
   "nbconvert_exporter": "python",
   "pygments_lexer": "ipython2",
   "version": "2.7.12"
  }
 },
 "nbformat": 4,
 "nbformat_minor": 2
}
