{
 "cells": [
  {
   "cell_type": "markdown",
   "metadata": {},
   "source": [
    "# Relaciones\n",
    "\n",
    "Sean los conjuntos $X$ e $Y$. Cualquier subconjunto $R \\subseteq X \\times X$ se dice relación de x {\\displaystyle x} x sobre y {\\displaystyle y} y. Por tanto, una relación es un conjunto de pares ordenados, de modo que toda función f : x ⟶ y {\\displaystyle f:x\\longrightarrow y} {\\displaystyle f:x\\longrightarrow y} es una relación, si bien lo recíproco no es necesariamente cierto, pues puede una relación no cumplir (f-1) o (f-2) (o ambas) de 1.7.1 . De ésto, resulta conveniente adoptar una notación diferente a la que se usó con las funciones para expresar el hecho de que ( a , b ) ∈ R {\\displaystyle (a,b)\\in \\mathrm {R} } {\\displaystyle (a,b)\\in \\mathrm {R} }. Así pues, escribiremos\n"
   ]
  },
  {
   "cell_type": "code",
   "execution_count": 44,
   "metadata": {},
   "outputs": [],
   "source": [
    "X={'a','b','c','d'}\n",
    "R={('a','b'),('b','c'),\n",
    "   ('c','a'),('a','a'),\n",
    "   ('b','b'),('c','c'),\n",
    "   ('b','a'),('c','b'),('c','d'),('d','c'),\n",
    "   ('a','c'),('d','a'),('a','d'),('d','d')}"
   ]
  },
  {
   "cell_type": "code",
   "execution_count": 45,
   "metadata": {},
   "outputs": [],
   "source": [
    "reflexiva = lambda R :{a for (a,b) in R if a==b} == {a for (a,b) in R} | {b for (a,b) in R}"
   ]
  },
  {
   "cell_type": "code",
   "execution_count": 46,
   "metadata": {},
   "outputs": [],
   "source": [
    "producto = lambda X : {(a,b) for a in X for b in X}"
   ]
  },
  {
   "cell_type": "code",
   "execution_count": 55,
   "metadata": {},
   "outputs": [
    {
     "name": "stdout",
     "output_type": "stream",
     "text": [
      "set([('b', 'c'), ('a', 'a'), ('b', 'b'), ('b', 'a'), ('d', 'd'), ('c', 'd'), ('c', 'a'), ('a', 'd'), ('d', 'a'), ('c', 'c'), ('c', 'b'), ('a', 'b'), ('d', 'b'), ('d', 'c'), ('a', 'c'), ('b', 'd')])\n",
      "True\n",
      "True\n"
     ]
    }
   ],
   "source": [
    "G=producto(X)\n",
    "print G\n",
    "print R.issubset(G)\n",
    "\n",
    "print reflexiva(G)"
   ]
  },
  {
   "cell_type": "code",
   "execution_count": 48,
   "metadata": {},
   "outputs": [],
   "source": [
    "simetrica = lambda R :{(b,a) for (a,b) in R if a!=b}.issubset(R)"
   ]
  },
  {
   "cell_type": "code",
   "execution_count": 56,
   "metadata": {
    "scrolled": true
   },
   "outputs": [
    {
     "name": "stdout",
     "output_type": "stream",
     "text": [
      "set([('b', 'c'), ('a', 'a'), ('b', 'b'), ('b', 'a'), ('d', 'd'), ('c', 'd'), ('c', 'a'), ('a', 'd'), ('d', 'a'), ('c', 'c'), ('c', 'b'), ('a', 'b'), ('d', 'b'), ('d', 'c'), ('a', 'c'), ('b', 'd')])\n",
      "True\n"
     ]
    }
   ],
   "source": [
    "print G\n",
    "print simetrica(G)"
   ]
  },
  {
   "cell_type": "code",
   "execution_count": 50,
   "metadata": {},
   "outputs": [],
   "source": [
    "transitiva = lambda R : {(a,d) for (a,b) in R for (c,d) in R if b==c and a!=d}.issubset(R)"
   ]
  },
  {
   "cell_type": "code",
   "execution_count": 57,
   "metadata": {},
   "outputs": [
    {
     "data": {
      "text/plain": [
       "True"
      ]
     },
     "execution_count": 57,
     "metadata": {},
     "output_type": "execute_result"
    }
   ],
   "source": [
    "transitiva(G)"
   ]
  },
  {
   "cell_type": "code",
   "execution_count": 61,
   "metadata": {},
   "outputs": [
    {
     "name": "stdout",
     "output_type": "stream",
     "text": [
      "False\n"
     ]
    }
   ],
   "source": [
    "class Line:\n",
    "    def __init__(self, _p1, _p2):\n",
    "        self.points = {_p1,_p2}\n",
    "        \n",
    "    def __hash__ ( self ):\n",
    "        return hash ((self.p1.x,self.p1.y,self.p2.x,self.p2.y))\n",
    "    \n",
    "    def __eq__ ( self , other ):\n",
    "        return self.points==other.points \n",
    "    \n",
    "\n",
    "    \n",
    "l1=Line((0,0),(1,1))\n",
    "l2=Line((1,1),(0,0))\n",
    "\n",
    "print l1==l2"
   ]
  },
  {
   "cell_type": "code",
   "execution_count": 62,
   "metadata": {},
   "outputs": [
    {
     "data": {
      "text/plain": [
       "True"
      ]
     },
     "execution_count": 62,
     "metadata": {},
     "output_type": "execute_result"
    }
   ],
   "source": [
    "(0,0)==(0,0)"
   ]
  },
  {
   "cell_type": "code",
   "execution_count": null,
   "metadata": {},
   "outputs": [],
   "source": []
  }
 ],
 "metadata": {
  "kernelspec": {
   "display_name": "Python 2",
   "language": "python",
   "name": "python2"
  },
  "language_info": {
   "codemirror_mode": {
    "name": "ipython",
    "version": 2
   },
   "file_extension": ".py",
   "mimetype": "text/x-python",
   "name": "python",
   "nbconvert_exporter": "python",
   "pygments_lexer": "ipython2",
   "version": "2.7.12"
  }
 },
 "nbformat": 4,
 "nbformat_minor": 2
}
