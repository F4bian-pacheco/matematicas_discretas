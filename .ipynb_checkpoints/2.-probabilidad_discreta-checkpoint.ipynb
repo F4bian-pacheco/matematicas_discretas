{
 "cells": [
  {
   "cell_type": "markdown",
   "metadata": {},
   "source": [
    "<H1>Probabilidad Discreta</H1>\n",
    "\n",
    "En probabilidad discreta contamos con un conjunto finito o contablemente infinito de elementos y una función de masa de probabilidad sobre cada uno de los elementos. Para eventos binarios, si repetimos $n$ veces el experimento y obtenemos $k$ sucesos, se obtienen $C(n,k)={{n}\\choose{k}}$ posibles combinaciones. \n"
   ]
  },
  {
   "cell_type": "code",
   "execution_count": 103,
   "metadata": {},
   "outputs": [],
   "source": [
    "import numpy as np\n",
    "\n",
    "factorial = lambda n: 1 if n == 0 else n * factorial(n-1)\n",
    "\n",
    "permutations = lambda n,r : np.int32(factorial(n)/factorial(n-r))\n",
    "\n",
    "generalized_permutations = lambda n,r : np.int32(factorial(n)\n",
    "                                                 /np.prod([factorial(i) for i in r]))\n",
    "\n",
    "n_choose_k = lambda n,k :factorial(n)/(factorial(k)*factorial(n-k))"
   ]
  },
  {
   "cell_type": "markdown",
   "metadata": {},
   "source": [
    "Suponga que los artı́culos de una lı́nea de producción pueden ser defectuosos\n",
    "$D$ o no defectuosos $N$ y que se eligen al azar 3 productos para hacer control\n",
    "de calidad. En Python, construya el espacio muestral $ \\Omega = S_1 \\times S_2 \\times S_3$ para\n",
    "este experimento, siendo $S_i = \\{D, N\\}$."
   ]
  },
  {
   "cell_type": "code",
   "execution_count": 104,
   "metadata": {},
   "outputs": [
    {
     "name": "stdout",
     "output_type": "stream",
     "text": [
      "[('N', 'N', 'N'), ('N', 'N', 'D'), ('N', 'D', 'N'), ('N', 'D', 'D'), ('D', 'N', 'N'), ('D', 'N', 'D'), ('D', 'D', 'N'), ('D', 'D', 'D')]\n"
     ]
    }
   ],
   "source": [
    "S={'D','N'}\n",
    "O=[(s1,s2,s3) for s1 in S for s2 in S for s3 in S]\n",
    "print(O)"
   ]
  },
  {
   "cell_type": "markdown",
   "metadata": {},
   "source": [
    "Supongamos que la probabilidad de encontrar un elemento defectuoso es\n",
    "$P (D) = 0.2$. Determine la distribución para la cantidad de elementos defectu-\n",
    "osos que es posible encontrar y calcule la probabilidad de encontrar 3 elementos\n",
    "defectuosos al mismo tiempo."
   ]
  },
  {
   "cell_type": "code",
   "execution_count": 106,
   "metadata": {},
   "outputs": [
    {
     "name": "stdout",
     "output_type": "stream",
     "text": [
      "Probabilidad uniforme : 0.125\n",
      "Probabilidad 3 elementos defectuosos : 0.008\n"
     ]
    }
   ],
   "source": [
    "binom = lambda x,n,p : n_choose_k(n,x)*p**x * (1-p)**(n-x)\n",
    "\n",
    "prob=0.2\n",
    "print('Probabilidad uniforme : {0:0.3f}'.format(1./len(O)))\n",
    "print('Probabilidad 3 elementos defectuosos : {0:0.3f}'.format(binom(3,3,prob)))"
   ]
  },
  {
   "cell_type": "markdown",
   "metadata": {},
   "source": [
    "Cuál es la probabilidad de encontrar ya sea $2$ o menos elementos defectuosos:"
   ]
  },
  {
   "cell_type": "code",
   "execution_count": 107,
   "metadata": {},
   "outputs": [
    {
     "name": "stdout",
     "output_type": "stream",
     "text": [
      "Probabilidad acumulativa =< 2  : 0.99\n"
     ]
    }
   ],
   "source": [
    "print('Probabilidad acumulativa =< 2  : {0:0.2f}'.format(\n",
    "        np.sum([binom(i,3,prob) for i in np.arange(0,3)])))"
   ]
  },
  {
   "cell_type": "code",
   "execution_count": 109,
   "metadata": {},
   "outputs": [
    {
     "name": "stdout",
     "output_type": "stream",
     "text": [
      "Probabilidad de 2 o 3 : 0.10\n"
     ]
    }
   ],
   "source": [
    "print('Probabilidad de 2 o 3 : {0:0.2f}'.format(binom(2,3,0.2)+binom(3,3,0.2)))"
   ]
  },
  {
   "cell_type": "markdown",
   "metadata": {},
   "source": [
    "<h1>Paradoja del Cumpleanos</h1>\n",
    "\n",
    "La paradoja del cumpleanos estipula que en un grupo de $n=23$ personas existe una probabilidad de mas de un $50\\%$ que dos personas se encuentren de cumpleanos en un mismo  dia. Esto contrasta con el principio del palomar, el cual estipula que se requieren un numero mayor $n>365$ para garantizar un $100\\%$ de probabilidad. "
   ]
  },
  {
   "cell_type": "code",
   "execution_count": 110,
   "metadata": {},
   "outputs": [
    {
     "name": "stdout",
     "output_type": "stream",
     "text": [
      "En un grupo de  23 personas existen  253.0 grupos de 2 personas.\n"
     ]
    }
   ],
   "source": [
    "n=23\n",
    "groups=n_choose_k(n,2)\n",
    "print('En un grupo de {0:3} personas existen  {1:3} grupos de 2 personas.'.format(n,groups))"
   ]
  },
  {
   "cell_type": "markdown",
   "metadata": {},
   "source": [
    "En la practica es mas facil estimar la probabilidad que dos personas no se encuentren el cuampleanos el mismo dia $p=\\frac{364}{365}$. Por lo tanto, si usamos el principio multiplicativo podemos calcular la probabilidad que ninguna persona se encuentre de cumpleanos el mismo dia $(X=0)$:\n",
    "\n",
    "$$\n",
    "P(X=0)=\\frac{365}{365} \\times \\frac{364}{365} \\times \\cdot \\times \\frac{365-n+1}{365}\\\\\n",
    "=\\frac{365!}{365^n (365-n)!}\\\\\n",
    "=\\frac{n! P(365,n)}{365^n}\n",
    "$$\n",
    "\n",
    "La probabilidad puede ser calculada mediante:\n",
    "\n",
    "$$\n",
    "P(X>0)=1-P(X=0)\n",
    "$$"
   ]
  },
  {
   "cell_type": "code",
   "execution_count": 113,
   "metadata": {},
   "outputs": [
    {
     "name": "stdout",
     "output_type": "stream",
     "text": [
      "La probabilidad de un grupo de  23 es  p=0.51 \n"
     ]
    }
   ],
   "source": [
    "birthday = lambda n : 1.0 - np.exp(np.sum(np.log([ (365-i) for i in range(n) ]))\n",
    "                                   - n*np.log(365))\n",
    "\n",
    "n=23\n",
    "print('La probabilidad de un grupo de {0:3} es  p={1:.2f} '.format(n,birthday(n)))"
   ]
  },
  {
   "cell_type": "code",
   "execution_count": 112,
   "metadata": {},
   "outputs": [
    {
     "data": {
      "image/png": "[encoded data removed]",
      "text/plain": [
       "<Figure size 432x288 with 1 Axes>"
      ]
     },
     "metadata": {},
     "output_type": "display_data"
    }
   ],
   "source": [
    "import matplotlib.pyplot as plt\n",
    "plt.style.use('bmh')\n",
    "\n",
    "x=range(1,200)\n",
    "y=[birthday(np.int32(i)) for i in x]\n",
    "\n",
    "fig, ax = plt.subplots()\n",
    "ax.plot(x,y,'k--')\n",
    "ax.set_ylabel(\"Probabilidad\")\n",
    "ax.set_xlabel(\"Numero de personas\")\n",
    "ax.annotate('50% probabilidad',\n",
    "            xy=(23,birthday(23)),\n",
    "            xycoords='data',\n",
    "            xytext=(1, 1),\n",
    "            arrowprops=\n",
    "                dict(facecolor='red', shrink=0.05),\n",
    "                horizontalalignment='left',\n",
    "                verticalalignment='top')\n",
    "ax.grid(True)\n",
    "plt.show()"
   ]
  },
  {
   "cell_type": "markdown",
   "metadata": {},
   "source": [
    "<h1>Distribucion de Poisson</h1>\n",
    "\n",
    "La distribución de Poisson con paramero $\\lambda$ tiene la siguiente forma:\n",
    "\n",
    "$$\n",
    "p(x=k;\\lambda)=\\frac{e^{-\\lambda}\\lambda^k}{k!}\n",
    "$$\n",
    "\n",
    "Si usamos una aproximacion de Poisson al problema del cumpleanos, obtenemos:\n",
    "\n",
    "$$\n",
    "P(X=0)=\\operatorname{Poisson}\\Big(0;\\frac{{n}\\choose{2}}{365}\\Big)\n",
    "$$"
   ]
  },
  {
   "cell_type": "code",
   "execution_count": 114,
   "metadata": {},
   "outputs": [
    {
     "name": "stdout",
     "output_type": "stream",
     "text": [
      "La probabilidad de un grupo de  23 es  p=0.50 \n"
     ]
    }
   ],
   "source": [
    "poiss = lambda x,lamb : (np.exp(-lamb)*lamb**x)/factorial(x)\n",
    "\n",
    "n=23\n",
    "groups=n_choose_k(n,2)\n",
    "print('La probabilidad de un grupo de {0:3} es  p={1:.2f} '.format(n,poiss(0,groups/365)))\n"
   ]
  },
  {
   "cell_type": "code",
   "execution_count": 115,
   "metadata": {},
   "outputs": [
    {
     "data": {
      "image/png": "[encoded data removed]",
      "text/plain": [
       "<Figure size 432x288 with 1 Axes>"
      ]
     },
     "metadata": {},
     "output_type": "display_data"
    },
    {
     "name": "stdout",
     "output_type": "stream",
     "text": [
      "Entropy : 0.09532149074613618\n"
     ]
    },
    {
     "data": {
      "image/png": "[encoded data removed]",
      "text/plain": [
       "<Figure size 432x288 with 1 Axes>"
      ]
     },
     "metadata": {},
     "output_type": "display_data"
    },
    {
     "name": "stdout",
     "output_type": "stream",
     "text": [
      "Entropy : 0.002689568923945595\n"
     ]
    }
   ],
   "source": [
    "import numpy as np\n",
    "from scipy import stats\n",
    "import matplotlib.pyplot as plt\n",
    "plt.style.use('bmh')\n",
    "\n",
    "\n",
    "def poisson_approximation(n,p,n_samp=1000):\n",
    "    samples_poisson=np.random.poisson(n*p,n_samp)\n",
    "    samples_binomial=np.random.binomial(n,p,n_samp)\n",
    "    fig, ax = plt.subplots()\n",
    "    ax.hist(samples_poisson, histtype=\"stepfilled\",\n",
    "            bins=25, alpha=0.8, density=True)\n",
    "    ax.hist(samples_binomial, histtype=\"stepfilled\",\n",
    "            bins=25, alpha=0.8, density=True)\n",
    "    ax.set_title(r'$\\mathrm{Binomial/Poisson:}\\ n={%d},p=%0.2f,\\lambda=%0.2f$'%(n,p,n*p))\n",
    "    plt.show()\n",
    "\n",
    "n=20\n",
    "p=0.5\n",
    "poisson_approximation(n,p)\n",
    "x1=[binom(i,n,p) for i in range(0,n)]\n",
    "x2=[poiss(i,n*p) for i in range(0,n)]\n",
    "print('Entropy : {0}'.format(stats.entropy(x1,x2)))\n",
    "\n",
    "n=100\n",
    "p=0.1\n",
    "poisson_approximation(n,p)\n",
    "x1=[binom(i,n,p) for i in range(0,n)]\n",
    "x2=[poiss(i,n*p) for i in range(0,n)]\n",
    "print('Entropy : {0}'.format(stats.entropy(x1,x2)))\n",
    "\n"
   ]
  },
  {
   "cell_type": "code",
   "execution_count": 126,
   "metadata": {},
   "outputs": [
    {
     "data": {
      "image/png": "[encoded data removed]",
      "text/plain": [
       "<Figure size 432x288 with 1 Axes>"
      ]
     },
     "metadata": {},
     "output_type": "display_data"
    },
    {
     "name": "stdout",
     "output_type": "stream",
     "text": [
      "Entropy : inf\n"
     ]
    },
    {
     "name": "stderr",
     "output_type": "stream",
     "text": [
      "/usr/lib/python3/dist-packages/ipykernel_launcher.py:8: RuntimeWarning: divide by zero encountered in log\n",
      "  \n"
     ]
    }
   ],
   "source": [
    "from scipy.special import gammaln \n",
    "\n",
    "# log (factorial(n)) = gammaln (n+1)\n",
    "log_n_choose_k = lambda n,k : (gammaln(n+1) - (gammaln(k+1) + gammaln(n-k+1)))\n",
    "\n",
    "log_binom = lambda x,n,p : log_n_choose_k(n,x)+x*np.log(p) + (n-x)*np.log(1.0-p)\n",
    "\n",
    "#poiss = lambda x,lamb : (np.exp(-lamb)*lamb**x)/factorial(x)\n",
    "log_poiss = lambda x,lamb : (-lamb+x*np.log(lamb))-gammaln(x+1)\n",
    "\n",
    "n=1000\n",
    "p=0.01\n",
    "poisson_approximation(n,p)\n",
    "x1=np.exp([log_binom(i,n,p) for i in range(0,100)])\n",
    "x2=np.exp([log_poiss(i,n*p) for i in range(0,100)])\n",
    "print('Entropy : {0}'.format(stats.entropy(x1,x2)))\n",
    "\n"
   ]
  },
  {
   "cell_type": "code",
   "execution_count": 128,
   "metadata": {},
   "outputs": [
    {
     "name": "stdout",
     "output_type": "stream",
     "text": [
      "[0.006737946999085467, 0.03368973499542734, 0.08422433748856833, 0.14037389581428056, 0.1754673697678507, 0.1754673697678507, 0.1462228081398756, 0.104444862957054, 0.06527803934815875, 0.03626557741564375]\n",
      "[0.00000000e+000 6.73794700e-003 1.07807152e-001 2.72886853e-001\n",
      " 2.87485739e-001 1.75467370e-001 7.27698276e-002 2.24691816e-002\n",
      " 5.47591883e-003 1.09642039e-003 1.85679756e-004 2.71853731e-005\n",
      " 3.50023221e-006 4.01757540e-007 4.15680275e-008 3.91276959e-009\n",
      " 3.37681999e-010 2.68969900e-011 1.98860760e-012 1.37151630e-013\n",
      " 8.86243273e-015 5.38617119e-016 3.08940185e-017 1.67753791e-018\n",
      " 8.64725227e-020 4.24211029e-021 1.98506761e-022 8.87899109e-024\n",
      " 3.80344311e-025 1.56307119e-026 6.17268037e-028 2.34592590e-029\n",
      " 8.59222686e-031 3.03676792e-032 1.03694942e-033 3.42479960e-035\n",
      " 1.09522903e-036 3.39468388e-038 1.02076343e-039 2.98033820e-041\n",
      " 8.45634083e-043 2.33355451e-044 6.26752142e-046 1.63954446e-047\n",
      " 4.18014768e-049 1.03938944e-050 2.52201146e-052 5.97515712e-054\n",
      " 1.38300895e-055 3.12898242e-057 6.92313403e-059 1.49876459e-060\n",
      " 3.17611279e-062 6.59147602e-064 1.34022702e-065 2.67091660e-067\n",
      " 5.21914049e-069 1.00036451e-070 1.88146425e-072 3.47347398e-074\n",
      " 6.29664187e-076 1.12117158e-077 1.96150610e-079 3.37282194e-081\n",
      " 5.70178140e-083 9.47903484e-085 1.55014769e-086 2.49432254e-088\n",
      " 3.95015602e-090 6.15837383e-092 9.45393811e-094 1.42940715e-095\n",
      " 2.12909084e-097 3.12480665e-099 4.51997183e-101 6.44498904e-103\n",
      " 9.06087701e-105 1.25621847e-106 1.71786867e-108 2.31752972e-110\n",
      " 3.08496189e-112 4.05265789e-114 5.25497021e-116 6.72687513e-118\n",
      " 8.50237094e-120 1.06125395e-121 1.30833361e-123 1.59332090e-125\n",
      " 1.91706870e-127 2.27921001e-129 2.67796161e-131 3.10997838e-133\n",
      " 3.57027540e-135 4.05223268e-137 4.54769203e-139 5.04714986e-141\n",
      " 5.54004262e-143 6.01511420e-145 6.46084778e-147 6.86593850e-149]\n"
     ]
    },
    {
     "name": "stderr",
     "output_type": "stream",
     "text": [
      "/usr/lib/python3/dist-packages/ipykernel_launcher.py:8: RuntimeWarning: divide by zero encountered in log\n",
      "  \n"
     ]
    }
   ],
   "source": [
    "n=10\n",
    "p=0.5\n",
    "x2=[poiss(i,n*p) for i in range(0,n)]\n",
    "print(x2)\n",
    "x3=np.exp([log_poiss(i,n*p) for i in range(0,100)])\n",
    "print(x3)"
   ]
  },
  {
   "cell_type": "markdown",
   "metadata": {},
   "source": [
    "Sunpongamos que $1$ en $5000$ ampolletas es defectuosa. Sea $X$ el numero de ampolletas defectuosas en un grupo de $10000$. Cual es la probabilidad que 3 ampolletas sean defectuosas?"
   ]
  },
  {
   "cell_type": "code",
   "execution_count": 20,
   "metadata": {},
   "outputs": [],
   "source": [
    "n=20\n",
    "p=0.5\n",
    "x1=stats.poisson(n*p)\n",
    "x2=stats.binom(n,p)\n",
    "pmf=x1.pmf(range(0,n))"
   ]
  },
  {
   "cell_type": "code",
   "execution_count": 21,
   "metadata": {},
   "outputs": [
    {
     "data": {
      "text/plain": [
       "array([4.53999298e-05, 4.53999298e-04, 2.26999649e-03, 7.56665496e-03,\n",
       "       1.89166374e-02, 3.78332748e-02, 6.30554580e-02, 9.00792257e-02,\n",
       "       1.12599032e-01, 1.25110036e-01, 1.25110036e-01, 1.13736396e-01,\n",
       "       9.47803301e-02, 7.29079462e-02, 5.20771044e-02, 3.47180696e-02,\n",
       "       2.16987935e-02, 1.27639962e-02, 7.09110899e-03, 3.73216263e-03])"
      ]
     },
     "execution_count": 21,
     "metadata": {},
     "output_type": "execute_result"
    }
   ],
   "source": [
    "pmf"
   ]
  },
  {
   "cell_type": "code",
   "execution_count": 19,
   "metadata": {},
   "outputs": [
    {
     "data": {
      "text/plain": [
       "[4.5399929762484854e-05,\n",
       " 0.00045399929762484856,\n",
       " 0.0022699964881242427,\n",
       " 0.007566654960414142,\n",
       " 0.018916637401035354,\n",
       " 0.03783327480207071,\n",
       " 0.06305545800345118,\n",
       " 0.09007922571921599,\n",
       " 0.11259903214901998,\n",
       " 0.1251100357211333,\n",
       " 0.1251100357211333,\n",
       " 0.11373639611012118,\n",
       " 0.09478033009176766,\n",
       " 0.07290794622443666,\n",
       " 0.05207710444602619,\n",
       " 0.03471806963068413,\n",
       " 0.021698793519177577,\n",
       " 0.012763996187751515,\n",
       " 0.007091108993195286,\n",
       " 0.0037321626279975192]"
      ]
     },
     "execution_count": 19,
     "metadata": {},
     "output_type": "execute_result"
    }
   ],
   "source": [
    "[poiss(n*p,i) for i in range(0,n)]"
   ]
  },
  {
   "cell_type": "code",
   "execution_count": null,
   "metadata": {},
   "outputs": [],
   "source": []
  }
 ],
 "metadata": {
  "kernelspec": {
   "display_name": "Python 3",
   "language": "python",
   "name": "python3"
  },
  "language_info": {
   "codemirror_mode": {
    "name": "ipython",
    "version": 3
   },
   "file_extension": ".py",
   "mimetype": "text/x-python",
   "name": "python",
   "nbconvert_exporter": "python",
   "pygments_lexer": "ipython3",
   "version": "3.6.9"
  }
 },
 "nbformat": 4,
 "nbformat_minor": 2
}
