{
 "cells": [
  {
   "cell_type": "markdown",
   "metadata": {},
   "source": [
    "# Redes Sociales\n",
    "\n",
    "Una red social es un grafo cuyos vértices representan personas, páginas web u organizaciones y las aristas algún tipo de interacción social. La centralidad de un vértices en una red social está relacionado a la importancia del vértice en el grafo. El grado de un vértice corresponde a la cantidad de aristas incidentes.\n"
   ]
  },
  {
   "cell_type": "code",
   "execution_count": 1,
   "metadata": {},
   "outputs": [
    {
     "data": {
      "text/plain": [
       "<Figure size 640x480 with 1 Axes>"
      ]
     },
     "metadata": {},
     "output_type": "display_data"
    },
    {
     "name": "stdout",
     "output_type": "stream",
     "text": [
      "E :  [(0, 2), (0, 3), (0, 5), (0, 7), (1, 8), (1, 3), (1, 6), (2, 8), (2, 3), (2, 4), (2, 6), (3, 4), (3, 7), (4, 8), (4, 5), (4, 7), (5, 6), (5, 7), (5, 8), (5, 9), (6, 9), (6, 7)]\n",
      "centralidad grado:  {0: 0.4444444444444444, 1: 0.3333333333333333, 2: 0.5555555555555556, 3: 0.5555555555555556, 4: 0.5555555555555556, 5: 0.6666666666666666, 6: 0.5555555555555556, 7: 0.5555555555555556, 8: 0.4444444444444444, 9: 0.2222222222222222}\n"
     ]
    }
   ],
   "source": [
    "import networkx as nx\n",
    "import matplotlib.pyplot as plt\n",
    "\n",
    "G=nx.erdos_renyi_graph(10,0.5)\n",
    "d=nx.degree(G)\n",
    "cd=nx.degree_centrality(G)\n",
    "nx.draw(G)\n",
    "plt.show()\n",
    "\n",
    "print 'E : ',G.edges()\n",
    "print 'centralidad grado: ',cd"
   ]
  },
  {
   "cell_type": "code",
   "execution_count": 2,
   "metadata": {},
   "outputs": [
    {
     "name": "stdout",
     "output_type": "stream",
     "text": [
      "E :  [(0, 2), (0, 3), (0, 5), (0, 7), (1, 8), (1, 3), (1, 6), (2, 8), (2, 3), (2, 4), (2, 6), (3, 4), (3, 7), (4, 8), (4, 5), (4, 7), (5, 6), (5, 7), (5, 8), (5, 9), (6, 9), (6, 7)]\n",
      "centralidad cercania:  {0: 0.027777777777777776, 1: 0.0324074074074074, 2: 0.07175925925925926, 3: 0.0787037037037037, 4: 0.05092592592592592, 5: 0.1736111111111111, 6: 0.13425925925925927, 7: 0.05324074074074074, 8: 0.043981481481481476, 9: 0.0}\n",
      "centralidad intermediacion:  {0: 0.028240740740740736, 1: 0.03287037037037036, 2: 0.0722222222222222, 3: 0.0787037037037037, 4: 0.05138888888888889, 5: 0.1736111111111111, 6: 0.13425925925925927, 7: 0.05138888888888889, 8: 0.04398148148148148, 9: 0.0}\n"
     ]
    }
   ],
   "source": [
    "cb=nx.betweenness_centrality(G)\n",
    "cc=nx.load_centrality(G)\n",
    "print 'E : ',G.edges()\n",
    "print 'centralidad cercania: ',cb\n",
    "print 'centralidad intermediacion: ',cc"
   ]
  },
  {
   "cell_type": "markdown",
   "metadata": {},
   "source": [
    "# Redes Libres de Escala\n",
    "\n",
    "\n",
    "1. Las redes libres de escala (scale-free) son redes cuya distribución de grados obedece una ley de potencia\n",
    "2. Esto significa que unos pocos nodos se encuentran bien conectados y la mayoría se encuentran pobremente conectados.\n",
    "3. Este tipo de redes se encuentran naturalmente en redes biológicas, citas bibliográficas y la Internet."
   ]
  },
  {
   "cell_type": "code",
   "execution_count": 5,
   "metadata": {},
   "outputs": [
    {
     "name": "stdout",
     "output_type": "stream",
     "text": [
      "Name: \n",
      "Type: Graph\n",
      "Number of nodes: 4039\n",
      "Number of edges: 88234\n",
      "Average degree:  43.6910\n"
     ]
    }
   ],
   "source": [
    "import networkx as nx\n",
    "import matplotlib.pyplot  as plt \n",
    "\n",
    "G_fb=nx.read_edgelist('data/facebook_combined.txt',create_using=nx.Graph(),nodetype=int)\n",
    "print(nx.info(G_fb))"
   ]
  },
  {
   "cell_type": "code",
   "execution_count": 6,
   "metadata": {},
   "outputs": [
    {
     "data": {
      "image/png": "[encoded data removed]",
      "text/plain": [
       "<Figure size 432x288 with 1 Axes>"
      ]
     },
     "metadata": {},
     "output_type": "display_data"
    }
   ],
   "source": [
    "plt.axis(\"off\")\n",
    "nx.draw_networkx(G_fb,pos=nx.spring_layout(G_fb),with_labels=False,node_size=35)\n",
    "plt.show()"
   ]
  },
  {
   "cell_type": "code",
   "execution_count": 8,
   "metadata": {},
   "outputs": [],
   "source": [
    "cd_fb=nx.degree_centrality(G_fb)\n",
    "cb_fb=nx.betweenness_centrality(G_fb)"
   ]
  },
  {
   "cell_type": "code",
   "execution_count": 9,
   "metadata": {},
   "outputs": [
    {
     "name": "stdout",
     "output_type": "stream",
     "text": [
      "107    0.258791\n",
      "dtype: float64\n",
      "107    0.480518\n",
      "dtype: float64\n"
     ]
    }
   ],
   "source": [
    "import pandas as pd\n",
    "\n",
    "def get_node(centrality,func):\n",
    "    lookup_list = pd.Series(centrality)\n",
    "    min_val= func(centrality.values())\n",
    "    return lookup_list[lookup_list.values == min_val]\n",
    "\n",
    "print get_node(cd_fb,max)\n",
    "print get_node(cb_fb,max)"
   ]
  },
  {
   "cell_type": "code",
   "execution_count": 10,
   "metadata": {},
   "outputs": [
    {
     "name": "stdout",
     "output_type": "stream",
     "text": [
      "1045\n"
     ]
    }
   ],
   "source": [
    "print nx.degree(G_fb,107)"
   ]
  },
  {
   "cell_type": "code",
   "execution_count": 28,
   "metadata": {},
   "outputs": [
    {
     "data": {
      "image/png": "[encoded data removed]",
      "text/plain": [
       "<Figure size 432x288 with 1 Axes>"
      ]
     },
     "metadata": {},
     "output_type": "display_data"
    }
   ],
   "source": [
    "degrees=nx.degree(G_fb)\n",
    "plt.hist([d for (n,d) in degrees],100)\n",
    "plt.show()"
   ]
  },
  {
   "cell_type": "code",
   "execution_count": null,
   "metadata": {},
   "outputs": [],
   "source": []
  }
 ],
 "metadata": {
  "kernelspec": {
   "display_name": "Python 2",
   "language": "python",
   "name": "python2"
  },
  "language_info": {
   "codemirror_mode": {
    "name": "ipython",
    "version": 2
   },
   "file_extension": ".py",
   "mimetype": "text/x-python",
   "name": "python",
   "nbconvert_exporter": "python",
   "pygments_lexer": "ipython2",
   "version": "2.7.12"
  }
 },
 "nbformat": 4,
 "nbformat_minor": 2
}
