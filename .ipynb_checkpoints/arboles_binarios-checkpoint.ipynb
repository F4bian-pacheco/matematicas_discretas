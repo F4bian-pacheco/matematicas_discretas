{
 "cells": [
  {
   "cell_type": "markdown",
   "metadata": {},
   "source": [
    "# Arboles Binarios\n",
    "\n",
    "Un método de búsqueda por ı́ndices son los KD-trees, los cuales se basan en árboles\n",
    "binarios. El método para construir los árboles binarios realiza cortes sobre la mediana de un\n",
    "eje y produce un árbol de altura $log(n)$. El árbol puede ser construido de manera recursiva\n",
    "con un costo $O(n \\operatorname{log} n)$, el cual efectivamente es menor que la búsqueda exhaustiva $O(n2)$.\n",
    "La Figura 1 muestra una árbol binario. Los hijos de cada nodo corresponden a la posición\n",
    "de la mediana del eje seleccionado para cada profundidad.\n",
    "\n"
   ]
  },
  {
   "cell_type": "code",
   "execution_count": 73,
   "metadata": {},
   "outputs": [],
   "source": [
    "import networkx as nx\n",
    "import pandas as pd\n",
    "import numpy as np\n",
    "\n",
    "from math import radians, cos, sin, asin, sqrt\n",
    "\n",
    "class Node:pass\n",
    "\n",
    "def haversine(lon1, lat1, lon2, lat2):\n",
    "    lon1, lat1, lon2, lat2 = map(radians, [lon1, lat1, lon2, lat2])\n",
    "    dlon = lon2 - lon1 \n",
    "    dlat = lat2 - lat1 \n",
    "    a = sin(dlat/2)**2 + cos(lat1) * cos(lat2) * sin(dlon/2)**2\n",
    "    c = 2 * asin(sqrt(a)) \n",
    "    r = 6371 # Radius of earth in kilometers. Use 3956 for miles\n",
    "    return c * r\n",
    "\n",
    "def kdtree_create(parent,point_list,depth=0):\n",
    "    if len(point_list)==0:\n",
    "        return\n",
    "    D = len(point_list.columns) # assumes all points have the same dimension\n",
    "    axis = depth % D\n",
    "    key=point_list.columns[axis]\n",
    "    A=point_list.sort_values(by=key)\n",
    "    median = len(point_list)/2 # choose median\n",
    "    # Create node and construct subtrees\n",
    "    node = Node()\n",
    "    node.axis=axis\n",
    "    node.location = A.iloc[median]\n",
    "    node.parent=parent\n",
    "    node.bbox_min=np.min(A,axis=0)\n",
    "    node.bbox_max=np.max(A,axis=0)\n",
    "    node.left_child = kdtree_create(node.location,A.iloc[0:median], depth+1)\n",
    "    node.right_child = kdtree_create(node.location,A.iloc[median+1:], depth+1)\n",
    "    return node\n",
    "\n",
    "def get_nearest_node(G,point):\n",
    "    node_distances={}\n",
    "    for g in G.nodes():\n",
    "        dist=haversine(np.float(G.node[g]['y']),np.float(G.node[g]['x']),point[0],point[1])\n",
    "        node_distances.update({g:dist})\n",
    "    lookup_list = pd.Series(node_distances)\n",
    "    min_dist= min(node_distances.values())\n",
    "    return lookup_list[lookup_list.values == min_dist].index[0]\n",
    "\n",
    "def get_point_list(G):\n",
    "    point_list=pd.DataFrame()\n",
    "    for g in G.nodes():\n",
    "        lat=np.float(G.node[g]['y'])\n",
    "        lon=np.float(G.node[g]['x'])\n",
    "        df=pd.DataFrame([[lat,lon]],columns=['lat','lon'])\n",
    "        if (len(point_list)==0):\n",
    "            point_list=df\n",
    "        else:\n",
    "            point_list=point_list.append(df,ignore_index=True)\n",
    "    return point_list\n",
    "\n",
    "\n"
   ]
  },
  {
   "cell_type": "code",
   "execution_count": 103,
   "metadata": {},
   "outputs": [],
   "source": [
    "from scipy.spatial.distance import euclidean\n",
    "\n",
    "def dfs_knn(kdtree,point,path=[],dist=euclidean,n=1):\n",
    "    # DFS KNN search search\n",
    "    if hasattr(kdtree,'location'):\n",
    "        root=(kdtree.location[0],kdtree.location[1])\n",
    "        p_dist=dist(point,root)\n",
    "        path+=[[p_dist,root]]\n",
    "        path.sort()\n",
    "        l_leaf=kdtree.left_child\n",
    "        if hasattr(l_leaf,'location'):\n",
    "            dfs_knn(l_leaf,point,path,dist,range)\n",
    "        r_leaf=kdtree.right_child\n",
    "        if hasattr(r_leaf,'location'):\n",
    "            dfs_knn(r_leaf,point,path,dist,range)\n",
    "    return path[0:min(n,len(path))]\n",
    "\n",
    "def dfs_range(kdtree,point,path=[],dist=euclidean,range=0):\n",
    "    # DFS search range search\n",
    "    if hasattr(kdtree,'location'):\n",
    "        root=(kdtree.location[0],kdtree.location[1])\n",
    "        p_dist=dist(point,root)\n",
    "        if(p_dist<=range):\n",
    "            path+=[root]\n",
    "        l_leaf=kdtree.left_child\n",
    "        if hasattr(l_leaf,'location'):\n",
    "            dfs_range(l_leaf,point,path,dist,range)\n",
    "        r_leaf=kdtree.right_child\n",
    "        if hasattr(r_leaf,'location'):\n",
    "            dfs_range(r_leaf,point,path,dist,range)\n",
    "    return path"
   ]
  },
  {
   "cell_type": "code",
   "execution_count": 104,
   "metadata": {},
   "outputs": [
    {
     "data": {
      "text/plain": [
       "<Figure size 1080x576 with 0 Axes>"
      ]
     },
     "metadata": {},
     "output_type": "display_data"
    }
   ],
   "source": [
    "import matplotlib.pyplot as plt \n",
    "\n",
    "plt.figure(figsize=(15,8))\n",
    "def draw_bbox(kdtree):\n",
    "    if kdtree:\n",
    "        parent=kdtree.parent\n",
    "        child_node=kdtree.location\n",
    "        min_val=kdtree.bbox_min\n",
    "        max_val=kdtree.bbox_max \n",
    "        if not hasattr(parent,'data'):\n",
    "            parent=child_node\n",
    "        #print (\"parent : x=%s,y=%s\"%(parent[0],parent[1]))\n",
    "        #print (\"child : x=%s,y=%s\"%(child_node[0],child_node[1]))\n",
    "        #print '---------------'\n",
    "        rect1=plt.Rectangle(parent-0.1,0.2,0.2, lw=2,fill=False,color='red')\n",
    "        rect2=plt.Rectangle(min_val-0.1,max_val[0]-min_val[0]+0.2,max_val[1]-min_val[1]+0.2, lw=1,fill=False,alpha=0.9)\n",
    "        plt.gca().add_patch(rect1)\n",
    "        plt.gca().add_patch(rect2)\n",
    "        if(kdtree.right_child):\n",
    "            draw_bbox(kdtree.right_child)\n",
    "        if(kdtree.left_child):\n",
    "            draw_bbox(kdtree.left_child)\n",
    "    return kdtree"
   ]
  },
  {
   "cell_type": "code",
   "execution_count": 113,
   "metadata": {},
   "outputs": [
    {
     "data": {
      "image/png": "[encoded data removed]",
      "text/plain": [
       "<Figure size 1080x576 with 1 Axes>"
      ]
     },
     "metadata": {},
     "output_type": "display_data"
    },
    {
     "name": "stdout",
     "output_type": "stream",
     "text": [
      "[[0.7071067811865476, (1.0, 1.0)], [0.7071067811865476, (2.0, 1.0)], [1.5811388300841898, (3.0, 2.0)], [2.1213203435596424, (0.0, 0.0)]]\n",
      "[(0.0, 0.0), (-1.0, -1.0), (-2.0, -1.0), (-3.0, -2.0), (-0.5, 0.5), (2.0, 1.0), (1.0, 1.0), (3.0, 2.0)]\n"
     ]
    }
   ],
   "source": [
    "import matplotlib.pyplot as plt \n",
    "\n",
    "X = np.array([[-1, -1], [-2, -1], [-3, -2], [1, 1],[-0.5, 0.5], [0, 0], [2, 1], [3, 2]])\n",
    "X= pd.DataFrame(X)\n",
    "\n",
    "plt.figure(figsize=(15,8))\n",
    "        \n",
    "simple_tree=kdtree_create(Node(),X)\n",
    "query=(1.5,1.5)\n",
    "knn_path=dfs_knn(simple_tree,query,[],euclidean,4)\n",
    "range_path=dfs_range(simple_tree,query,[],euclidean,10)\n",
    "\n",
    "draw_bbox(simple_tree)\n",
    "plt.scatter(X[0],X[1],s=90)\n",
    "plt.scatter(query[0],query[1],s=90)\n",
    "plt.show()\n",
    "\n",
    "\n",
    "print knn_path\n",
    "print range_path"
   ]
  },
  {
   "cell_type": "code",
   "execution_count": 107,
   "metadata": {},
   "outputs": [
    {
     "name": "stdout",
     "output_type": "stream",
     "text": [
      "Name: Talca,Chile\n",
      "Type: MultiDiGraph\n",
      "Number of nodes: 7607\n",
      "Number of edges: 20203\n",
      "Average in degree:   2.6558\n",
      "Average out degree:   2.6558\n"
     ]
    }
   ],
   "source": [
    "G=nx.read_graphml('data/talca_ciclovias.graphml')\n",
    "print nx.info(G)\n",
    "origin_point = (-35.434415,-71.620053)\n",
    "destination_point = (-35.425901, -71.666645)\n",
    "\n",
    "point_list=get_point_list(G)\n",
    "\n",
    "kdtree=kdtree_create(Node(),point_list)"
   ]
  },
  {
   "cell_type": "markdown",
   "metadata": {},
   "source": [
    "De manera de consultar por los vecinos más próximos (nn), descendemos por el árbol y\n",
    "mantenemos un punto candidato a ser el nn y un valor máximo conocido de la distancia\n",
    "al punto de consulta. Luego chequeamos los sub-árboles dependiendo del eje de corte\n",
    "continuamos por una de las ramas. Un ejemplo tı́pico es la búsqueda por rangos en consultas\n",
    "geoespaciales."
   ]
  },
  {
   "cell_type": "code",
   "execution_count": 2,
   "metadata": {},
   "outputs": [
    {
     "name": "stdout",
     "output_type": "stream",
     "text": [
      "lat   -35.432749\n",
      "lon   -71.681489\n",
      "Name: 5643, dtype: float64\n",
      "lat   -35.447087\n",
      "lon   -71.662497\n",
      "Name: 7149, dtype: float64\n",
      "lat   -35.415658\n",
      "lon   -71.644622\n",
      "Name: 1916, dtype: float64\n"
     ]
    }
   ],
   "source": [
    "root_node=kdtree.location\n",
    "print root_node\n",
    "print kdtree.left_child.location\n",
    "print kdtree.right_child.location"
   ]
  },
  {
   "cell_type": "code",
   "execution_count": null,
   "metadata": {},
   "outputs": [],
   "source": [
    "def kdtree_knn(kdtree,point,n=1):\n",
    "    #Retornar lista de n ciudades mas cercanas al punto point=(p1,p2)\n",
    "    return None\n",
    "def kdtree_range(kdtree,point,range=0):\n",
    "    #Retornar lista de ciudades cercanas al punto point=(p1,p2) dentro de un rango\n",
    "    return None"
   ]
  }
 ],
 "metadata": {
  "kernelspec": {
   "display_name": "Python 2",
   "language": "python",
   "name": "python2"
  },
  "language_info": {
   "codemirror_mode": {
    "name": "ipython",
    "version": 2
   },
   "file_extension": ".py",
   "mimetype": "text/x-python",
   "name": "python",
   "nbconvert_exporter": "python",
   "pygments_lexer": "ipython2",
   "version": "2.7.12"
  }
 },
 "nbformat": 4,
 "nbformat_minor": 2
}
