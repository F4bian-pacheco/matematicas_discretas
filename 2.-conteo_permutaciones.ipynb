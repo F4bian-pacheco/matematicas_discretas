{
 "cells": [
  {
   "cell_type": "markdown",
   "metadata": {},
   "source": [
    "# Conteo\n",
    "\n",
    "El siguiente Laboratorio consistirá en ver los contenidos de forma práctica del Principio de Inclusión y Exclusión, al igual que el Principio del Palomar."
   ]
  },
  {
   "cell_type": "markdown",
   "metadata": {},
   "source": [
    ">Sea Alf el conjunto formado por las letras del \"alfabeto\", se tienen 9 cajas para guardar de forma aleatoria los elementos de A. Muestre que se cumple el Principio del Palomar."
   ]
  },
  {
   "cell_type": "code",
   "execution_count": 1,
   "metadata": {},
   "outputs": [
    {
     "data": {
      "text/plain": [
       "27"
      ]
     },
     "execution_count": 1,
     "metadata": {},
     "output_type": "execute_result"
    }
   ],
   "source": [
    "Alf=['a','b','c','d','e','f','g','h','i','j','k','l','m','n','ñ','o','p','q','r','s','t','u','v','w','x','y','z']\n",
    "len(Alf)"
   ]
  },
  {
   "cell_type": "code",
   "execution_count": 2,
   "metadata": {},
   "outputs": [],
   "source": [
    "Cajas=[[] for i in range(26)]"
   ]
  },
  {
   "cell_type": "code",
   "execution_count": 3,
   "metadata": {},
   "outputs": [
    {
     "data": {
      "text/plain": [
       "26"
      ]
     },
     "execution_count": 3,
     "metadata": {},
     "output_type": "execute_result"
    }
   ],
   "source": [
    "len(Cajas)"
   ]
  },
  {
   "cell_type": "code",
   "execution_count": 4,
   "metadata": {},
   "outputs": [
    {
     "data": {
      "text/plain": [
       "'b'"
      ]
     },
     "execution_count": 4,
     "metadata": {},
     "output_type": "execute_result"
    }
   ],
   "source": [
    "Alf[1]"
   ]
  },
  {
   "cell_type": "code",
   "execution_count": 5,
   "metadata": {},
   "outputs": [],
   "source": [
    "import random"
   ]
  },
  {
   "cell_type": "code",
   "execution_count": 8,
   "metadata": {},
   "outputs": [],
   "source": [
    "for i in range(27):\n",
    "    Cajas[random.randint(0,25)].append(Alf[i])\n",
    "    "
   ]
  },
  {
   "cell_type": "code",
   "execution_count": 9,
   "metadata": {},
   "outputs": [
    {
     "name": "stdout",
     "output_type": "stream",
     "text": [
      "[['i'], ['z'], ['n'], ['k'], ['v'], [], ['a'], ['o'], [], ['r', 'y'], ['b', 'l', 'x'], ['h'], ['e', 'ñ'], [], [], ['t'], ['j'], [], ['c', 'q'], ['s'], ['d', 'g'], ['m', 'p', 'u'], ['w'], ['f'], [], []]\n"
     ]
    }
   ],
   "source": [
    "print(Cajas)"
   ]
  },
  {
   "cell_type": "code",
   "execution_count": 10,
   "metadata": {},
   "outputs": [
    {
     "name": "stdout",
     "output_type": "stream",
     "text": [
      "el número de elementos en la caja 1 son  1\n",
      "el número de elementos en la caja 2 son  1\n",
      "el número de elementos en la caja 3 son  1\n",
      "el número de elementos en la caja 4 son  1\n",
      "el número de elementos en la caja 5 son  1\n",
      "el número de elementos en la caja 6 son  0\n",
      "el número de elementos en la caja 7 son  1\n",
      "el número de elementos en la caja 8 son  1\n",
      "el número de elementos en la caja 9 son  0\n"
     ]
    }
   ],
   "source": [
    "for i in range(9):\n",
    "    print('el número de elementos en la caja',i+1, 'son ', len(Cajas[i]))"
   ]
  },
  {
   "cell_type": "markdown",
   "metadata": {},
   "source": [
    "¿De cuántas maneras se pueden obtener 5, 7 o 9 puntos, si lanzamos dos dados (uno blanco y otro rojo)?"
   ]
  },
  {
   "cell_type": "code",
   "execution_count": 11,
   "metadata": {},
   "outputs": [],
   "source": [
    "X_5={(1,4),(2,3),(3,2),(4,1)}"
   ]
  },
  {
   "cell_type": "code",
   "execution_count": 12,
   "metadata": {},
   "outputs": [],
   "source": [
    "X_7={(1,6),(2,5),(3,4),(4,3),(5,2),(6,1)}"
   ]
  },
  {
   "cell_type": "code",
   "execution_count": 13,
   "metadata": {},
   "outputs": [],
   "source": [
    "X_9={(3,6),(4,5),(5,4),(6,3)}"
   ]
  },
  {
   "cell_type": "code",
   "execution_count": 14,
   "metadata": {},
   "outputs": [
    {
     "data": {
      "text/plain": [
       "set()"
      ]
     },
     "execution_count": 14,
     "metadata": {},
     "output_type": "execute_result"
    }
   ],
   "source": [
    "X_5 & X_7"
   ]
  },
  {
   "cell_type": "code",
   "execution_count": 15,
   "metadata": {},
   "outputs": [
    {
     "data": {
      "text/plain": [
       "set()"
      ]
     },
     "execution_count": 15,
     "metadata": {},
     "output_type": "execute_result"
    }
   ],
   "source": [
    "X_5 & X_9"
   ]
  },
  {
   "cell_type": "code",
   "execution_count": 16,
   "metadata": {},
   "outputs": [
    {
     "data": {
      "text/plain": [
       "set()"
      ]
     },
     "execution_count": 16,
     "metadata": {},
     "output_type": "execute_result"
    }
   ],
   "source": [
    "X_7 & X_9"
   ]
  },
  {
   "cell_type": "code",
   "execution_count": 17,
   "metadata": {},
   "outputs": [
    {
     "data": {
      "text/plain": [
       "14"
      ]
     },
     "execution_count": 17,
     "metadata": {},
     "output_type": "execute_result"
    }
   ],
   "source": [
    "len(X_5 | X_7 | X_9)"
   ]
  },
  {
   "cell_type": "markdown",
   "metadata": {},
   "source": [
    "Las placas de matrícula de los autos en Chile consta de 4 letras consecutivas seguida de 2 números. Sabiendo que el alfabeto tiene 26 letras ¿Cuántos autos se pueden matricular?"
   ]
  },
  {
   "cell_type": "code",
   "execution_count": 18,
   "metadata": {},
   "outputs": [],
   "source": [
    "Abecedario={'a','b','c','d','e','f','g','h','i','j','k','l','m','n','o','p','q','r','s','t','u','v','w','x','y','z'}"
   ]
  },
  {
   "cell_type": "code",
   "execution_count": 19,
   "metadata": {},
   "outputs": [
    {
     "data": {
      "text/plain": [
       "26"
      ]
     },
     "execution_count": 19,
     "metadata": {},
     "output_type": "execute_result"
    }
   ],
   "source": [
    "len(Abecedario)"
   ]
  },
  {
   "cell_type": "code",
   "execution_count": 20,
   "metadata": {},
   "outputs": [],
   "source": [
    "Digitos={0,1,2,3,4,5,6,7,8,9}"
   ]
  },
  {
   "cell_type": "code",
   "execution_count": 21,
   "metadata": {},
   "outputs": [
    {
     "data": {
      "text/plain": [
       "10"
      ]
     },
     "execution_count": 21,
     "metadata": {},
     "output_type": "execute_result"
    }
   ],
   "source": [
    "len(Digitos)"
   ]
  },
  {
   "cell_type": "code",
   "execution_count": 22,
   "metadata": {},
   "outputs": [],
   "source": [
    "Matriculas=26*26*26*26*10*10"
   ]
  },
  {
   "cell_type": "code",
   "execution_count": 23,
   "metadata": {},
   "outputs": [
    {
     "name": "stdout",
     "output_type": "stream",
     "text": [
      "45697600\n"
     ]
    }
   ],
   "source": [
    "print(Matriculas)"
   ]
  },
  {
   "cell_type": "raw",
   "metadata": {},
   "source": [
    "En una escuela 150 alumnos han rendido 3 exámenes. De ellos tomaremos de forma aleatoria 60 alumnos asumiendo que aprobaron el primer exámen, 70 el segundo y 50 alumnos el tercer exámen. ¿Cuántos alumnos reprobaron los tres examenes?"
   ]
  },
  {
   "cell_type": "code",
   "execution_count": 24,
   "metadata": {},
   "outputs": [],
   "source": [
    "A=set(range(150))"
   ]
  },
  {
   "cell_type": "code",
   "execution_count": 25,
   "metadata": {},
   "outputs": [
    {
     "name": "stdout",
     "output_type": "stream",
     "text": [
      "{128, 1, 129, 4, 6, 135, 8, 137, 11, 140, 141, 12, 142, 145, 146, 147, 148, 149, 24, 25, 32, 35, 38, 40, 41, 43, 45, 51, 55, 57, 68, 72, 75, 79, 80, 82, 93, 94, 95, 96, 98, 100, 104, 107, 108, 115, 116, 118, 120}\n"
     ]
    }
   ],
   "source": [
    "A_1=[]\n",
    "for i in range(60):\n",
    "    A_1.append(random.randint(0,149))\n",
    "\n",
    "A_1=set(A_1)\n",
    "print(A_1)"
   ]
  },
  {
   "cell_type": "code",
   "execution_count": 28,
   "metadata": {},
   "outputs": [
    {
     "name": "stdout",
     "output_type": "stream",
     "text": [
      "{0, 128, 129, 132, 133, 6, 7, 4, 10, 141, 142, 144, 18, 19, 147, 21, 149, 22, 25, 26, 27, 29, 36, 41, 43, 45, 48, 49, 50, 56, 58, 60, 62, 64, 65, 66, 70, 72, 73, 74, 76, 77, 78, 80, 83, 86, 88, 89, 90, 92, 98, 108, 109, 112, 124}\n"
     ]
    }
   ],
   "source": [
    "A_2=[]\n",
    "for i in range(70):\n",
    "    A_2.append(random.randint(0,149))\n",
    "\n",
    "A_2=set(A_2)\n",
    "print(A_2)"
   ]
  },
  {
   "cell_type": "code",
   "execution_count": 29,
   "metadata": {},
   "outputs": [
    {
     "name": "stdout",
     "output_type": "stream",
     "text": [
      "{128, 2, 6, 138, 11, 142, 17, 147, 19, 149, 22, 24, 27, 30, 31, 33, 43, 47, 48, 52, 54, 56, 58, 60, 62, 63, 66, 67, 75, 77, 80, 81, 82, 90, 94, 97, 100, 101, 103, 104, 107, 110, 114, 121}\n"
     ]
    }
   ],
   "source": [
    "A_3=[]\n",
    "for i in range(50):\n",
    "    A_3.append(random.randint(0,149))\n",
    "\n",
    "A_3=set(A_3)\n",
    "print(A_3)"
   ]
  },
  {
   "cell_type": "code",
   "execution_count": 30,
   "metadata": {},
   "outputs": [
    {
     "data": {
      "text/plain": [
       "49"
      ]
     },
     "execution_count": 30,
     "metadata": {},
     "output_type": "execute_result"
    }
   ],
   "source": [
    "len(A_1)"
   ]
  },
  {
   "cell_type": "code",
   "execution_count": 31,
   "metadata": {},
   "outputs": [
    {
     "data": {
      "text/plain": [
       "55"
      ]
     },
     "execution_count": 31,
     "metadata": {},
     "output_type": "execute_result"
    }
   ],
   "source": [
    "len(A_2)"
   ]
  },
  {
   "cell_type": "code",
   "execution_count": 32,
   "metadata": {},
   "outputs": [
    {
     "data": {
      "text/plain": [
       "44"
      ]
     },
     "execution_count": 32,
     "metadata": {},
     "output_type": "execute_result"
    }
   ],
   "source": [
    "len(A_3)"
   ]
  },
  {
   "cell_type": "code",
   "execution_count": 33,
   "metadata": {},
   "outputs": [
    {
     "data": {
      "text/plain": [
       "{4, 6, 25, 41, 43, 45, 72, 80, 98, 108, 128, 129, 141, 142, 147, 149}"
      ]
     },
     "execution_count": 33,
     "metadata": {},
     "output_type": "execute_result"
    }
   ],
   "source": [
    "A_1 & A_2"
   ]
  },
  {
   "cell_type": "code",
   "execution_count": 34,
   "metadata": {},
   "outputs": [],
   "source": [
    "Buscando= 150-(len(A_1)+len(A_2)+len(A_3)-len(A_1 & A_2)-len(A_1 & A_3)-len(A_2 & A_3)+len(A_1 & A_2 & A_3))"
   ]
  },
  {
   "cell_type": "code",
   "execution_count": 35,
   "metadata": {},
   "outputs": [
    {
     "name": "stdout",
     "output_type": "stream",
     "text": [
      "44\n"
     ]
    }
   ],
   "source": [
    "print(Buscando)"
   ]
  },
  {
   "cell_type": "markdown",
   "metadata": {},
   "source": [
    "# Permutaciones\n",
    "\n",
    "Una permutación es un reordenamiento de los elementos de una lista ordenada. El número de permutaciones de una lista con $n$ elementos es $n!$."
   ]
  },
  {
   "cell_type": "markdown",
   "metadata": {},
   "source": [
    ">De cuantos formas distintas podemos ordenar la palabra 'MATEMATICA'"
   ]
  },
  {
   "cell_type": "code",
   "execution_count": 1,
   "metadata": {},
   "outputs": [],
   "source": [
    "import numpy as np\n",
    "\n",
    "factorial = lambda n: 1 if n == 0 else n * factorial(n-1)\n",
    "\n",
    "permutations = lambda n,r : np.int32(factorial(n)/factorial(n-r))\n",
    "\n",
    "generalized_permutations = lambda n,r : np.int32(factorial(n)\n",
    "                                                 /np.prod([factorial(i) for i in r]))"
   ]
  },
  {
   "cell_type": "code",
   "execution_count": 40,
   "metadata": {},
   "outputs": [
    {
     "name": "stdout",
     "output_type": "stream",
     "text": [
      "largo palabra : 10\n",
      "cantidad repeticiones : {'E': 1, 'I': 1, 'M': 2, 'T': 2, 'C': 1, 'A': 3}\n",
      "cantidad de ordenamientos : 151200\n"
     ]
    }
   ],
   "source": [
    "str=\"MATEMATICA\"\n",
    "\n",
    "arr=list(str)\n",
    "n=len(arr)\n",
    "num_rep={l:str.count(l) for l in set(arr)}\n",
    "print('largo palabra : {0}'.format(len(arr)))\n",
    "print('cantidad repeticiones : {0}'.format(num_rep))\n",
    "print('cantidad de ordenamientos : {0}'.format(generalized_permutations(n,num_rep.values())))"
   ]
  },
  {
   "cell_type": "code",
   "execution_count": 2,
   "metadata": {},
   "outputs": [
    {
     "name": "stdout",
     "output_type": "stream",
     "text": [
      "largo palabra : 8\n",
      "cantidad repeticiones : {'D': 1, 'C': 1, 'I': 1, 'S': 1, 'A': 1, 'R': 1, 'E': 1, 'T': 1}\n",
      "cantidad de ordenamientos : 40320\n"
     ]
    }
   ],
   "source": [
    "str=\"DISCRETA\"\n",
    "\n",
    "arr=list(str)\n",
    "n=len(arr)\n",
    "num_rep={l:str.count(l) for l in set(arr)}\n",
    "print('largo palabra : {0}'.format(len(arr)))\n",
    "print('cantidad repeticiones : {0}'.format(num_rep))\n",
    "print('cantidad de ordenamientos : {0}'.format(generalized_permutations(n,num_rep.values())))"
   ]
  },
  {
   "cell_type": "code",
   "execution_count": 3,
   "metadata": {},
   "outputs": [
    {
     "data": {
      "text/plain": [
       "40320"
      ]
     },
     "execution_count": 3,
     "metadata": {},
     "output_type": "execute_result"
    }
   ],
   "source": [
    "factorial(len(arr))"
   ]
  },
  {
   "cell_type": "markdown",
   "metadata": {},
   "source": [
    "> Ahora de cuantas formas podemos ordenar la palabra 'MATEMATICA', de tal forma que las vocales siempre esten juntas? "
   ]
  },
  {
   "cell_type": "code",
   "execution_count": 6,
   "metadata": {},
   "outputs": [
    {
     "name": "stdout",
     "output_type": "stream",
     "text": [
      "['M', 'T', 'M', 'T', 'C']\n",
      "{'M': 2, 'T': 2, 'C': 1}\n",
      "30\n",
      "['A', 'E', 'A', 'I', 'A']\n",
      "{'I': 1, 'A': 3, 'E': 1}\n",
      "20\n",
      "cantidad ordenamientos con vocales juntas : 600\n"
     ]
    }
   ],
   "source": [
    "vowels={'A','E','I','O','U'}\n",
    "\n",
    "str=\"MATEMATICA\"\n",
    "\n",
    "arr=[c for c in list(str) if c not in vowels] \n",
    "num_rep={l:str.count(l) for l in set(arr)}\n",
    "print(arr)\n",
    "print(num_rep)\n",
    "n1=generalized_permutations(len(arr),num_rep.values())\n",
    "print(n1)\n",
    "\n",
    "arr2=[c for c in list(str) if c in vowels] \n",
    "num_rep2={l:str.count(l) for l in set(arr2)}\n",
    "print(arr2)\n",
    "print(num_rep2)\n",
    "n2=generalized_permutations(len(arr2),num_rep2.values())\n",
    "print(n2)\n",
    "\n",
    "print('cantidad ordenamientos con vocales juntas : {0}'.format(n1*n2))"
   ]
  },
  {
   "cell_type": "markdown",
   "metadata": {},
   "source": [
    "# Combinatoria\n",
    "\n",
    "Si $n$ es un entero positivo y $r$ es otro entero tal que $1 \\leq r \\leq n$ entonces existen $C(n,r)$ subconjuntos con $r$ elementos de un conjunto de $n$ elementos distintos \\textbf{sin orden en particular}."
   ]
  },
  {
   "cell_type": "markdown",
   "metadata": {},
   "source": [
    ">De un total de 7 hombres y 3 mujeres. Cuantos grupos de 5 hombres y 2 mujeres podemos obtener?"
   ]
  },
  {
   "cell_type": "code",
   "execution_count": 7,
   "metadata": {},
   "outputs": [
    {
     "name": "stdout",
     "output_type": "stream",
     "text": [
      "El numero de grupos con 5 hombres 21.0\n",
      "El 2 mujeres es 3.0\n",
      "El numero de grupos con 5 hombres y 2 mujeres es 63.0\n"
     ]
    }
   ],
   "source": [
    "import numpy as np\n",
    "\n",
    "n_choose_k = lambda n,k :factorial(n)/(factorial(k)*factorial(n-k))\n",
    "\n",
    "men=n_choose_k(7,5)\n",
    "women=n_choose_k(3,2)\n",
    "\n",
    "print('El numero de grupos con 5 hombres {0}'.format(men))\n",
    "print('El 2 mujeres es {0}'.format(women))\n",
    "print('El numero de grupos con 5 hombres y 2 mujeres es {0}'.format(men*women))"
   ]
  },
  {
   "cell_type": "markdown",
   "metadata": {},
   "source": [
    "# Tarea 2\n",
    "\n",
    "1. Escribir una funcion para generar la siguiente permutacion en orden lexicografico.\n",
    "2. Escribir una funcion para generar todas las permutaciones de un arreglo de $n$ elementos.\n",
    "\n",
    "Tip : https://www.tutorialspoint.com/generate-all-permutation-of-a-set-in-python"
   ]
  },
  {
   "cell_type": "code",
   "execution_count": 59,
   "metadata": {},
   "outputs": [],
   "source": [
    "import numpy as np\n",
    "\n",
    "def all_permutations(arr):\n",
    "    c=0\n",
    "    n=len(arr)\n",
    "    while c<factorial(n):\n",
    "        p=np.random.permutation(n)\n",
    "        yield [arr[i] for i in p]\n",
    "        c+=1\n",
    "\n",
    "def next_permutation(arr):\n",
    "    n=len(arr)\n",
    "    j=n-2\n",
    "    while arr[j]>arr[j+1]:\n",
    "        j=j-1\n",
    "    k=n-1\n",
    "    while arr[j]>arr[k]:\n",
    "        k=k-1\n",
    "    temp=arr[j]\n",
    "    arr[j]=arr[k]\n",
    "    arr[k]=temp\n",
    "    r=n-1\n",
    "    s=j+1\n",
    "    while r>s:\n",
    "        temp=arr[r]\n",
    "        arr[r]=arr[s]\n",
    "        arr[s]=temp\n",
    "        r=r-1\n",
    "        s=s+1\n",
    "    return arr\n",
    "        \n",
    "def lexicographic_permutation(arr):\n",
    "    c=0\n",
    "    arr.sort()\n",
    "    n=len(arr)\n",
    "    while c<factorial(n):\n",
    "        if c==0:\n",
    "            yield arr\n",
    "        else:\n",
    "            yield next_permutation(arr)\n",
    "        c=c+1"
   ]
  },
  {
   "cell_type": "code",
   "execution_count": 60,
   "metadata": {},
   "outputs": [
    {
     "name": "stdout",
     "output_type": "stream",
     "text": [
      "0 ['A', 'H', 'L', 'O']\n",
      "1 ['A', 'H', 'O', 'L']\n",
      "2 ['A', 'L', 'H', 'O']\n",
      "3 ['A', 'L', 'O', 'H']\n",
      "4 ['A', 'O', 'H', 'L']\n",
      "5 ['A', 'O', 'L', 'H']\n",
      "6 ['H', 'A', 'L', 'O']\n",
      "7 ['H', 'A', 'O', 'L']\n",
      "8 ['H', 'L', 'A', 'O']\n",
      "9 ['H', 'L', 'O', 'A']\n",
      "10 ['H', 'O', 'A', 'L']\n",
      "11 ['H', 'O', 'L', 'A']\n",
      "12 ['L', 'A', 'H', 'O']\n",
      "13 ['L', 'A', 'O', 'H']\n",
      "14 ['L', 'H', 'A', 'O']\n",
      "15 ['L', 'H', 'O', 'A']\n",
      "16 ['L', 'O', 'A', 'H']\n",
      "17 ['L', 'O', 'H', 'A']\n",
      "18 ['O', 'A', 'H', 'L']\n",
      "19 ['O', 'A', 'L', 'H']\n",
      "20 ['O', 'H', 'A', 'L']\n",
      "21 ['O', 'H', 'L', 'A']\n",
      "22 ['O', 'L', 'A', 'H']\n",
      "23 ['O', 'L', 'H', 'A']\n"
     ]
    }
   ],
   "source": [
    "for i,p in enumerate(lexicographic_permutation(list(\"HOLA\"))):\n",
    "    print(i,p)"
   ]
  },
  {
   "cell_type": "code",
   "execution_count": 56,
   "metadata": {},
   "outputs": [
    {
     "name": "stdout",
     "output_type": "stream",
     "text": [
      "0 ('H', 'O', 'L', 'A')\n",
      "1 ('H', 'O', 'A', 'L')\n",
      "2 ('H', 'L', 'O', 'A')\n",
      "3 ('H', 'L', 'A', 'O')\n",
      "4 ('H', 'A', 'O', 'L')\n",
      "5 ('H', 'A', 'L', 'O')\n",
      "6 ('O', 'H', 'L', 'A')\n",
      "7 ('O', 'H', 'A', 'L')\n",
      "8 ('O', 'L', 'H', 'A')\n",
      "9 ('O', 'L', 'A', 'H')\n",
      "10 ('O', 'A', 'H', 'L')\n",
      "11 ('O', 'A', 'L', 'H')\n",
      "12 ('L', 'H', 'O', 'A')\n",
      "13 ('L', 'H', 'A', 'O')\n",
      "14 ('L', 'O', 'H', 'A')\n",
      "15 ('L', 'O', 'A', 'H')\n",
      "16 ('L', 'A', 'H', 'O')\n",
      "17 ('L', 'A', 'O', 'H')\n",
      "18 ('A', 'H', 'O', 'L')\n",
      "19 ('A', 'H', 'L', 'O')\n",
      "20 ('A', 'O', 'H', 'L')\n",
      "21 ('A', 'O', 'L', 'H')\n",
      "22 ('A', 'L', 'H', 'O')\n",
      "23 ('A', 'L', 'O', 'H')\n"
     ]
    }
   ],
   "source": [
    "from itertools import permutations\n",
    "\n",
    "for i,p in enumerate(permutations(list(\"HOLA\"))):\n",
    "    print(i,p)"
   ]
  },
  {
   "cell_type": "code",
   "execution_count": null,
   "metadata": {},
   "outputs": [],
   "source": []
  }
 ],
 "metadata": {
  "kernelspec": {
   "display_name": "Python 3",
   "language": "python",
   "name": "python3"
  },
  "language_info": {
   "codemirror_mode": {
    "name": "ipython",
    "version": 3
   },
   "file_extension": ".py",
   "mimetype": "text/x-python",
   "name": "python",
   "nbconvert_exporter": "python",
   "pygments_lexer": "ipython3",
   "version": "3.6.9"
  }
 },
 "nbformat": 4,
 "nbformat_minor": 4
}
