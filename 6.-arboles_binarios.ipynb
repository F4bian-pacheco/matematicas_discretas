{
 "cells": [
  {
   "cell_type": "markdown",
   "metadata": {},
   "source": [
    "# Arboles Binarios\n",
    "\n",
    "Un método de búsqueda por ı́ndices son los KD-trees, los cuales se basan en árboles\n",
    "binarios. El método para construir los árboles binarios realiza cortes sobre la mediana de un\n",
    "eje y produce un árbol de altura $log(n)$. El árbol puede ser construido de manera recursiva\n",
    "con un costo $O(n \\operatorname{log} n)$, el cual efectivamente es menor que la búsqueda exhaustiva $O(n2)$.\n",
    "La Figura 1 muestra una árbol binario. Los hijos de cada nodo corresponden a la posición\n",
    "de la mediana del eje seleccionado para cada profundidad.\n",
    "\n"
   ]
  },
  {
   "cell_type": "code",
   "execution_count": 9,
   "metadata": {},
   "outputs": [],
   "source": [
    "import networkx as nx\n",
    "import pandas as pd\n",
    "import numpy as np\n",
    "\n",
    "from math import radians, cos, sin, asin, sqrt\n",
    "\n",
    "class Node:pass\n",
    "\n",
    "def haversine(lon1, lat1, lon2, lat2):\n",
    "    lon1, lat1, lon2, lat2 = map(radians, [lon1, lat1, lon2, lat2])\n",
    "    dlon = lon2 - lon1 \n",
    "    dlat = lat2 - lat1 \n",
    "    a = sin(dlat/2)**2 + cos(lat1) * cos(lat2) * sin(dlon/2)**2\n",
    "    c = 2 * asin(sqrt(a)) \n",
    "    r = 6371 # Radius of earth in kilometers. Use 3956 for miles\n",
    "    return c * r\n",
    "\n",
    "def kdtree_create(parent,point_list,depth=0):\n",
    "    if len(point_list)==0:\n",
    "        return\n",
    "    D = len(point_list.columns) # assumes all points have the same dimension\n",
    "    axis = depth % D\n",
    "    key=point_list.columns[axis]\n",
    "    A=point_list.sort_values(by=key)\n",
    "    median = len(point_list)/2 # choose median\n",
    "    # Create node and construct subtrees\n",
    "    node = Node()\n",
    "    node.axis=axis\n",
    "    node.location = A.iloc[median]\n",
    "    node.parent=parent\n",
    "    node.bbox_min=np.min(A,axis=0)\n",
    "    node.bbox_max=np.max(A,axis=0)\n",
    "    node.left_child = kdtree_create(node.location,A.iloc[0:median], depth+1)\n",
    "    node.right_child = kdtree_create(node.location,A.iloc[median+1:], depth+1)\n",
    "    return node\n",
    "\n",
    "def get_nearest_node(G,point):\n",
    "    node_distances={}\n",
    "    for g in G.nodes():\n",
    "        dist=haversine(np.float(G.node[g]['y']),np.float(G.node[g]['x']),point[0],point[1])\n",
    "        node_distances.update({g:dist})\n",
    "    lookup_list = pd.Series(node_distances)\n",
    "    min_dist= min(node_distances.values())\n",
    "    return lookup_list[lookup_list.values == min_dist].index[0]\n",
    "\n",
    "def get_point_list(G):\n",
    "    point_list=pd.DataFrame()\n",
    "    for g in G.nodes():\n",
    "        lat=np.float(G.node[g]['y'])\n",
    "        lon=np.float(G.node[g]['x'])\n",
    "        df=pd.DataFrame([[lat,lon]],columns=['lat','lon'])\n",
    "        if (len(point_list)==0):\n",
    "            point_list=df\n",
    "        else:\n",
    "            point_list=point_list.append(df,ignore_index=True)\n",
    "    return point_list\n",
    "\n",
    "\n",
    ""
   ]
  },
  {
   "cell_type": "code",
   "execution_count": 10,
   "metadata": {},
   "outputs": [],
   "source": [
    "from scipy.spatial.distance import euclidean\n",
    "\n",
    "def dfs_knn(kdtree,point,path=[],dist=euclidean,n=1):\n",
    "    # DFS KNN search search\n",
    "    if hasattr(kdtree,'location'):\n",
    "        root=(kdtree.location[0],kdtree.location[1])\n",
    "        p_dist=dist(point,root)\n",
    "        path+=[[p_dist,root]]\n",
    "        path.sort()\n",
    "        l_leaf=kdtree.left_child\n",
    "        if hasattr(l_leaf,'location'):\n",
    "            dfs_knn(l_leaf,point,path,dist,n)\n",
    "        r_leaf=kdtree.right_child\n",
    "        if hasattr(r_leaf,'location'):\n",
    "            dfs_knn(r_leaf,point,path,dist,n)\n",
    "    return path[0:min(n,len(path))]\n",
    "\n",
    "def dfs_range(kdtree,point,path=[],dist=euclidean,range=0):\n",
    "    # DFS search range search\n",
    "    if hasattr(kdtree,'location'):\n",
    "        root=(kdtree.location[0],kdtree.location[1])\n",
    "        p_dist=dist(point,root)\n",
    "        if(p_dist<=range):\n",
    "            path+=[root]\n",
    "        l_leaf=kdtree.left_child\n",
    "        if hasattr(l_leaf,'location'):\n",
    "            dfs_range(l_leaf,point,path,dist,range)\n",
    "        r_leaf=kdtree.right_child\n",
    "        if hasattr(r_leaf,'location'):\n",
    "            dfs_range(r_leaf,point,path,dist,range)\n",
    "    return path"
   ]
  },
  {
   "cell_type": "code",
   "execution_count": 11,
   "metadata": {},
   "outputs": [
    {
     "output_type": "display_data",
     "data": {
      "text/plain": "<Figure size 1080x576 with 0 Axes>"
     },
     "metadata": {}
    }
   ],
   "source": [
    "import matplotlib.pyplot as plt \n",
    "\n",
    "plt.figure(figsize=(15,8))\n",
    "def draw_bbox(kdtree):\n",
    "    if kdtree:\n",
    "        parent=kdtree.parent\n",
    "        child_node=kdtree.location\n",
    "        min_val=kdtree.bbox_min\n",
    "        max_val=kdtree.bbox_max \n",
    "        if not hasattr(parent,'data'):\n",
    "            parent=child_node\n",
    "        #print (\"parent : x=%s,y=%s\"%(parent[0],parent[1]))\n",
    "        #print (\"child : x=%s,y=%s\"%(child_node[0],child_node[1]))\n",
    "        #print '---------------'\n",
    "        rect1=plt.Rectangle(parent-0.1,0.2,0.2, lw=2,fill=False,color='red')\n",
    "        rect2=plt.Rectangle(min_val-0.1,max_val[0]-min_val[0]+0.2,max_val[1]-min_val[1]+0.2, lw=1,fill=False,alpha=0.9)\n",
    "        plt.gca().add_patch(rect1)\n",
    "        plt.gca().add_patch(rect2)\n",
    "        if(kdtree.right_child):\n",
    "            draw_bbox(kdtree.right_child)\n",
    "        if(kdtree.left_child):\n",
    "            draw_bbox(kdtree.left_child)\n",
    "    return kdtree"
   ]
  },
  {
   "cell_type": "code",
   "execution_count": 8,
   "metadata": {},
   "outputs": [
    {
     "output_type": "error",
     "ename": "TypeError",
     "evalue": "Cannot index by location index with a non-integer key",
     "traceback": [
      "\u001b[0;31m---------------------------------------------------------------------------\u001b[0m",
      "\u001b[0;31mTypeError\u001b[0m                                 Traceback (most recent call last)",
      "\u001b[0;32m<ipython-input-8-47f73e1288fb>\u001b[0m in \u001b[0;36m<module>\u001b[0;34m\u001b[0m\n\u001b[1;32m      6\u001b[0m \u001b[0mplt\u001b[0m\u001b[0;34m.\u001b[0m\u001b[0mfigure\u001b[0m\u001b[0;34m(\u001b[0m\u001b[0mfigsize\u001b[0m\u001b[0;34m=\u001b[0m\u001b[0;34m(\u001b[0m\u001b[0;36m15\u001b[0m\u001b[0;34m,\u001b[0m\u001b[0;36m8\u001b[0m\u001b[0;34m)\u001b[0m\u001b[0;34m)\u001b[0m\u001b[0;34m\u001b[0m\u001b[0;34m\u001b[0m\u001b[0m\n\u001b[1;32m      7\u001b[0m \u001b[0;34m\u001b[0m\u001b[0m\n\u001b[0;32m----> 8\u001b[0;31m \u001b[0msimple_tree\u001b[0m\u001b[0;34m=\u001b[0m\u001b[0mkdtree_create\u001b[0m\u001b[0;34m(\u001b[0m\u001b[0mNode\u001b[0m\u001b[0;34m(\u001b[0m\u001b[0;34m)\u001b[0m\u001b[0;34m,\u001b[0m\u001b[0mX\u001b[0m\u001b[0;34m)\u001b[0m\u001b[0;34m\u001b[0m\u001b[0;34m\u001b[0m\u001b[0m\n\u001b[0m\u001b[1;32m      9\u001b[0m \u001b[0mquery\u001b[0m\u001b[0;34m=\u001b[0m\u001b[0;34m(\u001b[0m\u001b[0;36m1.5\u001b[0m\u001b[0;34m,\u001b[0m\u001b[0;36m1.5\u001b[0m\u001b[0;34m)\u001b[0m\u001b[0;34m\u001b[0m\u001b[0;34m\u001b[0m\u001b[0m\n\u001b[1;32m     10\u001b[0m \u001b[0mknn_path\u001b[0m\u001b[0;34m=\u001b[0m\u001b[0mdfs_knn\u001b[0m\u001b[0;34m(\u001b[0m\u001b[0msimple_tree\u001b[0m\u001b[0;34m,\u001b[0m\u001b[0mquery\u001b[0m\u001b[0;34m,\u001b[0m\u001b[0;34m[\u001b[0m\u001b[0;34m]\u001b[0m\u001b[0;34m,\u001b[0m\u001b[0meuclidean\u001b[0m\u001b[0;34m,\u001b[0m\u001b[0;36m4\u001b[0m\u001b[0;34m)\u001b[0m\u001b[0;34m\u001b[0m\u001b[0;34m\u001b[0m\u001b[0m\n",
      "\u001b[0;32m<ipython-input-1-926e6d7919e5>\u001b[0m in \u001b[0;36mkdtree_create\u001b[0;34m(parent, point_list, depth)\u001b[0m\n\u001b[1;32m     27\u001b[0m     \u001b[0mnode\u001b[0m \u001b[0;34m=\u001b[0m \u001b[0mNode\u001b[0m\u001b[0;34m(\u001b[0m\u001b[0;34m)\u001b[0m\u001b[0;34m\u001b[0m\u001b[0;34m\u001b[0m\u001b[0m\n\u001b[1;32m     28\u001b[0m     \u001b[0mnode\u001b[0m\u001b[0;34m.\u001b[0m\u001b[0maxis\u001b[0m\u001b[0;34m=\u001b[0m\u001b[0maxis\u001b[0m\u001b[0;34m\u001b[0m\u001b[0;34m\u001b[0m\u001b[0m\n\u001b[0;32m---> 29\u001b[0;31m     \u001b[0mnode\u001b[0m\u001b[0;34m.\u001b[0m\u001b[0mlocation\u001b[0m \u001b[0;34m=\u001b[0m \u001b[0mA\u001b[0m\u001b[0;34m.\u001b[0m\u001b[0miloc\u001b[0m\u001b[0;34m[\u001b[0m\u001b[0mmedian\u001b[0m\u001b[0;34m]\u001b[0m\u001b[0;34m\u001b[0m\u001b[0;34m\u001b[0m\u001b[0m\n\u001b[0m\u001b[1;32m     30\u001b[0m     \u001b[0mnode\u001b[0m\u001b[0;34m.\u001b[0m\u001b[0mparent\u001b[0m\u001b[0;34m=\u001b[0m\u001b[0mparent\u001b[0m\u001b[0;34m\u001b[0m\u001b[0;34m\u001b[0m\u001b[0m\n\u001b[1;32m     31\u001b[0m     \u001b[0mnode\u001b[0m\u001b[0;34m.\u001b[0m\u001b[0mbbox_min\u001b[0m\u001b[0;34m=\u001b[0m\u001b[0mnp\u001b[0m\u001b[0;34m.\u001b[0m\u001b[0mmin\u001b[0m\u001b[0;34m(\u001b[0m\u001b[0mA\u001b[0m\u001b[0;34m,\u001b[0m\u001b[0maxis\u001b[0m\u001b[0;34m=\u001b[0m\u001b[0;36m0\u001b[0m\u001b[0;34m)\u001b[0m\u001b[0;34m\u001b[0m\u001b[0;34m\u001b[0m\u001b[0m\n",
      "\u001b[0;32m~/opensource/ucm/estructuras-discretas/venv/lib/python3.7/site-packages/pandas/core/indexing.py\u001b[0m in \u001b[0;36m__getitem__\u001b[0;34m(self, key)\u001b[0m\n\u001b[1;32m   1766\u001b[0m \u001b[0;34m\u001b[0m\u001b[0m\n\u001b[1;32m   1767\u001b[0m             \u001b[0mmaybe_callable\u001b[0m \u001b[0;34m=\u001b[0m \u001b[0mcom\u001b[0m\u001b[0;34m.\u001b[0m\u001b[0mapply_if_callable\u001b[0m\u001b[0;34m(\u001b[0m\u001b[0mkey\u001b[0m\u001b[0;34m,\u001b[0m \u001b[0mself\u001b[0m\u001b[0;34m.\u001b[0m\u001b[0mobj\u001b[0m\u001b[0;34m)\u001b[0m\u001b[0;34m\u001b[0m\u001b[0;34m\u001b[0m\u001b[0m\n\u001b[0;32m-> 1768\u001b[0;31m             \u001b[0;32mreturn\u001b[0m \u001b[0mself\u001b[0m\u001b[0;34m.\u001b[0m\u001b[0m_getitem_axis\u001b[0m\u001b[0;34m(\u001b[0m\u001b[0mmaybe_callable\u001b[0m\u001b[0;34m,\u001b[0m \u001b[0maxis\u001b[0m\u001b[0;34m=\u001b[0m\u001b[0maxis\u001b[0m\u001b[0;34m)\u001b[0m\u001b[0;34m\u001b[0m\u001b[0;34m\u001b[0m\u001b[0m\n\u001b[0m\u001b[1;32m   1769\u001b[0m \u001b[0;34m\u001b[0m\u001b[0m\n\u001b[1;32m   1770\u001b[0m     \u001b[0;32mdef\u001b[0m \u001b[0m_is_scalar_access\u001b[0m\u001b[0;34m(\u001b[0m\u001b[0mself\u001b[0m\u001b[0;34m,\u001b[0m \u001b[0mkey\u001b[0m\u001b[0;34m:\u001b[0m \u001b[0mTuple\u001b[0m\u001b[0;34m)\u001b[0m\u001b[0;34m:\u001b[0m\u001b[0;34m\u001b[0m\u001b[0;34m\u001b[0m\u001b[0m\n",
      "\u001b[0;32m~/opensource/ucm/estructuras-discretas/venv/lib/python3.7/site-packages/pandas/core/indexing.py\u001b[0m in \u001b[0;36m_getitem_axis\u001b[0;34m(self, key, axis)\u001b[0m\n\u001b[1;32m   2133\u001b[0m             \u001b[0mkey\u001b[0m \u001b[0;34m=\u001b[0m \u001b[0mitem_from_zerodim\u001b[0m\u001b[0;34m(\u001b[0m\u001b[0mkey\u001b[0m\u001b[0;34m)\u001b[0m\u001b[0;34m\u001b[0m\u001b[0;34m\u001b[0m\u001b[0m\n\u001b[1;32m   2134\u001b[0m             \u001b[0;32mif\u001b[0m \u001b[0;32mnot\u001b[0m \u001b[0mis_integer\u001b[0m\u001b[0;34m(\u001b[0m\u001b[0mkey\u001b[0m\u001b[0;34m)\u001b[0m\u001b[0;34m:\u001b[0m\u001b[0;34m\u001b[0m\u001b[0;34m\u001b[0m\u001b[0m\n\u001b[0;32m-> 2135\u001b[0;31m                 \u001b[0;32mraise\u001b[0m \u001b[0mTypeError\u001b[0m\u001b[0;34m(\u001b[0m\u001b[0;34m\"Cannot index by location index with a non-integer key\"\u001b[0m\u001b[0;34m)\u001b[0m\u001b[0;34m\u001b[0m\u001b[0;34m\u001b[0m\u001b[0m\n\u001b[0m\u001b[1;32m   2136\u001b[0m \u001b[0;34m\u001b[0m\u001b[0m\n\u001b[1;32m   2137\u001b[0m             \u001b[0;31m# validate the location\u001b[0m\u001b[0;34m\u001b[0m\u001b[0;34m\u001b[0m\u001b[0;34m\u001b[0m\u001b[0m\n",
      "\u001b[0;31mTypeError\u001b[0m: Cannot index by location index with a non-integer key"
     ]
    }
   ],
   "source": [
    "import matplotlib.pyplot as plt \n",
    "\n",
    "X = np.array([[-1, -1], [-2, -1], [-3, -2], [1, 1],[-0.5, 0.5], [0, 0], [2, 1], [3, 2]])\n",
    "X= pd.DataFrame(X)\n",
    "\n",
    "plt.figure(figsize=(15,8))\n",
    "        \n",
    "simple_tree=kdtree_create(Node(),X)\n",
    "query=(1.5,1.5)\n",
    "knn_path=dfs_knn(simple_tree,query,[],euclidean,4)\n",
    "range_path=dfs_range(simple_tree,query,[],euclidean,10)\n",
    "\n",
    "draw_bbox(simple_tree)\n",
    "plt.scatter(X[0],X[1],s=90)\n",
    "plt.scatter(query[0],query[1],s=90)\n",
    "plt.show()\n",
    "\n",
    "\n",
    "print(knn_path)\n",
    "print(range_path)"
   ]
  },
  {
   "cell_type": "code",
   "execution_count": 5,
   "metadata": {},
   "outputs": [
    {
     "output_type": "error",
     "ename": "SyntaxError",
     "evalue": "invalid syntax (<ipython-input-5-808e9014b6bb>, line 4)",
     "traceback": [
      "\u001b[0;36m  File \u001b[0;32m\"<ipython-input-5-808e9014b6bb>\"\u001b[0;36m, line \u001b[0;32m4\u001b[0m\n\u001b[0;31m    print nx.info(G)\u001b[0m\n\u001b[0m           ^\u001b[0m\n\u001b[0;31mSyntaxError\u001b[0m\u001b[0;31m:\u001b[0m invalid syntax\n"
     ]
    }
   ],
   "source": [
    "import matplotlib.pyplot as plt\n",
    "import networkx as nx\n",
    "G=nx.read_graphml('data/talca_ciclovias.graphml')\n",
    "print nx.info(G)\n",
    "origin_point = (-35.434415,-71.620053)\n",
    "destination_point = (-35.425901, -71.666645)\n",
    "\n",
    "nx.draw(G)\n",
    "plt.show()\n",
    "#point_list=get_point_list(G)\n",
    "\n",
    "#kdtree=kdtree_create(Node(),point_list)"
   ]
  },
  {
   "cell_type": "markdown",
   "metadata": {},
   "source": [
    "De manera de consultar por los vecinos más próximos (nn), descendemos por el árbol y\n",
    "mantenemos un punto candidato a ser el nn y un valor máximo conocido de la distancia\n",
    "al punto de consulta. Luego chequeamos los sub-árboles dependiendo del eje de corte\n",
    "continuamos por una de las ramas. Un ejemplo tı́pico es la búsqueda por rangos en consultas\n",
    "geoespaciales."
   ]
  },
  {
   "cell_type": "code",
   "execution_count": 12,
   "metadata": {},
   "outputs": [
    {
     "output_type": "error",
     "ename": "NameError",
     "evalue": "name 'kdtree' is not defined",
     "traceback": [
      "\u001b[0;31m---------------------------------------------------------------------------\u001b[0m",
      "\u001b[0;31mNameError\u001b[0m                                 Traceback (most recent call last)",
      "\u001b[0;32m<ipython-input-12-73896fdf6196>\u001b[0m in \u001b[0;36m<module>\u001b[0;34m\u001b[0m\n\u001b[0;32m----> 1\u001b[0;31m \u001b[0mroot_node\u001b[0m\u001b[0;34m=\u001b[0m\u001b[0mkdtree\u001b[0m\u001b[0;34m.\u001b[0m\u001b[0mlocation\u001b[0m\u001b[0;34m\u001b[0m\u001b[0;34m\u001b[0m\u001b[0m\n\u001b[0m\u001b[1;32m      2\u001b[0m \u001b[0mprint\u001b[0m\u001b[0;34m(\u001b[0m\u001b[0mroot_node\u001b[0m\u001b[0;34m)\u001b[0m\u001b[0;34m\u001b[0m\u001b[0;34m\u001b[0m\u001b[0m\n\u001b[1;32m      3\u001b[0m \u001b[0mprint\u001b[0m\u001b[0;34m(\u001b[0m\u001b[0mkdtree\u001b[0m\u001b[0;34m.\u001b[0m\u001b[0mleft_child\u001b[0m\u001b[0;34m.\u001b[0m\u001b[0mlocation\u001b[0m\u001b[0;34m)\u001b[0m\u001b[0;34m\u001b[0m\u001b[0;34m\u001b[0m\u001b[0m\n\u001b[1;32m      4\u001b[0m \u001b[0mprint\u001b[0m\u001b[0;34m(\u001b[0m\u001b[0mkdtree\u001b[0m\u001b[0;34m.\u001b[0m\u001b[0mright_child\u001b[0m\u001b[0;34m.\u001b[0m\u001b[0mlocation\u001b[0m\u001b[0;34m)\u001b[0m\u001b[0;34m\u001b[0m\u001b[0;34m\u001b[0m\u001b[0m\n",
      "\u001b[0;31mNameError\u001b[0m: name 'kdtree' is not defined"
     ]
    }
   ],
   "source": [
    "root_node=kdtree.location\n",
    "print(root_node)\n",
    "print(kdtree.left_child.location)\n",
    "print(kdtree.right_child.location)"
   ]
  },
  {
   "cell_type": "code",
   "execution_count": 13,
   "metadata": {},
   "outputs": [],
   "source": [
    "def kdtree_knn(kdtree,point,n=1):\n",
    "    #Retornar lista de n ciudades mas cercanas al punto point=(p1,p2)\n",
    "    return None\n",
    "def kdtree_range(kdtree,point,range=0):\n",
    "    #Retornar lista de ciudades cercanas al punto point=(p1,p2) dentro de un rango\n",
    "    return None"
   ]
  }
 ],
 "metadata": {
  "kernelspec": {
   "display_name": "Python 3.7.7 64-bit ('venv': venv)",
   "language": "python",
   "name": "python37764bitvenvvenvc241e362255b4631a3caa756dfb14c87"
  },
  "language_info": {
   "codemirror_mode": {
    "name": "ipython",
    "version": 2
   },
   "file_extension": ".py",
   "mimetype": "text/x-python",
   "name": "python",
   "nbconvert_exporter": "python",
   "pygments_lexer": "ipython2",
   "version": "3.7.7-final"
  }
 },
 "nbformat": 4,
 "nbformat_minor": 2
}