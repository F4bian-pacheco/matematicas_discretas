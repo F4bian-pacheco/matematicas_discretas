{
 "cells": [
  {
   "cell_type": "markdown",
   "metadata": {},
   "source": [
    "<h1>Teoria de Grafos</h1>\n",
    "\n",
    "Los grafos son estructuras discretas que consisten de vértices y\n",
    "aristas que conectan los vértices. Existen disintos tipos de grafos,\n",
    "dependiendo si las aristas tienen o no dirección, si existen múltiples\n",
    "aristas para un mismo vértices o si se permiten o no lazos.\n",
    "\n",
    "Un grafo es una tupla $G = (V , E )$ donde $V$ es un conjunto (finito o\n",
    "infinito) de vértices y E es un cuna colección finita de aristas. El\n",
    "conjunto E contiene elementos de la unión de todos los subconjuntos con\n",
    "uno o dos elementos del conjunto $V$ . Esto quiere decir, que cada\n",
    "elemento de E es un subconjunto de uno o dos elementos de $V$ .\n",
    "\n"
   ]
  },
  {
   "cell_type": "code",
   "execution_count": 2,
   "metadata": {},
   "outputs": [],
   "source": [
    "import numpy as np\n",
    "\n",
    "class abstract_graph:\n",
    "    \n",
    "    def __init__(self,_edges):\n",
    "        self.edges=_edges\n",
    "        self.nodes={u for u,v in self.edges} | {v for u,v in self.edges}\n",
    "        \n",
    "    def adjacency_matrix(self):\n",
    "        pass\n",
    "    \n",
    "    def adjacency_list(self):\n",
    "        pass"
   ]
  },
  {
   "cell_type": "markdown",
   "metadata": {},
   "source": [
    "Un grafo simple es un grafo en el cual existe sólo una arista $(u, v)$ para\n",
    "conectar dos vértices $u$ y $v$ ."
   ]
  },
  {
   "cell_type": "code",
   "execution_count": 28,
   "metadata": {},
   "outputs": [
    {
     "name": "stdout",
     "output_type": "stream",
     "text": [
      "aristas [('B', 'A'), ('C', 'D'), ('B', 'D')]\n",
      "nodos :  set(['A', 'C', 'B', 'D'])\n",
      "matriz adyacencia :  [[0. 0. 1. 0.]\n",
      " [0. 0. 0. 1.]\n",
      " [1. 0. 0. 1.]\n",
      " [0. 1. 1. 0.]]\n",
      "lista adyacencia :  {'A': set(['B']), 'C': set(['D']), 'B': set(['A', 'D']), 'D': set(['C', 'B'])}\n"
     ]
    }
   ],
   "source": [
    "class simple_graph(abstract_graph):\n",
    "    \n",
    "    def __init__(self,_edges):\n",
    "        tmp=[]\n",
    "        for (u,v) in _edges:\n",
    "            if (v,u) not in tmp:\n",
    "                tmp.append((u,v))\n",
    "        self.edges=tmp\n",
    "        self.nodes={u for u,v in _edges} | {v for u,v in _edges}\n",
    "     \n",
    "    def adjacency_matrix(self):\n",
    "        # completar\n",
    "        n=len(self.nodes)\n",
    "        mat=np.zeros((n,n))\n",
    "        for i,v in enumerate(self.nodes):\n",
    "            for j,k in enumerate(self.nodes):\n",
    "                if (v,k) in self.edges:\n",
    "                    mat[i,j]=1\n",
    "                    mat[j,i]=1\n",
    "        return mat\n",
    "    \n",
    "    \n",
    "    def adjacency_list(self):\n",
    "        adjacent=lambda n : {v for u,v in self.edges if u==n } | {u for u,v in self.edges if v==n}\n",
    "        return {v:adjacent(v) for v in self.nodes}\n",
    "        \n",
    "    \n",
    "\n",
    "E={('A','B'),('C','D'),('B','D'),('B','A')}\n",
    "G=simple_graph(E)\n",
    "print 'aristas',G.edges\n",
    "print 'nodos : ',G.nodes\n",
    "print 'matriz adyacencia : ',G.adjacency_matrix()\n",
    "print 'lista adyacencia : ',G.adjacency_list()"
   ]
  },
  {
   "cell_type": "code",
   "execution_count": 29,
   "metadata": {},
   "outputs": [
    {
     "name": "stdout",
     "output_type": "stream",
     "text": [
      "0 A\n",
      "1 C\n",
      "2 B\n"
     ]
    }
   ],
   "source": [
    "a={'A','C','B'}\n",
    "\n",
    "for n,v in enumerate(a):\n",
    "    print n,v\n",
    "    \n",
    "    "
   ]
  },
  {
   "cell_type": "markdown",
   "metadata": {},
   "source": [
    "Un multi-grafo simple es un grafo en el cual existe más de una arista\n",
    "$(u, v)$ para conectar dos vértices $u$ y $v$ (aristas paralelas y lazos)."
   ]
  },
  {
   "cell_type": "code",
   "execution_count": 14,
   "metadata": {},
   "outputs": [
    {
     "name": "stdout",
     "output_type": "stream",
     "text": [
      "nodos :  set([1, 2, 3, 4])\n",
      "matriz adyacencia :  None\n",
      "lista adyacencia :  None\n"
     ]
    }
   ],
   "source": [
    "class multi_graph(abstract_graph):\n",
    "        \n",
    "    def adjacency_matrix(self):\n",
    "        # completar\n",
    "        n=len(self.nodes)\n",
    "        mat=np.zeros((n,n))\n",
    "        for i,v in enumerate(self.nodes):\n",
    "            for j,k in enumerate(self.nodes):\n",
    "                if (v,k) in self.edges:\n",
    "                    mat[i,j]=1\n",
    "                    mat[j,i]=1\n",
    "        return mat\n",
    "    \n",
    "    def adjacency_list(self):\n",
    "        # completar\n",
    "        pass\n",
    "    \n",
    "E2=[(1,2),(3,4),(2,4),(1,2),(1,1)]\n",
    "G2=multi_graph(E2)\n",
    "print 'nodos : ',G2.nodes\n",
    "print 'matriz adyacencia : ',G2.adjacency_matrix()\n",
    "print 'lista adyacencia : ',G2.adjacency_list()"
   ]
  },
  {
   "cell_type": "code",
   "execution_count": null,
   "metadata": {},
   "outputs": [],
   "source": []
  },
  {
   "cell_type": "markdown",
   "metadata": {},
   "source": [
    "Un grafo dirigido es un grafo en el cual cada arista $(u,v)$ consiste en un\n",
    "par ordenado de vértices $u$ y $v$."
   ]
  },
  {
   "cell_type": "code",
   "execution_count": 4,
   "metadata": {},
   "outputs": [
    {
     "name": "stdout",
     "output_type": "stream",
     "text": [
      "nodos :  set([1, 2, 3])\n",
      "None\n",
      "lista adyacencia :  None\n"
     ]
    }
   ],
   "source": [
    "class multi_digraph(abstract_graph):\n",
    "    \n",
    "    def __init__(self,_edges):\n",
    "        self.edges=_edges\n",
    "        self.nodes={u for u,v in self.edges} | {u for u,v in self.edges}\n",
    "\n",
    "        \n",
    "    def adjacency_matrix(self):\n",
    "        # completar\n",
    "        pass\n",
    "    \n",
    "    def adjacency_list(self):\n",
    "        # completar\n",
    "        pass\n",
    "    \n",
    "\n",
    "E3=[(1,2),(3,4),(2,4),(2,1),(2,1)]\n",
    "G3=multi_digraph(E3)\n",
    "print 'nodos : ',G3.nodes\n",
    "print G3.adjacency_matrix()\n",
    "print 'lista adyacencia : ',G3.adjacency_list()"
   ]
  },
  {
   "cell_type": "code",
   "execution_count": 7,
   "metadata": {},
   "outputs": [],
   "source": [
    "class simple_weighted_graph(abstract_graph):\n",
    "    \n",
    "    def __init__(self,_edges):\n",
    "        self.edges=_edges\n",
    "        self.nodes={u for u,v in self.edges.keys()} | {v for u,v in self.edges.keys()}\n",
    "        \n",
    "    def adjacency_matrix(self):\n",
    "        # completar\n",
    "        n=len(self.nodes)\n",
    "        mat=np.zeros((n,n))\n",
    "        return mat\n",
    "    \n",
    "    def adjacency_list(self):\n",
    "        adjacent=lambda n : {v for u,v in self.edges.keys() if u==n } | {u for u,v in self.edges.keys() if v==n}\n",
    "        return {v:adjacent(v) for v in self.nodes}\n",
    "        \n",
    " "
   ]
  },
  {
   "cell_type": "code",
   "execution_count": 9,
   "metadata": {},
   "outputs": [
    {
     "name": "stdout",
     "output_type": "stream",
     "text": [
      "nodos :  set([1, 2, 3, 4])\n",
      "[[ 0.  0.  0.  0.]\n",
      " [ 0.  0.  0.  0.]\n",
      " [ 0.  0.  0.  0.]\n",
      " [ 0.  0.  0.  0.]]\n",
      "lista adyacencia :  {1: set([2]), 2: set([1, 4]), 3: set([4]), 4: set([2, 3])}\n"
     ]
    }
   ],
   "source": [
    "E4={(1,2):1,(3,4):2,(2,4):1}\n",
    "G4=simple_weighted_graph(E4)\n",
    "print 'nodos : ',G4.nodes\n",
    "print G4.adjacency_matrix()\n",
    "print 'lista adyacencia : ',G4.adjacency_list()"
   ]
  },
  {
   "cell_type": "code",
   "execution_count": null,
   "metadata": {},
   "outputs": [],
   "source": []
  }
 ],
 "metadata": {
  "kernelspec": {
   "display_name": "Python 2",
   "language": "python",
   "name": "python2"
  },
  "language_info": {
   "codemirror_mode": {
    "name": "ipython",
    "version": 2
   },
   "file_extension": ".py",
   "mimetype": "text/x-python",
   "name": "python",
   "nbconvert_exporter": "python",
   "pygments_lexer": "ipython2",
   "version": "2.7.15+"
  }
 },
 "nbformat": 4,
 "nbformat_minor": 2
}
