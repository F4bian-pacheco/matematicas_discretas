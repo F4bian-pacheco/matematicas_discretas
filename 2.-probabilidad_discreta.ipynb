{
 "cells": [
  {
   "cell_type": "markdown",
   "metadata": {},
   "source": [
    "<H1>Probabilidad Discreta</H1>\n",
    "\n",
    "En probabilidad discreta contamos con un conjunto finito o contablemente infinito de elementos y una función de masa de probabilidad sobre cada uno de los elementos. Para eventos binarios, si repetimos $n$ veces el experimento y obtenemos $k$ sucesos, se obtienen $C(n,k)={{n}\\choose{k}}$ posibles combinaciones. \n"
   ]
  },
  {
   "cell_type": "code",
   "execution_count": 1,
   "metadata": {},
   "outputs": [],
   "source": [
    "import numpy as np\n",
    "\n",
    "factorial = lambda n: 1 if n == 0 else n * factorial(n-1)\n",
    "\n",
    "permutations = lambda n,r : np.int32(factorial(n)/factorial(n-r))\n",
    "\n",
    "generalized_permutations = lambda n,r : np.int32(factorial(n)\n",
    "                                                 /np.prod([factorial(i) for i in r]))\n",
    "\n",
    "n_choose_k = lambda n,k :factorial(n)/(factorial(k)*factorial(n-k))"
   ]
  },
  {
   "cell_type": "markdown",
   "metadata": {},
   "source": [
    "Suponga que los artı́culos de una lı́nea de producción pueden ser defectuosos\n",
    "$D$ o no defectuosos $N$ y que se eligen al azar 3 productos para hacer control\n",
    "de calidad. En Python, construya el espacio muestral $ \\Omega = S_1 \\times S_2 \\times S_3$ para\n",
    "este experimento, siendo $S_i = \\{D, N\\}$."
   ]
  },
  {
   "cell_type": "code",
   "execution_count": 2,
   "metadata": {},
   "outputs": [
    {
     "name": "stdout",
     "output_type": "stream",
     "text": [
      "[('N', 'N', 'N'), ('N', 'N', 'D'), ('N', 'D', 'N'), ('N', 'D', 'D'), ('D', 'N', 'N'), ('D', 'N', 'D'), ('D', 'D', 'N'), ('D', 'D', 'D')]\n"
     ]
    }
   ],
   "source": [
    "S={'D','N'}\n",
    "O=[(s1,s2,s3) for s1 in S for s2 in S for s3 in S]\n",
    "print(O)"
   ]
  },
  {
   "cell_type": "markdown",
   "metadata": {},
   "source": [
    "Supongamos que la probabilidad de encontrar un elemento defectuoso es\n",
    "$P (D) = 0.2$. Determine la distribución para la cantidad de elementos defectu-\n",
    "osos que es posible encontrar y calcule la probabilidad de encontrar 3 elementos\n",
    "defectuosos al mismo tiempo."
   ]
  },
  {
   "cell_type": "code",
   "execution_count": 3,
   "metadata": {},
   "outputs": [
    {
     "name": "stdout",
     "output_type": "stream",
     "text": [
      "Probabilidad uniforme : 0.125\n",
      "Probabilidad 3 elementos defectuosos : 0.008\n"
     ]
    }
   ],
   "source": [
    "binom = lambda x,n,p : n_choose_k(n,x)*p**x * (1-p)**(n-x)\n",
    "\n",
    "prob=0.2\n",
    "print('Probabilidad uniforme : {0:0.3f}'.format(1./len(O)))\n",
    "print('Probabilidad 3 elementos defectuosos : {0:0.3f}'.format(binom(3,3,prob)))"
   ]
  },
  {
   "cell_type": "markdown",
   "metadata": {},
   "source": [
    "Cuál es la probabilidad de encontrar ya sea $2$ o menos elementos defectuosos:"
   ]
  },
  {
   "cell_type": "code",
   "execution_count": 4,
   "metadata": {},
   "outputs": [
    {
     "name": "stdout",
     "output_type": "stream",
     "text": [
      "Probabilidad acumulativa =< 2  : 0.99\n"
     ]
    }
   ],
   "source": [
    "print('Probabilidad acumulativa =< 2  : {0:0.2f}'.format(\n",
    "        np.sum([binom(i,3,prob) for i in np.arange(0,3)])))"
   ]
  },
  {
   "cell_type": "code",
   "execution_count": 5,
   "metadata": {},
   "outputs": [
    {
     "name": "stdout",
     "output_type": "stream",
     "text": [
      "Probabilidad de 2 o 3 : 0.10\n"
     ]
    }
   ],
   "source": [
    "print('Probabilidad de 2 o 3 : {0:0.2f}'.format(binom(2,3,0.2)+binom(3,3,0.2)))"
   ]
  },
  {
   "cell_type": "markdown",
   "metadata": {},
   "source": [
    "<h1>Paradoja del Cumpleanos</h1>\n",
    "\n",
    "La paradoja del cumpleanos estipula que en un grupo de $n=23$ personas existe una probabilidad de mas de un $50\\%$ que dos personas se encuentren de cumpleanos en un mismo  dia. Esto contrasta con el principio del palomar, el cual estipula que se requieren un numero mayor $n>365$ para garantizar un $100\\%$ de probabilidad. "
   ]
  },
  {
   "cell_type": "code",
   "execution_count": 6,
   "metadata": {},
   "outputs": [
    {
     "name": "stdout",
     "output_type": "stream",
     "text": [
      "En un grupo de  23 personas existen  253.0 grupos de 2 personas.\n"
     ]
    }
   ],
   "source": [
    "n=23\n",
    "groups=n_choose_k(n,2)\n",
    "print('En un grupo de {0:3} personas existen  {1:3} grupos de 2 personas.'.format(n,groups))"
   ]
  },
  {
   "cell_type": "markdown",
   "metadata": {},
   "source": [
    "En la practica es mas facil estimar la probabilidad que dos personas no se encuentren el cuampleanos el mismo dia $p=\\frac{364}{365}$. Por lo tanto, si usamos el principio multiplicativo podemos calcular la probabilidad que ninguna persona se encuentre de cumpleanos el mismo dia $(X=0)$:\n",
    "\n",
    "$$\n",
    "P(X=0)=\\frac{365}{365} \\times \\frac{364}{365} \\times \\cdot \\times \\frac{365-n+1}{365}\\\\\n",
    "=\\frac{365!}{365^n (365-n)!}\\\\\n",
    "=\\frac{n! P(365,n)}{365^n}\n",
    "$$\n",
    "\n",
    "La probabilidad puede ser calculada mediante:\n",
    "\n",
    "$$\n",
    "P(X>0)=1-P(X=0)\n",
    "$$"
   ]
  },
  {
   "cell_type": "code",
   "execution_count": 7,
   "metadata": {},
   "outputs": [
    {
     "name": "stdout",
     "output_type": "stream",
     "text": [
      "La probabilidad de un grupo de  23 es  p=0.51 \n"
     ]
    }
   ],
   "source": [
    "birthday = lambda n : 1.0 - np.exp(np.sum(np.log([ (365-i) for i in range(n) ]))\n",
    "                                   - n*np.log(365))\n",
    "\n",
    "n=23\n",
    "print('La probabilidad de un grupo de {0:3} es  p={1:.2f} '.format(n,birthday(n)))"
   ]
  },
  {
   "cell_type": "code",
   "execution_count": 8,
   "metadata": {},
   "outputs": [
    {
     "data": {
      "text/plain": [
       "<Figure size 640x480 with 1 Axes>"
      ]
     },
     "metadata": {},
     "output_type": "display_data"
    }
   ],
   "source": [
    "import matplotlib.pyplot as plt\n",
    "plt.style.use('bmh')\n",
    "\n",
    "x=range(1,200)\n",
    "y=[birthday(np.int32(i)) for i in x]\n",
    "\n",
    "fig, ax = plt.subplots()\n",
    "ax.plot(x,y,'k--')\n",
    "ax.set_ylabel(\"Probabilidad\")\n",
    "ax.set_xlabel(\"Numero de personas\")\n",
    "ax.annotate('50% probabilidad',\n",
    "            xy=(23,birthday(23)),\n",
    "            xycoords='data',\n",
    "            xytext=(1, 1),\n",
    "            arrowprops=\n",
    "                dict(facecolor='red', shrink=0.05),\n",
    "                horizontalalignment='left',\n",
    "                verticalalignment='top')\n",
    "ax.grid(True)\n",
    "plt.show()"
   ]
  },
  {
   "cell_type": "markdown",
   "metadata": {},
   "source": [
    "<h1>Distribucion de Poisson</h1>\n",
    "\n",
    "La distribución de Poisson con paramero $\\lambda$ tiene la siguiente forma:\n",
    "\n",
    "$$\n",
    "p(x=k;\\lambda)=\\frac{e^{-\\lambda}\\lambda^k}{k!}\n",
    "$$\n",
    "\n",
    "Si usamos una aproximacion de Poisson al problema del cumpleanos, obtenemos:\n",
    "\n",
    "$$\n",
    "P(X=0)=\\operatorname{Poisson}\\Big(0;\\frac{{n}\\choose{2}}{365}\\Big)\n",
    "$$"
   ]
  },
  {
   "cell_type": "code",
   "execution_count": 9,
   "metadata": {},
   "outputs": [
    {
     "name": "stdout",
     "output_type": "stream",
     "text": [
      "La probabilidad de un grupo de  23 es  p=0.50 \n"
     ]
    }
   ],
   "source": [
    "poiss = lambda x,lamb : (np.exp(-lamb)*lamb**x)/factorial(x)\n",
    "\n",
    "n=23\n",
    "groups=n_choose_k(n,2)\n",
    "print('La probabilidad de un grupo de {0:3} es  p={1:.2f} '.format(n,poiss(0,groups/365)))\n"
   ]
  },
  {
   "cell_type": "code",
   "execution_count": 10,
   "metadata": {},
   "outputs": [
    {
     "data": {
      "image/png": "[encoded data removed]",
      "text/plain": [
       "<Figure size 432x288 with 1 Axes>"
      ]
     },
     "metadata": {},
     "output_type": "display_data"
    },
    {
     "name": "stdout",
     "output_type": "stream",
     "text": [
      "Entropy : 0.09532149074613618\n"
     ]
    },
    {
     "data": {
      "image/png": "[encoded data removed]",
      "text/plain": [
       "<Figure size 432x288 with 1 Axes>"
      ]
     },
     "metadata": {},
     "output_type": "display_data"
    },
    {
     "name": "stdout",
     "output_type": "stream",
     "text": [
      "Entropy : 0.002689568923945595\n"
     ]
    }
   ],
   "source": [
    "import numpy as np\n",
    "from scipy import stats\n",
    "import matplotlib.pyplot as plt\n",
    "plt.style.use('bmh')\n",
    "\n",
    "\n",
    "def poisson_approximation(n,p,n_samp=1000):\n",
    "    samples_poisson=np.random.poisson(n*p,n_samp)\n",
    "    samples_binomial=np.random.binomial(n,p,n_samp)\n",
    "    fig, ax = plt.subplots()\n",
    "    ax.hist(samples_poisson, histtype=\"stepfilled\",\n",
    "            bins=25, alpha=0.8, density=True)\n",
    "    ax.hist(samples_binomial, histtype=\"stepfilled\",\n",
    "            bins=25, alpha=0.8, density=True)\n",
    "    ax.set_title(r'$\\mathrm{Binomial/Poisson:}\\ n={%d},p=%0.2f,\\lambda=%0.2f$'%(n,p,n*p))\n",
    "    plt.show()\n",
    "\n",
    "n=20\n",
    "p=0.5\n",
    "poisson_approximation(n,p)\n",
    "x1=[binom(i,n,p) for i in range(0,n)]\n",
    "x2=[poiss(i,n*p) for i in range(0,n)]\n",
    "print('Entropy : {0}'.format(stats.entropy(x1,x2)))\n",
    "\n",
    "n=100\n",
    "p=0.1\n",
    "poisson_approximation(n,p)\n",
    "x1=[binom(i,n,p) for i in range(0,n)]\n",
    "x2=[poiss(i,n*p) for i in range(0,n)]\n",
    "print('Entropy : {0}'.format(stats.entropy(x1,x2)))\n",
    "\n"
   ]
  },
  {
   "cell_type": "code",
   "execution_count": 11,
   "metadata": {},
   "outputs": [
    {
     "data": {
      "image/png": "[encoded data removed]",
      "text/plain": [
       "<Figure size 432x288 with 1 Axes>"
      ]
     },
     "metadata": {},
     "output_type": "display_data"
    },
    {
     "name": "stdout",
     "output_type": "stream",
     "text": [
      "Entropy : 2.5176348511866736e-05\n"
     ]
    }
   ],
   "source": [
    "from scipy.special import gammaln \n",
    "\n",
    "# log (factorial(n)) = gammaln (n+1)\n",
    "log_n_choose_k = lambda n,k : (gammaln(n+1) - (gammaln(k+1) + gammaln(n-k+1)))\n",
    "\n",
    "log_binom = lambda x,n,p : log_n_choose_k(n,x)+x*np.log(p) + (n-x)*np.log(1.0-p)\n",
    "\n",
    "log_poiss = lambda x,lamb : (-lamb+x*np.log(lamb))-gammaln(x+1)\n",
    "\n",
    "n=1000\n",
    "p=0.01\n",
    "poisson_approximation(n,p)\n",
    "x1=np.exp([log_binom(i,n,p) for i in range(0,100)])\n",
    "x2=np.exp([log_poiss(i,n*p) for i in range(0,100)])\n",
    "print('Entropy : {0}'.format(stats.entropy(x1,x2)))\n",
    "\n"
   ]
  },
  {
   "cell_type": "markdown",
   "metadata": {},
   "source": [
    "# Tarea \n",
    "\n",
    "1. Sunpongamos que $1$ en $5000$ ampolletas es defectuosa. Sea $X$ el numero de ampolletas defectuosas en un grupo de $10000$. Cual es la probabilidad que 3 ampolletas sean defectuosas?"
   ]
  },
  {
   "cell_type": "code",
   "execution_count": null,
   "metadata": {},
   "outputs": [],
   "source": []
  }
 ],
 "metadata": {
  "kernelspec": {
   "display_name": "Python 3",
   "language": "python",
   "name": "python3"
  },
  "language_info": {
   "codemirror_mode": {
    "name": "ipython",
    "version": 3
   },
   "file_extension": ".py",
   "mimetype": "text/x-python",
   "name": "python",
   "nbconvert_exporter": "python",
   "pygments_lexer": "ipython3",
   "version": "3.6.9"
  }
 },
 "nbformat": 4,
 "nbformat_minor": 2
}
