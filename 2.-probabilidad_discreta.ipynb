{
 "cells": [
  {
   "cell_type": "markdown",
   "metadata": {},
   "source": [
    "<H1>Probabilidad Discreta</H1>\n",
    "\n",
    "En probabilidad discreta contamos con un conjunto finito o contablemente infinito de elementos y una función de masa de probabilidad sobre cada uno de los elementos. Para eventos binarios, si repetimos $n$ veces el experimento y obtenemos $k$ sucesos, se obtienen $C(n,k)={{n}\\choose{k}}$ posibles combinaciones. \n"
   ]
  },
  {
   "cell_type": "code",
   "execution_count": 3,
   "metadata": {},
   "outputs": [
    {
     "name": "stdout",
     "output_type": "stream",
     "text": [
      " C(10,3)= 120\n",
      "Log-trick C(100,70)= 2.93723398216121e+25\n",
      "log(a*b)=log(a)+log(b)  200.0000000000001\n",
      "log(a/b)=log(a)-log(b)  1.9999999999999993\n"
     ]
    }
   ],
   "source": [
    "#from scipy.misc import comb\n",
    "import numpy as np\n",
    "\n",
    "factorial = lambda n : np.prod(np.arange(1,n+1))\n",
    "\n",
    "naive_n_choose_k = lambda n,k : factorial(n)/(factorial(k)*factorial(n-k))\n",
    "\n",
    "n_choose_k = lambda n,k : np.exp(np.sum(np.log(np.arange(1,n+1)))-np.sum(np.log(np.arange(1,k+1)))-np.sum(np.log(np.arange(1,n-k+1))))\n",
    "\n",
    "\n",
    "#print 'C(10,3)=',comb(10,3)\n",
    "print 'C(10,3)=',naive_n_choose_k(10,3)\n",
    "\n",
    "#print 'Numpy C(100,70)=',comb(100,70)\n",
    "print 'Log-trick C(100,70)=',n_choose_k(100,70)\n",
    "#print 'Naive C(100,70)=',naive_n_choose_k(100,70)\n",
    "\n",
    "print 'log(a*b)=log(a)+log(b) ',np.exp(np.log(10)+np.log(20))\n",
    "print 'log(a/b)=log(a)-log(b) ',np.exp(np.log(20)-np.log(10))"
   ]
  },
  {
   "cell_type": "markdown",
   "metadata": {},
   "source": [
    "Suponga que los artı́culos de una lı́nea de producción pueden ser defectuosos\n",
    "$D$ o no defectuosos $N$ y que se eligen al azar 3 productos para hacer control\n",
    "de calidad. En Python, construya el espacio muestral $ \\Omega = S_1 \\times S_2 \\times S_3$ para\n",
    "este experimento, siendo $S_i = \\{D, N\\}$."
   ]
  },
  {
   "cell_type": "code",
   "execution_count": 4,
   "metadata": {},
   "outputs": [
    {
     "name": "stdout",
     "output_type": "stream",
     "text": [
      "[('D', 'D', 'D'), ('D', 'D', 'N'), ('D', 'N', 'D'), ('D', 'N', 'N'), ('N', 'D', 'D'), ('N', 'D', 'N'), ('N', 'N', 'D'), ('N', 'N', 'N')]\n"
     ]
    }
   ],
   "source": [
    "S={'D','N'}\n",
    "O=[(s1,s2,s3) for s1 in S for s2 in S for s3 in S]\n",
    "print O"
   ]
  },
  {
   "cell_type": "markdown",
   "metadata": {},
   "source": [
    "Supongamos que la probabilidad de encontrar un elemento defectuoso es\n",
    "$P (D) = 0.2$. Determine la distribución para la cantidad de elementos defectu-\n",
    "osos que es posible encontrar y calcule la probabilidad de encontrar 3 elementos\n",
    "defectuosos al mismo tiempo."
   ]
  },
  {
   "cell_type": "code",
   "execution_count": 5,
   "metadata": {},
   "outputs": [
    {
     "name": "stdout",
     "output_type": "stream",
     "text": [
      "Probabilidad uniforme :  0.125\n",
      "Probabilidad 3 binomial p(d)=0.7:  0.3429999999999999\n"
     ]
    }
   ],
   "source": [
    "binom = lambda n,k,p : n_choose_k(n,k)*p**k * (1-p)**(n-k)\n",
    "\n",
    "print 'Probabilidad uniforme : ',1./len(O)\n",
    "print 'Probabilidad 3 binomial p(d)=0.7: ',binom(3,3,0.7)"
   ]
  },
  {
   "cell_type": "markdown",
   "metadata": {},
   "source": [
    "Cuál es la probabilidad de encontrar ya sea $2$ o menos elementos defectuosos:"
   ]
  },
  {
   "cell_type": "code",
   "execution_count": 6,
   "metadata": {},
   "outputs": [
    {
     "name": "stdout",
     "output_type": "stream",
     "text": [
      "Probabilidad cumulativa < 2  :  0.9920000000000001\n"
     ]
    }
   ],
   "source": [
    "print 'Probabilidad cumulativa < 2  : ',np.sum([binom(3,i,0.2) for i in np.arange(0,3)])"
   ]
  },
  {
   "cell_type": "code",
   "execution_count": 7,
   "metadata": {},
   "outputs": [
    {
     "name": "stdout",
     "output_type": "stream",
     "text": [
      "Probabilidad de 2 o 3 :  0.10400000000000002\n"
     ]
    }
   ],
   "source": [
    "print 'Probabilidad de 2 o 3 : ',binom(3,3,0.2)+binom(3,2,0.2)"
   ]
  },
  {
   "cell_type": "markdown",
   "metadata": {},
   "source": [
    "<h1>Distribucion de Poisson</h1>\n",
    "\n",
    "$n>100$\n",
    "\n",
    "$p<0.01$\n",
    "\n",
    "$\\lambda<20$"
   ]
  },
  {
   "cell_type": "code",
   "execution_count": 8,
   "metadata": {},
   "outputs": [
    {
     "name": "stdout",
     "output_type": "stream",
     "text": [
      "Poisson | mean : 4.962, std : 4.962\n",
      "Binomial | mean : 5.079, std : 5.079\n"
     ]
    },
    {
     "data": {
      "text/plain": [
       "<Figure size 1000x500 with 2 Axes>"
      ]
     },
     "metadata": {},
     "output_type": "display_data"
    },
    {
     "name": "stdout",
     "output_type": "stream",
     "text": [
      "Poisson | mean : 10.109, std : 10.109\n",
      "Binomial | mean : 10.022, std : 10.022\n"
     ]
    },
    {
     "data": {
      "text/plain": [
       "<Figure size 1000x500 with 2 Axes>"
      ]
     },
     "metadata": {},
     "output_type": "display_data"
    },
    {
     "name": "stdout",
     "output_type": "stream",
     "text": [
      "Poisson | mean : 9.987, std : 9.987\n",
      "Binomial | mean : 10.040, std : 10.040\n"
     ]
    },
    {
     "data": {
      "text/plain": [
       "<Figure size 1000x500 with 2 Axes>"
      ]
     },
     "metadata": {},
     "output_type": "display_data"
    }
   ],
   "source": [
    "import numpy as np\n",
    "import matplotlib.pyplot as plt\n",
    "import seaborn as sns\n",
    "import warnings\n",
    "warnings.filterwarnings(\"ignore\")\n",
    "\n",
    "def poisson_approximation(n,p,n_samp):\n",
    "    samples_poisson=np.random.poisson(n*p,n_samp)\n",
    "    samples_binomial=np.random.binomial(n,p,n_samp)\n",
    "    print('Poisson | mean : {0:.3f}, std : {0:.3f}').format(np.mean(samples_poisson),np.std(samples_poisson))\n",
    "    print('Binomial | mean : {0:.3f}, std : {0:.3f}').format(np.mean(samples_binomial),np.std(samples_binomial))\n",
    "    plt.figure(figsize=(10,5))\n",
    "    plt.subplot(211)\n",
    "    sns.distplot(samples_poisson,kde=True)\n",
    "    plt.title(r'$\\mathrm{Poisson:}\\ \\lambda=%d$'%(n*p))\n",
    "    plt.subplot(212)\n",
    "    sns.distplot(samples_binomial,kde=True)\n",
    "    plt.title(r'$\\mathrm{Binomial:}\\ n=%d,p=%d$'%(n,p))\n",
    "    plt.show()\n",
    "    \n",
    "poisson_approximation(10,0.5,1000)\n",
    "\n",
    "poisson_approximation(100,0.1,1000)\n",
    "\n",
    "poisson_approximation(1000,0.01,1000)"
   ]
  },
  {
   "cell_type": "markdown",
   "metadata": {},
   "source": [
    "Sunpongamos que $1$ en $5000$ ampolletas es defectuosa. Sea $X$ el numero de ampolletas defectuosas en un grupo de $10000$. Cual es la probabilidad que 3 ampolletas sean defectuosas?"
   ]
  },
  {
   "cell_type": "code",
   "execution_count": 36,
   "metadata": {},
   "outputs": [
    {
     "name": "stdout",
     "output_type": "stream",
     "text": [
      " Poisson Log:  0.0\n",
      "Binomial :  0.0\n"
     ]
    }
   ],
   "source": [
    "from scipy.special import factorial\n",
    "from scipy.stats import entropy\n",
    "\n",
    "poiss = lambda lamb,k : (np.exp(-lamb)*lamb**k)/factorial(k)\n",
    "\n",
    "poiss_log = lambda lamb,k : np.exp(-lamb+k*np.log(lamb)-np.sum(np.log(np.arange(1,k+1))))\n",
    "\n",
    "p=1./5000\n",
    "n=10000\n",
    "\n",
    "#print 'Poisson : ',poiss(n*p,10000)\n",
    "print 'Poisson Log: ',poiss_log(n*p,10000)\n",
    "print 'Binomial : ',binom(n,10000,p)\n",
    "\n",
    "#poiss_pmf=[poiss(n*p,i) for i in range(100)]\n",
    "#binom_pmf=[binom(n,i,p) for i in range(100)]\n",
    "\n",
    "#print 'Entropy : ',entropy(binom_pmf,poiss_pmf)"
   ]
  },
  {
   "cell_type": "code",
   "execution_count": 22,
   "metadata": {},
   "outputs": [
    {
     "data": {
      "text/plain": [
       "0.0"
      ]
     },
     "execution_count": 22,
     "metadata": {},
     "output_type": "execute_result"
    }
   ],
   "source": [
    "np.exp(-n*p+np.log(n*p))"
   ]
  },
  {
   "cell_type": "code",
   "execution_count": 38,
   "metadata": {},
   "outputs": [
    {
     "data": {
      "text/plain": [
       "array(inf)"
      ]
     },
     "execution_count": 38,
     "metadata": {},
     "output_type": "execute_result"
    }
   ],
   "source": [
    "from scipy.special import factorial\n",
    "\n",
    "factorial(1000)"
   ]
  },
  {
   "cell_type": "code",
   "execution_count": null,
   "metadata": {},
   "outputs": [],
   "source": []
  }
 ],
 "metadata": {
  "kernelspec": {
   "display_name": "Python 2",
   "language": "python",
   "name": "python2"
  },
  "language_info": {
   "codemirror_mode": {
    "name": "ipython",
    "version": 2
   },
   "file_extension": ".py",
   "mimetype": "text/x-python",
   "name": "python",
   "nbconvert_exporter": "python",
   "pygments_lexer": "ipython2",
   "version": "2.7.15rc1"
  }
 },
 "nbformat": 4,
 "nbformat_minor": 2
}
