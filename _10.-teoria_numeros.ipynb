{
 "cells": [
  {
   "cell_type": "markdown",
   "metadata": {},
   "source": [
    "# Teoria de Numeros\n",
    "\n",
    "Supongamos que se requiere trasmitir un mensaje codificado usando una\n",
    "función $f : D \\mapsto D$, donde $D = \\{A, B, C , . . . , Z\\}$. Dado que el alfabeto\n",
    "contiene 26 letras, podemos usar el siguiente metodo:\n",
    "\n",
    "\\begin{align}\n",
    "f(p) = (p + k) \\operatorname{mod} 26\n",
    "\\end{align}\n",
    "\n",
    "Donde $p$ es la poisición del carácter que vamos a reemplazar y $0 < k < 25$"
   ]
  },
  {
   "cell_type": "code",
   "execution_count": 1,
   "metadata": {},
   "outputs": [],
   "source": [
    "import string\n",
    "\n",
    "\n",
    "def encrypt(msg,private_key):\n",
    "    enc_msg=''\n",
    "    SYMBOLS = 'ABCDEFGHIJKLMNOPQRSTUVWXYZabcdefghijklmnopqrstuvwxyz1234567890 !?.'\n",
    "    code={v:k for k,v in enumerate(SYMBOLS)}\n",
    "    reverse_code={k:v for k,v in enumerate(SYMBOLS)}\n",
    "    for i in range(len(msg)):\n",
    "        enc_msg+=reverse_code[(code[msg[i]]+private_key)%len(SYMBOLS)]\n",
    "    return enc_msg"
   ]
  },
  {
   "cell_type": "code",
   "execution_count": 2,
   "metadata": {},
   "outputs": [
    {
     "data": {
      "text/plain": [
       "'GEIWEVAGMTLIVAHIQS'"
      ]
     },
     "execution_count": 2,
     "metadata": {},
     "output_type": "execute_result"
    }
   ],
   "source": [
    "encrypt('CAESAR CIPHER DEMO',4)"
   ]
  },
  {
   "cell_type": "code",
   "execution_count": 3,
   "metadata": {},
   "outputs": [],
   "source": [
    "from secrets import token_bytes\n",
    "from typing import Tuple\n",
    "\n",
    "def random_key(length):\n",
    "    tb = token_bytes(length)\n",
    "    return int.from_bytes(tb, 'big')\n"
   ]
  },
  {
   "cell_type": "code",
   "execution_count": 4,
   "metadata": {},
   "outputs": [],
   "source": [
    "def encrypt_one_time(msg):\n",
    "    original_bytes = msg.encode()\n",
    "    dummy = random_key(len(original_bytes))\n",
    "    original_key = int.from_bytes(original_bytes, \"big\")\n",
    "    encrypted = original_key ^ dummy # XOR\n",
    "    return dummy, encrypted"
   ]
  },
  {
   "cell_type": "code",
   "execution_count": 5,
   "metadata": {},
   "outputs": [],
   "source": [
    "(key1,key2)=encrypt_one_time('CAESAR CIPHER DEMO')"
   ]
  },
  {
   "cell_type": "code",
   "execution_count": 6,
   "metadata": {},
   "outputs": [
    {
     "data": {
      "text/plain": [
       "(12260286572352991032056079176271561902328264,\n",
       " 18118328172115355222363471057789896599553159)"
      ]
     },
     "execution_count": 6,
     "metadata": {},
     "output_type": "execute_result"
    }
   ],
   "source": [
    "key1,key2"
   ]
  },
  {
   "cell_type": "code",
   "execution_count": 7,
   "metadata": {},
   "outputs": [],
   "source": [
    "def decrypt_one_time(key1, key2):\n",
    "    decrypted = key1 ^ key2 # XOR\n",
    "    temp= decrypted.to_bytes((decrypted.bit_length()+ 7) // 8, \"big\")\n",
    "    return temp.decode()"
   ]
  },
  {
   "cell_type": "code",
   "execution_count": 8,
   "metadata": {},
   "outputs": [
    {
     "data": {
      "text/plain": [
       "'CAESAR CIPHER DEMO'"
      ]
     },
     "execution_count": 8,
     "metadata": {},
     "output_type": "execute_result"
    }
   ],
   "source": [
    "decrypt_one_time(key1,key2)"
   ]
  },
  {
   "cell_type": "markdown",
   "metadata": {},
   "source": [
    "# Algoritmo RSA\n",
    "\n",
    "El cifrado RSA se basa en la factorizacion de numeros enteros. A\n",
    "diferencia del cifrado Cesar, RSA utiliza una llave publica $(e, n)$ y una privada $(d, n)$. \n",
    "\n",
    "Para codificar el mensaje m usamos la llave publica $e$ del receptor.\n",
    "\n",
    "\\begin{align}\n",
    "c \\equiv m^e  \\operatorname{mod} n\n",
    "\\end{align}\n",
    "\n",
    "Para decodificar el mensaje, usamos la llave privada $n$ del emisor.\n",
    "\n",
    "\\begin{align}\n",
    "m \\equiv c^d  \\operatorname{mod} n\n",
    "\\end{align}\n",
    "\n",
    "Los pasos para crear las llaves son:\n",
    "\n",
    "* Crear de manera aleatoria dos enteros primos de gran tamano : $p$ y $q$.\n",
    "* Multiplicar los enteros de manera de generar un numero compuesto $n$.\n",
    "* Crear de manera aleatoria un entero $e$, que sea relativamente primo con $(p–1) \\times (q–1)$. Es decir que el maximo divisor comun $\\operatorname{GCD}(e,(p–1) \\times (q–1))==1$\n",
    "* Calcular el inverso modular de $e$, el cual llamaremos $d$. "
   ]
  },
  {
   "cell_type": "code",
   "execution_count": 13,
   "metadata": {},
   "outputs": [
    {
     "name": "stdout",
     "output_type": "stream",
     "text": [
      "9 es primo :  False\n",
      "11 es primo :  True\n",
      "19 es primo :  True\n"
     ]
    }
   ],
   "source": [
    "import math \n",
    "\n",
    "def isPrime(n):\n",
    "    if n<2:\n",
    "        return False\n",
    "    for i in range(2,int(math.sqrt(n)+1)):\n",
    "        if n % i == 0:\n",
    "            return False\n",
    "    return True\n",
    "\n",
    "print('9 es primo : ',isPrime(9))\n",
    "print('11 es primo : ',isPrime(11))"
   ]
  },
  {
   "cell_type": "code",
   "execution_count": 11,
   "metadata": {},
   "outputs": [
    {
     "data": {
      "text/plain": [
       "[2, 3, 5, 7, 11, 13, 17, 19]"
      ]
     },
     "execution_count": 11,
     "metadata": {},
     "output_type": "execute_result"
    }
   ],
   "source": [
    "getPrimes = lambda n : [n for n in range(n) if isPrime(n)]\n",
    "\n",
    "getPrimes(20)"
   ]
  },
  {
   "cell_type": "code",
   "execution_count": 30,
   "metadata": {},
   "outputs": [],
   "source": [
    "import random \n",
    "\n",
    "def generateLargePrime(keysize=1024):\n",
    "    num=0\n",
    "    while not isPrime(num):\n",
    "        num = random.randrange(2**(keysize-1), 2**(keysize))\n",
    "    return num"
   ]
  },
  {
   "cell_type": "code",
   "execution_count": 31,
   "metadata": {},
   "outputs": [],
   "source": [
    "def generate_composite(keysize):\n",
    "    # Creates public/private keys keySize bits in size.\n",
    "    p = 0\n",
    "    q = 0\n",
    "    print('Generating p,q primes...')\n",
    "    while p == q:\n",
    "        p = generateLargePrime(keysize)\n",
    "        q = generateLargePrime(keysize)\n",
    "        n = p * q\n",
    "    print('done!')\n",
    "    return n,p,q"
   ]
  },
  {
   "cell_type": "code",
   "execution_count": 169,
   "metadata": {},
   "outputs": [],
   "source": [
    "# Euclidean Algorithm\n",
    "def gcd(x, y): \n",
    "    while(y): \n",
    "        x, y = y, x % y \n",
    "    return x \n",
    "\n",
    "# extended Euclidean Algorithm\n",
    "def egcd(a, b):\n",
    "    \"\"\"return (g, x, y) such that a*x + b*y = g = gcd(a, b)\"\"\"\n",
    "    if a == 0:\n",
    "        return (b, 0, 1)\n",
    "    else:\n",
    "        b_div_a, b_mod_a = divmod(b, a)\n",
    "        g, x, y = egcd(b_mod_a, a)\n",
    "        return (g, y - b_div_a * x, x)"
   ]
  },
  {
   "cell_type": "code",
   "execution_count": 170,
   "metadata": {},
   "outputs": [
    {
     "data": {
      "text/plain": [
       "(1, 13, -8)"
      ]
     },
     "execution_count": 170,
     "metadata": {},
     "output_type": "execute_result"
    }
   ],
   "source": [
    "egcd(37, 60)"
   ]
  },
  {
   "cell_type": "code",
   "execution_count": 171,
   "metadata": {},
   "outputs": [],
   "source": [
    "# x=2^4*3^5*7^4*11^1\n",
    "a=102685968\n",
    "# y=2^3*3^7*7^2*11^2\n",
    "b=103733784\n",
    "z=gcd(a,b)"
   ]
  },
  {
   "cell_type": "code",
   "execution_count": 158,
   "metadata": {},
   "outputs": [
    {
     "data": {
      "text/plain": [
       "True"
      ]
     },
     "execution_count": 158,
     "metadata": {},
     "output_type": "execute_result"
    }
   ],
   "source": [
    "z==2**3*3**5*7**2*11**1 "
   ]
  },
  {
   "cell_type": "code",
   "execution_count": 159,
   "metadata": {},
   "outputs": [],
   "source": [
    "g,x,y=egcd(a,b)"
   ]
  },
  {
   "cell_type": "code",
   "execution_count": 160,
   "metadata": {},
   "outputs": [
    {
     "data": {
      "text/plain": [
       "True"
      ]
     },
     "execution_count": 160,
     "metadata": {},
     "output_type": "execute_result"
    }
   ],
   "source": [
    "g==x*a+y*b"
   ]
  },
  {
   "cell_type": "code",
   "execution_count": 184,
   "metadata": {},
   "outputs": [],
   "source": [
    "def generate_rsa(keysize):\n",
    "    n,p,q=generate_composite(keysize)\n",
    "    while True:\n",
    "        e = random.randrange(2**(keysize-1), 2**(keysize))\n",
    "        if gcd(e,(p-1)*(q-1))==1:\n",
    "            break\n",
    "    print('p:',p)\n",
    "    print('q:',q)\n",
    "    print('e:',e)    \n",
    "    g,d,y=egcd(e,(p-1)*(q-1))\n",
    "    print('d:',d) \n",
    "    return (e,n),(d,n)"
   ]
  },
  {
   "cell_type": "code",
   "execution_count": 185,
   "metadata": {},
   "outputs": [
    {
     "name": "stdout",
     "output_type": "stream",
     "text": [
      "Generating p,q primes...\n",
      "done!\n",
      "p: 737729\n",
      "q: 1040203\n",
      "e: 920105\n",
      "d: 323244538649\n"
     ]
    }
   ],
   "source": [
    "public_key,private_key=generate_rsa(20)"
   ]
  },
  {
   "cell_type": "code",
   "execution_count": 186,
   "metadata": {},
   "outputs": [
    {
     "data": {
      "text/plain": [
       "(920105, 767387918987)"
      ]
     },
     "execution_count": 186,
     "metadata": {},
     "output_type": "execute_result"
    }
   ],
   "source": [
    "public_key"
   ]
  },
  {
   "cell_type": "code",
   "execution_count": 187,
   "metadata": {},
   "outputs": [
    {
     "data": {
      "text/plain": [
       "(323244538649, 767387918987)"
      ]
     },
     "execution_count": 187,
     "metadata": {},
     "output_type": "execute_result"
    }
   ],
   "source": [
    "private_key"
   ]
  },
  {
   "cell_type": "code",
   "execution_count": 188,
   "metadata": {},
   "outputs": [
    {
     "data": {
      "text/plain": [
       "0"
      ]
     },
     "execution_count": 188,
     "metadata": {},
     "output_type": "execute_result"
    }
   ],
   "source": [
    "public_key[1]//(public_key[0]*private_key[0])"
   ]
  },
  {
   "cell_type": "code",
   "execution_count": 189,
   "metadata": {},
   "outputs": [
    {
     "data": {
      "text/plain": [
       "1"
      ]
     },
     "execution_count": 189,
     "metadata": {},
     "output_type": "execute_result"
    }
   ],
   "source": [
    "gcd(public_key[0],private_key[0])"
   ]
  },
  {
   "cell_type": "code",
   "execution_count": 115,
   "metadata": {},
   "outputs": [
    {
     "data": {
      "text/plain": [
       "True"
      ]
     },
     "execution_count": 115,
     "metadata": {},
     "output_type": "execute_result"
    }
   ],
   "source": [
    "SYMBOLS = 'ABCDEFGHIJKLMNOPQRSTUVWXYZabcdefghijklmnopqrstuvwxyz1234567890 !?.'\n",
    "\n",
    "len(SYMBOLS)**169<2**1024"
   ]
  }
 ],
 "metadata": {
  "kernelspec": {
   "display_name": "Python 3",
   "language": "python",
   "name": "python3"
  },
  "language_info": {
   "codemirror_mode": {
    "name": "ipython",
    "version": 3
   },
   "file_extension": ".py",
   "mimetype": "text/x-python",
   "name": "python",
   "nbconvert_exporter": "python",
   "pygments_lexer": "ipython3",
   "version": "3.6.9"
  }
 },
 "nbformat": 4,
 "nbformat_minor": 2
}
