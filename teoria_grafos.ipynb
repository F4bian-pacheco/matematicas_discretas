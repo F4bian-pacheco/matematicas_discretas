{
 "cells": [
  {
   "cell_type": "markdown",
   "metadata": {},
   "source": [
    "<h1>Teoria de Grafos</h1>\n",
    "\n",
    "Los grafos son estructuras discretas que consisten de vértices y\n",
    "aristas que conectan los vértices. Existen disintos tipos de grafos,\n",
    "dependiendo si las aristas tienen o no dirección, si existen múltiples\n",
    "aristas para un mismo vértices o si se permiten o no lazos.\n",
    "\n",
    "Un grafo es una tupla $G = (V , E )$ donde $V$ es un conjunto (finito o\n",
    "infinito) de vértices y E es un cuna colección finita de aristas. El\n",
    "conjunto E contiene elementos de la unión de todos los subconjuntos con\n",
    "uno o dos elementos del conjunto $V$ . Esto quiere decir, que cada\n",
    "elemento de E es un subconjunto de uno o dos elementos de $V$ .\n",
    "\n"
   ]
  },
  {
   "cell_type": "code",
   "execution_count": 1,
   "metadata": {},
   "outputs": [],
   "source": [
    "import numpy as np\n",
    "\n",
    "class abstract_graph:\n",
    "    \n",
    "    def __init__(self,_edges):\n",
    "        self.edges=_edges\n",
    "        self.nodes={u for u,v in self.edges} | {u for u,v in self.edges}\n",
    "        \n",
    "    def adjacency_matrix(self):\n",
    "        pass\n",
    "    \n",
    "    def adjacency_list(self):\n",
    "        pass"
   ]
  },
  {
   "cell_type": "markdown",
   "metadata": {},
   "source": [
    "Un grafo simple es un grafo en el cual existe sólo una arista $(u, v)$ para\n",
    "conectar dos vértices $u$ y $v$ ."
   ]
  },
  {
   "cell_type": "code",
   "execution_count": 2,
   "metadata": {},
   "outputs": [
    {
     "name": "stdout",
     "output_type": "stream",
     "text": [
      "aristas set([(1, 2), (3, 4), (2, 4)])\n",
      "nodos :  set([1, 2, 3, 4])\n",
      "matriz adyacencia :  [[ 0.  0.  0.  0.]\n",
      " [ 0.  0.  0.  0.]\n",
      " [ 0.  0.  0.  0.]\n",
      " [ 0.  0.  0.  0.]]\n",
      "lista adyacencia :  {1: set([2]), 2: set([1, 4]), 3: set([4]), 4: set([2, 3])}\n"
     ]
    }
   ],
   "source": [
    "class simple_graph(abstract_graph):\n",
    "    \n",
    "    def __init__(self,_edges):\n",
    "        self.edges=_edges\n",
    "        self.nodes={u for u,v in self.edges} | {v for u,v in self.edges}\n",
    "        \n",
    "    def adjacency_matrix(self):\n",
    "        # completar\n",
    "        n=len(self.nodes)\n",
    "        mat=np.zeros((n,n))\n",
    "        return mat\n",
    "    \n",
    "    \n",
    "    def adjacency_list(self):\n",
    "        adjacent=lambda n : {v for u,v in self.edges if u==n } | {u for u,v in self.edges if v==n}\n",
    "        return {v:adjacent(v) for v in self.nodes}\n",
    "        \n",
    "    \n",
    "\n",
    "E={(1,2),(3,4),(2,4)}\n",
    "G=simple_graph(E)\n",
    "print 'aristas',G.edges\n",
    "print 'nodos : ',G.nodes\n",
    "print 'matriz adyacencia : ',G.adjacency_matrix()\n",
    "print 'lista adyacencia : ',G.adjacency_list()"
   ]
  },
  {
   "cell_type": "markdown",
   "metadata": {},
   "source": [
    "Un multi-grafo simple es un grafo en el cual existe más de una arista\n",
    "$(u, v)$ para conectar dos vértices $u$ y $v$ (aristas paralelas y lazos)."
   ]
  },
  {
   "cell_type": "code",
   "execution_count": 5,
   "metadata": {},
   "outputs": [
    {
     "name": "stdout",
     "output_type": "stream",
     "text": [
      "nodos :  set([1, 2, 3])\n",
      "matriz adyacencia :  None\n",
      "lista adyacencia :  None\n"
     ]
    }
   ],
   "source": [
    "class multi_graph(abstract_graph):\n",
    "    \n",
    "    def __init__(self,_edges):\n",
    "        self.edges=_edges\n",
    "        self.nodes={u for u,v in self.edges} | {u for u,v in self.edges}\n",
    "\n",
    "        \n",
    "    def adjacency_matrix(self):\n",
    "        # completar\n",
    "        pass\n",
    "    \n",
    "    def adjacency_list(self):\n",
    "        # completar\n",
    "        pass\n",
    "    \n",
    "E2=[(1,2),(3,4),(2,4)]\n",
    "G2=multi_graph(E)\n",
    "print 'nodos : ',G2.nodes\n",
    "print 'matriz adyacencia : ',G2.adjacency_matrix()\n",
    "print 'lista adyacencia : ',G2.adjacency_list()"
   ]
  },
  {
   "cell_type": "markdown",
   "metadata": {},
   "source": [
    "Un grafo dirigido es un grafo en el cual cada arista $(u,v)$ consiste en un\n",
    "par ordenado de vértices $u$ y $v$."
   ]
  },
  {
   "cell_type": "code",
   "execution_count": 7,
   "metadata": {},
   "outputs": [
    {
     "name": "stdout",
     "output_type": "stream",
     "text": [
      "nodos :  set([1, 2, 3])\n",
      "None\n",
      "lista adyacencia :  None\n"
     ]
    }
   ],
   "source": [
    "class multi_digraph(abstract_graph):\n",
    "    \n",
    "    def __init__(self,_edges):\n",
    "        self.edges=_edges\n",
    "        self.nodes={u for u,v in self.edges} | {u for u,v in self.edges}\n",
    "\n",
    "        \n",
    "    def adjacency_matrix(self):\n",
    "        # completar\n",
    "        pass\n",
    "    \n",
    "    def adjacency_list(self):\n",
    "        # completar\n",
    "        pass\n",
    "    \n",
    "    def adjacency_list(self):\n",
    "        # completar\n",
    "        pass\n",
    "\n",
    "E3=[(1,2),(3,4),(2,4),(2,1),(2,1)]\n",
    "G3=multi_digraph(E3)\n",
    "print 'nodos : ',G3.nodes\n",
    "print G3.adjacency_matrix()\n",
    "print 'lista adyacencia : ',G3.adjacency_list()"
   ]
  },
  {
   "cell_type": "code",
   "execution_count": null,
   "metadata": {},
   "outputs": [],
   "source": []
  }
 ],
 "metadata": {
  "kernelspec": {
   "display_name": "Python 2",
   "language": "python",
   "name": "python2"
  },
  "language_info": {
   "codemirror_mode": {
    "name": "ipython",
    "version": 2
   },
   "file_extension": ".py",
   "mimetype": "text/x-python",
   "name": "python",
   "nbconvert_exporter": "python",
   "pygments_lexer": "ipython2",
   "version": "2.7.12"
  }
 },
 "nbformat": 4,
 "nbformat_minor": 2
}
