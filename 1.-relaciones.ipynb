{
 "cells": [
  {
   "cell_type": "markdown",
   "metadata": {},
   "source": [
    "# Relaciones\n",
    "\n",
    "Sean los conjuntos $X$ e $Y$. Cualquier subconjunto $R \\subseteq X \\times X$ se dice relación de x {\\displaystyle x} x sobre y {\\displaystyle y} y. Por tanto, una relación es un conjunto de pares ordenados, de modo que toda función f : x ⟶ y {\\displaystyle f:x\\longrightarrow y} {\\displaystyle f:x\\longrightarrow y} es una relación, si bien lo recíproco no es necesariamente cierto, pues puede una relación no cumplir (f-1) o (f-2) (o ambas) de 1.7.1 . De ésto, resulta conveniente adoptar una notación diferente a la que se usó con las funciones para expresar el hecho de que ( a , b ) ∈ R {\\displaystyle (a,b)\\in \\mathrm {R} } {\\displaystyle (a,b)\\in \\mathrm {R} }. Así pues, escribiremos\n"
   ]
  },
  {
   "cell_type": "code",
   "execution_count": 11,
   "metadata": {},
   "outputs": [],
   "source": [
    "X={'a','b','c','d'}\n",
    "\n",
    "R={('a','b'),('b','c'),\n",
    "   ('c','a'),('a','a'),\n",
    "   ('b','b'),('c','c'),\n",
    "   ('b','a'),('c','b'),('c','d'),('d','c'),\n",
    "   ('a','c'),('d','a'),('a','d'),('d','d')}\n"
   ]
  },
  {
   "cell_type": "code",
   "execution_count": 18,
   "metadata": {},
   "outputs": [],
   "source": [
    "producto_cartesiano = lambda X : {(a,b) for a in X for b in X}"
   ]
  },
  {
   "cell_type": "code",
   "execution_count": 20,
   "metadata": {},
   "outputs": [
    {
     "name": "stdout",
     "output_type": "stream",
     "text": [
      "{('b', 'c'), ('c', 'b'), ('b', 'a'), ('a', 'b'), ('b', 'b'), ('a', 'a'), ('a', 'c'), ('c', 'c'), ('c', 'd'), ('d', 'c'), ('d', 'd'), ('a', 'd'), ('d', 'a'), ('b', 'd'), ('c', 'a'), ('d', 'b')}\n",
      "True\n"
     ]
    }
   ],
   "source": [
    "G=producto_cartesiano(X)\n",
    "\n",
    "print(G)\n",
    "print(R.issubset(G))\n"
   ]
  },
  {
   "cell_type": "code",
   "execution_count": 14,
   "metadata": {},
   "outputs": [],
   "source": [
    "reflexiva = lambda R :{a for (a,b) in R if a==b} == {a for (a,b) in R} | {b for (a,b) in R}\n",
    "\n",
    "simetrica = lambda R :{(b,a) for (a,b) in R if a!=b}.issubset(R)\n",
    "\n",
    "transitiva = lambda R : {(a,d) for (a,b) in R for (c,d) in R if b==c and a!=d}.issubset(R)"
   ]
  },
  {
   "cell_type": "code",
   "execution_count": 17,
   "metadata": {
    "scrolled": true
   },
   "outputs": [
    {
     "name": "stdout",
     "output_type": "stream",
     "text": [
      "{('b', 'c'), ('c', 'b'), ('b', 'a'), ('a', 'b'), ('b', 'b'), ('a', 'a'), ('a', 'c'), ('c', 'c'), ('c', 'd'), ('d', 'c'), ('d', 'd'), ('a', 'd'), ('d', 'a'), ('b', 'd'), ('c', 'a'), ('d', 'b')}\n",
      "simetrica: True\n"
     ]
    }
   ],
   "source": [
    "print(G)\n",
    "print('simetrica:',simetrica(G))"
   ]
  },
  {
   "cell_type": "code",
   "execution_count": 15,
   "metadata": {},
   "outputs": [
    {
     "data": {
      "text/plain": [
       "True"
      ]
     },
     "execution_count": 15,
     "metadata": {},
     "output_type": "execute_result"
    }
   ],
   "source": [
    "transitiva(G)"
   ]
  },
  {
   "cell_type": "markdown",
   "metadata": {},
   "source": [
    "# Tarea 1\n",
    "\n",
    "    1. Extender el producto cartesiano de dos conjuntos hacia 3 conjuntos\n",
    "    2. Extender las funciones para chequear relaciones binarias a 3-arias"
   ]
  },
  {
   "cell_type": "code",
   "execution_count": 59,
   "metadata": {},
   "outputs": [
    {
     "name": "stdout",
     "output_type": "stream",
     "text": [
      "True\n",
      "True\n",
      "set([<__main__.Line instance at 0x7f0900566ab8>, <__main__.Line instance at 0x7f09005667e8>])\n"
     ]
    }
   ],
   "source": [
    "class Line:\n",
    "    def __init__(self, _p1, _p2):\n",
    "        self.points = {_p1,_p2}\n",
    "        \n",
    "    def __hash__ ( self ):\n",
    "        return hash(x+y for (x,y) in self.points)\n",
    "    \n",
    "    def __eq__ ( self , other ):\n",
    "        return self.points==other.points \n",
    "    \n",
    "    def is_orthogonal(self,other):\n",
    "        slope = lambda p1,p2 : (p2[1]-p1[1])/(p2[0]-p1[0])\n",
    "        p1=self.points.pop()\n",
    "        p2=self.points.pop()\n",
    "        m1=slope(p1,p2)\n",
    "        p3=other.points.pop()\n",
    "        p4=other.points.pop()\n",
    "        m2=slope(p3,p4)\n",
    "        return m1==(-1.0/m2)\n",
    "            \n",
    "\n",
    "    \n",
    "l1=Line((0,0),(1,1))\n",
    "l2=Line((1,1),(0,0))\n",
    "l3=Line((0,1),(1,0))\n",
    "\n",
    "print l1==l2\n",
    "\n",
    "print l1.is_orthogonal(l3)"
   ]
  },
  {
   "cell_type": "markdown",
   "metadata": {},
   "source": [
    "# Tarea 2\n",
    "\n",
    "Considere todas lineas que pasan por los puntos en $I=\\{0,1,2,\\ldots,10\\}$, tal que cada linea une un punto $(a,b)$ con otro punto $(c,d)$ tal que $a,b,c,d \\in I$.\n",
    "\n",
    "   1. Defina una relación $\\rho_1$ sobre lineas tal que $l_1 \\perp l_2$ para todas las lineas $(l_1,l_2)$ en $\\rho_1$ y $l_i \\in \\mathbb R^2$.\n",
    "   2. Defina una relación $\\rho_2$ sobre lineas tal que $l_1 \\parallel l_2$ para todas las lineas $(l_1,l_2)$ en $\\rho_2$ y $l_i \\in \\mathbb R^2$.\n",
    "   3. Implemente una función para revisar reflexividad, simetría y transitividad sobre $\\rho_1$ y $\\rho_2$"
   ]
  },
  {
   "cell_type": "code",
   "execution_count": null,
   "metadata": {},
   "outputs": [],
   "source": []
  },
  {
   "cell_type": "code",
   "execution_count": null,
   "metadata": {},
   "outputs": [],
   "source": []
  }
 ],
 "metadata": {
  "kernelspec": {
   "display_name": "Python 2",
   "language": "python",
   "name": "python2"
  },
  "language_info": {
   "codemirror_mode": {
    "name": "ipython",
    "version": 3
   },
   "file_extension": ".py",
   "mimetype": "text/x-python",
   "name": "python",
   "nbconvert_exporter": "python",
   "pygments_lexer": "ipython3",
   "version": "3.6.7"
  }
 },
 "nbformat": 4,
 "nbformat_minor": 2
}
