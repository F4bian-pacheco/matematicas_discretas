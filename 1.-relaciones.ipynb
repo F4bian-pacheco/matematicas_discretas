{
 "cells": [
  {
   "cell_type": "markdown",
   "metadata": {
    "id": "6o3I5Xesjg6B"
   },
   "source": [
    "# Relaciones\n",
    "\n",
    "Sean los conjuntos $X$ e $Y$. Cualquier subconjunto $R \\subseteq X \\times X$ se dice relación de x {\\displaystyle x} x sobre y {\\displaystyle y} y. Por tanto, una relación es un conjunto de pares ordenados, de modo que toda función f : x ⟶ y {\\displaystyle f:x\\longrightarrow y} {\\displaystyle f:x\\longrightarrow y} es una relación, si bien lo recíproco no es necesariamente cierto, pues puede una relación no cumplir (f-1) o (f-2) (o ambas) de 1.7.1 . De ésto, resulta conveniente adoptar una notación diferente a la que se usó con las funciones para expresar el hecho de que ( a , b ) ∈ R {\\displaystyle (a,b)\\in \\mathrm {R} } {\\displaystyle (a,b)\\in \\mathrm {R} }. Así pues, escribiremos\n"
   ]
  },
  {
   "cell_type": "code",
   "execution_count": 217,
   "metadata": {
    "id": "wY3lGT3Ijg6G"
   },
   "outputs": [],
   "source": [
    "X={'a','b','c','d'}\n",
    "\n",
    "R={('a','b'),('b','c'),\n",
    "   ('c','a'),('a','a'),\n",
    "   ('b','b'),('c','c'),\n",
    "   ('b','a'),('c','b'),('c','d'),('d','c'),\n",
    "   ('a','c'),('d','a'),('a','d'),('d','d')}\n"
   ]
  },
  {
   "cell_type": "code",
   "execution_count": 218,
   "metadata": {
    "id": "bZMUp-Hbjg6H"
   },
   "outputs": [],
   "source": [
    "producto_cartesiano = lambda X : {(a,b) for a in X for b in X}"
   ]
  },
  {
   "cell_type": "code",
   "execution_count": 219,
   "metadata": {
    "id": "xp54wW8pjg6H",
    "outputId": "ac54db13-ce0f-4b58-9609-a9213968ea64"
   },
   "outputs": [
    {
     "name": "stdout",
     "output_type": "stream",
     "text": [
      "{('c', 'b'), ('b', 'c'), ('d', 'a'), ('b', 'b'), ('c', 'c'), ('c', 'd'), ('b', 'd'), ('d', 'd'), ('a', 'c'), ('c', 'a'), ('d', 'b'), ('b', 'a'), ('a', 'd'), ('d', 'c'), ('a', 'b'), ('a', 'a')}\n",
      "True\n"
     ]
    }
   ],
   "source": [
    "G=producto_cartesiano(X)\n",
    "\n",
    "print(G)\n",
    "print(R.issubset(G))\n"
   ]
  },
  {
   "cell_type": "code",
   "execution_count": 220,
   "metadata": {
    "id": "7zKuOrIWjg6J",
    "outputId": "b0de89e7-9a17-45bb-9137-ef2cf39c6327"
   },
   "outputs": [
    {
     "data": {
      "text/plain": [
       "16"
      ]
     },
     "execution_count": 220,
     "metadata": {},
     "output_type": "execute_result"
    }
   ],
   "source": [
    "len(G)"
   ]
  },
  {
   "cell_type": "code",
   "execution_count": 221,
   "metadata": {
    "id": "W8PWM2Vrjg6J"
   },
   "outputs": [],
   "source": [
    "reflexiva = lambda R :{a for (a,b) in R if a==b} == {a for (a,b) in R} | {b for (a,b) in R}\n",
    "\n",
    "simetrica = lambda R :{(b,a) for (a,b) in R if a!=b}.issubset(R)\n",
    "\n",
    "transitiva = lambda R : {(a,d) for (a,b) in R for (c,d) in R if b==c and a!=d}.issubset(R)"
   ]
  },
  {
   "cell_type": "code",
   "execution_count": 6,
   "metadata": {
    "id": "rDbOl0-Bjg6J",
    "outputId": "4c49eb17-f678-4c02-f350-dcf70a737755",
    "scrolled": true
   },
   "outputs": [
    {
     "name": "stdout",
     "output_type": "stream",
     "text": [
      "{('c', 'b'), ('b', 'c'), ('d', 'a'), ('b', 'b'), ('c', 'c'), ('c', 'd'), ('b', 'd'), ('d', 'd'), ('a', 'c'), ('c', 'a'), ('d', 'b'), ('b', 'a'), ('a', 'd'), ('d', 'c'), ('a', 'b'), ('a', 'a')}\n",
      "simetrica: True\n"
     ]
    }
   ],
   "source": [
    "print(G)\n",
    "print('simetrica:',simetrica(G))"
   ]
  },
  {
   "cell_type": "code",
   "execution_count": 7,
   "metadata": {
    "id": "m1f3j9mojg6K",
    "outputId": "17d2bfad-9820-44dc-a167-076c2b6f9eb8"
   },
   "outputs": [
    {
     "data": {
      "text/plain": [
       "True"
      ]
     },
     "execution_count": 7,
     "metadata": {},
     "output_type": "execute_result"
    }
   ],
   "source": [
    "transitiva(G)"
   ]
  },
  {
   "cell_type": "markdown",
   "metadata": {
    "id": "k9ugUr7Ljg6K"
   },
   "source": [
    "# Tarea 1\n",
    "\n",
    "    1. Extender el producto cartesiano de dos conjuntos hacia 3 conjuntos\n",
    "    2. Extender las funciones para chequear relaciones binarias a 3-arias"
   ]
  },
  {
   "cell_type": "code",
   "execution_count": 271,
   "metadata": {
    "colab": {
     "base_uri": "https://localhost:8080/"
    },
    "id": "Fpkpv3Gdjg6L",
    "outputId": "ce1f10f5-2afc-4bfa-d4a0-acb8f5c41990"
   },
   "outputs": [
    {
     "name": "stdout",
     "output_type": "stream",
     "text": [
      "True\n",
      "True\n",
      "True\n"
     ]
    }
   ],
   "source": [
    "class Line:\n",
    "    def __init__(self, _p1, _p2):\n",
    "        self.points = {_p1,_p2}\n",
    "        \n",
    "    def __hash__ ( self ):\n",
    "        id=0\n",
    "        for point in self.points:\n",
    "            id+=hash(point)\n",
    "        return id\n",
    "    \n",
    "    def __eq__ ( self , other ):\n",
    "        return self.points==other.points \n",
    "\n",
    "    def slope(self):\n",
    "        p1=list(self.points)[0]\n",
    "        p2=list(self.points)[1]\n",
    "        if (p2[0]-p1[0])==0:\n",
    "            return 0\n",
    "        elif (p2[1]-p1[1])==0:\n",
    "            return 1\n",
    "        else:\n",
    "            return (p2[1]-p1[1])/(p2[0]-p1[0])\n",
    "        \n",
    "    def intercept(self):\n",
    "        m=self.slope()\n",
    "        p1=list(self.points)[0]\n",
    "        return p1[1] - m * p1[0]\n",
    "\n",
    "    def is_orthogonal(self,other):\n",
    "        m1=self.slope()\n",
    "        m2=other.slope()\n",
    "        if m1!=m2:\n",
    "            return m1*m2==-1.\n",
    "        else:\n",
    "            return False\n",
    "\n",
    "    def is_parallel(self,other):\n",
    "        m1=self.slope()\n",
    "        m2=other.slope()\n",
    "        return m1==m2        \n",
    "    \n",
    "    def __str__(self):\n",
    "        return str(self.points) \n",
    "    \n",
    "    def __repr__(self):\n",
    "        return str(self.points) \n",
    "    \n",
    "l1=Line((0,0),(1,1))\n",
    "l2=Line((1,1),(0,0))\n",
    "l3=Line((0,1),(1,0))\n",
    "\n",
    "print(l1==l2)\n",
    "\n",
    "print(l1.is_orthogonal(l3))\n",
    "\n",
    "l4=Line((1,1),(2,2))\n",
    "print(l1.is_parallel(l4))"
   ]
  },
  {
   "cell_type": "code",
   "execution_count": 223,
   "metadata": {},
   "outputs": [
    {
     "data": {
      "text/plain": [
       "1"
      ]
     },
     "execution_count": 223,
     "metadata": {},
     "output_type": "execute_result"
    }
   ],
   "source": [
    "l2.slope()"
   ]
  },
  {
   "cell_type": "code",
   "execution_count": 225,
   "metadata": {},
   "outputs": [
    {
     "data": {
      "text/plain": [
       "1"
      ]
     },
     "execution_count": 225,
     "metadata": {},
     "output_type": "execute_result"
    }
   ],
   "source": [
    "l1.slope()"
   ]
  },
  {
   "cell_type": "code",
   "execution_count": 226,
   "metadata": {
    "colab": {
     "base_uri": "https://localhost:8080/"
    },
    "id": "u4jlJRpHyGZi",
    "outputId": "42612f68-8c46-462e-a40b-cca98e302a83"
   },
   "outputs": [
    {
     "data": {
      "text/plain": [
       "7426162181343821312"
      ]
     },
     "execution_count": 226,
     "metadata": {},
     "output_type": "execute_result"
    }
   ],
   "source": [
    "hash(l1)"
   ]
  },
  {
   "cell_type": "code",
   "execution_count": 227,
   "metadata": {
    "colab": {
     "base_uri": "https://localhost:8080/"
    },
    "id": "6yInky1o-oN7",
    "outputId": "dec50c52-91ce-4942-d924-3cd088e339fa"
   },
   "outputs": [
    {
     "data": {
      "text/plain": [
       "7426162181343821312"
      ]
     },
     "execution_count": 227,
     "metadata": {},
     "output_type": "execute_result"
    }
   ],
   "source": [
    "hash(l2)"
   ]
  },
  {
   "cell_type": "code",
   "execution_count": 228,
   "metadata": {},
   "outputs": [
    {
     "data": {
      "text/plain": [
       "{(0, 0), (1, 1)}"
      ]
     },
     "execution_count": 228,
     "metadata": {},
     "output_type": "execute_result"
    }
   ],
   "source": [
    "l1"
   ]
  },
  {
   "cell_type": "code",
   "execution_count": 229,
   "metadata": {},
   "outputs": [
    {
     "data": {
      "text/plain": [
       "{(0, 0), (1, 1)}"
      ]
     },
     "execution_count": 229,
     "metadata": {},
     "output_type": "execute_result"
    }
   ],
   "source": [
    "l2"
   ]
  },
  {
   "cell_type": "markdown",
   "metadata": {
    "id": "Ie4k1Ifjjg6L"
   },
   "source": [
    "# Tarea 2\n",
    "\n",
    "Considere todas lineas que pasan por los puntos en $I=\\{0,1,2,\\ldots,10\\}$, tal que cada linea une un punto $(a,b)$ con otro punto $(c,d)$ tal que $a,b,c,d \\in I$.\n",
    "\n",
    "   1. Defina una relación $\\rho_1$ sobre lineas tal que $l_1 \\perp l_2$ para todas las lineas $(l_1,l_2)$ en $\\rho_1$ y $l_i \\in \\mathbb R^2$.\n",
    "   2. Defina una relación $\\rho_2$ sobre lineas tal que $l_1 \\parallel l_2$ para todas las lineas $(l_1,l_2)$ en $\\rho_2$ y $l_i \\in \\mathbb R^2$.\n",
    "   3. Implemente una función para revisar reflexividad, simetría y transitividad sobre $\\rho_1$ y $\\rho_2$"
   ]
  },
  {
   "cell_type": "code",
   "execution_count": 272,
   "metadata": {
    "id": "Fy8IUoTJjg6M"
   },
   "outputs": [],
   "source": [
    "I=set({0,1})"
   ]
  },
  {
   "cell_type": "code",
   "execution_count": 273,
   "metadata": {
    "id": "Y_Pm9wuxjg6M"
   },
   "outputs": [],
   "source": [
    "points={(x,y) for x in I for y in I}"
   ]
  },
  {
   "cell_type": "code",
   "execution_count": 274,
   "metadata": {},
   "outputs": [],
   "source": [
    "#points"
   ]
  },
  {
   "cell_type": "code",
   "execution_count": 275,
   "metadata": {
    "id": "XiB0LcgAmnxJ"
   },
   "outputs": [],
   "source": [
    "lines={Line(p1,p2) for p1 in points for p2 in points if p1!=p2}"
   ]
  },
  {
   "cell_type": "code",
   "execution_count": 276,
   "metadata": {},
   "outputs": [
    {
     "data": {
      "text/plain": [
       "{{(0, 0), (1, 1)},\n",
       " {(0, 1), (0, 0)},\n",
       " {(0, 1), (1, 0)},\n",
       " {(0, 1), (1, 1)},\n",
       " {(1, 0), (0, 0)},\n",
       " {(1, 0), (1, 1)}}"
      ]
     },
     "execution_count": 276,
     "metadata": {},
     "output_type": "execute_result"
    }
   ],
   "source": [
    "lines"
   ]
  },
  {
   "cell_type": "code",
   "execution_count": 277,
   "metadata": {},
   "outputs": [
    {
     "data": {
      "text/plain": [
       "6"
      ]
     },
     "execution_count": 277,
     "metadata": {},
     "output_type": "execute_result"
    }
   ],
   "source": [
    "len(lines)"
   ]
  },
  {
   "cell_type": "code",
   "execution_count": 278,
   "metadata": {},
   "outputs": [
    {
     "name": "stdout",
     "output_type": "stream",
     "text": [
      "6\n"
     ]
    }
   ],
   "source": [
    "n=len(points)\n",
    "\n",
    "j=0\n",
    "for i in range(1,n):\n",
    "    j=j+i\n",
    "print(j)"
   ]
  },
  {
   "cell_type": "code",
   "execution_count": 279,
   "metadata": {
    "id": "tCkOnu12zP4s"
   },
   "outputs": [],
   "source": [
    "parallel={(l1,l2) for l1 in lines for l2 in lines if l1.is_parallel(l2)}"
   ]
  },
  {
   "cell_type": "code",
   "execution_count": 280,
   "metadata": {
    "id": "gnIha2xE1dqB"
   },
   "outputs": [],
   "source": [
    "producto_cartesiano_lineas={(l1,l2) for l1 in lines for l2 in lines}"
   ]
  },
  {
   "cell_type": "code",
   "execution_count": 281,
   "metadata": {},
   "outputs": [
    {
     "data": {
      "text/plain": [
       "36"
      ]
     },
     "execution_count": 281,
     "metadata": {},
     "output_type": "execute_result"
    }
   ],
   "source": [
    "len(producto_cartesiano_lineas)"
   ]
  },
  {
   "cell_type": "code",
   "execution_count": 283,
   "metadata": {
    "colab": {
     "base_uri": "https://localhost:8080/"
    },
    "id": "sitS_FYS5oLb",
    "outputId": "d35cec2f-ac83-4850-9612-006de6040138"
   },
   "outputs": [
    {
     "data": {
      "text/plain": [
       "True"
      ]
     },
     "execution_count": 283,
     "metadata": {},
     "output_type": "execute_result"
    }
   ],
   "source": [
    "parallel.issubset(producto_cartesiano_lineas)"
   ]
  },
  {
   "cell_type": "code",
   "execution_count": 284,
   "metadata": {},
   "outputs": [
    {
     "data": {
      "text/plain": [
       "14"
      ]
     },
     "execution_count": 284,
     "metadata": {},
     "output_type": "execute_result"
    }
   ],
   "source": [
    "len(parallel)"
   ]
  },
  {
   "cell_type": "code",
   "execution_count": 285,
   "metadata": {},
   "outputs": [
    {
     "data": {
      "text/plain": [
       "{({(0, 0), (1, 1)}, {(0, 0), (1, 1)}),\n",
       " ({(0, 0), (1, 1)}, {(0, 1), (1, 1)}),\n",
       " ({(0, 0), (1, 1)}, {(1, 0), (0, 0)}),\n",
       " ({(0, 1), (0, 0)}, {(0, 1), (0, 0)}),\n",
       " ({(0, 1), (0, 0)}, {(1, 0), (1, 1)}),\n",
       " ({(0, 1), (1, 0)}, {(0, 1), (1, 0)}),\n",
       " ({(0, 1), (1, 1)}, {(0, 0), (1, 1)}),\n",
       " ({(0, 1), (1, 1)}, {(0, 1), (1, 1)}),\n",
       " ({(0, 1), (1, 1)}, {(1, 0), (0, 0)}),\n",
       " ({(1, 0), (0, 0)}, {(0, 0), (1, 1)}),\n",
       " ({(1, 0), (0, 0)}, {(0, 1), (1, 1)}),\n",
       " ({(1, 0), (0, 0)}, {(1, 0), (0, 0)}),\n",
       " ({(1, 0), (1, 1)}, {(0, 1), (0, 0)}),\n",
       " ({(1, 0), (1, 1)}, {(1, 0), (1, 1)})}"
      ]
     },
     "execution_count": 285,
     "metadata": {},
     "output_type": "execute_result"
    }
   ],
   "source": [
    "parallel"
   ]
  },
  {
   "cell_type": "code",
   "execution_count": 288,
   "metadata": {
    "colab": {
     "base_uri": "https://localhost:8080/"
    },
    "id": "zQ7Qk7WU2cAe",
    "outputId": "ff4d2ae9-342b-4454-86ca-61422f388eb3"
   },
   "outputs": [
    {
     "data": {
      "image/png": "[encoded data removed]",
      "text/plain": [
       "<Figure size 432x288 with 1 Axes>"
      ]
     },
     "metadata": {},
     "output_type": "display_data"
    }
   ],
   "source": [
    "l1=Line((0, 1), (1, 1))\n",
    "l2=Line((0, 0), (1, 1))\n",
    "p1=list(l1.points)[0]\n",
    "p2=list(l1.points)[1]\n",
    "plt.plot([p1[0],p2[0]],[p1[1],p2[1]])\n",
    "p3=list(l2.points)[0]\n",
    "p4=list(l2.points)[1]\n",
    "plt.plot([p3[0],p4[0]],[p3[1],p4[1]])\n",
    "plt.show()"
   ]
  },
  {
   "cell_type": "code",
   "execution_count": null,
   "metadata": {},
   "outputs": [],
   "source": []
  },
  {
   "cell_type": "code",
   "execution_count": 289,
   "metadata": {
    "colab": {
     "base_uri": "https://localhost:8080/"
    },
    "id": "o4MVMOT82yi6",
    "outputId": "d9b74910-4e2f-4152-a8c5-fc9a8aeae839"
   },
   "outputs": [
    {
     "data": {
      "text/plain": [
       "True"
      ]
     },
     "execution_count": 289,
     "metadata": {},
     "output_type": "execute_result"
    }
   ],
   "source": [
    "l1.is_parallel(l2)"
   ]
  },
  {
   "cell_type": "code",
   "execution_count": 290,
   "metadata": {},
   "outputs": [
    {
     "data": {
      "text/plain": [
       "False"
      ]
     },
     "execution_count": 290,
     "metadata": {},
     "output_type": "execute_result"
    }
   ],
   "source": [
    "l1.is_orthogonal(l2)"
   ]
  },
  {
   "cell_type": "code",
   "execution_count": 291,
   "metadata": {},
   "outputs": [
    {
     "data": {
      "text/plain": [
       "1"
      ]
     },
     "execution_count": 291,
     "metadata": {},
     "output_type": "execute_result"
    }
   ],
   "source": [
    "l1.slope()"
   ]
  },
  {
   "cell_type": "code",
   "execution_count": 292,
   "metadata": {},
   "outputs": [
    {
     "data": {
      "text/plain": [
       "1.0"
      ]
     },
     "execution_count": 292,
     "metadata": {},
     "output_type": "execute_result"
    }
   ],
   "source": [
    "l2.slope()"
   ]
  },
  {
   "cell_type": "code",
   "execution_count": null,
   "metadata": {},
   "outputs": [],
   "source": []
  }
 ],
 "metadata": {
  "colab": {
   "name": "1.-relaciones.ipynb",
   "provenance": []
  },
  "kernelspec": {
   "display_name": "Python 3",
   "language": "python",
   "name": "python3"
  },
  "language_info": {
   "codemirror_mode": {
    "name": "ipython",
    "version": 3
   },
   "file_extension": ".py",
   "mimetype": "text/x-python",
   "name": "python",
   "nbconvert_exporter": "python",
   "pygments_lexer": "ipython3",
   "version": "3.6.9"
  }
 },
 "nbformat": 4,
 "nbformat_minor": 1
}
