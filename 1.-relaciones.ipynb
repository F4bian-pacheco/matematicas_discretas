{
  "nbformat": 4,
  "nbformat_minor": 0,
  "metadata": {
    "kernelspec": {
      "display_name": "Python 3",
      "language": "python",
      "name": "python3"
    },
    "language_info": {
      "codemirror_mode": {
        "name": "ipython",
        "version": 3
      },
      "file_extension": ".py",
      "mimetype": "text/x-python",
      "name": "python",
      "nbconvert_exporter": "python",
      "pygments_lexer": "ipython3",
      "version": "3.6.9"
    },
    "colab": {
      "name": "1.-relaciones.ipynb",
      "provenance": []
    }
  },
  "cells": [
    {
      "cell_type": "markdown",
      "metadata": {
        "id": "6o3I5Xesjg6B"
      },
      "source": [
        "# Relaciones\n",
        "\n",
        "Sean los conjuntos $X$ e $Y$. Cualquier subconjunto $R \\subseteq X \\times X$ se dice relación de x {\\displaystyle x} x sobre y {\\displaystyle y} y. Por tanto, una relación es un conjunto de pares ordenados, de modo que toda función f : x ⟶ y {\\displaystyle f:x\\longrightarrow y} {\\displaystyle f:x\\longrightarrow y} es una relación, si bien lo recíproco no es necesariamente cierto, pues puede una relación no cumplir (f-1) o (f-2) (o ambas) de 1.7.1 . De ésto, resulta conveniente adoptar una notación diferente a la que se usó con las funciones para expresar el hecho de que ( a , b ) ∈ R {\\displaystyle (a,b)\\in \\mathrm {R} } {\\displaystyle (a,b)\\in \\mathrm {R} }. Así pues, escribiremos\n"
      ]
    },
    {
      "cell_type": "code",
      "metadata": {
        "id": "wY3lGT3Ijg6G"
      },
      "source": [
        "X={'a','b','c','d'}\n",
        "\n",
        "R={('a','b'),('b','c'),\n",
        "   ('c','a'),('a','a'),\n",
        "   ('b','b'),('c','c'),\n",
        "   ('b','a'),('c','b'),('c','d'),('d','c'),\n",
        "   ('a','c'),('d','a'),('a','d'),('d','d')}\n"
      ],
      "execution_count": 37,
      "outputs": []
    },
    {
      "cell_type": "code",
      "metadata": {
        "id": "bZMUp-Hbjg6H"
      },
      "source": [
        "producto_cartesiano = lambda X : {(a,b) for a in X for b in X}"
      ],
      "execution_count": 70,
      "outputs": []
    },
    {
      "cell_type": "code",
      "metadata": {
        "id": "xp54wW8pjg6H",
        "outputId": "ac54db13-ce0f-4b58-9609-a9213968ea64"
      },
      "source": [
        "G=producto_cartesiano(X)\n",
        "\n",
        "print(G)\n",
        "print(R.issubset(G))\n"
      ],
      "execution_count": null,
      "outputs": [
        {
          "output_type": "stream",
          "text": [
            "{('d', 'c'), ('b', 'c'), ('c', 'b'), ('c', 'c'), ('b', 'd'), ('d', 'a'), ('d', 'b'), ('b', 'b'), ('b', 'a'), ('c', 'd'), ('c', 'a'), ('a', 'a'), ('a', 'c'), ('a', 'b'), ('a', 'd'), ('d', 'd')}\n",
            "True\n"
          ],
          "name": "stdout"
        }
      ]
    },
    {
      "cell_type": "code",
      "metadata": {
        "id": "7zKuOrIWjg6J",
        "outputId": "b0de89e7-9a17-45bb-9137-ef2cf39c6327"
      },
      "source": [
        "len(G)"
      ],
      "execution_count": null,
      "outputs": [
        {
          "output_type": "execute_result",
          "data": {
            "text/plain": [
              "16"
            ]
          },
          "metadata": {
            "tags": []
          },
          "execution_count": 4
        }
      ]
    },
    {
      "cell_type": "code",
      "metadata": {
        "id": "W8PWM2Vrjg6J"
      },
      "source": [
        "reflexiva = lambda R :{a for (a,b) in R if a==b} == {a for (a,b) in R} | {b for (a,b) in R}\n",
        "\n",
        "simetrica = lambda R :{(b,a) for (a,b) in R if a!=b}.issubset(R)\n",
        "\n",
        "transitiva = lambda R : {(a,d) for (a,b) in R for (c,d) in R if b==c and a!=d}.issubset(R)"
      ],
      "execution_count": 161,
      "outputs": []
    },
    {
      "cell_type": "code",
      "metadata": {
        "scrolled": true,
        "id": "rDbOl0-Bjg6J",
        "outputId": "4c49eb17-f678-4c02-f350-dcf70a737755"
      },
      "source": [
        "print(G)\n",
        "print('simetrica:',simetrica(G))"
      ],
      "execution_count": null,
      "outputs": [
        {
          "output_type": "stream",
          "text": [
            "{('c', 'd'), ('b', 'a'), ('c', 'a'), ('b', 'd'), ('b', 'c'), ('d', 'a'), ('c', 'c'), ('d', 'd'), ('a', 'b'), ('a', 'd'), ('a', 'a'), ('d', 'c'), ('d', 'b'), ('c', 'b'), ('b', 'b'), ('a', 'c')}\n",
            "simetrica: True\n"
          ],
          "name": "stdout"
        }
      ]
    },
    {
      "cell_type": "code",
      "metadata": {
        "id": "m1f3j9mojg6K",
        "outputId": "17d2bfad-9820-44dc-a167-076c2b6f9eb8"
      },
      "source": [
        "transitiva(G)"
      ],
      "execution_count": null,
      "outputs": [
        {
          "output_type": "execute_result",
          "data": {
            "text/plain": [
              "True"
            ]
          },
          "metadata": {
            "tags": []
          },
          "execution_count": 7
        }
      ]
    },
    {
      "cell_type": "markdown",
      "metadata": {
        "id": "k9ugUr7Ljg6K"
      },
      "source": [
        "# Tarea 1\n",
        "\n",
        "    1. Extender el producto cartesiano de dos conjuntos hacia 3 conjuntos\n",
        "    2. Extender las funciones para chequear relaciones binarias a 3-arias"
      ]
    },
    {
      "cell_type": "code",
      "metadata": {
        "id": "Fpkpv3Gdjg6L",
        "outputId": "d53ebd11-04a5-41c7-affc-d2543cf60d85",
        "colab": {
          "base_uri": "https://localhost:8080/"
        }
      },
      "source": [
        "class Line:\n",
        "  def __init__(self, _p1, _p2):\n",
        "    self.points = {_p1,_p2}\n",
        "        \n",
        "  def __hash__ ( self ):\n",
        "    return hash(x+y for (x,y) in self.points)\n",
        "    \n",
        "  def __eq__ ( self , other ):\n",
        "    return self.points==other.points \n",
        "\n",
        "  def slope(self):\n",
        "    p1=list(self.points)[0]\n",
        "    p2=list(self.points)[1]\n",
        "    if (p2[0]-p1[0])==0:\n",
        "      return 0\n",
        "    else:\n",
        "      return (p2[1]-p1[1])/(p2[0]-p1[0])\n",
        "    \n",
        "  def is_orthogonal(self,other):\n",
        "    m1=self.slope()\n",
        "    m2=other.slope()\n",
        "    return m1==(-1.0/m2)\n",
        "  \n",
        "  def is_parallel(self,other):\n",
        "    m1=self.slope()\n",
        "    m2=other.slope()\n",
        "    return m1==m2          \n",
        "\n",
        "    \n",
        "l1=Line((0,0),(1,1))\n",
        "l2=Line((1,1),(0,0))\n",
        "l3=Line((0,1),(1,0))\n",
        "\n",
        "print(l1==l2)\n",
        "\n",
        "print(l1.is_orthogonal(l3))\n",
        "\n",
        "l4=Line((1,1),(2,2))\n",
        "print(l1.is_parallel(l4))"
      ],
      "execution_count": 108,
      "outputs": [
        {
          "output_type": "stream",
          "text": [
            "True\n",
            "True\n",
            "True\n"
          ],
          "name": "stdout"
        }
      ]
    },
    {
      "cell_type": "code",
      "metadata": {
        "id": "u4jlJRpHyGZi"
      },
      "source": [
        ""
      ],
      "execution_count": 109,
      "outputs": []
    },
    {
      "cell_type": "markdown",
      "metadata": {
        "id": "Ie4k1Ifjjg6L"
      },
      "source": [
        "# Tarea 2\n",
        "\n",
        "Considere todas lineas que pasan por los puntos en $I=\\{0,1,2,\\ldots,10\\}$, tal que cada linea une un punto $(a,b)$ con otro punto $(c,d)$ tal que $a,b,c,d \\in I$.\n",
        "\n",
        "   1. Defina una relación $\\rho_1$ sobre lineas tal que $l_1 \\perp l_2$ para todas las lineas $(l_1,l_2)$ en $\\rho_1$ y $l_i \\in \\mathbb R^2$.\n",
        "   2. Defina una relación $\\rho_2$ sobre lineas tal que $l_1 \\parallel l_2$ para todas las lineas $(l_1,l_2)$ en $\\rho_2$ y $l_i \\in \\mathbb R^2$.\n",
        "   3. Implemente una función para revisar reflexividad, simetría y transitividad sobre $\\rho_1$ y $\\rho_2$"
      ]
    },
    {
      "cell_type": "code",
      "metadata": {
        "id": "Fy8IUoTJjg6M"
      },
      "source": [
        "I=set({0,1,2,3})"
      ],
      "execution_count": 135,
      "outputs": []
    },
    {
      "cell_type": "code",
      "metadata": {
        "id": "Y_Pm9wuxjg6M"
      },
      "source": [
        "points={(x,y) for x in I for y in I}"
      ],
      "execution_count": 136,
      "outputs": []
    },
    {
      "cell_type": "code",
      "metadata": {
        "id": "_NVuidHOyYWQ",
        "outputId": "f445aa0b-39f7-4b2d-cf5b-aca246b44aa3",
        "colab": {
          "base_uri": "https://localhost:8080/"
        }
      },
      "source": [
        "len(points)"
      ],
      "execution_count": 137,
      "outputs": [
        {
          "output_type": "execute_result",
          "data": {
            "text/plain": [
              "16"
            ]
          },
          "metadata": {
            "tags": []
          },
          "execution_count": 137
        }
      ]
    },
    {
      "cell_type": "code",
      "metadata": {
        "id": "TJvmHadK0tQq",
        "outputId": "20bce544-17ed-43a3-ced8-7cefb6ee3a13",
        "colab": {
          "base_uri": "https://localhost:8080/"
        }
      },
      "source": [
        "points"
      ],
      "execution_count": 138,
      "outputs": [
        {
          "output_type": "execute_result",
          "data": {
            "text/plain": [
              "{(0, 0),\n",
              " (0, 1),\n",
              " (0, 2),\n",
              " (0, 3),\n",
              " (1, 0),\n",
              " (1, 1),\n",
              " (1, 2),\n",
              " (1, 3),\n",
              " (2, 0),\n",
              " (2, 1),\n",
              " (2, 2),\n",
              " (2, 3),\n",
              " (3, 0),\n",
              " (3, 1),\n",
              " (3, 2),\n",
              " (3, 3)}"
            ]
          },
          "metadata": {
            "tags": []
          },
          "execution_count": 138
        }
      ]
    },
    {
      "cell_type": "code",
      "metadata": {
        "id": "XiB0LcgAmnxJ"
      },
      "source": [
        "lines={Line(p1,p2) for p1 in points for p2 in points if p1!=p2}"
      ],
      "execution_count": 139,
      "outputs": []
    },
    {
      "cell_type": "code",
      "metadata": {
        "id": "C5JVx2Woytt5",
        "outputId": "9442bb01-d792-460f-d1ea-562f9dd86b03",
        "colab": {
          "base_uri": "https://localhost:8080/"
        }
      },
      "source": [
        "len(lines)"
      ],
      "execution_count": 140,
      "outputs": [
        {
          "output_type": "execute_result",
          "data": {
            "text/plain": [
              "120"
            ]
          },
          "metadata": {
            "tags": []
          },
          "execution_count": 140
        }
      ]
    },
    {
      "cell_type": "code",
      "metadata": {
        "id": "ZJ0wU930nMjm"
      },
      "source": [
        "l1=list(lines)[0]\n",
        "l2=list(lines)[1]"
      ],
      "execution_count": 141,
      "outputs": []
    },
    {
      "cell_type": "code",
      "metadata": {
        "id": "P1f1SuZbnSAJ",
        "outputId": "578ac272-7c4c-4c03-e390-f3901c134b86",
        "colab": {
          "base_uri": "https://localhost:8080/"
        }
      },
      "source": [
        "l1.points"
      ],
      "execution_count": 142,
      "outputs": [
        {
          "output_type": "execute_result",
          "data": {
            "text/plain": [
              "{(2, 2), (2, 3)}"
            ]
          },
          "metadata": {
            "tags": []
          },
          "execution_count": 142
        }
      ]
    },
    {
      "cell_type": "code",
      "metadata": {
        "id": "BVyWEy4xnlxu",
        "outputId": "d77776fe-f13c-4362-b6c1-eb721dc38167",
        "colab": {
          "base_uri": "https://localhost:8080/"
        }
      },
      "source": [
        "l2.points"
      ],
      "execution_count": 143,
      "outputs": [
        {
          "output_type": "execute_result",
          "data": {
            "text/plain": [
              "{(1, 0), (2, 3)}"
            ]
          },
          "metadata": {
            "tags": []
          },
          "execution_count": 143
        }
      ]
    },
    {
      "cell_type": "code",
      "metadata": {
        "id": "JZ8Y413qno8Y",
        "outputId": "506d5157-e977-41cf-8bbb-afe7dd056ecc",
        "colab": {
          "base_uri": "https://localhost:8080/"
        }
      },
      "source": [
        "l1.is_parallel(l2)"
      ],
      "execution_count": 144,
      "outputs": [
        {
          "output_type": "execute_result",
          "data": {
            "text/plain": [
              "False"
            ]
          },
          "metadata": {
            "tags": []
          },
          "execution_count": 144
        }
      ]
    },
    {
      "cell_type": "code",
      "metadata": {
        "id": "UnEiBIz9y-yG",
        "outputId": "ac7953c4-7449-4c67-ffdb-cc62b6c5111b",
        "colab": {
          "base_uri": "https://localhost:8080/"
        }
      },
      "source": [
        "l1.is_orthogonal(l2)"
      ],
      "execution_count": 145,
      "outputs": [
        {
          "output_type": "execute_result",
          "data": {
            "text/plain": [
              "False"
            ]
          },
          "metadata": {
            "tags": []
          },
          "execution_count": 145
        }
      ]
    },
    {
      "cell_type": "code",
      "metadata": {
        "id": "tCkOnu12zP4s"
      },
      "source": [
        "parallel={(l1,l2) for l1 in lines for l2 in lines if l1.is_parallel(l2)}"
      ],
      "execution_count": 146,
      "outputs": []
    },
    {
      "cell_type": "code",
      "metadata": {
        "id": "gnIha2xE1dqB"
      },
      "source": [
        "producto_cartesiano_lineas={(l1,l2) for l1 in lines for l2 in lines}"
      ],
      "execution_count": 148,
      "outputs": []
    },
    {
      "cell_type": "code",
      "metadata": {
        "id": "jwuvoh4G1pJY",
        "outputId": "162c019c-0d57-43e8-8add-58fe2ba8327e",
        "colab": {
          "base_uri": "https://localhost:8080/"
        }
      },
      "source": [
        "len(producto_cartesiano_lineas)"
      ],
      "execution_count": 151,
      "outputs": [
        {
          "output_type": "execute_result",
          "data": {
            "text/plain": [
              "14400"
            ]
          },
          "metadata": {
            "tags": []
          },
          "execution_count": 151
        }
      ]
    },
    {
      "cell_type": "code",
      "metadata": {
        "id": "qywTWQpr14JY",
        "outputId": "4b3f402a-cbbe-4378-852c-1bdb8eda24cb",
        "colab": {
          "base_uri": "https://localhost:8080/"
        }
      },
      "source": [
        "len(parallel)"
      ],
      "execution_count": 152,
      "outputs": [
        {
          "output_type": "execute_result",
          "data": {
            "text/plain": [
              "2892"
            ]
          },
          "metadata": {
            "tags": []
          },
          "execution_count": 152
        }
      ]
    },
    {
      "cell_type": "code",
      "metadata": {
        "id": "D--7JIqk17aP"
      },
      "source": [
        "l1,l2=list(parallel)[1]"
      ],
      "execution_count": 157,
      "outputs": []
    },
    {
      "cell_type": "code",
      "metadata": {
        "id": "CF3i05FR2AiH",
        "outputId": "31cff317-e3ce-4793-b743-495444715bde",
        "colab": {
          "base_uri": "https://localhost:8080/"
        }
      },
      "source": [
        "l1.points"
      ],
      "execution_count": 158,
      "outputs": [
        {
          "output_type": "execute_result",
          "data": {
            "text/plain": [
              "{(0, 1), (1, 1)}"
            ]
          },
          "metadata": {
            "tags": []
          },
          "execution_count": 158
        }
      ]
    },
    {
      "cell_type": "code",
      "metadata": {
        "id": "zwuFAGbl2CMt",
        "outputId": "54a4aa9c-a849-43ea-e970-f44c37a9c3b9",
        "colab": {
          "base_uri": "https://localhost:8080/"
        }
      },
      "source": [
        "l2.points"
      ],
      "execution_count": 159,
      "outputs": [
        {
          "output_type": "execute_result",
          "data": {
            "text/plain": [
              "{(0, 2), (2, 2)}"
            ]
          },
          "metadata": {
            "tags": []
          },
          "execution_count": 159
        }
      ]
    },
    {
      "cell_type": "code",
      "metadata": {
        "id": "uZB_6CB82ECC",
        "outputId": "b962dbb0-7b68-415e-b1a1-60b9d62719ab",
        "colab": {
          "base_uri": "https://localhost:8080/"
        }
      },
      "source": [
        "l1.is_parallel(l2)"
      ],
      "execution_count": 160,
      "outputs": [
        {
          "output_type": "execute_result",
          "data": {
            "text/plain": [
              "True"
            ]
          },
          "metadata": {
            "tags": []
          },
          "execution_count": 160
        }
      ]
    },
    {
      "cell_type": "code",
      "metadata": {
        "id": "zQ7Qk7WU2cAe",
        "outputId": "52ec11ec-8c5d-40e5-d780-e30ab219831f",
        "colab": {
          "base_uri": "https://localhost:8080/"
        }
      },
      "source": [
        "reflexiva(parallel)"
      ],
      "execution_count": 162,
      "outputs": [
        {
          "output_type": "execute_result",
          "data": {
            "text/plain": [
              "True"
            ]
          },
          "metadata": {
            "tags": []
          },
          "execution_count": 162
        }
      ]
    },
    {
      "cell_type": "code",
      "metadata": {
        "id": "o4MVMOT82yi6",
        "outputId": "44eb0858-8c9d-4637-881c-d7c4e7cd01fc",
        "colab": {
          "base_uri": "https://localhost:8080/"
        }
      },
      "source": [
        "simetrica(parallel)"
      ],
      "execution_count": 163,
      "outputs": [
        {
          "output_type": "execute_result",
          "data": {
            "text/plain": [
              "False"
            ]
          },
          "metadata": {
            "tags": []
          },
          "execution_count": 163
        }
      ]
    },
    {
      "cell_type": "code",
      "metadata": {
        "id": "E7af7l6T2256",
        "outputId": "0d46b853-1573-4d94-fb48-f2eaf5244cc7",
        "colab": {
          "base_uri": "https://localhost:8080/"
        }
      },
      "source": [
        "transitiva(parallel)"
      ],
      "execution_count": 164,
      "outputs": [
        {
          "output_type": "execute_result",
          "data": {
            "text/plain": [
              "False"
            ]
          },
          "metadata": {
            "tags": []
          },
          "execution_count": 164
        }
      ]
    }
  ]
}