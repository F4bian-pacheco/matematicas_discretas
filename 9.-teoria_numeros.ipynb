{
 "cells": [
  {
   "cell_type": "markdown",
   "metadata": {},
   "source": [
    "# Teoria de Numeros\n",
    "\n",
    "Supongamos que se requiere trasmitir un mensaje codificado usando una\n",
    "función $f : D \\mapsto D$, donde $D = \\{A, B, C , . . . , Z\\}$. Dado que el alfabeto\n",
    "contiene 26 letras, podemos usar el siguiente metodo:\n",
    "\n",
    "\\begin{align}\n",
    "f(p) = (p + k) \\operatorname{mod} 26\n",
    "\\end{align}\n",
    "\n",
    "Donde $p$ es la poisición del carácter que vamos a reemplazar y $0 < k < 25$"
   ]
  },
  {
   "cell_type": "code",
   "execution_count": 20,
   "metadata": {},
   "outputs": [],
   "source": [
    "import string\n",
    "\n",
    "\n",
    "def encrypt(msg,private_key):\n",
    "    enc_msg=''\n",
    "    SYMBOLS = 'ABCDEFGHIJKLMNOPQRSTUVWXYZabcdefghijklmnopqrstuvwxyz1234567890 !?.'\n",
    "    code={v:k for k,v in enumerate(SYMBOLS)}\n",
    "    reverse_code={k:v for k,v in enumerate(SYMBOLS)}\n",
    "    for i in range(len(msg)):\n",
    "        enc_msg+=reverse_code[(code[msg[i]]+private_key)%len(SYMBOLS)]\n",
    "    return enc_msg"
   ]
  },
  {
   "cell_type": "code",
   "execution_count": 21,
   "metadata": {},
   "outputs": [
    {
     "output_type": "execute_result",
     "data": {
      "text/plain": "'GEIWEVAGMTLIVAHIQS'"
     },
     "metadata": {},
     "execution_count": 21
    }
   ],
   "source": [
    "encrypt('CAESAR CIPHER DEMO',4)"
   ]
  },
  {
   "cell_type": "code",
   "execution_count": 22,
   "metadata": {},
   "outputs": [],
   "source": [
    "from secrets import token_bytes\n",
    "from typing import Tuple\n",
    "\n",
    "def random_key(length):\n",
    "    tb = token_bytes(length)\n",
    "    return int.from_bytes(tb, 'big')\n",
    ""
   ]
  },
  {
   "cell_type": "code",
   "execution_count": 23,
   "metadata": {},
   "outputs": [],
   "source": [
    "def encrypt_one_time(msg):\n",
    "    original_bytes = msg.encode()\n",
    "    dummy = random_key(len(original_bytes))\n",
    "    original_key = int.from_bytes(original_bytes, \"big\")\n",
    "    encrypted = original_key ^ dummy # XOR\n",
    "    return dummy, encrypted"
   ]
  },
  {
   "cell_type": "code",
   "execution_count": 24,
   "metadata": {},
   "outputs": [],
   "source": [
    "(key1,key2)=encrypt_one_time('CAESAR CIPHER DEMO')"
   ]
  },
  {
   "cell_type": "code",
   "execution_count": 25,
   "metadata": {},
   "outputs": [
    {
     "output_type": "execute_result",
     "data": {
      "text/plain": "20695742180578412380263572362706300621719964"
     },
     "metadata": {},
     "execution_count": 25
    }
   ],
   "source": [
    "key2"
   ]
  },
  {
   "cell_type": "code",
   "execution_count": 26,
   "metadata": {},
   "outputs": [],
   "source": [
    "def decrypt_one_time(key1, key2):\n",
    "    decrypted = key1 ^ key2 # XOR\n",
    "    temp= decrypted.to_bytes((decrypted.bit_length()+ 7) // 8, \"big\")\n",
    "    return temp.decode()"
   ]
  },
  {
   "cell_type": "code",
   "execution_count": 27,
   "metadata": {},
   "outputs": [
    {
     "output_type": "execute_result",
     "data": {
      "text/plain": "'CAESAR CIPHER DEMO'"
     },
     "metadata": {},
     "execution_count": 27
    }
   ],
   "source": [
    "decrypt_one_time(key1,key2)"
   ]
  },
  {
   "cell_type": "markdown",
   "metadata": {},
   "source": [
    "# Algoritmo RSA\n",
    "\n",
    "El cifrado RSA se basa en la factorizacion de numeros enteros. A\n",
    "diferencia del cifrado Cesar, RSA utiliza una llave publica $(e, n)$ y una privada $(d, n)$. \n",
    "\n",
    "Para codificar el mensaje m usamos la llave publica $e$ del receptor.\n",
    "\n",
    "\\begin{align}\n",
    "c \\equiv m^e  \\operatorname{mod} n\n",
    "\\end{align}\n",
    "\n",
    "Para decodificar el mensaje, usamos la llave privada $n$ del emisor.\n",
    "\n",
    "\\begin{align}\n",
    "m \\equiv c^d  \\operatorname{mod} n\n",
    "\\end{align}\n",
    "\n",
    "Los pasos para crear las llaves son:\n",
    "\n",
    "* Crear de manera aleatoria dos enteros primos de gran tamano : $p$ y $q$.\n",
    "* Multiplicar los enteros de manera de generar un numero compuesto $n$.\n",
    "* Crear de manera aleatoria un entero $e$, que sea relativamente primo con $(p–1) \\times (q–1)$. Es decir que el maximo divisor comun $\\operatorname{GCD}(e,(p–1) \\times (q–1))==1$\n",
    "* Calcular el inverso modular de $e$, el cual llamaremos $d$. "
   ]
  },
  {
   "cell_type": "code",
   "execution_count": 28,
   "metadata": {},
   "outputs": [
    {
     "output_type": "execute_result",
     "data": {
      "text/plain": "True"
     },
     "metadata": {},
     "execution_count": 28
    }
   ],
   "source": [
    "import math \n",
    "\n",
    "def isPrime(n):\n",
    "    if n<2:\n",
    "        return False\n",
    "    for i in range(2,int(math.sqrt(n)+1)):\n",
    "        if n % i == 0:\n",
    "            return False\n",
    "    return True\n",
    "\n",
    "isPrime(9)\n",
    "isPrime(11)"
   ]
  },
  {
   "cell_type": "code",
   "execution_count": 29,
   "metadata": {},
   "outputs": [
    {
     "output_type": "execute_result",
     "data": {
      "text/plain": "[2, 3, 5, 7, 11, 13, 17, 19]"
     },
     "metadata": {},
     "execution_count": 29
    }
   ],
   "source": [
    "getPrimes = lambda n : [n for n in range(n) if isPrime(n)]\n",
    "\n",
    "getPrimes(20)"
   ]
  },
  {
   "cell_type": "code",
   "execution_count": 30,
   "metadata": {},
   "outputs": [],
   "source": [
    "import random \n",
    "\n",
    "def generateLargePrime(keysize=1024):\n",
    "    num=0\n",
    "    while not isPrime(num):\n",
    "        num = random.randrange(2**(keysize-1), 2**(keysize))\n",
    "    return num"
   ]
  },
  {
   "cell_type": "code",
   "execution_count": 31,
   "metadata": {},
   "outputs": [],
   "source": [
    "def generate_composite(keysize):\n",
    "    # Creates public/private keys keySize bits in size.\n",
    "    p = 0\n",
    "    q = 0\n",
    "    print('Generating p,q primes...')\n",
    "    while p == q:\n",
    "        p = generateLargePrime(keysize)\n",
    "        q = generateLargePrime(keysize)\n",
    "        n = p * q\n",
    "    print('done!')\n",
    "    return n,p,q"
   ]
  },
  {
   "cell_type": "code",
   "execution_count": 32,
   "metadata": {},
   "outputs": [],
   "source": [
    "def gcd(x, y): \n",
    "   while(y): \n",
    "       x, y = y, x % y \n",
    "   return x \n",
    "\n",
    "def findModInverse(a, m):\n",
    "    if gcd(a, m) != 1:\n",
    "        return None # No mod inverse if a & m aren't relatively prime.\n",
    "    u1, u2, u3 = 1, 0, a\n",
    "    v1, v2, v3 = 0, 1, m\n",
    "    while v3 != 0:\n",
    "        q = u3 // v3 # Note that // is the integer division operator.\n",
    "        v1, v2, v3, u1, u2, u3 = (u1 - q * v1), (u2 - q * v2), (u3 - q * v3),v1, v2, v3\n",
    "    return u1 % m"
   ]
  },
  {
   "cell_type": "code",
   "execution_count": 33,
   "metadata": {},
   "outputs": [],
   "source": [
    "def generate_rsa(keysize):\n",
    "    n,p,q=generate_composite(keysize)\n",
    "    while True:\n",
    "        e = random.randrange(2**(keysize-1), 2**(keysize))\n",
    "        if gcd(e,(p-1)*(q-1))==1:\n",
    "            break\n",
    "    print('p:',p)\n",
    "    print('q:',q)\n",
    "    print('e:',e)\n",
    "    d = findModInverse(e, (p-1)*(q-1))\n",
    "    print('d:',d)\n",
    "    return (e,n),(d,n)"
   ]
  },
  {
   "cell_type": "code",
   "execution_count": 34,
   "metadata": {},
   "outputs": [
    {
     "output_type": "stream",
     "name": "stdout",
     "text": "Generating p,q primes...\ndone!\np: 966113\nq: 918433\ne: 811445\nd: 823815688349\n"
    }
   ],
   "source": [
    "public_key,private_key=generate_rsa(20)"
   ]
  },
  {
   "cell_type": "code",
   "execution_count": 35,
   "metadata": {},
   "outputs": [
    {
     "output_type": "execute_result",
     "data": {
      "text/plain": "(811445, 887310060929)"
     },
     "metadata": {},
     "execution_count": 35
    }
   ],
   "source": [
    "public_key"
   ]
  },
  {
   "cell_type": "code",
   "execution_count": 36,
   "metadata": {},
   "outputs": [
    {
     "output_type": "execute_result",
     "data": {
      "text/plain": "(823815688349, 887310060929)"
     },
     "metadata": {},
     "execution_count": 36
    }
   ],
   "source": [
    "private_key"
   ]
  },
  {
   "cell_type": "code",
   "execution_count": 37,
   "metadata": {},
   "outputs": [
    {
     "output_type": "execute_result",
     "data": {
      "text/plain": "True"
     },
     "metadata": {},
     "execution_count": 37
    }
   ],
   "source": [
    "SYMBOLS = 'ABCDEFGHIJKLMNOPQRSTUVWXYZabcdefghijklmnopqrstuvwxyz1234567890 !?.'\n",
    "\n",
    "len(SYMBOLS)**169<2**1024"
   ]
  },
  {
   "cell_type": "code",
   "execution_count": null,
   "metadata": {},
   "outputs": [],
   "source": []
  }
 ],
 "metadata": {
  "kernelspec": {
   "display_name": "Python 3.7.7 64-bit ('venv': venv)",
   "language": "python",
   "name": "python37764bitvenvvenvc241e362255b4631a3caa756dfb14c87"
  },
  "language_info": {
   "codemirror_mode": {
    "name": "ipython",
    "version": 3
   },
   "file_extension": ".py",
   "mimetype": "text/x-python",
   "name": "python",
   "nbconvert_exporter": "python",
   "pygments_lexer": "ipython3",
   "version": "3.7.7-final"
  }
 },
 "nbformat": 4,
 "nbformat_minor": 2
}